{
 "cells": [
  {
   "cell_type": "markdown",
   "id": "72a2dc45",
   "metadata": {},
   "source": [
    "#  SuperMarket Analysis "
   ]
  },
  {
   "cell_type": "markdown",
   "id": "f616c4b1",
   "metadata": {},
   "source": [
    "## Importing Libaries "
   ]
  },
  {
   "cell_type": "code",
   "execution_count": 1,
   "id": "5e24a384",
   "metadata": {},
   "outputs": [],
   "source": [
    "import pandas as pd\n",
    "import numpy as np\n",
    "import plotly.express as px"
   ]
  },
  {
   "cell_type": "markdown",
   "id": "b906dc5b",
   "metadata": {},
   "source": [
    "### Collecting Data"
   ]
  },
  {
   "cell_type": "code",
   "execution_count": 2,
   "id": "5484602e",
   "metadata": {},
   "outputs": [
    {
     "data": {
      "application/vnd.microsoft.datawrangler.viewer.v0+json": {
       "columns": [
        {
         "name": "index",
         "rawType": "int64",
         "type": "integer"
        },
        {
         "name": "Invoice ID",
         "rawType": "object",
         "type": "string"
        },
        {
         "name": "Branch",
         "rawType": "object",
         "type": "string"
        },
        {
         "name": "City",
         "rawType": "object",
         "type": "string"
        },
        {
         "name": "Customer type",
         "rawType": "object",
         "type": "string"
        },
        {
         "name": "Gender",
         "rawType": "object",
         "type": "string"
        },
        {
         "name": "Product line",
         "rawType": "object",
         "type": "string"
        },
        {
         "name": "Unit price",
         "rawType": "float64",
         "type": "float"
        },
        {
         "name": "Quantity",
         "rawType": "int64",
         "type": "integer"
        },
        {
         "name": "Tax 5%",
         "rawType": "float64",
         "type": "float"
        },
        {
         "name": "Total",
         "rawType": "float64",
         "type": "float"
        },
        {
         "name": "Date",
         "rawType": "object",
         "type": "string"
        },
        {
         "name": "Time",
         "rawType": "object",
         "type": "string"
        },
        {
         "name": "Payment",
         "rawType": "object",
         "type": "string"
        },
        {
         "name": "cogs",
         "rawType": "float64",
         "type": "float"
        },
        {
         "name": "gross margin percentage",
         "rawType": "float64",
         "type": "float"
        },
        {
         "name": "gross income",
         "rawType": "float64",
         "type": "float"
        },
        {
         "name": "Rating",
         "rawType": "float64",
         "type": "float"
        }
       ],
       "conversionMethod": "pd.DataFrame",
       "ref": "1d5c80c4-ee97-4491-9f4e-bf6014f53df7",
       "rows": [
        [
         "0",
         "750-67-8428",
         "A",
         "Yangon",
         "Member",
         "Female",
         "Health and beauty",
         "74.69",
         "7",
         "26.1415",
         "548.9715",
         "1/5/2019",
         "13:08",
         "Ewallet",
         "522.83",
         "4.761904762",
         "26.1415",
         "9.1"
        ],
        [
         "1",
         "226-31-3081",
         "C",
         "Naypyitaw",
         "Normal",
         "Female",
         "Electronic accessories",
         "15.28",
         "5",
         "3.82",
         "80.22",
         "3/8/2019",
         "10:29",
         "Cash",
         "76.4",
         "4.761904762",
         "3.82",
         "9.6"
        ],
        [
         "2",
         "631-41-3108",
         "A",
         "Yangon",
         "Normal",
         "Male",
         "Home and lifestyle",
         "46.33",
         "7",
         "16.2155",
         "340.5255",
         "3/3/2019",
         "13:23",
         "Credit card",
         "324.31",
         "4.761904762",
         "16.2155",
         "7.4"
        ],
        [
         "3",
         "123-19-1176",
         "A",
         "Yangon",
         "Member",
         "Male",
         "Health and beauty",
         "58.22",
         "8",
         "23.288",
         "489.048",
         "1/27/2019",
         "20:33",
         "Ewallet",
         "465.76",
         "4.761904762",
         "23.288",
         "8.4"
        ],
        [
         "4",
         "373-73-7910",
         "A",
         "Yangon",
         "Normal",
         "Male",
         "Sports and travel",
         "86.31",
         "7",
         "30.2085",
         "634.3785",
         "2/8/2019",
         "10:37",
         "Ewallet",
         "604.17",
         "4.761904762",
         "30.2085",
         "5.3"
        ],
        [
         "5",
         "699-14-3026",
         "C",
         "Naypyitaw",
         "Normal",
         "Male",
         "Electronic accessories",
         "85.39",
         "7",
         "29.8865",
         "627.6165",
         "3/25/2019",
         "18:30",
         "Ewallet",
         "597.73",
         "4.761904762",
         "29.8865",
         "4.1"
        ],
        [
         "6",
         "355-53-5943",
         "A",
         "Yangon",
         "Member",
         "Female",
         "Electronic accessories",
         "68.84",
         "6",
         "20.652",
         "433.692",
         "2/25/2019",
         "14:36",
         "Ewallet",
         "413.04",
         "4.761904762",
         "20.652",
         "5.8"
        ],
        [
         "7",
         "315-22-5665",
         "C",
         "Naypyitaw",
         "Normal",
         "Female",
         "Home and lifestyle",
         "73.56",
         "10",
         "36.78",
         "772.38",
         "2/24/2019",
         "11:38",
         "Ewallet",
         "735.6",
         "4.761904762",
         "36.78",
         "8.0"
        ],
        [
         "8",
         "665-32-9167",
         "A",
         "Yangon",
         "Member",
         "Female",
         "Health and beauty",
         "36.26",
         "2",
         "3.626",
         "76.146",
         "1/10/2019",
         "17:15",
         "Credit card",
         "72.52",
         "4.761904762",
         "3.626",
         "7.2"
        ],
        [
         "9",
         "692-92-5582",
         "B",
         "Mandalay",
         "Member",
         "Female",
         "Food and beverages",
         "54.84",
         "3",
         "8.226",
         "172.746",
         "2/20/2019",
         "13:27",
         "Credit card",
         "164.52",
         "4.761904762",
         "8.226",
         "5.9"
        ],
        [
         "10",
         "351-62-0822",
         "B",
         "Mandalay",
         "Member",
         "Female",
         "Fashion accessories",
         "14.48",
         "4",
         "2.896",
         "60.816",
         "2/6/2019",
         "18:07",
         "Ewallet",
         "57.92",
         "4.761904762",
         "2.896",
         "4.5"
        ],
        [
         "11",
         "529-56-3974",
         "B",
         "Mandalay",
         "Member",
         "Male",
         "Electronic accessories",
         "25.51",
         "4",
         "5.102",
         "107.142",
         "3/9/2019",
         "17:03",
         "Cash",
         "102.04",
         "4.761904762",
         "5.102",
         "6.8"
        ],
        [
         "12",
         "365-64-0515",
         "A",
         "Yangon",
         "Normal",
         "Female",
         "Electronic accessories",
         "46.95",
         "5",
         "11.7375",
         "246.4875",
         "2/12/2019",
         "10:25",
         "Ewallet",
         "234.75",
         "4.761904762",
         "11.7375",
         "7.1"
        ],
        [
         "13",
         "252-56-2699",
         "A",
         "Yangon",
         "Normal",
         "Male",
         "Food and beverages",
         "43.19",
         "10",
         "21.595",
         "453.495",
         "2/7/2019",
         "16:48",
         "Ewallet",
         "431.9",
         "4.761904762",
         "21.595",
         "8.2"
        ],
        [
         "14",
         "829-34-3910",
         "A",
         "Yangon",
         "Normal",
         "Female",
         "Health and beauty",
         "71.38",
         "10",
         "35.69",
         "749.49",
         "3/29/2019",
         "19:21",
         "Cash",
         "713.8",
         "4.761904762",
         "35.69",
         "5.7"
        ],
        [
         "15",
         "299-46-1805",
         "B",
         "Mandalay",
         "Member",
         "Female",
         "Sports and travel",
         "93.72",
         "6",
         "28.116",
         "590.436",
         "1/15/2019",
         "16:19",
         "Cash",
         "562.32",
         "4.761904762",
         "28.116",
         "4.5"
        ],
        [
         "16",
         "656-95-9349",
         "A",
         "Yangon",
         "Member",
         "Female",
         "Health and beauty",
         "68.93",
         "7",
         "24.1255",
         "506.6355",
         "3/11/2019",
         "11:03",
         "Credit card",
         "482.51",
         "4.761904762",
         "24.1255",
         "4.6"
        ],
        [
         "17",
         "765-26-6951",
         "A",
         "Yangon",
         "Normal",
         "Male",
         "Sports and travel",
         "72.61",
         "6",
         "21.783",
         "457.443",
         "1/1/2019",
         "10:39",
         "Credit card",
         "435.66",
         "4.761904762",
         "21.783",
         "6.9"
        ],
        [
         "18",
         "329-62-1586",
         "A",
         "Yangon",
         "Normal",
         "Male",
         "Food and beverages",
         "54.67",
         "3",
         "8.2005",
         "172.2105",
         "1/21/2019",
         "18:00",
         "Credit card",
         "164.01",
         "4.761904762",
         "8.2005",
         "8.6"
        ],
        [
         "19",
         "319-50-3348",
         "B",
         "Mandalay",
         "Normal",
         "Female",
         "Home and lifestyle",
         "40.3",
         "2",
         "4.03",
         "84.63",
         "3/11/2019",
         "15:30",
         "Ewallet",
         "80.6",
         "4.761904762",
         "4.03",
         "4.4"
        ],
        [
         "20",
         "300-71-4605",
         "C",
         "Naypyitaw",
         "Member",
         "Male",
         "Electronic accessories",
         "86.04",
         "5",
         "21.51",
         "451.71",
         "2/25/2019",
         "11:24",
         "Ewallet",
         "430.2",
         "4.761904762",
         "21.51",
         "4.8"
        ],
        [
         "21",
         "371-85-5789",
         "B",
         "Mandalay",
         "Normal",
         "Male",
         "Health and beauty",
         "87.98",
         "3",
         "13.197",
         "277.137",
         "3/5/2019",
         "10:40",
         "Ewallet",
         "263.94",
         "4.761904762",
         "13.197",
         "5.1"
        ],
        [
         "22",
         "273-16-6619",
         "B",
         "Mandalay",
         "Normal",
         "Male",
         "Home and lifestyle",
         "33.2",
         "2",
         "3.32",
         "69.72",
         "3/15/2019",
         "12:20",
         "Credit card",
         "66.4",
         "4.761904762",
         "3.32",
         "4.4"
        ],
        [
         "23",
         "636-48-8204",
         "A",
         "Yangon",
         "Normal",
         "Male",
         "Electronic accessories",
         "34.56",
         "5",
         "8.64",
         "181.44",
         "2/17/2019",
         "11:15",
         "Ewallet",
         "172.8",
         "4.761904762",
         "8.64",
         "9.9"
        ],
        [
         "24",
         "549-59-1358",
         "A",
         "Yangon",
         "Member",
         "Male",
         "Sports and travel",
         "88.63",
         "3",
         "13.2945",
         "279.1845",
         "3/2/2019",
         "17:36",
         "Ewallet",
         "265.89",
         "4.761904762",
         "13.2945",
         "6.0"
        ],
        [
         "25",
         "227-03-5010",
         "A",
         "Yangon",
         "Member",
         "Female",
         "Home and lifestyle",
         "52.59",
         "8",
         "21.036",
         "441.756",
         "3/22/2019",
         "19:20",
         "Credit card",
         "420.72",
         "4.761904762",
         "21.036",
         "8.5"
        ],
        [
         "26",
         "649-29-6775",
         "B",
         "Mandalay",
         "Normal",
         "Male",
         "Fashion accessories",
         "33.52",
         "1",
         "1.676",
         "35.196",
         "2/8/2019",
         "15:31",
         "Cash",
         "33.52",
         "4.761904762",
         "1.676",
         "6.7"
        ],
        [
         "27",
         "189-17-4241",
         "A",
         "Yangon",
         "Normal",
         "Female",
         "Fashion accessories",
         "87.67",
         "2",
         "8.767",
         "184.107",
         "3/10/2019",
         "12:17",
         "Credit card",
         "175.34",
         "4.761904762",
         "8.767",
         "7.7"
        ],
        [
         "28",
         "145-94-9061",
         "B",
         "Mandalay",
         "Normal",
         "Female",
         "Food and beverages",
         "88.36",
         "5",
         "22.09",
         "463.89",
         "1/25/2019",
         "19:48",
         "Cash",
         "441.8",
         "4.761904762",
         "22.09",
         "9.6"
        ],
        [
         "29",
         "848-62-7243",
         "A",
         "Yangon",
         "Normal",
         "Male",
         "Health and beauty",
         "24.89",
         "9",
         "11.2005",
         "235.2105",
         "3/15/2019",
         "15:36",
         "Cash",
         "224.01",
         "4.761904762",
         "11.2005",
         "7.4"
        ],
        [
         "30",
         "871-79-8483",
         "B",
         "Mandalay",
         "Normal",
         "Male",
         "Fashion accessories",
         "94.13",
         "5",
         "23.5325",
         "494.1825",
         "2/25/2019",
         "19:39",
         "Credit card",
         "470.65",
         "4.761904762",
         "23.5325",
         "4.8"
        ],
        [
         "31",
         "149-71-6266",
         "B",
         "Mandalay",
         "Member",
         "Male",
         "Sports and travel",
         "78.07",
         "9",
         "35.1315",
         "737.7615",
         "1/28/2019",
         "12:43",
         "Cash",
         "702.63",
         "4.761904762",
         "35.1315",
         "4.5"
        ],
        [
         "32",
         "640-49-2076",
         "B",
         "Mandalay",
         "Normal",
         "Male",
         "Sports and travel",
         "83.78",
         "8",
         "33.512",
         "703.752",
         "1/10/2019",
         "14:49",
         "Cash",
         "670.24",
         "4.761904762",
         "33.512",
         "5.1"
        ],
        [
         "33",
         "595-11-5460",
         "A",
         "Yangon",
         "Normal",
         "Male",
         "Health and beauty",
         "96.58",
         "2",
         "9.658",
         "202.818",
         "3/15/2019",
         "10:12",
         "Credit card",
         "193.16",
         "4.761904762",
         "9.658",
         "5.1"
        ],
        [
         "34",
         "183-56-6882",
         "C",
         "Naypyitaw",
         "Member",
         "Female",
         "Food and beverages",
         "99.42",
         "4",
         "19.884",
         "417.564",
         "2/6/2019",
         "10:42",
         "Ewallet",
         "397.68",
         "4.761904762",
         "19.884",
         "7.5"
        ],
        [
         "35",
         "232-16-2483",
         "C",
         "Naypyitaw",
         "Member",
         "Female",
         "Sports and travel",
         "68.12",
         "1",
         "3.406",
         "71.526",
         "1/7/2019",
         "12:28",
         "Ewallet",
         "68.12",
         "4.761904762",
         "3.406",
         "6.8"
        ],
        [
         "36",
         "129-29-8530",
         "A",
         "Yangon",
         "Member",
         "Male",
         "Sports and travel",
         "62.62",
         "5",
         "15.655",
         "328.755",
         "3/10/2019",
         "19:15",
         "Ewallet",
         "313.1",
         "4.761904762",
         "15.655",
         "7.0"
        ],
        [
         "37",
         "272-65-1806",
         "A",
         "Yangon",
         "Normal",
         "Female",
         "Electronic accessories",
         "60.88",
         "9",
         "27.396",
         "575.316",
         "1/15/2019",
         "17:17",
         "Ewallet",
         "547.92",
         "4.761904762",
         "27.396",
         "4.7"
        ],
        [
         "38",
         "333-73-7901",
         "C",
         "Naypyitaw",
         "Normal",
         "Female",
         "Health and beauty",
         "54.92",
         "8",
         "21.968",
         "461.328",
         "3/23/2019",
         "13:24",
         "Ewallet",
         "439.36",
         "4.761904762",
         "21.968",
         "7.6"
        ],
        [
         "39",
         "777-82-7220",
         "B",
         "Mandalay",
         "Member",
         "Male",
         "Home and lifestyle",
         "30.12",
         "8",
         "12.048",
         "253.008",
         "3/3/2019",
         "13:01",
         "Cash",
         "240.96",
         "4.761904762",
         "12.048",
         "7.7"
        ],
        [
         "40",
         "280-35-5823",
         "B",
         "Mandalay",
         "Member",
         "Female",
         "Home and lifestyle",
         "86.72",
         "1",
         "4.336",
         "91.056",
         "1/17/2019",
         "18:45",
         "Ewallet",
         "86.72",
         "4.761904762",
         "4.336",
         "7.9"
        ],
        [
         "41",
         "554-53-8700",
         "C",
         "Naypyitaw",
         "Member",
         "Male",
         "Home and lifestyle",
         "56.11",
         "2",
         "5.611",
         "117.831",
         "2/2/2019",
         "10:11",
         "Cash",
         "112.22",
         "4.761904762",
         "5.611",
         "6.3"
        ],
        [
         "42",
         "354-25-5821",
         "B",
         "Mandalay",
         "Member",
         "Female",
         "Sports and travel",
         "69.12",
         "6",
         "20.736",
         "435.456",
         "2/8/2019",
         "13:03",
         "Cash",
         "414.72",
         "4.761904762",
         "20.736",
         "5.6"
        ],
        [
         "43",
         "228-96-1411",
         "C",
         "Naypyitaw",
         "Member",
         "Female",
         "Food and beverages",
         "98.7",
         "8",
         "39.48",
         "829.08",
         "3/4/2019",
         "20:39",
         "Cash",
         "789.6",
         "4.761904762",
         "39.48",
         "7.6"
        ],
        [
         "44",
         "617-15-4209",
         "C",
         "Naypyitaw",
         "Member",
         "Male",
         "Health and beauty",
         "15.37",
         "2",
         "1.537",
         "32.277",
         "3/16/2019",
         "19:47",
         "Cash",
         "30.74",
         "4.761904762",
         "1.537",
         "7.2"
        ],
        [
         "45",
         "132-32-9879",
         "B",
         "Mandalay",
         "Member",
         "Female",
         "Electronic accessories",
         "93.96",
         "4",
         "18.792",
         "394.632",
         "3/9/2019",
         "18:00",
         "Cash",
         "375.84",
         "4.761904762",
         "18.792",
         "9.5"
        ],
        [
         "46",
         "370-41-7321",
         "B",
         "Mandalay",
         "Member",
         "Male",
         "Health and beauty",
         "56.69",
         "9",
         "25.5105",
         "535.7205",
         "2/27/2019",
         "17:24",
         "Credit card",
         "510.21",
         "4.761904762",
         "25.5105",
         "8.4"
        ],
        [
         "47",
         "727-46-3608",
         "B",
         "Mandalay",
         "Member",
         "Female",
         "Food and beverages",
         "20.01",
         "9",
         "9.0045",
         "189.0945",
         "2/6/2019",
         "15:47",
         "Ewallet",
         "180.09",
         "4.761904762",
         "9.0045",
         "4.1"
        ],
        [
         "48",
         "669-54-1719",
         "B",
         "Mandalay",
         "Member",
         "Male",
         "Electronic accessories",
         "18.93",
         "6",
         "5.679",
         "119.259",
         "2/10/2019",
         "12:45",
         "Credit card",
         "113.58",
         "4.761904762",
         "5.679",
         "8.1"
        ],
        [
         "49",
         "574-22-5561",
         "C",
         "Naypyitaw",
         "Member",
         "Female",
         "Fashion accessories",
         "82.63",
         "10",
         "41.315",
         "867.615",
         "3/19/2019",
         "17:08",
         "Ewallet",
         "826.3",
         "4.761904762",
         "41.315",
         "7.9"
        ]
       ],
       "shape": {
        "columns": 17,
        "rows": 1000
       }
      },
      "text/html": [
       "<div>\n",
       "<style scoped>\n",
       "    .dataframe tbody tr th:only-of-type {\n",
       "        vertical-align: middle;\n",
       "    }\n",
       "\n",
       "    .dataframe tbody tr th {\n",
       "        vertical-align: top;\n",
       "    }\n",
       "\n",
       "    .dataframe thead th {\n",
       "        text-align: right;\n",
       "    }\n",
       "</style>\n",
       "<table border=\"1\" class=\"dataframe\">\n",
       "  <thead>\n",
       "    <tr style=\"text-align: right;\">\n",
       "      <th></th>\n",
       "      <th>Invoice ID</th>\n",
       "      <th>Branch</th>\n",
       "      <th>City</th>\n",
       "      <th>Customer type</th>\n",
       "      <th>Gender</th>\n",
       "      <th>Product line</th>\n",
       "      <th>Unit price</th>\n",
       "      <th>Quantity</th>\n",
       "      <th>Tax 5%</th>\n",
       "      <th>Total</th>\n",
       "      <th>Date</th>\n",
       "      <th>Time</th>\n",
       "      <th>Payment</th>\n",
       "      <th>cogs</th>\n",
       "      <th>gross margin percentage</th>\n",
       "      <th>gross income</th>\n",
       "      <th>Rating</th>\n",
       "    </tr>\n",
       "  </thead>\n",
       "  <tbody>\n",
       "    <tr>\n",
       "      <th>0</th>\n",
       "      <td>750-67-8428</td>\n",
       "      <td>A</td>\n",
       "      <td>Yangon</td>\n",
       "      <td>Member</td>\n",
       "      <td>Female</td>\n",
       "      <td>Health and beauty</td>\n",
       "      <td>74.69</td>\n",
       "      <td>7</td>\n",
       "      <td>26.1415</td>\n",
       "      <td>548.9715</td>\n",
       "      <td>1/5/2019</td>\n",
       "      <td>13:08</td>\n",
       "      <td>Ewallet</td>\n",
       "      <td>522.83</td>\n",
       "      <td>4.761905</td>\n",
       "      <td>26.1415</td>\n",
       "      <td>9.1</td>\n",
       "    </tr>\n",
       "    <tr>\n",
       "      <th>1</th>\n",
       "      <td>226-31-3081</td>\n",
       "      <td>C</td>\n",
       "      <td>Naypyitaw</td>\n",
       "      <td>Normal</td>\n",
       "      <td>Female</td>\n",
       "      <td>Electronic accessories</td>\n",
       "      <td>15.28</td>\n",
       "      <td>5</td>\n",
       "      <td>3.8200</td>\n",
       "      <td>80.2200</td>\n",
       "      <td>3/8/2019</td>\n",
       "      <td>10:29</td>\n",
       "      <td>Cash</td>\n",
       "      <td>76.40</td>\n",
       "      <td>4.761905</td>\n",
       "      <td>3.8200</td>\n",
       "      <td>9.6</td>\n",
       "    </tr>\n",
       "    <tr>\n",
       "      <th>2</th>\n",
       "      <td>631-41-3108</td>\n",
       "      <td>A</td>\n",
       "      <td>Yangon</td>\n",
       "      <td>Normal</td>\n",
       "      <td>Male</td>\n",
       "      <td>Home and lifestyle</td>\n",
       "      <td>46.33</td>\n",
       "      <td>7</td>\n",
       "      <td>16.2155</td>\n",
       "      <td>340.5255</td>\n",
       "      <td>3/3/2019</td>\n",
       "      <td>13:23</td>\n",
       "      <td>Credit card</td>\n",
       "      <td>324.31</td>\n",
       "      <td>4.761905</td>\n",
       "      <td>16.2155</td>\n",
       "      <td>7.4</td>\n",
       "    </tr>\n",
       "    <tr>\n",
       "      <th>3</th>\n",
       "      <td>123-19-1176</td>\n",
       "      <td>A</td>\n",
       "      <td>Yangon</td>\n",
       "      <td>Member</td>\n",
       "      <td>Male</td>\n",
       "      <td>Health and beauty</td>\n",
       "      <td>58.22</td>\n",
       "      <td>8</td>\n",
       "      <td>23.2880</td>\n",
       "      <td>489.0480</td>\n",
       "      <td>1/27/2019</td>\n",
       "      <td>20:33</td>\n",
       "      <td>Ewallet</td>\n",
       "      <td>465.76</td>\n",
       "      <td>4.761905</td>\n",
       "      <td>23.2880</td>\n",
       "      <td>8.4</td>\n",
       "    </tr>\n",
       "    <tr>\n",
       "      <th>4</th>\n",
       "      <td>373-73-7910</td>\n",
       "      <td>A</td>\n",
       "      <td>Yangon</td>\n",
       "      <td>Normal</td>\n",
       "      <td>Male</td>\n",
       "      <td>Sports and travel</td>\n",
       "      <td>86.31</td>\n",
       "      <td>7</td>\n",
       "      <td>30.2085</td>\n",
       "      <td>634.3785</td>\n",
       "      <td>2/8/2019</td>\n",
       "      <td>10:37</td>\n",
       "      <td>Ewallet</td>\n",
       "      <td>604.17</td>\n",
       "      <td>4.761905</td>\n",
       "      <td>30.2085</td>\n",
       "      <td>5.3</td>\n",
       "    </tr>\n",
       "    <tr>\n",
       "      <th>...</th>\n",
       "      <td>...</td>\n",
       "      <td>...</td>\n",
       "      <td>...</td>\n",
       "      <td>...</td>\n",
       "      <td>...</td>\n",
       "      <td>...</td>\n",
       "      <td>...</td>\n",
       "      <td>...</td>\n",
       "      <td>...</td>\n",
       "      <td>...</td>\n",
       "      <td>...</td>\n",
       "      <td>...</td>\n",
       "      <td>...</td>\n",
       "      <td>...</td>\n",
       "      <td>...</td>\n",
       "      <td>...</td>\n",
       "      <td>...</td>\n",
       "    </tr>\n",
       "    <tr>\n",
       "      <th>995</th>\n",
       "      <td>233-67-5758</td>\n",
       "      <td>C</td>\n",
       "      <td>Naypyitaw</td>\n",
       "      <td>Normal</td>\n",
       "      <td>Male</td>\n",
       "      <td>Health and beauty</td>\n",
       "      <td>40.35</td>\n",
       "      <td>1</td>\n",
       "      <td>2.0175</td>\n",
       "      <td>42.3675</td>\n",
       "      <td>1/29/2019</td>\n",
       "      <td>13:46</td>\n",
       "      <td>Ewallet</td>\n",
       "      <td>40.35</td>\n",
       "      <td>4.761905</td>\n",
       "      <td>2.0175</td>\n",
       "      <td>6.2</td>\n",
       "    </tr>\n",
       "    <tr>\n",
       "      <th>996</th>\n",
       "      <td>303-96-2227</td>\n",
       "      <td>B</td>\n",
       "      <td>Mandalay</td>\n",
       "      <td>Normal</td>\n",
       "      <td>Female</td>\n",
       "      <td>Home and lifestyle</td>\n",
       "      <td>97.38</td>\n",
       "      <td>10</td>\n",
       "      <td>48.6900</td>\n",
       "      <td>1022.4900</td>\n",
       "      <td>3/2/2019</td>\n",
       "      <td>17:16</td>\n",
       "      <td>Ewallet</td>\n",
       "      <td>973.80</td>\n",
       "      <td>4.761905</td>\n",
       "      <td>48.6900</td>\n",
       "      <td>4.4</td>\n",
       "    </tr>\n",
       "    <tr>\n",
       "      <th>997</th>\n",
       "      <td>727-02-1313</td>\n",
       "      <td>A</td>\n",
       "      <td>Yangon</td>\n",
       "      <td>Member</td>\n",
       "      <td>Male</td>\n",
       "      <td>Food and beverages</td>\n",
       "      <td>31.84</td>\n",
       "      <td>1</td>\n",
       "      <td>1.5920</td>\n",
       "      <td>33.4320</td>\n",
       "      <td>2/9/2019</td>\n",
       "      <td>13:22</td>\n",
       "      <td>Cash</td>\n",
       "      <td>31.84</td>\n",
       "      <td>4.761905</td>\n",
       "      <td>1.5920</td>\n",
       "      <td>7.7</td>\n",
       "    </tr>\n",
       "    <tr>\n",
       "      <th>998</th>\n",
       "      <td>347-56-2442</td>\n",
       "      <td>A</td>\n",
       "      <td>Yangon</td>\n",
       "      <td>Normal</td>\n",
       "      <td>Male</td>\n",
       "      <td>Home and lifestyle</td>\n",
       "      <td>65.82</td>\n",
       "      <td>1</td>\n",
       "      <td>3.2910</td>\n",
       "      <td>69.1110</td>\n",
       "      <td>2/22/2019</td>\n",
       "      <td>15:33</td>\n",
       "      <td>Cash</td>\n",
       "      <td>65.82</td>\n",
       "      <td>4.761905</td>\n",
       "      <td>3.2910</td>\n",
       "      <td>4.1</td>\n",
       "    </tr>\n",
       "    <tr>\n",
       "      <th>999</th>\n",
       "      <td>849-09-3807</td>\n",
       "      <td>A</td>\n",
       "      <td>Yangon</td>\n",
       "      <td>Member</td>\n",
       "      <td>Female</td>\n",
       "      <td>Fashion accessories</td>\n",
       "      <td>88.34</td>\n",
       "      <td>7</td>\n",
       "      <td>30.9190</td>\n",
       "      <td>649.2990</td>\n",
       "      <td>2/18/2019</td>\n",
       "      <td>13:28</td>\n",
       "      <td>Cash</td>\n",
       "      <td>618.38</td>\n",
       "      <td>4.761905</td>\n",
       "      <td>30.9190</td>\n",
       "      <td>6.6</td>\n",
       "    </tr>\n",
       "  </tbody>\n",
       "</table>\n",
       "<p>1000 rows × 17 columns</p>\n",
       "</div>"
      ],
      "text/plain": [
       "      Invoice ID Branch       City Customer type  Gender  \\\n",
       "0    750-67-8428      A     Yangon        Member  Female   \n",
       "1    226-31-3081      C  Naypyitaw        Normal  Female   \n",
       "2    631-41-3108      A     Yangon        Normal    Male   \n",
       "3    123-19-1176      A     Yangon        Member    Male   \n",
       "4    373-73-7910      A     Yangon        Normal    Male   \n",
       "..           ...    ...        ...           ...     ...   \n",
       "995  233-67-5758      C  Naypyitaw        Normal    Male   \n",
       "996  303-96-2227      B   Mandalay        Normal  Female   \n",
       "997  727-02-1313      A     Yangon        Member    Male   \n",
       "998  347-56-2442      A     Yangon        Normal    Male   \n",
       "999  849-09-3807      A     Yangon        Member  Female   \n",
       "\n",
       "               Product line  Unit price  Quantity   Tax 5%      Total  \\\n",
       "0         Health and beauty       74.69         7  26.1415   548.9715   \n",
       "1    Electronic accessories       15.28         5   3.8200    80.2200   \n",
       "2        Home and lifestyle       46.33         7  16.2155   340.5255   \n",
       "3         Health and beauty       58.22         8  23.2880   489.0480   \n",
       "4         Sports and travel       86.31         7  30.2085   634.3785   \n",
       "..                      ...         ...       ...      ...        ...   \n",
       "995       Health and beauty       40.35         1   2.0175    42.3675   \n",
       "996      Home and lifestyle       97.38        10  48.6900  1022.4900   \n",
       "997      Food and beverages       31.84         1   1.5920    33.4320   \n",
       "998      Home and lifestyle       65.82         1   3.2910    69.1110   \n",
       "999     Fashion accessories       88.34         7  30.9190   649.2990   \n",
       "\n",
       "          Date   Time      Payment    cogs  gross margin percentage  \\\n",
       "0     1/5/2019  13:08      Ewallet  522.83                 4.761905   \n",
       "1     3/8/2019  10:29         Cash   76.40                 4.761905   \n",
       "2     3/3/2019  13:23  Credit card  324.31                 4.761905   \n",
       "3    1/27/2019  20:33      Ewallet  465.76                 4.761905   \n",
       "4     2/8/2019  10:37      Ewallet  604.17                 4.761905   \n",
       "..         ...    ...          ...     ...                      ...   \n",
       "995  1/29/2019  13:46      Ewallet   40.35                 4.761905   \n",
       "996   3/2/2019  17:16      Ewallet  973.80                 4.761905   \n",
       "997   2/9/2019  13:22         Cash   31.84                 4.761905   \n",
       "998  2/22/2019  15:33         Cash   65.82                 4.761905   \n",
       "999  2/18/2019  13:28         Cash  618.38                 4.761905   \n",
       "\n",
       "     gross income  Rating  \n",
       "0         26.1415     9.1  \n",
       "1          3.8200     9.6  \n",
       "2         16.2155     7.4  \n",
       "3         23.2880     8.4  \n",
       "4         30.2085     5.3  \n",
       "..            ...     ...  \n",
       "995        2.0175     6.2  \n",
       "996       48.6900     4.4  \n",
       "997        1.5920     7.7  \n",
       "998        3.2910     4.1  \n",
       "999       30.9190     6.6  \n",
       "\n",
       "[1000 rows x 17 columns]"
      ]
     },
     "execution_count": 2,
     "metadata": {},
     "output_type": "execute_result"
    }
   ],
   "source": [
    "data=pd.read_csv(\"supermarket_sales - Sheet1.csv\")\n",
    "df=pd.DataFrame(data)\n",
    "df"
   ]
  },
  {
   "cell_type": "markdown",
   "id": "ac7660dd",
   "metadata": {},
   "source": [
    "# Data Exploration"
   ]
  },
  {
   "cell_type": "code",
   "execution_count": 3,
   "id": "cbc3937f",
   "metadata": {},
   "outputs": [
    {
     "name": "stdout",
     "output_type": "stream",
     "text": [
      "<class 'pandas.core.frame.DataFrame'>\n",
      "RangeIndex: 1000 entries, 0 to 999\n",
      "Data columns (total 17 columns):\n",
      " #   Column                   Non-Null Count  Dtype  \n",
      "---  ------                   --------------  -----  \n",
      " 0   Invoice ID               1000 non-null   object \n",
      " 1   Branch                   1000 non-null   object \n",
      " 2   City                     1000 non-null   object \n",
      " 3   Customer type            1000 non-null   object \n",
      " 4   Gender                   1000 non-null   object \n",
      " 5   Product line             1000 non-null   object \n",
      " 6   Unit price               1000 non-null   float64\n",
      " 7   Quantity                 1000 non-null   int64  \n",
      " 8   Tax 5%                   1000 non-null   float64\n",
      " 9   Total                    1000 non-null   float64\n",
      " 10  Date                     1000 non-null   object \n",
      " 11  Time                     1000 non-null   object \n",
      " 12  Payment                  1000 non-null   object \n",
      " 13  cogs                     1000 non-null   float64\n",
      " 14  gross margin percentage  1000 non-null   float64\n",
      " 15  gross income             1000 non-null   float64\n",
      " 16  Rating                   1000 non-null   float64\n",
      "dtypes: float64(7), int64(1), object(9)\n",
      "memory usage: 132.9+ KB\n"
     ]
    }
   ],
   "source": [
    "df.info()"
   ]
  },
  {
   "cell_type": "markdown",
   "id": "60e28297",
   "metadata": {},
   "source": [
    "## Numeric Data Description"
   ]
  },
  {
   "cell_type": "code",
   "execution_count": 4,
   "id": "2bdba617",
   "metadata": {},
   "outputs": [
    {
     "data": {
      "application/vnd.microsoft.datawrangler.viewer.v0+json": {
       "columns": [
        {
         "name": "index",
         "rawType": "object",
         "type": "string"
        },
        {
         "name": "Unit price",
         "rawType": "float64",
         "type": "float"
        },
        {
         "name": "Quantity",
         "rawType": "float64",
         "type": "float"
        },
        {
         "name": "Tax 5%",
         "rawType": "float64",
         "type": "float"
        },
        {
         "name": "Total",
         "rawType": "float64",
         "type": "float"
        },
        {
         "name": "cogs",
         "rawType": "float64",
         "type": "float"
        },
        {
         "name": "gross margin percentage",
         "rawType": "float64",
         "type": "float"
        },
        {
         "name": "gross income",
         "rawType": "float64",
         "type": "float"
        },
        {
         "name": "Rating",
         "rawType": "float64",
         "type": "float"
        }
       ],
       "conversionMethod": "pd.DataFrame",
       "ref": "ab737ce6-cbb6-4651-8713-783c1328d415",
       "rows": [
        [
         "count",
         "1000.0",
         "1000.0",
         "1000.0",
         "1000.0",
         "1000.0",
         "1000.0",
         "1000.0",
         "1000.0"
        ],
        [
         "mean",
         "55.67213",
         "5.51",
         "15.379368999999999",
         "322.966749",
         "307.58738",
         "4.761904762",
         "15.379368999999999",
         "6.9727"
        ],
        [
         "std",
         "26.49462834791978",
         "2.923430595455696",
         "11.708825480998659",
         "245.88533510097187",
         "234.1765096199732",
         "0.0",
         "11.708825480998659",
         "1.7185802943791215"
        ],
        [
         "min",
         "10.08",
         "1.0",
         "0.5085",
         "10.6785",
         "10.17",
         "4.761904762",
         "0.5085",
         "4.0"
        ],
        [
         "25%",
         "32.875",
         "3.0",
         "5.924875",
         "124.422375",
         "118.4975",
         "4.761904762",
         "5.924875",
         "5.5"
        ],
        [
         "50%",
         "55.230000000000004",
         "5.0",
         "12.088000000000001",
         "253.848",
         "241.76",
         "4.761904762",
         "12.088000000000001",
         "7.0"
        ],
        [
         "75%",
         "77.935",
         "8.0",
         "22.44525",
         "471.35024999999996",
         "448.90500000000003",
         "4.761904762",
         "22.44525",
         "8.5"
        ],
        [
         "max",
         "99.96",
         "10.0",
         "49.65",
         "1042.65",
         "993.0",
         "4.761904762",
         "49.65",
         "10.0"
        ]
       ],
       "shape": {
        "columns": 8,
        "rows": 8
       }
      },
      "text/html": [
       "<div>\n",
       "<style scoped>\n",
       "    .dataframe tbody tr th:only-of-type {\n",
       "        vertical-align: middle;\n",
       "    }\n",
       "\n",
       "    .dataframe tbody tr th {\n",
       "        vertical-align: top;\n",
       "    }\n",
       "\n",
       "    .dataframe thead th {\n",
       "        text-align: right;\n",
       "    }\n",
       "</style>\n",
       "<table border=\"1\" class=\"dataframe\">\n",
       "  <thead>\n",
       "    <tr style=\"text-align: right;\">\n",
       "      <th></th>\n",
       "      <th>Unit price</th>\n",
       "      <th>Quantity</th>\n",
       "      <th>Tax 5%</th>\n",
       "      <th>Total</th>\n",
       "      <th>cogs</th>\n",
       "      <th>gross margin percentage</th>\n",
       "      <th>gross income</th>\n",
       "      <th>Rating</th>\n",
       "    </tr>\n",
       "  </thead>\n",
       "  <tbody>\n",
       "    <tr>\n",
       "      <th>count</th>\n",
       "      <td>1000.000000</td>\n",
       "      <td>1000.000000</td>\n",
       "      <td>1000.000000</td>\n",
       "      <td>1000.000000</td>\n",
       "      <td>1000.00000</td>\n",
       "      <td>1000.000000</td>\n",
       "      <td>1000.000000</td>\n",
       "      <td>1000.00000</td>\n",
       "    </tr>\n",
       "    <tr>\n",
       "      <th>mean</th>\n",
       "      <td>55.672130</td>\n",
       "      <td>5.510000</td>\n",
       "      <td>15.379369</td>\n",
       "      <td>322.966749</td>\n",
       "      <td>307.58738</td>\n",
       "      <td>4.761905</td>\n",
       "      <td>15.379369</td>\n",
       "      <td>6.97270</td>\n",
       "    </tr>\n",
       "    <tr>\n",
       "      <th>std</th>\n",
       "      <td>26.494628</td>\n",
       "      <td>2.923431</td>\n",
       "      <td>11.708825</td>\n",
       "      <td>245.885335</td>\n",
       "      <td>234.17651</td>\n",
       "      <td>0.000000</td>\n",
       "      <td>11.708825</td>\n",
       "      <td>1.71858</td>\n",
       "    </tr>\n",
       "    <tr>\n",
       "      <th>min</th>\n",
       "      <td>10.080000</td>\n",
       "      <td>1.000000</td>\n",
       "      <td>0.508500</td>\n",
       "      <td>10.678500</td>\n",
       "      <td>10.17000</td>\n",
       "      <td>4.761905</td>\n",
       "      <td>0.508500</td>\n",
       "      <td>4.00000</td>\n",
       "    </tr>\n",
       "    <tr>\n",
       "      <th>25%</th>\n",
       "      <td>32.875000</td>\n",
       "      <td>3.000000</td>\n",
       "      <td>5.924875</td>\n",
       "      <td>124.422375</td>\n",
       "      <td>118.49750</td>\n",
       "      <td>4.761905</td>\n",
       "      <td>5.924875</td>\n",
       "      <td>5.50000</td>\n",
       "    </tr>\n",
       "    <tr>\n",
       "      <th>50%</th>\n",
       "      <td>55.230000</td>\n",
       "      <td>5.000000</td>\n",
       "      <td>12.088000</td>\n",
       "      <td>253.848000</td>\n",
       "      <td>241.76000</td>\n",
       "      <td>4.761905</td>\n",
       "      <td>12.088000</td>\n",
       "      <td>7.00000</td>\n",
       "    </tr>\n",
       "    <tr>\n",
       "      <th>75%</th>\n",
       "      <td>77.935000</td>\n",
       "      <td>8.000000</td>\n",
       "      <td>22.445250</td>\n",
       "      <td>471.350250</td>\n",
       "      <td>448.90500</td>\n",
       "      <td>4.761905</td>\n",
       "      <td>22.445250</td>\n",
       "      <td>8.50000</td>\n",
       "    </tr>\n",
       "    <tr>\n",
       "      <th>max</th>\n",
       "      <td>99.960000</td>\n",
       "      <td>10.000000</td>\n",
       "      <td>49.650000</td>\n",
       "      <td>1042.650000</td>\n",
       "      <td>993.00000</td>\n",
       "      <td>4.761905</td>\n",
       "      <td>49.650000</td>\n",
       "      <td>10.00000</td>\n",
       "    </tr>\n",
       "  </tbody>\n",
       "</table>\n",
       "</div>"
      ],
      "text/plain": [
       "        Unit price     Quantity       Tax 5%        Total        cogs  \\\n",
       "count  1000.000000  1000.000000  1000.000000  1000.000000  1000.00000   \n",
       "mean     55.672130     5.510000    15.379369   322.966749   307.58738   \n",
       "std      26.494628     2.923431    11.708825   245.885335   234.17651   \n",
       "min      10.080000     1.000000     0.508500    10.678500    10.17000   \n",
       "25%      32.875000     3.000000     5.924875   124.422375   118.49750   \n",
       "50%      55.230000     5.000000    12.088000   253.848000   241.76000   \n",
       "75%      77.935000     8.000000    22.445250   471.350250   448.90500   \n",
       "max      99.960000    10.000000    49.650000  1042.650000   993.00000   \n",
       "\n",
       "       gross margin percentage  gross income      Rating  \n",
       "count              1000.000000   1000.000000  1000.00000  \n",
       "mean                  4.761905     15.379369     6.97270  \n",
       "std                   0.000000     11.708825     1.71858  \n",
       "min                   4.761905      0.508500     4.00000  \n",
       "25%                   4.761905      5.924875     5.50000  \n",
       "50%                   4.761905     12.088000     7.00000  \n",
       "75%                   4.761905     22.445250     8.50000  \n",
       "max                   4.761905     49.650000    10.00000  "
      ]
     },
     "execution_count": 4,
     "metadata": {},
     "output_type": "execute_result"
    }
   ],
   "source": [
    "df.describe()"
   ]
  },
  {
   "cell_type": "markdown",
   "id": "1b45519f",
   "metadata": {},
   "source": [
    "## Text Data Description"
   ]
  },
  {
   "cell_type": "code",
   "execution_count": 5,
   "id": "3dbf2de5",
   "metadata": {},
   "outputs": [
    {
     "name": "stdout",
     "output_type": "stream",
     "text": [
      "Invoice ID :\n",
      " count            1000\n",
      "unique           1000\n",
      "top       849-09-3807\n",
      "freq                1\n",
      "Name: Invoice ID, dtype: object\n",
      "\n",
      "Branch :\n",
      " count     1000\n",
      "unique       3\n",
      "top          A\n",
      "freq       340\n",
      "Name: Branch, dtype: object\n",
      "\n",
      "City :\n",
      " count       1000\n",
      "unique         3\n",
      "top       Yangon\n",
      "freq         340\n",
      "Name: City, dtype: object\n",
      "\n",
      "Customer type :\n",
      " count       1000\n",
      "unique         2\n",
      "top       Member\n",
      "freq         501\n",
      "Name: Customer type, dtype: object\n",
      "\n",
      "Gender :\n",
      " count       1000\n",
      "unique         2\n",
      "top       Female\n",
      "freq         501\n",
      "Name: Gender, dtype: object\n",
      "\n",
      "Product line :\n",
      " count                    1000\n",
      "unique                      6\n",
      "top       Fashion accessories\n",
      "freq                      178\n",
      "Name: Product line, dtype: object\n",
      "\n",
      "Date :\n",
      " count         1000\n",
      "unique          89\n",
      "top       2/7/2019\n",
      "freq            20\n",
      "Name: Date, dtype: object\n",
      "\n",
      "Time :\n",
      " count      1000\n",
      "unique      506\n",
      "top       19:48\n",
      "freq          7\n",
      "Name: Time, dtype: object\n",
      "\n",
      "Payment :\n",
      " count        1000\n",
      "unique          3\n",
      "top       Ewallet\n",
      "freq          345\n",
      "Name: Payment, dtype: object\n",
      "\n"
     ]
    }
   ],
   "source": [
    "category= df.select_dtypes(include=\"object\")\n",
    "for cat in category:\n",
    "    print (F\"{cat} :\\n {df[cat].describe()}\\n\")"
   ]
  },
  {
   "cell_type": "markdown",
   "id": "6c41b69c",
   "metadata": {},
   "source": [
    "## Checking Data Duplicates"
   ]
  },
  {
   "cell_type": "code",
   "execution_count": 6,
   "id": "c5b1df8b",
   "metadata": {},
   "outputs": [
    {
     "name": "stdout",
     "output_type": "stream",
     "text": [
      " Invoice ID 0\n",
      "\n",
      " Branch 0\n",
      "\n",
      " City 0\n",
      "\n",
      " Customer type 0\n",
      "\n",
      " Gender 0\n",
      "\n",
      " Product line 0\n",
      "\n",
      " Unit price 0\n",
      "\n",
      " Quantity 0\n",
      "\n",
      " Tax 5% 0\n",
      "\n",
      " Total 0\n",
      "\n",
      " Date 0\n",
      "\n",
      " Time 0\n",
      "\n",
      " Payment 0\n",
      "\n",
      " cogs 0\n",
      "\n",
      " gross margin percentage 0\n",
      "\n",
      " gross income 0\n",
      "\n",
      " Rating 0\n",
      "\n"
     ]
    }
   ],
   "source": [
    "for col in df:\n",
    "    print(F\" {col} {df.columns.duplicated().sum()}\\n\")"
   ]
  },
  {
   "cell_type": "markdown",
   "id": "4c100189",
   "metadata": {},
   "source": [
    "## Checking Null Values!"
   ]
  },
  {
   "cell_type": "code",
   "execution_count": 7,
   "id": "ccc6fb95",
   "metadata": {},
   "outputs": [
    {
     "data": {
      "text/plain": [
       "Invoice ID                 0\n",
       "Branch                     0\n",
       "City                       0\n",
       "Customer type              0\n",
       "Gender                     0\n",
       "Product line               0\n",
       "Unit price                 0\n",
       "Quantity                   0\n",
       "Tax 5%                     0\n",
       "Total                      0\n",
       "Date                       0\n",
       "Time                       0\n",
       "Payment                    0\n",
       "cogs                       0\n",
       "gross margin percentage    0\n",
       "gross income               0\n",
       "Rating                     0\n",
       "dtype: int64"
      ]
     },
     "execution_count": 7,
     "metadata": {},
     "output_type": "execute_result"
    }
   ],
   "source": [
    "df.isna().sum()"
   ]
  },
  {
   "cell_type": "code",
   "execution_count": 8,
   "id": "9949ac74",
   "metadata": {},
   "outputs": [
    {
     "data": {
      "application/vnd.plotly.v1+json": {
       "config": {
        "plotlyServerURL": "https://plot.ly"
       },
       "data": [
        {
         "alignmentgroup": "True",
         "hovertemplate": "Unit price=%{y}<extra></extra>",
         "legendgroup": "",
         "marker": {
          "color": "#636efa"
         },
         "name": "",
         "notched": false,
         "offsetgroup": "",
         "orientation": "v",
         "showlegend": false,
         "type": "box",
         "x0": " ",
         "xaxis": "x",
         "y": {
          "bdata": "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",
          "dtype": "f8"
         },
         "y0": " ",
         "yaxis": "y"
        }
       ],
       "layout": {
        "boxmode": "group",
        "height": 700,
        "legend": {
         "tracegroupgap": 0
        },
        "template": {
         "data": {
          "bar": [
           {
            "error_x": {
             "color": "#2a3f5f"
            },
            "error_y": {
             "color": "#2a3f5f"
            },
            "marker": {
             "line": {
              "color": "#E5ECF6",
              "width": 0.5
             },
             "pattern": {
              "fillmode": "overlay",
              "size": 10,
              "solidity": 0.2
             }
            },
            "type": "bar"
           }
          ],
          "barpolar": [
           {
            "marker": {
             "line": {
              "color": "#E5ECF6",
              "width": 0.5
             },
             "pattern": {
              "fillmode": "overlay",
              "size": 10,
              "solidity": 0.2
             }
            },
            "type": "barpolar"
           }
          ],
          "carpet": [
           {
            "aaxis": {
             "endlinecolor": "#2a3f5f",
             "gridcolor": "white",
             "linecolor": "white",
             "minorgridcolor": "white",
             "startlinecolor": "#2a3f5f"
            },
            "baxis": {
             "endlinecolor": "#2a3f5f",
             "gridcolor": "white",
             "linecolor": "white",
             "minorgridcolor": "white",
             "startlinecolor": "#2a3f5f"
            },
            "type": "carpet"
           }
          ],
          "choropleth": [
           {
            "colorbar": {
             "outlinewidth": 0,
             "ticks": ""
            },
            "type": "choropleth"
           }
          ],
          "contour": [
           {
            "colorbar": {
             "outlinewidth": 0,
             "ticks": ""
            },
            "colorscale": [
             [
              0,
              "#0d0887"
             ],
             [
              0.1111111111111111,
              "#46039f"
             ],
             [
              0.2222222222222222,
              "#7201a8"
             ],
             [
              0.3333333333333333,
              "#9c179e"
             ],
             [
              0.4444444444444444,
              "#bd3786"
             ],
             [
              0.5555555555555556,
              "#d8576b"
             ],
             [
              0.6666666666666666,
              "#ed7953"
             ],
             [
              0.7777777777777778,
              "#fb9f3a"
             ],
             [
              0.8888888888888888,
              "#fdca26"
             ],
             [
              1,
              "#f0f921"
             ]
            ],
            "type": "contour"
           }
          ],
          "contourcarpet": [
           {
            "colorbar": {
             "outlinewidth": 0,
             "ticks": ""
            },
            "type": "contourcarpet"
           }
          ],
          "heatmap": [
           {
            "colorbar": {
             "outlinewidth": 0,
             "ticks": ""
            },
            "colorscale": [
             [
              0,
              "#0d0887"
             ],
             [
              0.1111111111111111,
              "#46039f"
             ],
             [
              0.2222222222222222,
              "#7201a8"
             ],
             [
              0.3333333333333333,
              "#9c179e"
             ],
             [
              0.4444444444444444,
              "#bd3786"
             ],
             [
              0.5555555555555556,
              "#d8576b"
             ],
             [
              0.6666666666666666,
              "#ed7953"
             ],
             [
              0.7777777777777778,
              "#fb9f3a"
             ],
             [
              0.8888888888888888,
              "#fdca26"
             ],
             [
              1,
              "#f0f921"
             ]
            ],
            "type": "heatmap"
           }
          ],
          "histogram": [
           {
            "marker": {
             "pattern": {
              "fillmode": "overlay",
              "size": 10,
              "solidity": 0.2
             }
            },
            "type": "histogram"
           }
          ],
          "histogram2d": [
           {
            "colorbar": {
             "outlinewidth": 0,
             "ticks": ""
            },
            "colorscale": [
             [
              0,
              "#0d0887"
             ],
             [
              0.1111111111111111,
              "#46039f"
             ],
             [
              0.2222222222222222,
              "#7201a8"
             ],
             [
              0.3333333333333333,
              "#9c179e"
             ],
             [
              0.4444444444444444,
              "#bd3786"
             ],
             [
              0.5555555555555556,
              "#d8576b"
             ],
             [
              0.6666666666666666,
              "#ed7953"
             ],
             [
              0.7777777777777778,
              "#fb9f3a"
             ],
             [
              0.8888888888888888,
              "#fdca26"
             ],
             [
              1,
              "#f0f921"
             ]
            ],
            "type": "histogram2d"
           }
          ],
          "histogram2dcontour": [
           {
            "colorbar": {
             "outlinewidth": 0,
             "ticks": ""
            },
            "colorscale": [
             [
              0,
              "#0d0887"
             ],
             [
              0.1111111111111111,
              "#46039f"
             ],
             [
              0.2222222222222222,
              "#7201a8"
             ],
             [
              0.3333333333333333,
              "#9c179e"
             ],
             [
              0.4444444444444444,
              "#bd3786"
             ],
             [
              0.5555555555555556,
              "#d8576b"
             ],
             [
              0.6666666666666666,
              "#ed7953"
             ],
             [
              0.7777777777777778,
              "#fb9f3a"
             ],
             [
              0.8888888888888888,
              "#fdca26"
             ],
             [
              1,
              "#f0f921"
             ]
            ],
            "type": "histogram2dcontour"
           }
          ],
          "mesh3d": [
           {
            "colorbar": {
             "outlinewidth": 0,
             "ticks": ""
            },
            "type": "mesh3d"
           }
          ],
          "parcoords": [
           {
            "line": {
             "colorbar": {
              "outlinewidth": 0,
              "ticks": ""
             }
            },
            "type": "parcoords"
           }
          ],
          "pie": [
           {
            "automargin": true,
            "type": "pie"
           }
          ],
          "scatter": [
           {
            "fillpattern": {
             "fillmode": "overlay",
             "size": 10,
             "solidity": 0.2
            },
            "type": "scatter"
           }
          ],
          "scatter3d": [
           {
            "line": {
             "colorbar": {
              "outlinewidth": 0,
              "ticks": ""
             }
            },
            "marker": {
             "colorbar": {
              "outlinewidth": 0,
              "ticks": ""
             }
            },
            "type": "scatter3d"
           }
          ],
          "scattercarpet": [
           {
            "marker": {
             "colorbar": {
              "outlinewidth": 0,
              "ticks": ""
             }
            },
            "type": "scattercarpet"
           }
          ],
          "scattergeo": [
           {
            "marker": {
             "colorbar": {
              "outlinewidth": 0,
              "ticks": ""
             }
            },
            "type": "scattergeo"
           }
          ],
          "scattergl": [
           {
            "marker": {
             "colorbar": {
              "outlinewidth": 0,
              "ticks": ""
             }
            },
            "type": "scattergl"
           }
          ],
          "scattermap": [
           {
            "marker": {
             "colorbar": {
              "outlinewidth": 0,
              "ticks": ""
             }
            },
            "type": "scattermap"
           }
          ],
          "scattermapbox": [
           {
            "marker": {
             "colorbar": {
              "outlinewidth": 0,
              "ticks": ""
             }
            },
            "type": "scattermapbox"
           }
          ],
          "scatterpolar": [
           {
            "marker": {
             "colorbar": {
              "outlinewidth": 0,
              "ticks": ""
             }
            },
            "type": "scatterpolar"
           }
          ],
          "scatterpolargl": [
           {
            "marker": {
             "colorbar": {
              "outlinewidth": 0,
              "ticks": ""
             }
            },
            "type": "scatterpolargl"
           }
          ],
          "scatterternary": [
           {
            "marker": {
             "colorbar": {
              "outlinewidth": 0,
              "ticks": ""
             }
            },
            "type": "scatterternary"
           }
          ],
          "surface": [
           {
            "colorbar": {
             "outlinewidth": 0,
             "ticks": ""
            },
            "colorscale": [
             [
              0,
              "#0d0887"
             ],
             [
              0.1111111111111111,
              "#46039f"
             ],
             [
              0.2222222222222222,
              "#7201a8"
             ],
             [
              0.3333333333333333,
              "#9c179e"
             ],
             [
              0.4444444444444444,
              "#bd3786"
             ],
             [
              0.5555555555555556,
              "#d8576b"
             ],
             [
              0.6666666666666666,
              "#ed7953"
             ],
             [
              0.7777777777777778,
              "#fb9f3a"
             ],
             [
              0.8888888888888888,
              "#fdca26"
             ],
             [
              1,
              "#f0f921"
             ]
            ],
            "type": "surface"
           }
          ],
          "table": [
           {
            "cells": {
             "fill": {
              "color": "#EBF0F8"
             },
             "line": {
              "color": "white"
             }
            },
            "header": {
             "fill": {
              "color": "#C8D4E3"
             },
             "line": {
              "color": "white"
             }
            },
            "type": "table"
           }
          ]
         },
         "layout": {
          "annotationdefaults": {
           "arrowcolor": "#2a3f5f",
           "arrowhead": 0,
           "arrowwidth": 1
          },
          "autotypenumbers": "strict",
          "coloraxis": {
           "colorbar": {
            "outlinewidth": 0,
            "ticks": ""
           }
          },
          "colorscale": {
           "diverging": [
            [
             0,
             "#8e0152"
            ],
            [
             0.1,
             "#c51b7d"
            ],
            [
             0.2,
             "#de77ae"
            ],
            [
             0.3,
             "#f1b6da"
            ],
            [
             0.4,
             "#fde0ef"
            ],
            [
             0.5,
             "#f7f7f7"
            ],
            [
             0.6,
             "#e6f5d0"
            ],
            [
             0.7,
             "#b8e186"
            ],
            [
             0.8,
             "#7fbc41"
            ],
            [
             0.9,
             "#4d9221"
            ],
            [
             1,
             "#276419"
            ]
           ],
           "sequential": [
            [
             0,
             "#0d0887"
            ],
            [
             0.1111111111111111,
             "#46039f"
            ],
            [
             0.2222222222222222,
             "#7201a8"
            ],
            [
             0.3333333333333333,
             "#9c179e"
            ],
            [
             0.4444444444444444,
             "#bd3786"
            ],
            [
             0.5555555555555556,
             "#d8576b"
            ],
            [
             0.6666666666666666,
             "#ed7953"
            ],
            [
             0.7777777777777778,
             "#fb9f3a"
            ],
            [
             0.8888888888888888,
             "#fdca26"
            ],
            [
             1,
             "#f0f921"
            ]
           ],
           "sequentialminus": [
            [
             0,
             "#0d0887"
            ],
            [
             0.1111111111111111,
             "#46039f"
            ],
            [
             0.2222222222222222,
             "#7201a8"
            ],
            [
             0.3333333333333333,
             "#9c179e"
            ],
            [
             0.4444444444444444,
             "#bd3786"
            ],
            [
             0.5555555555555556,
             "#d8576b"
            ],
            [
             0.6666666666666666,
             "#ed7953"
            ],
            [
             0.7777777777777778,
             "#fb9f3a"
            ],
            [
             0.8888888888888888,
             "#fdca26"
            ],
            [
             1,
             "#f0f921"
            ]
           ]
          },
          "colorway": [
           "#636efa",
           "#EF553B",
           "#00cc96",
           "#ab63fa",
           "#FFA15A",
           "#19d3f3",
           "#FF6692",
           "#B6E880",
           "#FF97FF",
           "#FECB52"
          ],
          "font": {
           "color": "#2a3f5f"
          },
          "geo": {
           "bgcolor": "white",
           "lakecolor": "white",
           "landcolor": "#E5ECF6",
           "showlakes": true,
           "showland": true,
           "subunitcolor": "white"
          },
          "hoverlabel": {
           "align": "left"
          },
          "hovermode": "closest",
          "mapbox": {
           "style": "light"
          },
          "paper_bgcolor": "white",
          "plot_bgcolor": "#E5ECF6",
          "polar": {
           "angularaxis": {
            "gridcolor": "white",
            "linecolor": "white",
            "ticks": ""
           },
           "bgcolor": "#E5ECF6",
           "radialaxis": {
            "gridcolor": "white",
            "linecolor": "white",
            "ticks": ""
           }
          },
          "scene": {
           "xaxis": {
            "backgroundcolor": "#E5ECF6",
            "gridcolor": "white",
            "gridwidth": 2,
            "linecolor": "white",
            "showbackground": true,
            "ticks": "",
            "zerolinecolor": "white"
           },
           "yaxis": {
            "backgroundcolor": "#E5ECF6",
            "gridcolor": "white",
            "gridwidth": 2,
            "linecolor": "white",
            "showbackground": true,
            "ticks": "",
            "zerolinecolor": "white"
           },
           "zaxis": {
            "backgroundcolor": "#E5ECF6",
            "gridcolor": "white",
            "gridwidth": 2,
            "linecolor": "white",
            "showbackground": true,
            "ticks": "",
            "zerolinecolor": "white"
           }
          },
          "shapedefaults": {
           "line": {
            "color": "#2a3f5f"
           }
          },
          "ternary": {
           "aaxis": {
            "gridcolor": "white",
            "linecolor": "white",
            "ticks": ""
           },
           "baxis": {
            "gridcolor": "white",
            "linecolor": "white",
            "ticks": ""
           },
           "bgcolor": "#E5ECF6",
           "caxis": {
            "gridcolor": "white",
            "linecolor": "white",
            "ticks": ""
           }
          },
          "title": {
           "x": 0.05
          },
          "xaxis": {
           "automargin": true,
           "gridcolor": "white",
           "linecolor": "white",
           "ticks": "",
           "title": {
            "standoff": 15
           },
           "zerolinecolor": "white",
           "zerolinewidth": 2
          },
          "yaxis": {
           "automargin": true,
           "gridcolor": "white",
           "linecolor": "white",
           "ticks": "",
           "title": {
            "standoff": 15
           },
           "zerolinecolor": "white",
           "zerolinewidth": 2
          }
         }
        },
        "title": {
         "text": "Unit price",
         "x": 0.5
        },
        "width": 600,
        "xaxis": {
         "anchor": "y",
         "domain": [
          0,
          1
         ]
        },
        "yaxis": {
         "anchor": "x",
         "domain": [
          0,
          1
         ],
         "title": {
          "text": "Unit price"
         }
        }
       }
      }
     },
     "metadata": {},
     "output_type": "display_data"
    },
    {
     "data": {
      "application/vnd.plotly.v1+json": {
       "config": {
        "plotlyServerURL": "https://plot.ly"
       },
       "data": [
        {
         "alignmentgroup": "True",
         "hovertemplate": "Quantity=%{y}<extra></extra>",
         "legendgroup": "",
         "marker": {
          "color": "#636efa"
         },
         "name": "",
         "notched": false,
         "offsetgroup": "",
         "orientation": "v",
         "showlegend": false,
         "type": "box",
         "x0": " ",
         "xaxis": "x",
         "y": {
          "bdata": "BwUHCAcHBgoCAwQEBQoKBgcGAwIFAwIFAwgBAgUJBQkIAgQBBQkICAECBggCBAkJBgoHBQQBAggCCAoGAwYJCgQKAgYKAQoKAwYJCgkJCgUGAwgEBQcFBwEGBAoHCQEBCgYDBgEJCQYHCgYGCQoCAwcJCQMFAQoCCAcJCAgHBQkICQcGBAYGAwUGCggKCgoBBgYKBAgIBAcJBggFAQUJBggBBwIKCAoKBgcFBQgGCAkIBwYDBwgKCAcDCAQBBAMCCQQFAQIBBAUGBAcKBQkJCgMJCQkFAwcBBQMIAwYHBQECAgkEBggCAwkECgIFBQUBCQICBAgIAwUEBwkKAgQIBAEGBAQJBAQKAQcECgQKBQIJAgYHCgQKCggBAQYEBQEJBwcKBwECCgUEBgQBAgEBBAgHBwgDAgYCBQkKAgMFBwQJAQYFBgQFBAQECQMFAgUFCQYDCQMHBwUDCQEIBwoKBwcJAQQKCgMBCAgCBgQECQQKCQcCBgYFBQkHBAQEAgUEBQEGCgkHAwoBCgEFBQkGCQYEAQUHBAUEBAUKAgUDCAEEAQIHAwMKCAEJBwMFCgICBgcBCQQGBAgFCAkBBwEKAwEBBgYFAQQFCQoKAQUKBAEFCgcGAQEGBAoIBQMFBAoBCAoFCgoECgQBCQIKCAoCCAIGAQgBAQICAQgDBgUGBwUHBwcBBQUCBQMGBgIGBQQCCgkGCAoJBQcBAQQGAwEEBgEECgkFBgMJCQYHAwIKBgMJCggGAgoKCQcHBQoHAgUHBAQEAgMEAgQDBAMFCgUGBwEDAwMDCQUCAQEKBgcEBwQBAgEJAwEKCQYFBgYDAQcKAQICCgMBCgMCAwMKBwEFAwMIAggFCQYBAgoFBgoJBAMBAwUBAwcGCgIEAwQGAgoCAwgKAgcECgYBAQYCBgICCgIDCQcKBwkFBAQJCggDCgkJBwQBCAMGBAkJCAUHAwMGBwkDBwQIAwoEBwQDAQcBCgcKCAkHAQICCAEKBQkHBAUKBQMICAYKBAoKCAUECAMGBAYEBwcBAgUHAQUJCAQBCAUHCAUDBwEECgcCAgEKAQUGCAcJCQQCBAEKCAoFAQgIBwgEBQQCAQMHBAkDCgoIBAgBBwEFBgoGAwECAgEDAQEJBgECBwoFCQgEBgkBAgkHAwMIAgMEBwEKBgQIAQEICAoICgYCBwEKCAoFCAUFBggHBgcJCQQFBwIECgUCCgMECAgDBgEEAwMJBgIHBgQBCQkCBgIKBwYDBwUDBgQJCgUHBwIBBQgDAwQEBgcJBgoJAQIBAwICCQMDBQoHBwMCAgQGAQEEBAkHBwUCCAoIBQoCCgEBCgEBBw==",
          "dtype": "i1"
         },
         "y0": " ",
         "yaxis": "y"
        }
       ],
       "layout": {
        "boxmode": "group",
        "height": 700,
        "legend": {
         "tracegroupgap": 0
        },
        "template": {
         "data": {
          "bar": [
           {
            "error_x": {
             "color": "#2a3f5f"
            },
            "error_y": {
             "color": "#2a3f5f"
            },
            "marker": {
             "line": {
              "color": "#E5ECF6",
              "width": 0.5
             },
             "pattern": {
              "fillmode": "overlay",
              "size": 10,
              "solidity": 0.2
             }
            },
            "type": "bar"
           }
          ],
          "barpolar": [
           {
            "marker": {
             "line": {
              "color": "#E5ECF6",
              "width": 0.5
             },
             "pattern": {
              "fillmode": "overlay",
              "size": 10,
              "solidity": 0.2
             }
            },
            "type": "barpolar"
           }
          ],
          "carpet": [
           {
            "aaxis": {
             "endlinecolor": "#2a3f5f",
             "gridcolor": "white",
             "linecolor": "white",
             "minorgridcolor": "white",
             "startlinecolor": "#2a3f5f"
            },
            "baxis": {
             "endlinecolor": "#2a3f5f",
             "gridcolor": "white",
             "linecolor": "white",
             "minorgridcolor": "white",
             "startlinecolor": "#2a3f5f"
            },
            "type": "carpet"
           }
          ],
          "choropleth": [
           {
            "colorbar": {
             "outlinewidth": 0,
             "ticks": ""
            },
            "type": "choropleth"
           }
          ],
          "contour": [
           {
            "colorbar": {
             "outlinewidth": 0,
             "ticks": ""
            },
            "colorscale": [
             [
              0,
              "#0d0887"
             ],
             [
              0.1111111111111111,
              "#46039f"
             ],
             [
              0.2222222222222222,
              "#7201a8"
             ],
             [
              0.3333333333333333,
              "#9c179e"
             ],
             [
              0.4444444444444444,
              "#bd3786"
             ],
             [
              0.5555555555555556,
              "#d8576b"
             ],
             [
              0.6666666666666666,
              "#ed7953"
             ],
             [
              0.7777777777777778,
              "#fb9f3a"
             ],
             [
              0.8888888888888888,
              "#fdca26"
             ],
             [
              1,
              "#f0f921"
             ]
            ],
            "type": "contour"
           }
          ],
          "contourcarpet": [
           {
            "colorbar": {
             "outlinewidth": 0,
             "ticks": ""
            },
            "type": "contourcarpet"
           }
          ],
          "heatmap": [
           {
            "colorbar": {
             "outlinewidth": 0,
             "ticks": ""
            },
            "colorscale": [
             [
              0,
              "#0d0887"
             ],
             [
              0.1111111111111111,
              "#46039f"
             ],
             [
              0.2222222222222222,
              "#7201a8"
             ],
             [
              0.3333333333333333,
              "#9c179e"
             ],
             [
              0.4444444444444444,
              "#bd3786"
             ],
             [
              0.5555555555555556,
              "#d8576b"
             ],
             [
              0.6666666666666666,
              "#ed7953"
             ],
             [
              0.7777777777777778,
              "#fb9f3a"
             ],
             [
              0.8888888888888888,
              "#fdca26"
             ],
             [
              1,
              "#f0f921"
             ]
            ],
            "type": "heatmap"
           }
          ],
          "histogram": [
           {
            "marker": {
             "pattern": {
              "fillmode": "overlay",
              "size": 10,
              "solidity": 0.2
             }
            },
            "type": "histogram"
           }
          ],
          "histogram2d": [
           {
            "colorbar": {
             "outlinewidth": 0,
             "ticks": ""
            },
            "colorscale": [
             [
              0,
              "#0d0887"
             ],
             [
              0.1111111111111111,
              "#46039f"
             ],
             [
              0.2222222222222222,
              "#7201a8"
             ],
             [
              0.3333333333333333,
              "#9c179e"
             ],
             [
              0.4444444444444444,
              "#bd3786"
             ],
             [
              0.5555555555555556,
              "#d8576b"
             ],
             [
              0.6666666666666666,
              "#ed7953"
             ],
             [
              0.7777777777777778,
              "#fb9f3a"
             ],
             [
              0.8888888888888888,
              "#fdca26"
             ],
             [
              1,
              "#f0f921"
             ]
            ],
            "type": "histogram2d"
           }
          ],
          "histogram2dcontour": [
           {
            "colorbar": {
             "outlinewidth": 0,
             "ticks": ""
            },
            "colorscale": [
             [
              0,
              "#0d0887"
             ],
             [
              0.1111111111111111,
              "#46039f"
             ],
             [
              0.2222222222222222,
              "#7201a8"
             ],
             [
              0.3333333333333333,
              "#9c179e"
             ],
             [
              0.4444444444444444,
              "#bd3786"
             ],
             [
              0.5555555555555556,
              "#d8576b"
             ],
             [
              0.6666666666666666,
              "#ed7953"
             ],
             [
              0.7777777777777778,
              "#fb9f3a"
             ],
             [
              0.8888888888888888,
              "#fdca26"
             ],
             [
              1,
              "#f0f921"
             ]
            ],
            "type": "histogram2dcontour"
           }
          ],
          "mesh3d": [
           {
            "colorbar": {
             "outlinewidth": 0,
             "ticks": ""
            },
            "type": "mesh3d"
           }
          ],
          "parcoords": [
           {
            "line": {
             "colorbar": {
              "outlinewidth": 0,
              "ticks": ""
             }
            },
            "type": "parcoords"
           }
          ],
          "pie": [
           {
            "automargin": true,
            "type": "pie"
           }
          ],
          "scatter": [
           {
            "fillpattern": {
             "fillmode": "overlay",
             "size": 10,
             "solidity": 0.2
            },
            "type": "scatter"
           }
          ],
          "scatter3d": [
           {
            "line": {
             "colorbar": {
              "outlinewidth": 0,
              "ticks": ""
             }
            },
            "marker": {
             "colorbar": {
              "outlinewidth": 0,
              "ticks": ""
             }
            },
            "type": "scatter3d"
           }
          ],
          "scattercarpet": [
           {
            "marker": {
             "colorbar": {
              "outlinewidth": 0,
              "ticks": ""
             }
            },
            "type": "scattercarpet"
           }
          ],
          "scattergeo": [
           {
            "marker": {
             "colorbar": {
              "outlinewidth": 0,
              "ticks": ""
             }
            },
            "type": "scattergeo"
           }
          ],
          "scattergl": [
           {
            "marker": {
             "colorbar": {
              "outlinewidth": 0,
              "ticks": ""
             }
            },
            "type": "scattergl"
           }
          ],
          "scattermap": [
           {
            "marker": {
             "colorbar": {
              "outlinewidth": 0,
              "ticks": ""
             }
            },
            "type": "scattermap"
           }
          ],
          "scattermapbox": [
           {
            "marker": {
             "colorbar": {
              "outlinewidth": 0,
              "ticks": ""
             }
            },
            "type": "scattermapbox"
           }
          ],
          "scatterpolar": [
           {
            "marker": {
             "colorbar": {
              "outlinewidth": 0,
              "ticks": ""
             }
            },
            "type": "scatterpolar"
           }
          ],
          "scatterpolargl": [
           {
            "marker": {
             "colorbar": {
              "outlinewidth": 0,
              "ticks": ""
             }
            },
            "type": "scatterpolargl"
           }
          ],
          "scatterternary": [
           {
            "marker": {
             "colorbar": {
              "outlinewidth": 0,
              "ticks": ""
             }
            },
            "type": "scatterternary"
           }
          ],
          "surface": [
           {
            "colorbar": {
             "outlinewidth": 0,
             "ticks": ""
            },
            "colorscale": [
             [
              0,
              "#0d0887"
             ],
             [
              0.1111111111111111,
              "#46039f"
             ],
             [
              0.2222222222222222,
              "#7201a8"
             ],
             [
              0.3333333333333333,
              "#9c179e"
             ],
             [
              0.4444444444444444,
              "#bd3786"
             ],
             [
              0.5555555555555556,
              "#d8576b"
             ],
             [
              0.6666666666666666,
              "#ed7953"
             ],
             [
              0.7777777777777778,
              "#fb9f3a"
             ],
             [
              0.8888888888888888,
              "#fdca26"
             ],
             [
              1,
              "#f0f921"
             ]
            ],
            "type": "surface"
           }
          ],
          "table": [
           {
            "cells": {
             "fill": {
              "color": "#EBF0F8"
             },
             "line": {
              "color": "white"
             }
            },
            "header": {
             "fill": {
              "color": "#C8D4E3"
             },
             "line": {
              "color": "white"
             }
            },
            "type": "table"
           }
          ]
         },
         "layout": {
          "annotationdefaults": {
           "arrowcolor": "#2a3f5f",
           "arrowhead": 0,
           "arrowwidth": 1
          },
          "autotypenumbers": "strict",
          "coloraxis": {
           "colorbar": {
            "outlinewidth": 0,
            "ticks": ""
           }
          },
          "colorscale": {
           "diverging": [
            [
             0,
             "#8e0152"
            ],
            [
             0.1,
             "#c51b7d"
            ],
            [
             0.2,
             "#de77ae"
            ],
            [
             0.3,
             "#f1b6da"
            ],
            [
             0.4,
             "#fde0ef"
            ],
            [
             0.5,
             "#f7f7f7"
            ],
            [
             0.6,
             "#e6f5d0"
            ],
            [
             0.7,
             "#b8e186"
            ],
            [
             0.8,
             "#7fbc41"
            ],
            [
             0.9,
             "#4d9221"
            ],
            [
             1,
             "#276419"
            ]
           ],
           "sequential": [
            [
             0,
             "#0d0887"
            ],
            [
             0.1111111111111111,
             "#46039f"
            ],
            [
             0.2222222222222222,
             "#7201a8"
            ],
            [
             0.3333333333333333,
             "#9c179e"
            ],
            [
             0.4444444444444444,
             "#bd3786"
            ],
            [
             0.5555555555555556,
             "#d8576b"
            ],
            [
             0.6666666666666666,
             "#ed7953"
            ],
            [
             0.7777777777777778,
             "#fb9f3a"
            ],
            [
             0.8888888888888888,
             "#fdca26"
            ],
            [
             1,
             "#f0f921"
            ]
           ],
           "sequentialminus": [
            [
             0,
             "#0d0887"
            ],
            [
             0.1111111111111111,
             "#46039f"
            ],
            [
             0.2222222222222222,
             "#7201a8"
            ],
            [
             0.3333333333333333,
             "#9c179e"
            ],
            [
             0.4444444444444444,
             "#bd3786"
            ],
            [
             0.5555555555555556,
             "#d8576b"
            ],
            [
             0.6666666666666666,
             "#ed7953"
            ],
            [
             0.7777777777777778,
             "#fb9f3a"
            ],
            [
             0.8888888888888888,
             "#fdca26"
            ],
            [
             1,
             "#f0f921"
            ]
           ]
          },
          "colorway": [
           "#636efa",
           "#EF553B",
           "#00cc96",
           "#ab63fa",
           "#FFA15A",
           "#19d3f3",
           "#FF6692",
           "#B6E880",
           "#FF97FF",
           "#FECB52"
          ],
          "font": {
           "color": "#2a3f5f"
          },
          "geo": {
           "bgcolor": "white",
           "lakecolor": "white",
           "landcolor": "#E5ECF6",
           "showlakes": true,
           "showland": true,
           "subunitcolor": "white"
          },
          "hoverlabel": {
           "align": "left"
          },
          "hovermode": "closest",
          "mapbox": {
           "style": "light"
          },
          "paper_bgcolor": "white",
          "plot_bgcolor": "#E5ECF6",
          "polar": {
           "angularaxis": {
            "gridcolor": "white",
            "linecolor": "white",
            "ticks": ""
           },
           "bgcolor": "#E5ECF6",
           "radialaxis": {
            "gridcolor": "white",
            "linecolor": "white",
            "ticks": ""
           }
          },
          "scene": {
           "xaxis": {
            "backgroundcolor": "#E5ECF6",
            "gridcolor": "white",
            "gridwidth": 2,
            "linecolor": "white",
            "showbackground": true,
            "ticks": "",
            "zerolinecolor": "white"
           },
           "yaxis": {
            "backgroundcolor": "#E5ECF6",
            "gridcolor": "white",
            "gridwidth": 2,
            "linecolor": "white",
            "showbackground": true,
            "ticks": "",
            "zerolinecolor": "white"
           },
           "zaxis": {
            "backgroundcolor": "#E5ECF6",
            "gridcolor": "white",
            "gridwidth": 2,
            "linecolor": "white",
            "showbackground": true,
            "ticks": "",
            "zerolinecolor": "white"
           }
          },
          "shapedefaults": {
           "line": {
            "color": "#2a3f5f"
           }
          },
          "ternary": {
           "aaxis": {
            "gridcolor": "white",
            "linecolor": "white",
            "ticks": ""
           },
           "baxis": {
            "gridcolor": "white",
            "linecolor": "white",
            "ticks": ""
           },
           "bgcolor": "#E5ECF6",
           "caxis": {
            "gridcolor": "white",
            "linecolor": "white",
            "ticks": ""
           }
          },
          "title": {
           "x": 0.05
          },
          "xaxis": {
           "automargin": true,
           "gridcolor": "white",
           "linecolor": "white",
           "ticks": "",
           "title": {
            "standoff": 15
           },
           "zerolinecolor": "white",
           "zerolinewidth": 2
          },
          "yaxis": {
           "automargin": true,
           "gridcolor": "white",
           "linecolor": "white",
           "ticks": "",
           "title": {
            "standoff": 15
           },
           "zerolinecolor": "white",
           "zerolinewidth": 2
          }
         }
        },
        "title": {
         "text": "Quantity",
         "x": 0.5
        },
        "width": 600,
        "xaxis": {
         "anchor": "y",
         "domain": [
          0,
          1
         ]
        },
        "yaxis": {
         "anchor": "x",
         "domain": [
          0,
          1
         ],
         "title": {
          "text": "Quantity"
         }
        }
       }
      }
     },
     "metadata": {},
     "output_type": "display_data"
    },
    {
     "data": {
      "application/vnd.plotly.v1+json": {
       "config": {
        "plotlyServerURL": "https://plot.ly"
       },
       "data": [
        {
         "alignmentgroup": "True",
         "hovertemplate": "Tax 5%=%{y}<extra></extra>",
         "legendgroup": "",
         "marker": {
          "color": "#636efa"
         },
         "name": "",
         "notched": false,
         "offsetgroup": "",
         "orientation": "v",
         "showlegend": false,
         "type": "box",
         "x0": " ",
         "xaxis": "x",
         "y": {
          "bdata": "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",
          "dtype": "f8"
         },
         "y0": " ",
         "yaxis": "y"
        }
       ],
       "layout": {
        "boxmode": "group",
        "height": 700,
        "legend": {
         "tracegroupgap": 0
        },
        "template": {
         "data": {
          "bar": [
           {
            "error_x": {
             "color": "#2a3f5f"
            },
            "error_y": {
             "color": "#2a3f5f"
            },
            "marker": {
             "line": {
              "color": "#E5ECF6",
              "width": 0.5
             },
             "pattern": {
              "fillmode": "overlay",
              "size": 10,
              "solidity": 0.2
             }
            },
            "type": "bar"
           }
          ],
          "barpolar": [
           {
            "marker": {
             "line": {
              "color": "#E5ECF6",
              "width": 0.5
             },
             "pattern": {
              "fillmode": "overlay",
              "size": 10,
              "solidity": 0.2
             }
            },
            "type": "barpolar"
           }
          ],
          "carpet": [
           {
            "aaxis": {
             "endlinecolor": "#2a3f5f",
             "gridcolor": "white",
             "linecolor": "white",
             "minorgridcolor": "white",
             "startlinecolor": "#2a3f5f"
            },
            "baxis": {
             "endlinecolor": "#2a3f5f",
             "gridcolor": "white",
             "linecolor": "white",
             "minorgridcolor": "white",
             "startlinecolor": "#2a3f5f"
            },
            "type": "carpet"
           }
          ],
          "choropleth": [
           {
            "colorbar": {
             "outlinewidth": 0,
             "ticks": ""
            },
            "type": "choropleth"
           }
          ],
          "contour": [
           {
            "colorbar": {
             "outlinewidth": 0,
             "ticks": ""
            },
            "colorscale": [
             [
              0,
              "#0d0887"
             ],
             [
              0.1111111111111111,
              "#46039f"
             ],
             [
              0.2222222222222222,
              "#7201a8"
             ],
             [
              0.3333333333333333,
              "#9c179e"
             ],
             [
              0.4444444444444444,
              "#bd3786"
             ],
             [
              0.5555555555555556,
              "#d8576b"
             ],
             [
              0.6666666666666666,
              "#ed7953"
             ],
             [
              0.7777777777777778,
              "#fb9f3a"
             ],
             [
              0.8888888888888888,
              "#fdca26"
             ],
             [
              1,
              "#f0f921"
             ]
            ],
            "type": "contour"
           }
          ],
          "contourcarpet": [
           {
            "colorbar": {
             "outlinewidth": 0,
             "ticks": ""
            },
            "type": "contourcarpet"
           }
          ],
          "heatmap": [
           {
            "colorbar": {
             "outlinewidth": 0,
             "ticks": ""
            },
            "colorscale": [
             [
              0,
              "#0d0887"
             ],
             [
              0.1111111111111111,
              "#46039f"
             ],
             [
              0.2222222222222222,
              "#7201a8"
             ],
             [
              0.3333333333333333,
              "#9c179e"
             ],
             [
              0.4444444444444444,
              "#bd3786"
             ],
             [
              0.5555555555555556,
              "#d8576b"
             ],
             [
              0.6666666666666666,
              "#ed7953"
             ],
             [
              0.7777777777777778,
              "#fb9f3a"
             ],
             [
              0.8888888888888888,
              "#fdca26"
             ],
             [
              1,
              "#f0f921"
             ]
            ],
            "type": "heatmap"
           }
          ],
          "histogram": [
           {
            "marker": {
             "pattern": {
              "fillmode": "overlay",
              "size": 10,
              "solidity": 0.2
             }
            },
            "type": "histogram"
           }
          ],
          "histogram2d": [
           {
            "colorbar": {
             "outlinewidth": 0,
             "ticks": ""
            },
            "colorscale": [
             [
              0,
              "#0d0887"
             ],
             [
              0.1111111111111111,
              "#46039f"
             ],
             [
              0.2222222222222222,
              "#7201a8"
             ],
             [
              0.3333333333333333,
              "#9c179e"
             ],
             [
              0.4444444444444444,
              "#bd3786"
             ],
             [
              0.5555555555555556,
              "#d8576b"
             ],
             [
              0.6666666666666666,
              "#ed7953"
             ],
             [
              0.7777777777777778,
              "#fb9f3a"
             ],
             [
              0.8888888888888888,
              "#fdca26"
             ],
             [
              1,
              "#f0f921"
             ]
            ],
            "type": "histogram2d"
           }
          ],
          "histogram2dcontour": [
           {
            "colorbar": {
             "outlinewidth": 0,
             "ticks": ""
            },
            "colorscale": [
             [
              0,
              "#0d0887"
             ],
             [
              0.1111111111111111,
              "#46039f"
             ],
             [
              0.2222222222222222,
              "#7201a8"
             ],
             [
              0.3333333333333333,
              "#9c179e"
             ],
             [
              0.4444444444444444,
              "#bd3786"
             ],
             [
              0.5555555555555556,
              "#d8576b"
             ],
             [
              0.6666666666666666,
              "#ed7953"
             ],
             [
              0.7777777777777778,
              "#fb9f3a"
             ],
             [
              0.8888888888888888,
              "#fdca26"
             ],
             [
              1,
              "#f0f921"
             ]
            ],
            "type": "histogram2dcontour"
           }
          ],
          "mesh3d": [
           {
            "colorbar": {
             "outlinewidth": 0,
             "ticks": ""
            },
            "type": "mesh3d"
           }
          ],
          "parcoords": [
           {
            "line": {
             "colorbar": {
              "outlinewidth": 0,
              "ticks": ""
             }
            },
            "type": "parcoords"
           }
          ],
          "pie": [
           {
            "automargin": true,
            "type": "pie"
           }
          ],
          "scatter": [
           {
            "fillpattern": {
             "fillmode": "overlay",
             "size": 10,
             "solidity": 0.2
            },
            "type": "scatter"
           }
          ],
          "scatter3d": [
           {
            "line": {
             "colorbar": {
              "outlinewidth": 0,
              "ticks": ""
             }
            },
            "marker": {
             "colorbar": {
              "outlinewidth": 0,
              "ticks": ""
             }
            },
            "type": "scatter3d"
           }
          ],
          "scattercarpet": [
           {
            "marker": {
             "colorbar": {
              "outlinewidth": 0,
              "ticks": ""
             }
            },
            "type": "scattercarpet"
           }
          ],
          "scattergeo": [
           {
            "marker": {
             "colorbar": {
              "outlinewidth": 0,
              "ticks": ""
             }
            },
            "type": "scattergeo"
           }
          ],
          "scattergl": [
           {
            "marker": {
             "colorbar": {
              "outlinewidth": 0,
              "ticks": ""
             }
            },
            "type": "scattergl"
           }
          ],
          "scattermap": [
           {
            "marker": {
             "colorbar": {
              "outlinewidth": 0,
              "ticks": ""
             }
            },
            "type": "scattermap"
           }
          ],
          "scattermapbox": [
           {
            "marker": {
             "colorbar": {
              "outlinewidth": 0,
              "ticks": ""
             }
            },
            "type": "scattermapbox"
           }
          ],
          "scatterpolar": [
           {
            "marker": {
             "colorbar": {
              "outlinewidth": 0,
              "ticks": ""
             }
            },
            "type": "scatterpolar"
           }
          ],
          "scatterpolargl": [
           {
            "marker": {
             "colorbar": {
              "outlinewidth": 0,
              "ticks": ""
             }
            },
            "type": "scatterpolargl"
           }
          ],
          "scatterternary": [
           {
            "marker": {
             "colorbar": {
              "outlinewidth": 0,
              "ticks": ""
             }
            },
            "type": "scatterternary"
           }
          ],
          "surface": [
           {
            "colorbar": {
             "outlinewidth": 0,
             "ticks": ""
            },
            "colorscale": [
             [
              0,
              "#0d0887"
             ],
             [
              0.1111111111111111,
              "#46039f"
             ],
             [
              0.2222222222222222,
              "#7201a8"
             ],
             [
              0.3333333333333333,
              "#9c179e"
             ],
             [
              0.4444444444444444,
              "#bd3786"
             ],
             [
              0.5555555555555556,
              "#d8576b"
             ],
             [
              0.6666666666666666,
              "#ed7953"
             ],
             [
              0.7777777777777778,
              "#fb9f3a"
             ],
             [
              0.8888888888888888,
              "#fdca26"
             ],
             [
              1,
              "#f0f921"
             ]
            ],
            "type": "surface"
           }
          ],
          "table": [
           {
            "cells": {
             "fill": {
              "color": "#EBF0F8"
             },
             "line": {
              "color": "white"
             }
            },
            "header": {
             "fill": {
              "color": "#C8D4E3"
             },
             "line": {
              "color": "white"
             }
            },
            "type": "table"
           }
          ]
         },
         "layout": {
          "annotationdefaults": {
           "arrowcolor": "#2a3f5f",
           "arrowhead": 0,
           "arrowwidth": 1
          },
          "autotypenumbers": "strict",
          "coloraxis": {
           "colorbar": {
            "outlinewidth": 0,
            "ticks": ""
           }
          },
          "colorscale": {
           "diverging": [
            [
             0,
             "#8e0152"
            ],
            [
             0.1,
             "#c51b7d"
            ],
            [
             0.2,
             "#de77ae"
            ],
            [
             0.3,
             "#f1b6da"
            ],
            [
             0.4,
             "#fde0ef"
            ],
            [
             0.5,
             "#f7f7f7"
            ],
            [
             0.6,
             "#e6f5d0"
            ],
            [
             0.7,
             "#b8e186"
            ],
            [
             0.8,
             "#7fbc41"
            ],
            [
             0.9,
             "#4d9221"
            ],
            [
             1,
             "#276419"
            ]
           ],
           "sequential": [
            [
             0,
             "#0d0887"
            ],
            [
             0.1111111111111111,
             "#46039f"
            ],
            [
             0.2222222222222222,
             "#7201a8"
            ],
            [
             0.3333333333333333,
             "#9c179e"
            ],
            [
             0.4444444444444444,
             "#bd3786"
            ],
            [
             0.5555555555555556,
             "#d8576b"
            ],
            [
             0.6666666666666666,
             "#ed7953"
            ],
            [
             0.7777777777777778,
             "#fb9f3a"
            ],
            [
             0.8888888888888888,
             "#fdca26"
            ],
            [
             1,
             "#f0f921"
            ]
           ],
           "sequentialminus": [
            [
             0,
             "#0d0887"
            ],
            [
             0.1111111111111111,
             "#46039f"
            ],
            [
             0.2222222222222222,
             "#7201a8"
            ],
            [
             0.3333333333333333,
             "#9c179e"
            ],
            [
             0.4444444444444444,
             "#bd3786"
            ],
            [
             0.5555555555555556,
             "#d8576b"
            ],
            [
             0.6666666666666666,
             "#ed7953"
            ],
            [
             0.7777777777777778,
             "#fb9f3a"
            ],
            [
             0.8888888888888888,
             "#fdca26"
            ],
            [
             1,
             "#f0f921"
            ]
           ]
          },
          "colorway": [
           "#636efa",
           "#EF553B",
           "#00cc96",
           "#ab63fa",
           "#FFA15A",
           "#19d3f3",
           "#FF6692",
           "#B6E880",
           "#FF97FF",
           "#FECB52"
          ],
          "font": {
           "color": "#2a3f5f"
          },
          "geo": {
           "bgcolor": "white",
           "lakecolor": "white",
           "landcolor": "#E5ECF6",
           "showlakes": true,
           "showland": true,
           "subunitcolor": "white"
          },
          "hoverlabel": {
           "align": "left"
          },
          "hovermode": "closest",
          "mapbox": {
           "style": "light"
          },
          "paper_bgcolor": "white",
          "plot_bgcolor": "#E5ECF6",
          "polar": {
           "angularaxis": {
            "gridcolor": "white",
            "linecolor": "white",
            "ticks": ""
           },
           "bgcolor": "#E5ECF6",
           "radialaxis": {
            "gridcolor": "white",
            "linecolor": "white",
            "ticks": ""
           }
          },
          "scene": {
           "xaxis": {
            "backgroundcolor": "#E5ECF6",
            "gridcolor": "white",
            "gridwidth": 2,
            "linecolor": "white",
            "showbackground": true,
            "ticks": "",
            "zerolinecolor": "white"
           },
           "yaxis": {
            "backgroundcolor": "#E5ECF6",
            "gridcolor": "white",
            "gridwidth": 2,
            "linecolor": "white",
            "showbackground": true,
            "ticks": "",
            "zerolinecolor": "white"
           },
           "zaxis": {
            "backgroundcolor": "#E5ECF6",
            "gridcolor": "white",
            "gridwidth": 2,
            "linecolor": "white",
            "showbackground": true,
            "ticks": "",
            "zerolinecolor": "white"
           }
          },
          "shapedefaults": {
           "line": {
            "color": "#2a3f5f"
           }
          },
          "ternary": {
           "aaxis": {
            "gridcolor": "white",
            "linecolor": "white",
            "ticks": ""
           },
           "baxis": {
            "gridcolor": "white",
            "linecolor": "white",
            "ticks": ""
           },
           "bgcolor": "#E5ECF6",
           "caxis": {
            "gridcolor": "white",
            "linecolor": "white",
            "ticks": ""
           }
          },
          "title": {
           "x": 0.05
          },
          "xaxis": {
           "automargin": true,
           "gridcolor": "white",
           "linecolor": "white",
           "ticks": "",
           "title": {
            "standoff": 15
           },
           "zerolinecolor": "white",
           "zerolinewidth": 2
          },
          "yaxis": {
           "automargin": true,
           "gridcolor": "white",
           "linecolor": "white",
           "ticks": "",
           "title": {
            "standoff": 15
           },
           "zerolinecolor": "white",
           "zerolinewidth": 2
          }
         }
        },
        "title": {
         "text": "Tax 5%",
         "x": 0.5
        },
        "width": 600,
        "xaxis": {
         "anchor": "y",
         "domain": [
          0,
          1
         ]
        },
        "yaxis": {
         "anchor": "x",
         "domain": [
          0,
          1
         ],
         "title": {
          "text": "Tax 5%"
         }
        }
       }
      }
     },
     "metadata": {},
     "output_type": "display_data"
    },
    {
     "data": {
      "application/vnd.plotly.v1+json": {
       "config": {
        "plotlyServerURL": "https://plot.ly"
       },
       "data": [
        {
         "alignmentgroup": "True",
         "hovertemplate": "Total=%{y}<extra></extra>",
         "legendgroup": "",
         "marker": {
          "color": "#636efa"
         },
         "name": "",
         "notched": false,
         "offsetgroup": "",
         "orientation": "v",
         "showlegend": false,
         "type": "box",
         "x0": " ",
         "xaxis": "x",
         "y": {
          "bdata": "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",
          "dtype": "f8"
         },
         "y0": " ",
         "yaxis": "y"
        }
       ],
       "layout": {
        "boxmode": "group",
        "height": 700,
        "legend": {
         "tracegroupgap": 0
        },
        "template": {
         "data": {
          "bar": [
           {
            "error_x": {
             "color": "#2a3f5f"
            },
            "error_y": {
             "color": "#2a3f5f"
            },
            "marker": {
             "line": {
              "color": "#E5ECF6",
              "width": 0.5
             },
             "pattern": {
              "fillmode": "overlay",
              "size": 10,
              "solidity": 0.2
             }
            },
            "type": "bar"
           }
          ],
          "barpolar": [
           {
            "marker": {
             "line": {
              "color": "#E5ECF6",
              "width": 0.5
             },
             "pattern": {
              "fillmode": "overlay",
              "size": 10,
              "solidity": 0.2
             }
            },
            "type": "barpolar"
           }
          ],
          "carpet": [
           {
            "aaxis": {
             "endlinecolor": "#2a3f5f",
             "gridcolor": "white",
             "linecolor": "white",
             "minorgridcolor": "white",
             "startlinecolor": "#2a3f5f"
            },
            "baxis": {
             "endlinecolor": "#2a3f5f",
             "gridcolor": "white",
             "linecolor": "white",
             "minorgridcolor": "white",
             "startlinecolor": "#2a3f5f"
            },
            "type": "carpet"
           }
          ],
          "choropleth": [
           {
            "colorbar": {
             "outlinewidth": 0,
             "ticks": ""
            },
            "type": "choropleth"
           }
          ],
          "contour": [
           {
            "colorbar": {
             "outlinewidth": 0,
             "ticks": ""
            },
            "colorscale": [
             [
              0,
              "#0d0887"
             ],
             [
              0.1111111111111111,
              "#46039f"
             ],
             [
              0.2222222222222222,
              "#7201a8"
             ],
             [
              0.3333333333333333,
              "#9c179e"
             ],
             [
              0.4444444444444444,
              "#bd3786"
             ],
             [
              0.5555555555555556,
              "#d8576b"
             ],
             [
              0.6666666666666666,
              "#ed7953"
             ],
             [
              0.7777777777777778,
              "#fb9f3a"
             ],
             [
              0.8888888888888888,
              "#fdca26"
             ],
             [
              1,
              "#f0f921"
             ]
            ],
            "type": "contour"
           }
          ],
          "contourcarpet": [
           {
            "colorbar": {
             "outlinewidth": 0,
             "ticks": ""
            },
            "type": "contourcarpet"
           }
          ],
          "heatmap": [
           {
            "colorbar": {
             "outlinewidth": 0,
             "ticks": ""
            },
            "colorscale": [
             [
              0,
              "#0d0887"
             ],
             [
              0.1111111111111111,
              "#46039f"
             ],
             [
              0.2222222222222222,
              "#7201a8"
             ],
             [
              0.3333333333333333,
              "#9c179e"
             ],
             [
              0.4444444444444444,
              "#bd3786"
             ],
             [
              0.5555555555555556,
              "#d8576b"
             ],
             [
              0.6666666666666666,
              "#ed7953"
             ],
             [
              0.7777777777777778,
              "#fb9f3a"
             ],
             [
              0.8888888888888888,
              "#fdca26"
             ],
             [
              1,
              "#f0f921"
             ]
            ],
            "type": "heatmap"
           }
          ],
          "histogram": [
           {
            "marker": {
             "pattern": {
              "fillmode": "overlay",
              "size": 10,
              "solidity": 0.2
             }
            },
            "type": "histogram"
           }
          ],
          "histogram2d": [
           {
            "colorbar": {
             "outlinewidth": 0,
             "ticks": ""
            },
            "colorscale": [
             [
              0,
              "#0d0887"
             ],
             [
              0.1111111111111111,
              "#46039f"
             ],
             [
              0.2222222222222222,
              "#7201a8"
             ],
             [
              0.3333333333333333,
              "#9c179e"
             ],
             [
              0.4444444444444444,
              "#bd3786"
             ],
             [
              0.5555555555555556,
              "#d8576b"
             ],
             [
              0.6666666666666666,
              "#ed7953"
             ],
             [
              0.7777777777777778,
              "#fb9f3a"
             ],
             [
              0.8888888888888888,
              "#fdca26"
             ],
             [
              1,
              "#f0f921"
             ]
            ],
            "type": "histogram2d"
           }
          ],
          "histogram2dcontour": [
           {
            "colorbar": {
             "outlinewidth": 0,
             "ticks": ""
            },
            "colorscale": [
             [
              0,
              "#0d0887"
             ],
             [
              0.1111111111111111,
              "#46039f"
             ],
             [
              0.2222222222222222,
              "#7201a8"
             ],
             [
              0.3333333333333333,
              "#9c179e"
             ],
             [
              0.4444444444444444,
              "#bd3786"
             ],
             [
              0.5555555555555556,
              "#d8576b"
             ],
             [
              0.6666666666666666,
              "#ed7953"
             ],
             [
              0.7777777777777778,
              "#fb9f3a"
             ],
             [
              0.8888888888888888,
              "#fdca26"
             ],
             [
              1,
              "#f0f921"
             ]
            ],
            "type": "histogram2dcontour"
           }
          ],
          "mesh3d": [
           {
            "colorbar": {
             "outlinewidth": 0,
             "ticks": ""
            },
            "type": "mesh3d"
           }
          ],
          "parcoords": [
           {
            "line": {
             "colorbar": {
              "outlinewidth": 0,
              "ticks": ""
             }
            },
            "type": "parcoords"
           }
          ],
          "pie": [
           {
            "automargin": true,
            "type": "pie"
           }
          ],
          "scatter": [
           {
            "fillpattern": {
             "fillmode": "overlay",
             "size": 10,
             "solidity": 0.2
            },
            "type": "scatter"
           }
          ],
          "scatter3d": [
           {
            "line": {
             "colorbar": {
              "outlinewidth": 0,
              "ticks": ""
             }
            },
            "marker": {
             "colorbar": {
              "outlinewidth": 0,
              "ticks": ""
             }
            },
            "type": "scatter3d"
           }
          ],
          "scattercarpet": [
           {
            "marker": {
             "colorbar": {
              "outlinewidth": 0,
              "ticks": ""
             }
            },
            "type": "scattercarpet"
           }
          ],
          "scattergeo": [
           {
            "marker": {
             "colorbar": {
              "outlinewidth": 0,
              "ticks": ""
             }
            },
            "type": "scattergeo"
           }
          ],
          "scattergl": [
           {
            "marker": {
             "colorbar": {
              "outlinewidth": 0,
              "ticks": ""
             }
            },
            "type": "scattergl"
           }
          ],
          "scattermap": [
           {
            "marker": {
             "colorbar": {
              "outlinewidth": 0,
              "ticks": ""
             }
            },
            "type": "scattermap"
           }
          ],
          "scattermapbox": [
           {
            "marker": {
             "colorbar": {
              "outlinewidth": 0,
              "ticks": ""
             }
            },
            "type": "scattermapbox"
           }
          ],
          "scatterpolar": [
           {
            "marker": {
             "colorbar": {
              "outlinewidth": 0,
              "ticks": ""
             }
            },
            "type": "scatterpolar"
           }
          ],
          "scatterpolargl": [
           {
            "marker": {
             "colorbar": {
              "outlinewidth": 0,
              "ticks": ""
             }
            },
            "type": "scatterpolargl"
           }
          ],
          "scatterternary": [
           {
            "marker": {
             "colorbar": {
              "outlinewidth": 0,
              "ticks": ""
             }
            },
            "type": "scatterternary"
           }
          ],
          "surface": [
           {
            "colorbar": {
             "outlinewidth": 0,
             "ticks": ""
            },
            "colorscale": [
             [
              0,
              "#0d0887"
             ],
             [
              0.1111111111111111,
              "#46039f"
             ],
             [
              0.2222222222222222,
              "#7201a8"
             ],
             [
              0.3333333333333333,
              "#9c179e"
             ],
             [
              0.4444444444444444,
              "#bd3786"
             ],
             [
              0.5555555555555556,
              "#d8576b"
             ],
             [
              0.6666666666666666,
              "#ed7953"
             ],
             [
              0.7777777777777778,
              "#fb9f3a"
             ],
             [
              0.8888888888888888,
              "#fdca26"
             ],
             [
              1,
              "#f0f921"
             ]
            ],
            "type": "surface"
           }
          ],
          "table": [
           {
            "cells": {
             "fill": {
              "color": "#EBF0F8"
             },
             "line": {
              "color": "white"
             }
            },
            "header": {
             "fill": {
              "color": "#C8D4E3"
             },
             "line": {
              "color": "white"
             }
            },
            "type": "table"
           }
          ]
         },
         "layout": {
          "annotationdefaults": {
           "arrowcolor": "#2a3f5f",
           "arrowhead": 0,
           "arrowwidth": 1
          },
          "autotypenumbers": "strict",
          "coloraxis": {
           "colorbar": {
            "outlinewidth": 0,
            "ticks": ""
           }
          },
          "colorscale": {
           "diverging": [
            [
             0,
             "#8e0152"
            ],
            [
             0.1,
             "#c51b7d"
            ],
            [
             0.2,
             "#de77ae"
            ],
            [
             0.3,
             "#f1b6da"
            ],
            [
             0.4,
             "#fde0ef"
            ],
            [
             0.5,
             "#f7f7f7"
            ],
            [
             0.6,
             "#e6f5d0"
            ],
            [
             0.7,
             "#b8e186"
            ],
            [
             0.8,
             "#7fbc41"
            ],
            [
             0.9,
             "#4d9221"
            ],
            [
             1,
             "#276419"
            ]
           ],
           "sequential": [
            [
             0,
             "#0d0887"
            ],
            [
             0.1111111111111111,
             "#46039f"
            ],
            [
             0.2222222222222222,
             "#7201a8"
            ],
            [
             0.3333333333333333,
             "#9c179e"
            ],
            [
             0.4444444444444444,
             "#bd3786"
            ],
            [
             0.5555555555555556,
             "#d8576b"
            ],
            [
             0.6666666666666666,
             "#ed7953"
            ],
            [
             0.7777777777777778,
             "#fb9f3a"
            ],
            [
             0.8888888888888888,
             "#fdca26"
            ],
            [
             1,
             "#f0f921"
            ]
           ],
           "sequentialminus": [
            [
             0,
             "#0d0887"
            ],
            [
             0.1111111111111111,
             "#46039f"
            ],
            [
             0.2222222222222222,
             "#7201a8"
            ],
            [
             0.3333333333333333,
             "#9c179e"
            ],
            [
             0.4444444444444444,
             "#bd3786"
            ],
            [
             0.5555555555555556,
             "#d8576b"
            ],
            [
             0.6666666666666666,
             "#ed7953"
            ],
            [
             0.7777777777777778,
             "#fb9f3a"
            ],
            [
             0.8888888888888888,
             "#fdca26"
            ],
            [
             1,
             "#f0f921"
            ]
           ]
          },
          "colorway": [
           "#636efa",
           "#EF553B",
           "#00cc96",
           "#ab63fa",
           "#FFA15A",
           "#19d3f3",
           "#FF6692",
           "#B6E880",
           "#FF97FF",
           "#FECB52"
          ],
          "font": {
           "color": "#2a3f5f"
          },
          "geo": {
           "bgcolor": "white",
           "lakecolor": "white",
           "landcolor": "#E5ECF6",
           "showlakes": true,
           "showland": true,
           "subunitcolor": "white"
          },
          "hoverlabel": {
           "align": "left"
          },
          "hovermode": "closest",
          "mapbox": {
           "style": "light"
          },
          "paper_bgcolor": "white",
          "plot_bgcolor": "#E5ECF6",
          "polar": {
           "angularaxis": {
            "gridcolor": "white",
            "linecolor": "white",
            "ticks": ""
           },
           "bgcolor": "#E5ECF6",
           "radialaxis": {
            "gridcolor": "white",
            "linecolor": "white",
            "ticks": ""
           }
          },
          "scene": {
           "xaxis": {
            "backgroundcolor": "#E5ECF6",
            "gridcolor": "white",
            "gridwidth": 2,
            "linecolor": "white",
            "showbackground": true,
            "ticks": "",
            "zerolinecolor": "white"
           },
           "yaxis": {
            "backgroundcolor": "#E5ECF6",
            "gridcolor": "white",
            "gridwidth": 2,
            "linecolor": "white",
            "showbackground": true,
            "ticks": "",
            "zerolinecolor": "white"
           },
           "zaxis": {
            "backgroundcolor": "#E5ECF6",
            "gridcolor": "white",
            "gridwidth": 2,
            "linecolor": "white",
            "showbackground": true,
            "ticks": "",
            "zerolinecolor": "white"
           }
          },
          "shapedefaults": {
           "line": {
            "color": "#2a3f5f"
           }
          },
          "ternary": {
           "aaxis": {
            "gridcolor": "white",
            "linecolor": "white",
            "ticks": ""
           },
           "baxis": {
            "gridcolor": "white",
            "linecolor": "white",
            "ticks": ""
           },
           "bgcolor": "#E5ECF6",
           "caxis": {
            "gridcolor": "white",
            "linecolor": "white",
            "ticks": ""
           }
          },
          "title": {
           "x": 0.05
          },
          "xaxis": {
           "automargin": true,
           "gridcolor": "white",
           "linecolor": "white",
           "ticks": "",
           "title": {
            "standoff": 15
           },
           "zerolinecolor": "white",
           "zerolinewidth": 2
          },
          "yaxis": {
           "automargin": true,
           "gridcolor": "white",
           "linecolor": "white",
           "ticks": "",
           "title": {
            "standoff": 15
           },
           "zerolinecolor": "white",
           "zerolinewidth": 2
          }
         }
        },
        "title": {
         "text": "Total",
         "x": 0.5
        },
        "width": 600,
        "xaxis": {
         "anchor": "y",
         "domain": [
          0,
          1
         ]
        },
        "yaxis": {
         "anchor": "x",
         "domain": [
          0,
          1
         ],
         "title": {
          "text": "Total"
         }
        }
       }
      }
     },
     "metadata": {},
     "output_type": "display_data"
    },
    {
     "data": {
      "application/vnd.plotly.v1+json": {
       "config": {
        "plotlyServerURL": "https://plot.ly"
       },
       "data": [
        {
         "alignmentgroup": "True",
         "hovertemplate": "cogs=%{y}<extra></extra>",
         "legendgroup": "",
         "marker": {
          "color": "#636efa"
         },
         "name": "",
         "notched": false,
         "offsetgroup": "",
         "orientation": "v",
         "showlegend": false,
         "type": "box",
         "x0": " ",
         "xaxis": "x",
         "y": {
          "bdata": "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",
          "dtype": "f8"
         },
         "y0": " ",
         "yaxis": "y"
        }
       ],
       "layout": {
        "boxmode": "group",
        "height": 700,
        "legend": {
         "tracegroupgap": 0
        },
        "template": {
         "data": {
          "bar": [
           {
            "error_x": {
             "color": "#2a3f5f"
            },
            "error_y": {
             "color": "#2a3f5f"
            },
            "marker": {
             "line": {
              "color": "#E5ECF6",
              "width": 0.5
             },
             "pattern": {
              "fillmode": "overlay",
              "size": 10,
              "solidity": 0.2
             }
            },
            "type": "bar"
           }
          ],
          "barpolar": [
           {
            "marker": {
             "line": {
              "color": "#E5ECF6",
              "width": 0.5
             },
             "pattern": {
              "fillmode": "overlay",
              "size": 10,
              "solidity": 0.2
             }
            },
            "type": "barpolar"
           }
          ],
          "carpet": [
           {
            "aaxis": {
             "endlinecolor": "#2a3f5f",
             "gridcolor": "white",
             "linecolor": "white",
             "minorgridcolor": "white",
             "startlinecolor": "#2a3f5f"
            },
            "baxis": {
             "endlinecolor": "#2a3f5f",
             "gridcolor": "white",
             "linecolor": "white",
             "minorgridcolor": "white",
             "startlinecolor": "#2a3f5f"
            },
            "type": "carpet"
           }
          ],
          "choropleth": [
           {
            "colorbar": {
             "outlinewidth": 0,
             "ticks": ""
            },
            "type": "choropleth"
           }
          ],
          "contour": [
           {
            "colorbar": {
             "outlinewidth": 0,
             "ticks": ""
            },
            "colorscale": [
             [
              0,
              "#0d0887"
             ],
             [
              0.1111111111111111,
              "#46039f"
             ],
             [
              0.2222222222222222,
              "#7201a8"
             ],
             [
              0.3333333333333333,
              "#9c179e"
             ],
             [
              0.4444444444444444,
              "#bd3786"
             ],
             [
              0.5555555555555556,
              "#d8576b"
             ],
             [
              0.6666666666666666,
              "#ed7953"
             ],
             [
              0.7777777777777778,
              "#fb9f3a"
             ],
             [
              0.8888888888888888,
              "#fdca26"
             ],
             [
              1,
              "#f0f921"
             ]
            ],
            "type": "contour"
           }
          ],
          "contourcarpet": [
           {
            "colorbar": {
             "outlinewidth": 0,
             "ticks": ""
            },
            "type": "contourcarpet"
           }
          ],
          "heatmap": [
           {
            "colorbar": {
             "outlinewidth": 0,
             "ticks": ""
            },
            "colorscale": [
             [
              0,
              "#0d0887"
             ],
             [
              0.1111111111111111,
              "#46039f"
             ],
             [
              0.2222222222222222,
              "#7201a8"
             ],
             [
              0.3333333333333333,
              "#9c179e"
             ],
             [
              0.4444444444444444,
              "#bd3786"
             ],
             [
              0.5555555555555556,
              "#d8576b"
             ],
             [
              0.6666666666666666,
              "#ed7953"
             ],
             [
              0.7777777777777778,
              "#fb9f3a"
             ],
             [
              0.8888888888888888,
              "#fdca26"
             ],
             [
              1,
              "#f0f921"
             ]
            ],
            "type": "heatmap"
           }
          ],
          "histogram": [
           {
            "marker": {
             "pattern": {
              "fillmode": "overlay",
              "size": 10,
              "solidity": 0.2
             }
            },
            "type": "histogram"
           }
          ],
          "histogram2d": [
           {
            "colorbar": {
             "outlinewidth": 0,
             "ticks": ""
            },
            "colorscale": [
             [
              0,
              "#0d0887"
             ],
             [
              0.1111111111111111,
              "#46039f"
             ],
             [
              0.2222222222222222,
              "#7201a8"
             ],
             [
              0.3333333333333333,
              "#9c179e"
             ],
             [
              0.4444444444444444,
              "#bd3786"
             ],
             [
              0.5555555555555556,
              "#d8576b"
             ],
             [
              0.6666666666666666,
              "#ed7953"
             ],
             [
              0.7777777777777778,
              "#fb9f3a"
             ],
             [
              0.8888888888888888,
              "#fdca26"
             ],
             [
              1,
              "#f0f921"
             ]
            ],
            "type": "histogram2d"
           }
          ],
          "histogram2dcontour": [
           {
            "colorbar": {
             "outlinewidth": 0,
             "ticks": ""
            },
            "colorscale": [
             [
              0,
              "#0d0887"
             ],
             [
              0.1111111111111111,
              "#46039f"
             ],
             [
              0.2222222222222222,
              "#7201a8"
             ],
             [
              0.3333333333333333,
              "#9c179e"
             ],
             [
              0.4444444444444444,
              "#bd3786"
             ],
             [
              0.5555555555555556,
              "#d8576b"
             ],
             [
              0.6666666666666666,
              "#ed7953"
             ],
             [
              0.7777777777777778,
              "#fb9f3a"
             ],
             [
              0.8888888888888888,
              "#fdca26"
             ],
             [
              1,
              "#f0f921"
             ]
            ],
            "type": "histogram2dcontour"
           }
          ],
          "mesh3d": [
           {
            "colorbar": {
             "outlinewidth": 0,
             "ticks": ""
            },
            "type": "mesh3d"
           }
          ],
          "parcoords": [
           {
            "line": {
             "colorbar": {
              "outlinewidth": 0,
              "ticks": ""
             }
            },
            "type": "parcoords"
           }
          ],
          "pie": [
           {
            "automargin": true,
            "type": "pie"
           }
          ],
          "scatter": [
           {
            "fillpattern": {
             "fillmode": "overlay",
             "size": 10,
             "solidity": 0.2
            },
            "type": "scatter"
           }
          ],
          "scatter3d": [
           {
            "line": {
             "colorbar": {
              "outlinewidth": 0,
              "ticks": ""
             }
            },
            "marker": {
             "colorbar": {
              "outlinewidth": 0,
              "ticks": ""
             }
            },
            "type": "scatter3d"
           }
          ],
          "scattercarpet": [
           {
            "marker": {
             "colorbar": {
              "outlinewidth": 0,
              "ticks": ""
             }
            },
            "type": "scattercarpet"
           }
          ],
          "scattergeo": [
           {
            "marker": {
             "colorbar": {
              "outlinewidth": 0,
              "ticks": ""
             }
            },
            "type": "scattergeo"
           }
          ],
          "scattergl": [
           {
            "marker": {
             "colorbar": {
              "outlinewidth": 0,
              "ticks": ""
             }
            },
            "type": "scattergl"
           }
          ],
          "scattermap": [
           {
            "marker": {
             "colorbar": {
              "outlinewidth": 0,
              "ticks": ""
             }
            },
            "type": "scattermap"
           }
          ],
          "scattermapbox": [
           {
            "marker": {
             "colorbar": {
              "outlinewidth": 0,
              "ticks": ""
             }
            },
            "type": "scattermapbox"
           }
          ],
          "scatterpolar": [
           {
            "marker": {
             "colorbar": {
              "outlinewidth": 0,
              "ticks": ""
             }
            },
            "type": "scatterpolar"
           }
          ],
          "scatterpolargl": [
           {
            "marker": {
             "colorbar": {
              "outlinewidth": 0,
              "ticks": ""
             }
            },
            "type": "scatterpolargl"
           }
          ],
          "scatterternary": [
           {
            "marker": {
             "colorbar": {
              "outlinewidth": 0,
              "ticks": ""
             }
            },
            "type": "scatterternary"
           }
          ],
          "surface": [
           {
            "colorbar": {
             "outlinewidth": 0,
             "ticks": ""
            },
            "colorscale": [
             [
              0,
              "#0d0887"
             ],
             [
              0.1111111111111111,
              "#46039f"
             ],
             [
              0.2222222222222222,
              "#7201a8"
             ],
             [
              0.3333333333333333,
              "#9c179e"
             ],
             [
              0.4444444444444444,
              "#bd3786"
             ],
             [
              0.5555555555555556,
              "#d8576b"
             ],
             [
              0.6666666666666666,
              "#ed7953"
             ],
             [
              0.7777777777777778,
              "#fb9f3a"
             ],
             [
              0.8888888888888888,
              "#fdca26"
             ],
             [
              1,
              "#f0f921"
             ]
            ],
            "type": "surface"
           }
          ],
          "table": [
           {
            "cells": {
             "fill": {
              "color": "#EBF0F8"
             },
             "line": {
              "color": "white"
             }
            },
            "header": {
             "fill": {
              "color": "#C8D4E3"
             },
             "line": {
              "color": "white"
             }
            },
            "type": "table"
           }
          ]
         },
         "layout": {
          "annotationdefaults": {
           "arrowcolor": "#2a3f5f",
           "arrowhead": 0,
           "arrowwidth": 1
          },
          "autotypenumbers": "strict",
          "coloraxis": {
           "colorbar": {
            "outlinewidth": 0,
            "ticks": ""
           }
          },
          "colorscale": {
           "diverging": [
            [
             0,
             "#8e0152"
            ],
            [
             0.1,
             "#c51b7d"
            ],
            [
             0.2,
             "#de77ae"
            ],
            [
             0.3,
             "#f1b6da"
            ],
            [
             0.4,
             "#fde0ef"
            ],
            [
             0.5,
             "#f7f7f7"
            ],
            [
             0.6,
             "#e6f5d0"
            ],
            [
             0.7,
             "#b8e186"
            ],
            [
             0.8,
             "#7fbc41"
            ],
            [
             0.9,
             "#4d9221"
            ],
            [
             1,
             "#276419"
            ]
           ],
           "sequential": [
            [
             0,
             "#0d0887"
            ],
            [
             0.1111111111111111,
             "#46039f"
            ],
            [
             0.2222222222222222,
             "#7201a8"
            ],
            [
             0.3333333333333333,
             "#9c179e"
            ],
            [
             0.4444444444444444,
             "#bd3786"
            ],
            [
             0.5555555555555556,
             "#d8576b"
            ],
            [
             0.6666666666666666,
             "#ed7953"
            ],
            [
             0.7777777777777778,
             "#fb9f3a"
            ],
            [
             0.8888888888888888,
             "#fdca26"
            ],
            [
             1,
             "#f0f921"
            ]
           ],
           "sequentialminus": [
            [
             0,
             "#0d0887"
            ],
            [
             0.1111111111111111,
             "#46039f"
            ],
            [
             0.2222222222222222,
             "#7201a8"
            ],
            [
             0.3333333333333333,
             "#9c179e"
            ],
            [
             0.4444444444444444,
             "#bd3786"
            ],
            [
             0.5555555555555556,
             "#d8576b"
            ],
            [
             0.6666666666666666,
             "#ed7953"
            ],
            [
             0.7777777777777778,
             "#fb9f3a"
            ],
            [
             0.8888888888888888,
             "#fdca26"
            ],
            [
             1,
             "#f0f921"
            ]
           ]
          },
          "colorway": [
           "#636efa",
           "#EF553B",
           "#00cc96",
           "#ab63fa",
           "#FFA15A",
           "#19d3f3",
           "#FF6692",
           "#B6E880",
           "#FF97FF",
           "#FECB52"
          ],
          "font": {
           "color": "#2a3f5f"
          },
          "geo": {
           "bgcolor": "white",
           "lakecolor": "white",
           "landcolor": "#E5ECF6",
           "showlakes": true,
           "showland": true,
           "subunitcolor": "white"
          },
          "hoverlabel": {
           "align": "left"
          },
          "hovermode": "closest",
          "mapbox": {
           "style": "light"
          },
          "paper_bgcolor": "white",
          "plot_bgcolor": "#E5ECF6",
          "polar": {
           "angularaxis": {
            "gridcolor": "white",
            "linecolor": "white",
            "ticks": ""
           },
           "bgcolor": "#E5ECF6",
           "radialaxis": {
            "gridcolor": "white",
            "linecolor": "white",
            "ticks": ""
           }
          },
          "scene": {
           "xaxis": {
            "backgroundcolor": "#E5ECF6",
            "gridcolor": "white",
            "gridwidth": 2,
            "linecolor": "white",
            "showbackground": true,
            "ticks": "",
            "zerolinecolor": "white"
           },
           "yaxis": {
            "backgroundcolor": "#E5ECF6",
            "gridcolor": "white",
            "gridwidth": 2,
            "linecolor": "white",
            "showbackground": true,
            "ticks": "",
            "zerolinecolor": "white"
           },
           "zaxis": {
            "backgroundcolor": "#E5ECF6",
            "gridcolor": "white",
            "gridwidth": 2,
            "linecolor": "white",
            "showbackground": true,
            "ticks": "",
            "zerolinecolor": "white"
           }
          },
          "shapedefaults": {
           "line": {
            "color": "#2a3f5f"
           }
          },
          "ternary": {
           "aaxis": {
            "gridcolor": "white",
            "linecolor": "white",
            "ticks": ""
           },
           "baxis": {
            "gridcolor": "white",
            "linecolor": "white",
            "ticks": ""
           },
           "bgcolor": "#E5ECF6",
           "caxis": {
            "gridcolor": "white",
            "linecolor": "white",
            "ticks": ""
           }
          },
          "title": {
           "x": 0.05
          },
          "xaxis": {
           "automargin": true,
           "gridcolor": "white",
           "linecolor": "white",
           "ticks": "",
           "title": {
            "standoff": 15
           },
           "zerolinecolor": "white",
           "zerolinewidth": 2
          },
          "yaxis": {
           "automargin": true,
           "gridcolor": "white",
           "linecolor": "white",
           "ticks": "",
           "title": {
            "standoff": 15
           },
           "zerolinecolor": "white",
           "zerolinewidth": 2
          }
         }
        },
        "title": {
         "text": "cogs",
         "x": 0.5
        },
        "width": 600,
        "xaxis": {
         "anchor": "y",
         "domain": [
          0,
          1
         ]
        },
        "yaxis": {
         "anchor": "x",
         "domain": [
          0,
          1
         ],
         "title": {
          "text": "cogs"
         }
        }
       }
      }
     },
     "metadata": {},
     "output_type": "display_data"
    },
    {
     "data": {
      "application/vnd.plotly.v1+json": {
       "config": {
        "plotlyServerURL": "https://plot.ly"
       },
       "data": [
        {
         "alignmentgroup": "True",
         "hovertemplate": "gross margin percentage=%{y}<extra></extra>",
         "legendgroup": "",
         "marker": {
          "color": "#636efa"
         },
         "name": "",
         "notched": false,
         "offsetgroup": "",
         "orientation": "v",
         "showlegend": false,
         "type": "box",
         "x0": " ",
         "xaxis": "x",
         "y": {
          "bdata": "oNMNwzAME0Cg0w3DMAwTQKDTDcMwDBNAoNMNwzAME0Cg0w3DMAwTQKDTDcMwDBNAoNMNwzAME0Cg0w3DMAwTQKDTDcMwDBNAoNMNwzAME0Cg0w3DMAwTQKDTDcMwDBNAoNMNwzAME0Cg0w3DMAwTQKDTDcMwDBNAoNMNwzAME0Cg0w3DMAwTQKDTDcMwDBNAoNMNwzAME0Cg0w3DMAwTQKDTDcMwDBNAoNMNwzAME0Cg0w3DMAwTQKDTDcMwDBNAoNMNwzAME0Cg0w3DMAwTQKDTDcMwDBNAoNMNwzAME0Cg0w3DMAwTQKDTDcMwDBNAoNMNwzAME0Cg0w3DMAwTQKDTDcMwDBNAoNMNwzAME0Cg0w3DMAwTQKDTDcMwDBNAoNMNwzAME0Cg0w3DMAwTQKDTDcMwDBNAoNMNwzAME0Cg0w3DMAwTQKDTDcMwDBNAoNMNwzAME0Cg0w3DMAwTQKDTDcMwDBNAoNMNwzAME0Cg0w3DMAwTQKDTDcMwDBNAoNMNwzAME0Cg0w3DMAwTQKDTDcMwDBNAoNMNwzAME0Cg0w3DMAwTQKDTDcMwDBNAoNMNwzAME0Cg0w3DMAwTQKDTDcMwDBNAoNMNwzAME0Cg0w3DMAwTQKDTDcMwDBNAoNMNwzAME0Cg0w3DMAwTQKDTDcMwDBNAoNMNwzAME0Cg0w3DMAwTQKDTDcMwDBNAoNMNwzAME0Cg0w3DMAwTQKDTDcMwDBNAoNMNwzAME0Cg0w3DMAwTQKDTDcMwDBNAoNMNwzAME0Cg0w3DMAwTQKDTDcMwDBNAoNMNwzAME0Cg0w3DMAwTQKDTDcMwDBNAoNMNwzAME0Cg0w3DMAwTQKDTDcMwDBNAoNMNwzAME0Cg0w3DMAwTQKDTDcMwDBNAoNMNwzAME0Cg0w3DMAwTQKDTDcMwDBNAoNMNwzAME0Cg0w3DMAwTQKDTDcMwDBNAoNMNwzAME0Cg0w3DMAwTQKDTDcMwDBNAoNMNwzAME0Cg0w3DMAwTQKDTDcMwDBNAoNMNwzAME0Cg0w3DMAwTQKDTDcMwDBNAoNMNwzAME0Cg0w3DMAwTQKDTDcMwDBNAoNMNwzAME0Cg0w3DMAwTQKDTDcMwDBNAoNMNwzAME0Cg0w3DMAwTQKDTDcMwDBNAoNMNwzAME0Cg0w3DMAwTQKDTDcMwDBNAoNMNwzAME0Cg0w3DMAwTQKDTDcMwDBNAoNMNwzAME0Cg0w3DMAwTQKDTDcMwDBNAoNMNwzAME0Cg0w3DMAwTQKDTDcMwDBNAoNMNwzAME0Cg0w3DMAwTQKDTDcMwDBNAoNMNwzAME0Cg0w3DMAwTQKDTDcMwDBNAoNMNwzAME0Cg0w3DMAwTQKDTDcMwDBNAoNMNwzAME0Cg0w3DMAwTQKDTDcMwDBNAoNMNwzAME0Cg0w3DMAwTQKDTDcMwDBNAoNMNwzAME0Cg0w3DMAwTQKDTDcMwDBNAoNMNwzAME0Cg0w3DMAwTQKDTDcMwDBNAoNMNwzAME0Cg0w3DMAwTQKDTDcMwDBNAoNMNwzAME0Cg0w3DMAwTQKDTDcMwDBNAoNMNwzAME0Cg0w3DMAwTQKDTDcMwDBNAoNMNwzAME0Cg0w3DMAwTQKDTDcMwDBNAoNMNwzAME0Cg0w3DMAwTQKDTDcMwDBNAoNMNwzAME0Cg0w3DMAwTQKDTDcMwDBNAoNMNwzAME0Cg0w3DMAwTQKDTDcMwDBNAoNMNwzAME0Cg0w3DMAwTQKDTDcMwDBNAoNMNwzAME0Cg0w3DMAwTQKDTDcMwDBNAoNMNwzAME0Cg0w3DMAwTQKDTDcMwDBNAoNMNwzAME0Cg0w3DMAwTQKDTDcMwDBNAoNMNwzAME0Cg0w3DMAwTQKDTDcMwDBNAoNMNwzAME0Cg0w3DMAwTQKDTDcMwDBNAoNMNwzAME0Cg0w3DMAwTQKDTDcMwDBNAoNMNwzAME0Cg0w3DMAwTQKDTDcMwDBNAoNMNwzAME0Cg0w3DMAwTQKDTDcMwDBNAoNMNwzAME0Cg0w3DMAwTQKDTDcMwDBNAoNMNwzAME0Cg0w3DMAwTQKDTDcMwDBNAoNMNwzAME0Cg0w3DMAwTQKDTDcMwDBNAoNMNwzAME0Cg0w3DMAwTQKDTDcMwDBNAoNMNwzAME0Cg0w3DMAwTQKDTDcMwDBNAoNMNwzAME0Cg0w3DMAwTQKDTDcMwDBNAoNMNwzAME0Cg0w3DMAwTQKDTDcMwDBNAoNMNwzAME0Cg0w3DMAwTQKDTDcMwDBNAoNMNwzAME0Cg0w3DMAwTQKDTDcMwDBNAoNMNwzAME0Cg0w3DMAwTQKDTDcMwDBNAoNMNwzAME0Cg0w3DMAwTQKDTDcMwDBNAoNMNwzAME0Cg0w3DMAwTQKDTDcMwDBNAoNMNwzAME0Cg0w3DMAwTQKDTDcMwDBNAoNMNwzAME0Cg0w3DMAwTQKDTDcMwDBNAoNMNwzAME0Cg0w3DMAwTQKDTDcMwDBNAoNMNwzAME0Cg0w3DMAwTQKDTDcMwDBNAoNMNwzAME0Cg0w3DMAwTQKDTDcMwDBNAoNMNwzAME0Cg0w3DMAwTQKDTDcMwDBNAoNMNwzAME0Cg0w3DMAwTQKDTDcMwDBNAoNMNwzAME0Cg0w3DMAwTQKDTDcMwDBNAoNMNwzAME0Cg0w3DMAwTQKDTDcMwDBNAoNMNwzAME0Cg0w3DMAwTQKDTDcMwDBNAoNMNwzAME0Cg0w3DMAwTQKDTDcMwDBNAoNMNwzAME0Cg0w3DMAwTQKDTDcMwDBNAoNMNwzAME0Cg0w3DMAwTQKDTDcMwDBNAoNMNwzAME0Cg0w3DMAwTQKDTDcMwDBNAoNMNwzAME0Cg0w3DMAwTQKDTDcMwDBNAoNMNwzAME0Cg0w3DMAwTQKDTDcMwDBNAoNMNwzAME0Cg0w3DMAwTQKDTDcMwDBNAoNMNwzAME0Cg0w3DMAwTQKDTDcMwDBNAoNMNwzAME0Cg0w3DMAwTQKDTDcMwDBNAoNMNwzAME0Cg0w3DMAwTQKDTDcMwDBNAoNMNwzAME0Cg0w3DMAwTQKDTDcMwDBNAoNMNwzAME0Cg0w3DMAwTQKDTDcMwDBNAoNMNwzAME0Cg0w3DMAwTQKDTDcMwDBNAoNMNwzAME0Cg0w3DMAwTQKDTDcMwDBNAoNMNwzAME0Cg0w3DMAwTQKDTDcMwDBNAoNMNwzAME0Cg0w3DMAwTQKDTDcMwDBNAoNMNwzAME0Cg0w3DMAwTQKDTDcMwDBNAoNMNwzAME0Cg0w3DMAwTQKDTDcMwDBNAoNMNwzAME0Cg0w3DMAwTQKDTDcMwDBNAoNMNwzAME0Cg0w3DMAwTQKDTDcMwDBNAoNMNwzAME0Cg0w3DMAwTQKDTDcMwDBNAoNMNwzAME0Cg0w3DMAwTQKDTDcMwDBNAoNMNwzAME0Cg0w3DMAwTQKDTDcMwDBNAoNMNwzAME0Cg0w3DMAwTQKDTDcMwDBNAoNMNwzAME0Cg0w3DMAwTQKDTDcMwDBNAoNMNwzAME0Cg0w3DMAwTQKDTDcMwDBNAoNMNwzAME0Cg0w3DMAwTQKDTDcMwDBNAoNMNwzAME0Cg0w3DMAwTQKDTDcMwDBNAoNMNwzAME0Cg0w3DMAwTQKDTDcMwDBNAoNMNwzAME0Cg0w3DMAwTQKDTDcMwDBNAoNMNwzAME0Cg0w3DMAwTQKDTDcMwDBNAoNMNwzAME0Cg0w3DMAwTQKDTDcMwDBNAoNMNwzAME0Cg0w3DMAwTQKDTDcMwDBNAoNMNwzAME0Cg0w3DMAwTQKDTDcMwDBNAoNMNwzAME0Cg0w3DMAwTQKDTDcMwDBNAoNMNwzAME0Cg0w3DMAwTQKDTDcMwDBNAoNMNwzAME0Cg0w3DMAwTQKDTDcMwDBNAoNMNwzAME0Cg0w3DMAwTQKDTDcMwDBNAoNMNwzAME0Cg0w3DMAwTQKDTDcMwDBNAoNMNwzAME0Cg0w3DMAwTQKDTDcMwDBNAoNMNwzAME0Cg0w3DMAwTQKDTDcMwDBNAoNMNwzAME0Cg0w3DMAwTQKDTDcMwDBNAoNMNwzAME0Cg0w3DMAwTQKDTDcMwDBNAoNMNwzAME0Cg0w3DMAwTQKDTDcMwDBNAoNMNwzAME0Cg0w3DMAwTQKDTDcMwDBNAoNMNwzAME0Cg0w3DMAwTQKDTDcMwDBNAoNMNwzAME0Cg0w3DMAwTQKDTDcMwDBNAoNMNwzAME0Cg0w3DMAwTQKDTDcMwDBNAoNMNwzAME0Cg0w3DMAwTQKDTDcMwDBNAoNMNwzAME0Cg0w3DMAwTQKDTDcMwDBNAoNMNwzAME0Cg0w3DMAwTQKDTDcMwDBNAoNMNwzAME0Cg0w3DMAwTQKDTDcMwDBNAoNMNwzAME0Cg0w3DMAwTQKDTDcMwDBNAoNMNwzAME0Cg0w3DMAwTQKDTDcMwDBNAoNMNwzAME0Cg0w3DMAwTQKDTDcMwDBNAoNMNwzAME0Cg0w3DMAwTQKDTDcMwDBNAoNMNwzAME0Cg0w3DMAwTQKDTDcMwDBNAoNMNwzAME0Cg0w3DMAwTQKDTDcMwDBNAoNMNwzAME0Cg0w3DMAwTQKDTDcMwDBNAoNMNwzAME0Cg0w3DMAwTQKDTDcMwDBNAoNMNwzAME0Cg0w3DMAwTQKDTDcMwDBNAoNMNwzAME0Cg0w3DMAwTQKDTDcMwDBNAoNMNwzAME0Cg0w3DMAwTQKDTDcMwDBNAoNMNwzAME0Cg0w3DMAwTQKDTDcMwDBNAoNMNwzAME0Cg0w3DMAwTQKDTDcMwDBNAoNMNwzAME0Cg0w3DMAwTQKDTDcMwDBNAoNMNwzAME0Cg0w3DMAwTQKDTDcMwDBNAoNMNwzAME0Cg0w3DMAwTQKDTDcMwDBNAoNMNwzAME0Cg0w3DMAwTQKDTDcMwDBNAoNMNwzAME0Cg0w3DMAwTQKDTDcMwDBNAoNMNwzAME0Cg0w3DMAwTQKDTDcMwDBNAoNMNwzAME0Cg0w3DMAwTQKDTDcMwDBNAoNMNwzAME0Cg0w3DMAwTQKDTDcMwDBNAoNMNwzAME0Cg0w3DMAwTQKDTDcMwDBNAoNMNwzAME0Cg0w3DMAwTQKDTDcMwDBNAoNMNwzAME0Cg0w3DMAwTQKDTDcMwDBNAoNMNwzAME0Cg0w3DMAwTQKDTDcMwDBNAoNMNwzAME0Cg0w3DMAwTQKDTDcMwDBNAoNMNwzAME0Cg0w3DMAwTQKDTDcMwDBNAoNMNwzAME0Cg0w3DMAwTQKDTDcMwDBNAoNMNwzAME0Cg0w3DMAwTQKDTDcMwDBNAoNMNwzAME0Cg0w3DMAwTQKDTDcMwDBNAoNMNwzAME0Cg0w3DMAwTQKDTDcMwDBNAoNMNwzAME0Cg0w3DMAwTQKDTDcMwDBNAoNMNwzAME0Cg0w3DMAwTQKDTDcMwDBNAoNMNwzAME0Cg0w3DMAwTQKDTDcMwDBNAoNMNwzAME0Cg0w3DMAwTQKDTDcMwDBNAoNMNwzAME0Cg0w3DMAwTQKDTDcMwDBNAoNMNwzAME0Cg0w3DMAwTQKDTDcMwDBNAoNMNwzAME0Cg0w3DMAwTQKDTDcMwDBNAoNMNwzAME0Cg0w3DMAwTQKDTDcMwDBNAoNMNwzAME0Cg0w3DMAwTQKDTDcMwDBNAoNMNwzAME0Cg0w3DMAwTQKDTDcMwDBNAoNMNwzAME0Cg0w3DMAwTQKDTDcMwDBNAoNMNwzAME0Cg0w3DMAwTQKDTDcMwDBNAoNMNwzAME0Cg0w3DMAwTQKDTDcMwDBNAoNMNwzAME0Cg0w3DMAwTQKDTDcMwDBNAoNMNwzAME0Cg0w3DMAwTQKDTDcMwDBNAoNMNwzAME0Cg0w3DMAwTQKDTDcMwDBNAoNMNwzAME0Cg0w3DMAwTQKDTDcMwDBNAoNMNwzAME0Cg0w3DMAwTQKDTDcMwDBNAoNMNwzAME0Cg0w3DMAwTQKDTDcMwDBNAoNMNwzAME0Cg0w3DMAwTQKDTDcMwDBNAoNMNwzAME0Cg0w3DMAwTQKDTDcMwDBNAoNMNwzAME0Cg0w3DMAwTQKDTDcMwDBNAoNMNwzAME0Cg0w3DMAwTQKDTDcMwDBNAoNMNwzAME0Cg0w3DMAwTQKDTDcMwDBNAoNMNwzAME0Cg0w3DMAwTQKDTDcMwDBNAoNMNwzAME0Cg0w3DMAwTQKDTDcMwDBNAoNMNwzAME0Cg0w3DMAwTQKDTDcMwDBNAoNMNwzAME0Cg0w3DMAwTQKDTDcMwDBNAoNMNwzAME0Cg0w3DMAwTQKDTDcMwDBNAoNMNwzAME0Cg0w3DMAwTQKDTDcMwDBNAoNMNwzAME0Cg0w3DMAwTQKDTDcMwDBNAoNMNwzAME0Cg0w3DMAwTQKDTDcMwDBNAoNMNwzAME0Cg0w3DMAwTQKDTDcMwDBNAoNMNwzAME0Cg0w3DMAwTQKDTDcMwDBNAoNMNwzAME0Cg0w3DMAwTQKDTDcMwDBNAoNMNwzAME0Cg0w3DMAwTQKDTDcMwDBNAoNMNwzAME0Cg0w3DMAwTQKDTDcMwDBNAoNMNwzAME0Cg0w3DMAwTQKDTDcMwDBNAoNMNwzAME0Cg0w3DMAwTQKDTDcMwDBNAoNMNwzAME0Cg0w3DMAwTQKDTDcMwDBNAoNMNwzAME0Cg0w3DMAwTQKDTDcMwDBNAoNMNwzAME0Cg0w3DMAwTQKDTDcMwDBNAoNMNwzAME0Cg0w3DMAwTQKDTDcMwDBNAoNMNwzAME0Cg0w3DMAwTQKDTDcMwDBNAoNMNwzAME0Cg0w3DMAwTQKDTDcMwDBNAoNMNwzAME0Cg0w3DMAwTQKDTDcMwDBNAoNMNwzAME0Cg0w3DMAwTQKDTDcMwDBNAoNMNwzAME0Cg0w3DMAwTQKDTDcMwDBNAoNMNwzAME0Cg0w3DMAwTQKDTDcMwDBNAoNMNwzAME0Cg0w3DMAwTQKDTDcMwDBNAoNMNwzAME0Cg0w3DMAwTQKDTDcMwDBNAoNMNwzAME0Cg0w3DMAwTQKDTDcMwDBNAoNMNwzAME0Cg0w3DMAwTQKDTDcMwDBNAoNMNwzAME0Cg0w3DMAwTQKDTDcMwDBNAoNMNwzAME0Cg0w3DMAwTQKDTDcMwDBNAoNMNwzAME0Cg0w3DMAwTQKDTDcMwDBNAoNMNwzAME0Cg0w3DMAwTQKDTDcMwDBNAoNMNwzAME0Cg0w3DMAwTQKDTDcMwDBNAoNMNwzAME0Cg0w3DMAwTQKDTDcMwDBNAoNMNwzAME0Cg0w3DMAwTQKDTDcMwDBNAoNMNwzAME0Cg0w3DMAwTQKDTDcMwDBNAoNMNwzAME0Cg0w3DMAwTQKDTDcMwDBNAoNMNwzAME0Cg0w3DMAwTQKDTDcMwDBNAoNMNwzAME0Cg0w3DMAwTQKDTDcMwDBNAoNMNwzAME0Cg0w3DMAwTQKDTDcMwDBNAoNMNwzAME0Cg0w3DMAwTQKDTDcMwDBNAoNMNwzAME0Cg0w3DMAwTQKDTDcMwDBNAoNMNwzAME0Cg0w3DMAwTQKDTDcMwDBNAoNMNwzAME0Cg0w3DMAwTQKDTDcMwDBNAoNMNwzAME0Cg0w3DMAwTQKDTDcMwDBNAoNMNwzAME0Cg0w3DMAwTQKDTDcMwDBNAoNMNwzAME0Cg0w3DMAwTQKDTDcMwDBNAoNMNwzAME0Cg0w3DMAwTQKDTDcMwDBNAoNMNwzAME0Cg0w3DMAwTQKDTDcMwDBNAoNMNwzAME0Cg0w3DMAwTQKDTDcMwDBNAoNMNwzAME0Cg0w3DMAwTQKDTDcMwDBNAoNMNwzAME0Cg0w3DMAwTQKDTDcMwDBNAoNMNwzAME0Cg0w3DMAwTQKDTDcMwDBNAoNMNwzAME0Cg0w3DMAwTQKDTDcMwDBNAoNMNwzAME0Cg0w3DMAwTQKDTDcMwDBNAoNMNwzAME0Cg0w3DMAwTQKDTDcMwDBNAoNMNwzAME0Cg0w3DMAwTQKDTDcMwDBNAoNMNwzAME0Cg0w3DMAwTQKDTDcMwDBNAoNMNwzAME0Cg0w3DMAwTQKDTDcMwDBNAoNMNwzAME0Cg0w3DMAwTQKDTDcMwDBNAoNMNwzAME0Cg0w3DMAwTQKDTDcMwDBNAoNMNwzAME0Cg0w3DMAwTQKDTDcMwDBNAoNMNwzAME0Cg0w3DMAwTQKDTDcMwDBNAoNMNwzAME0Cg0w3DMAwTQKDTDcMwDBNAoNMNwzAME0Cg0w3DMAwTQKDTDcMwDBNAoNMNwzAME0Cg0w3DMAwTQKDTDcMwDBNAoNMNwzAME0Cg0w3DMAwTQKDTDcMwDBNAoNMNwzAME0Cg0w3DMAwTQKDTDcMwDBNAoNMNwzAME0Cg0w3DMAwTQKDTDcMwDBNAoNMNwzAME0Cg0w3DMAwTQKDTDcMwDBNAoNMNwzAME0Cg0w3DMAwTQKDTDcMwDBNAoNMNwzAME0Cg0w3DMAwTQKDTDcMwDBNAoNMNwzAME0Cg0w3DMAwTQKDTDcMwDBNAoNMNwzAME0Cg0w3DMAwTQKDTDcMwDBNAoNMNwzAME0Cg0w3DMAwTQKDTDcMwDBNAoNMNwzAME0Cg0w3DMAwTQKDTDcMwDBNAoNMNwzAME0Cg0w3DMAwTQKDTDcMwDBNAoNMNwzAME0Cg0w3DMAwTQKDTDcMwDBNAoNMNwzAME0Cg0w3DMAwTQKDTDcMwDBNAoNMNwzAME0Cg0w3DMAwTQKDTDcMwDBNAoNMNwzAME0Cg0w3DMAwTQKDTDcMwDBNAoNMNwzAME0Cg0w3DMAwTQKDTDcMwDBNAoNMNwzAME0Cg0w3DMAwTQKDTDcMwDBNAoNMNwzAME0Cg0w3DMAwTQKDTDcMwDBNAoNMNwzAME0Cg0w3DMAwTQKDTDcMwDBNAoNMNwzAME0Cg0w3DMAwTQKDTDcMwDBNAoNMNwzAME0Cg0w3DMAwTQKDTDcMwDBNAoNMNwzAME0Cg0w3DMAwTQKDTDcMwDBNAoNMNwzAME0Cg0w3DMAwTQKDTDcMwDBNAoNMNwzAME0Cg0w3DMAwTQKDTDcMwDBNAoNMNwzAME0Cg0w3DMAwTQKDTDcMwDBNAoNMNwzAME0Cg0w3DMAwTQKDTDcMwDBNAoNMNwzAME0Cg0w3DMAwTQKDTDcMwDBNAoNMNwzAME0Cg0w3DMAwTQKDTDcMwDBNAoNMNwzAME0Cg0w3DMAwTQKDTDcMwDBNAoNMNwzAME0Cg0w3DMAwTQKDTDcMwDBNAoNMNwzAME0Cg0w3DMAwTQKDTDcMwDBNAoNMNwzAME0Cg0w3DMAwTQKDTDcMwDBNAoNMNwzAME0Cg0w3DMAwTQKDTDcMwDBNAoNMNwzAME0Cg0w3DMAwTQKDTDcMwDBNAoNMNwzAME0Cg0w3DMAwTQKDTDcMwDBNAoNMNwzAME0Cg0w3DMAwTQKDTDcMwDBNAoNMNwzAME0Cg0w3DMAwTQKDTDcMwDBNAoNMNwzAME0Cg0w3DMAwTQKDTDcMwDBNAoNMNwzAME0Cg0w3DMAwTQKDTDcMwDBNAoNMNwzAME0Cg0w3DMAwTQKDTDcMwDBNAoNMNwzAME0Cg0w3DMAwTQKDTDcMwDBNAoNMNwzAME0Cg0w3DMAwTQKDTDcMwDBNAoNMNwzAME0Cg0w3DMAwTQKDTDcMwDBNAoNMNwzAME0Cg0w3DMAwTQKDTDcMwDBNAoNMNwzAME0Cg0w3DMAwTQKDTDcMwDBNAoNMNwzAME0Cg0w3DMAwTQKDTDcMwDBNAoNMNwzAME0Cg0w3DMAwTQKDTDcMwDBNAoNMNwzAME0Cg0w3DMAwTQKDTDcMwDBNAoNMNwzAME0Cg0w3DMAwTQKDTDcMwDBNAoNMNwzAME0Cg0w3DMAwTQKDTDcMwDBNAoNMNwzAME0Cg0w3DMAwTQKDTDcMwDBNAoNMNwzAME0Cg0w3DMAwTQKDTDcMwDBNAoNMNwzAME0Cg0w3DMAwTQKDTDcMwDBNAoNMNwzAME0Cg0w3DMAwTQKDTDcMwDBNAoNMNwzAME0Cg0w3DMAwTQKDTDcMwDBNAoNMNwzAME0Cg0w3DMAwTQKDTDcMwDBNAoNMNwzAME0Cg0w3DMAwTQKDTDcMwDBNAoNMNwzAME0Cg0w3DMAwTQKDTDcMwDBNAoNMNwzAME0Cg0w3DMAwTQKDTDcMwDBNAoNMNwzAME0Cg0w3DMAwTQKDTDcMwDBNAoNMNwzAME0Cg0w3DMAwTQKDTDcMwDBNAoNMNwzAME0Cg0w3DMAwTQKDTDcMwDBNAoNMNwzAME0Cg0w3DMAwTQKDTDcMwDBNAoNMNwzAME0Cg0w3DMAwTQKDTDcMwDBNAoNMNwzAME0Cg0w3DMAwTQKDTDcMwDBNAoNMNwzAME0Cg0w3DMAwTQKDTDcMwDBNAoNMNwzAME0Cg0w3DMAwTQKDTDcMwDBNAoNMNwzAME0Cg0w3DMAwTQKDTDcMwDBNAoNMNwzAME0Cg0w3DMAwTQKDTDcMwDBNAoNMNwzAME0Cg0w3DMAwTQKDTDcMwDBNAoNMNwzAME0Cg0w3DMAwTQKDTDcMwDBNAoNMNwzAME0Cg0w3DMAwTQKDTDcMwDBNAoNMNwzAME0Cg0w3DMAwTQKDTDcMwDBNAoNMNwzAME0Cg0w3DMAwTQKDTDcMwDBNAoNMNwzAME0A=",
          "dtype": "f8"
         },
         "y0": " ",
         "yaxis": "y"
        }
       ],
       "layout": {
        "boxmode": "group",
        "height": 700,
        "legend": {
         "tracegroupgap": 0
        },
        "template": {
         "data": {
          "bar": [
           {
            "error_x": {
             "color": "#2a3f5f"
            },
            "error_y": {
             "color": "#2a3f5f"
            },
            "marker": {
             "line": {
              "color": "#E5ECF6",
              "width": 0.5
             },
             "pattern": {
              "fillmode": "overlay",
              "size": 10,
              "solidity": 0.2
             }
            },
            "type": "bar"
           }
          ],
          "barpolar": [
           {
            "marker": {
             "line": {
              "color": "#E5ECF6",
              "width": 0.5
             },
             "pattern": {
              "fillmode": "overlay",
              "size": 10,
              "solidity": 0.2
             }
            },
            "type": "barpolar"
           }
          ],
          "carpet": [
           {
            "aaxis": {
             "endlinecolor": "#2a3f5f",
             "gridcolor": "white",
             "linecolor": "white",
             "minorgridcolor": "white",
             "startlinecolor": "#2a3f5f"
            },
            "baxis": {
             "endlinecolor": "#2a3f5f",
             "gridcolor": "white",
             "linecolor": "white",
             "minorgridcolor": "white",
             "startlinecolor": "#2a3f5f"
            },
            "type": "carpet"
           }
          ],
          "choropleth": [
           {
            "colorbar": {
             "outlinewidth": 0,
             "ticks": ""
            },
            "type": "choropleth"
           }
          ],
          "contour": [
           {
            "colorbar": {
             "outlinewidth": 0,
             "ticks": ""
            },
            "colorscale": [
             [
              0,
              "#0d0887"
             ],
             [
              0.1111111111111111,
              "#46039f"
             ],
             [
              0.2222222222222222,
              "#7201a8"
             ],
             [
              0.3333333333333333,
              "#9c179e"
             ],
             [
              0.4444444444444444,
              "#bd3786"
             ],
             [
              0.5555555555555556,
              "#d8576b"
             ],
             [
              0.6666666666666666,
              "#ed7953"
             ],
             [
              0.7777777777777778,
              "#fb9f3a"
             ],
             [
              0.8888888888888888,
              "#fdca26"
             ],
             [
              1,
              "#f0f921"
             ]
            ],
            "type": "contour"
           }
          ],
          "contourcarpet": [
           {
            "colorbar": {
             "outlinewidth": 0,
             "ticks": ""
            },
            "type": "contourcarpet"
           }
          ],
          "heatmap": [
           {
            "colorbar": {
             "outlinewidth": 0,
             "ticks": ""
            },
            "colorscale": [
             [
              0,
              "#0d0887"
             ],
             [
              0.1111111111111111,
              "#46039f"
             ],
             [
              0.2222222222222222,
              "#7201a8"
             ],
             [
              0.3333333333333333,
              "#9c179e"
             ],
             [
              0.4444444444444444,
              "#bd3786"
             ],
             [
              0.5555555555555556,
              "#d8576b"
             ],
             [
              0.6666666666666666,
              "#ed7953"
             ],
             [
              0.7777777777777778,
              "#fb9f3a"
             ],
             [
              0.8888888888888888,
              "#fdca26"
             ],
             [
              1,
              "#f0f921"
             ]
            ],
            "type": "heatmap"
           }
          ],
          "histogram": [
           {
            "marker": {
             "pattern": {
              "fillmode": "overlay",
              "size": 10,
              "solidity": 0.2
             }
            },
            "type": "histogram"
           }
          ],
          "histogram2d": [
           {
            "colorbar": {
             "outlinewidth": 0,
             "ticks": ""
            },
            "colorscale": [
             [
              0,
              "#0d0887"
             ],
             [
              0.1111111111111111,
              "#46039f"
             ],
             [
              0.2222222222222222,
              "#7201a8"
             ],
             [
              0.3333333333333333,
              "#9c179e"
             ],
             [
              0.4444444444444444,
              "#bd3786"
             ],
             [
              0.5555555555555556,
              "#d8576b"
             ],
             [
              0.6666666666666666,
              "#ed7953"
             ],
             [
              0.7777777777777778,
              "#fb9f3a"
             ],
             [
              0.8888888888888888,
              "#fdca26"
             ],
             [
              1,
              "#f0f921"
             ]
            ],
            "type": "histogram2d"
           }
          ],
          "histogram2dcontour": [
           {
            "colorbar": {
             "outlinewidth": 0,
             "ticks": ""
            },
            "colorscale": [
             [
              0,
              "#0d0887"
             ],
             [
              0.1111111111111111,
              "#46039f"
             ],
             [
              0.2222222222222222,
              "#7201a8"
             ],
             [
              0.3333333333333333,
              "#9c179e"
             ],
             [
              0.4444444444444444,
              "#bd3786"
             ],
             [
              0.5555555555555556,
              "#d8576b"
             ],
             [
              0.6666666666666666,
              "#ed7953"
             ],
             [
              0.7777777777777778,
              "#fb9f3a"
             ],
             [
              0.8888888888888888,
              "#fdca26"
             ],
             [
              1,
              "#f0f921"
             ]
            ],
            "type": "histogram2dcontour"
           }
          ],
          "mesh3d": [
           {
            "colorbar": {
             "outlinewidth": 0,
             "ticks": ""
            },
            "type": "mesh3d"
           }
          ],
          "parcoords": [
           {
            "line": {
             "colorbar": {
              "outlinewidth": 0,
              "ticks": ""
             }
            },
            "type": "parcoords"
           }
          ],
          "pie": [
           {
            "automargin": true,
            "type": "pie"
           }
          ],
          "scatter": [
           {
            "fillpattern": {
             "fillmode": "overlay",
             "size": 10,
             "solidity": 0.2
            },
            "type": "scatter"
           }
          ],
          "scatter3d": [
           {
            "line": {
             "colorbar": {
              "outlinewidth": 0,
              "ticks": ""
             }
            },
            "marker": {
             "colorbar": {
              "outlinewidth": 0,
              "ticks": ""
             }
            },
            "type": "scatter3d"
           }
          ],
          "scattercarpet": [
           {
            "marker": {
             "colorbar": {
              "outlinewidth": 0,
              "ticks": ""
             }
            },
            "type": "scattercarpet"
           }
          ],
          "scattergeo": [
           {
            "marker": {
             "colorbar": {
              "outlinewidth": 0,
              "ticks": ""
             }
            },
            "type": "scattergeo"
           }
          ],
          "scattergl": [
           {
            "marker": {
             "colorbar": {
              "outlinewidth": 0,
              "ticks": ""
             }
            },
            "type": "scattergl"
           }
          ],
          "scattermap": [
           {
            "marker": {
             "colorbar": {
              "outlinewidth": 0,
              "ticks": ""
             }
            },
            "type": "scattermap"
           }
          ],
          "scattermapbox": [
           {
            "marker": {
             "colorbar": {
              "outlinewidth": 0,
              "ticks": ""
             }
            },
            "type": "scattermapbox"
           }
          ],
          "scatterpolar": [
           {
            "marker": {
             "colorbar": {
              "outlinewidth": 0,
              "ticks": ""
             }
            },
            "type": "scatterpolar"
           }
          ],
          "scatterpolargl": [
           {
            "marker": {
             "colorbar": {
              "outlinewidth": 0,
              "ticks": ""
             }
            },
            "type": "scatterpolargl"
           }
          ],
          "scatterternary": [
           {
            "marker": {
             "colorbar": {
              "outlinewidth": 0,
              "ticks": ""
             }
            },
            "type": "scatterternary"
           }
          ],
          "surface": [
           {
            "colorbar": {
             "outlinewidth": 0,
             "ticks": ""
            },
            "colorscale": [
             [
              0,
              "#0d0887"
             ],
             [
              0.1111111111111111,
              "#46039f"
             ],
             [
              0.2222222222222222,
              "#7201a8"
             ],
             [
              0.3333333333333333,
              "#9c179e"
             ],
             [
              0.4444444444444444,
              "#bd3786"
             ],
             [
              0.5555555555555556,
              "#d8576b"
             ],
             [
              0.6666666666666666,
              "#ed7953"
             ],
             [
              0.7777777777777778,
              "#fb9f3a"
             ],
             [
              0.8888888888888888,
              "#fdca26"
             ],
             [
              1,
              "#f0f921"
             ]
            ],
            "type": "surface"
           }
          ],
          "table": [
           {
            "cells": {
             "fill": {
              "color": "#EBF0F8"
             },
             "line": {
              "color": "white"
             }
            },
            "header": {
             "fill": {
              "color": "#C8D4E3"
             },
             "line": {
              "color": "white"
             }
            },
            "type": "table"
           }
          ]
         },
         "layout": {
          "annotationdefaults": {
           "arrowcolor": "#2a3f5f",
           "arrowhead": 0,
           "arrowwidth": 1
          },
          "autotypenumbers": "strict",
          "coloraxis": {
           "colorbar": {
            "outlinewidth": 0,
            "ticks": ""
           }
          },
          "colorscale": {
           "diverging": [
            [
             0,
             "#8e0152"
            ],
            [
             0.1,
             "#c51b7d"
            ],
            [
             0.2,
             "#de77ae"
            ],
            [
             0.3,
             "#f1b6da"
            ],
            [
             0.4,
             "#fde0ef"
            ],
            [
             0.5,
             "#f7f7f7"
            ],
            [
             0.6,
             "#e6f5d0"
            ],
            [
             0.7,
             "#b8e186"
            ],
            [
             0.8,
             "#7fbc41"
            ],
            [
             0.9,
             "#4d9221"
            ],
            [
             1,
             "#276419"
            ]
           ],
           "sequential": [
            [
             0,
             "#0d0887"
            ],
            [
             0.1111111111111111,
             "#46039f"
            ],
            [
             0.2222222222222222,
             "#7201a8"
            ],
            [
             0.3333333333333333,
             "#9c179e"
            ],
            [
             0.4444444444444444,
             "#bd3786"
            ],
            [
             0.5555555555555556,
             "#d8576b"
            ],
            [
             0.6666666666666666,
             "#ed7953"
            ],
            [
             0.7777777777777778,
             "#fb9f3a"
            ],
            [
             0.8888888888888888,
             "#fdca26"
            ],
            [
             1,
             "#f0f921"
            ]
           ],
           "sequentialminus": [
            [
             0,
             "#0d0887"
            ],
            [
             0.1111111111111111,
             "#46039f"
            ],
            [
             0.2222222222222222,
             "#7201a8"
            ],
            [
             0.3333333333333333,
             "#9c179e"
            ],
            [
             0.4444444444444444,
             "#bd3786"
            ],
            [
             0.5555555555555556,
             "#d8576b"
            ],
            [
             0.6666666666666666,
             "#ed7953"
            ],
            [
             0.7777777777777778,
             "#fb9f3a"
            ],
            [
             0.8888888888888888,
             "#fdca26"
            ],
            [
             1,
             "#f0f921"
            ]
           ]
          },
          "colorway": [
           "#636efa",
           "#EF553B",
           "#00cc96",
           "#ab63fa",
           "#FFA15A",
           "#19d3f3",
           "#FF6692",
           "#B6E880",
           "#FF97FF",
           "#FECB52"
          ],
          "font": {
           "color": "#2a3f5f"
          },
          "geo": {
           "bgcolor": "white",
           "lakecolor": "white",
           "landcolor": "#E5ECF6",
           "showlakes": true,
           "showland": true,
           "subunitcolor": "white"
          },
          "hoverlabel": {
           "align": "left"
          },
          "hovermode": "closest",
          "mapbox": {
           "style": "light"
          },
          "paper_bgcolor": "white",
          "plot_bgcolor": "#E5ECF6",
          "polar": {
           "angularaxis": {
            "gridcolor": "white",
            "linecolor": "white",
            "ticks": ""
           },
           "bgcolor": "#E5ECF6",
           "radialaxis": {
            "gridcolor": "white",
            "linecolor": "white",
            "ticks": ""
           }
          },
          "scene": {
           "xaxis": {
            "backgroundcolor": "#E5ECF6",
            "gridcolor": "white",
            "gridwidth": 2,
            "linecolor": "white",
            "showbackground": true,
            "ticks": "",
            "zerolinecolor": "white"
           },
           "yaxis": {
            "backgroundcolor": "#E5ECF6",
            "gridcolor": "white",
            "gridwidth": 2,
            "linecolor": "white",
            "showbackground": true,
            "ticks": "",
            "zerolinecolor": "white"
           },
           "zaxis": {
            "backgroundcolor": "#E5ECF6",
            "gridcolor": "white",
            "gridwidth": 2,
            "linecolor": "white",
            "showbackground": true,
            "ticks": "",
            "zerolinecolor": "white"
           }
          },
          "shapedefaults": {
           "line": {
            "color": "#2a3f5f"
           }
          },
          "ternary": {
           "aaxis": {
            "gridcolor": "white",
            "linecolor": "white",
            "ticks": ""
           },
           "baxis": {
            "gridcolor": "white",
            "linecolor": "white",
            "ticks": ""
           },
           "bgcolor": "#E5ECF6",
           "caxis": {
            "gridcolor": "white",
            "linecolor": "white",
            "ticks": ""
           }
          },
          "title": {
           "x": 0.05
          },
          "xaxis": {
           "automargin": true,
           "gridcolor": "white",
           "linecolor": "white",
           "ticks": "",
           "title": {
            "standoff": 15
           },
           "zerolinecolor": "white",
           "zerolinewidth": 2
          },
          "yaxis": {
           "automargin": true,
           "gridcolor": "white",
           "linecolor": "white",
           "ticks": "",
           "title": {
            "standoff": 15
           },
           "zerolinecolor": "white",
           "zerolinewidth": 2
          }
         }
        },
        "title": {
         "text": "gross margin percentage",
         "x": 0.5
        },
        "width": 600,
        "xaxis": {
         "anchor": "y",
         "domain": [
          0,
          1
         ]
        },
        "yaxis": {
         "anchor": "x",
         "domain": [
          0,
          1
         ],
         "title": {
          "text": "gross margin percentage"
         }
        }
       }
      }
     },
     "metadata": {},
     "output_type": "display_data"
    },
    {
     "data": {
      "application/vnd.plotly.v1+json": {
       "config": {
        "plotlyServerURL": "https://plot.ly"
       },
       "data": [
        {
         "alignmentgroup": "True",
         "hovertemplate": "gross income=%{y}<extra></extra>",
         "legendgroup": "",
         "marker": {
          "color": "#636efa"
         },
         "name": "",
         "notched": false,
         "offsetgroup": "",
         "orientation": "v",
         "showlegend": false,
         "type": "box",
         "x0": " ",
         "xaxis": "x",
         "y": {
          "bdata": "TmIQWDkkOkCPwvUoXI8OQLpJDAIrNzBAfT81XrpJN0BMN4lBYDU+QG3n+6nx4j1A9P3UeOmmNECkcD0K12NCQDVeukkMAg1AwcqhRbZzIEBeukkMAisHQJzEILByaBRAmpmZmZl5J0C4HoXrUZg1QLgehetR2EFABFYOLbIdPEDjpZvEICA4QJzEILByyDVALbKd76dmIEAfhetRuB4QQMP1KFyPgjVAvp8aL91kKkCPwvUoXI8KQEjhehSuRyFAEFg5tMiWKkDwp8ZLNwk1QDeJQWDl0Po/YhBYObSIIUDXo3A9Chc2QC2yne+nZiZAuB6F61GIN0BGtvP91JBBQKjGSzeJwUBAN4lBYOVQI0D8qfHSTeIzQHNoke18PwtAj8L1KFxPL0BMN4lBYGU7QCuHFtnO9zVAf2q8dJMYKEDy0k1iEFgRQIts5/upcRZAI9v5fmq8NEA9CtejcL1DQGQ730+Nl/g/mG4Sg8DKMkCmm8QgsII5QPyp8dJNAiJAnu+nxku3FkC4HoXrUahEQD0K16Nw/T9A7FG4HoVLJkBkO99PjZcMQOOlm8QgsOg/QmDl0CLb+T8ZBFYOLTJBQCPb+X5qvBFA7FG4HoXrQUBmZmZmZhZCQARWDi2yXSJA46WbxCCwDUDy0k1iELgwQPLSTWIQyDhAH4XrUbieH0Cyne+nxksuQD0K16NwvR9ALbKd76fGCkCcxCCwckg9QOF6FK5HsUNAhxbZzvdT7T8fhetRuF5GQI/C9ShcDz9A6SYxCKwcHUDZzvdT48U2QKJFtvP9zEBAMzMzMzPTNEDFILByaBE2QPyp8dJNAiJApHA9CteTQ0DhehSuR2EUQG8Sg8DKwT1AGy/dJAYBLUDNzMzMzMweQN9PjZduEjBAFK5H4Xp0KEAZBFYOLRI9QOF6FK5HITNAnMQgsHJIMUCwcmiR7fwAQEa28/3UGDdAwcqhRbbzIkCuR+F6FG42QBKDwMqhxR5Ag8DKoUX2PEAzMzMzM/MRQDvfT42XbhNASOF6FK73RUDhehSuR+ENQGZmZmZmph9Aj8L1KFzPOECWQ4ts53sDQBSuR+F6rEFAF9nO91PDJEDufD81XnoxQB+F61G4PiVAexSuR+EqRkAhsHJokW0gQN0kBoGVozJAokW28/2ULkCuR+F6FH5EQPyp8dJNYvo/SgwCK4d2LUBYObTIdn45QIts5/upITpAL90kBoEtQkCDwMqhRTYQQHE9Ctej8BVAJQaBlUOLBEDsUbgehesVQMdLN4lBYBVAtvP91HjpQ0DLoUW28/0zQARWDi2yfUZAqvHSTWKQOUBKDAIrh5Y2QFpkO99PZUBAAAAAAAAgIEA730+Nl44sQNEi2/l+ajtA46WbxCBQRECWQ4ts57srQN0kBoGVoztArBxaZDvfG0Bcj8L1KDw6QKRwPQrXYzhAN4lBYOUQK0CPwvUoXE8aQPT91HjppiRAFK5H4Xr0OUAAAAAAAAA9QDMzMzMzc0ZAAAAAAACgRkBmZmZmZiZBQIcW2c73U/g/w/UoXI9iN0Coxks3icErQKRwPQrXIy5A2/l+arx0KkBYObTIdr48QCuHFtnO9ylAAiuHFtlOMkD+1HjpJjEoQLTIdr6fukJALbKd76fGE0CLbOf7qTFAQMP1KFyPEjdAke18PzXeDECkcD0K1yMpQB1aZDvf30VAMQisHFoEPEASg8DKoUUxQGDl0CLbeQlAEFg5tMgGMECPwvUoXI8eQDMzMzMz8zNAukkMAisHMUCF61G4HuVHQB+F61G4vkhA+FPjpZvELkCiRbbz/VQ4QHE9CtejgDFAMzMzMzMDNECuR+F6FK4gQJZDi2znuy9ARIts5/upH0Db+X5qvHQuQCPb+X5qvCFA3SQGgZWDH0BEi2zn+yk2QArXo3A9CipABFYOLbJ9NkAtsp3vp8YuQAAAAAAAAB9AppvEILByK0Atsp3vp0YRQBkEVg4tsgVA2c73U+PlQkBKDAIrh5YiQFTjpZvEoA1ABoGVQ4vsK0DpJjEIrBwnQJzEILByaB1A4XoUrkfBQ0BxPQrXo3AUQHsUrkfhWiBAnu+nxku3DUB7FK5H4XoRQAisHFpkO/Q/mpmZmZmZIEApXI/C9dgxQHsUrkfh+hZA5dAi2/n+JkB1kxgEVn41QGZmZmZm5ilAhetRuB7FEUAnMQisHLokQK5H4XoU/j1ASOF6FK6HLEBGtvP91DgSQJzEILBycEZACKwcWmSbJ0Cyne+nxvtEQNejcD0KFzdAJzEIrBzaG0AnMQisHLokQHNoke18P+0/hetRuB7FGEAxCKwcWmQsQNNNYhBY+UJAwcqhRbYzIUD2KFyPwjUrQO58PzVeujVAH4XrUbieB0Cq8dJNYhDkP83MzMzMTBFAO99PjZduIUCBlUOLbDc/QNnO91PjpR1A9ihcj8I1O0CR7Xw/NV45QKAaL90kRiBA0SLb+X5q+T/dJAaBletCQLpJDAIrhy1AuB6F61H4OUBU46WbxKAiQClcj8L1aBFAXI/C9SgcJkBxPQrXo3AKQOOlm8Qg8BFAGQRWDi1yJkCcxCCwcugXQKRwPQrXoyJAj8L1KFwPKUCgGi/dJMZCQPCnxks3CTNA7FG4HoVrKEBxPQrXo/ARQEoMAiuHFi9AGQRWDi2SOUDD9Shcj/I0QLgehetRmDFAoBov3SQG9z8AAAAAAAATQI/C9ShcjzdAf2q8dJMYGkAK16NwPYoKQGQ730+NFx9AzczMzMzMGUDHSzeJQWAqQPp+arx040BAUrgehetRCkCkcD0K16MeQD0K16NwPSZASOF6FK7HBUC4HoXrUThBQMdLN4lBYBxAZmZmZmamQkCyne+nxkssQIXrUbgexTFA7FG4HoXbMEBMN4lBYOUAQIlBYOXQYiNAc2iR7Xw/8z99PzVeuuk9QCcxCKwcyjBAUrgehevRJUAv3SQGgRUzQI/C9Shcv0FAw/UoXI8CNkCWQ4ts5/s7QJqZmZmZmf0/JQaBlUOL6D9t5/up8fI9QMUgsHJoESNA7FG4HoWrMECLbOf7qfENQAAAAAAAYCVA0SLb+X76MEC0yHa+n5pAQGZmZmZmJjRAH4XrUbh+I0DLoUW28/0IQEoMAiuHFg1AXI/C9SgcIkD2KFyPwvUpQN9PjZduEhdA3SQGgZWDN0AbL90kBgEoQEa28/3UuBFAEFg5tMj2I0Boke18PzX/P4ts5/upcQNAYOXQItt5JEBWDi2yne8XQIXrUbgeRTlA8KfGSzcpLEA1XrpJDMJBQC2yne+nxg9AbxKDwMphIEC0yHa+n/o3QAisHFpkuxtA9ihcj8J1DEA9CtejcP0bQLgehetRiENAObTIdr7fI0Cyne+nxksJQMP1KFyPsjJAvp8aL93EJEBU46WbxKAhQFCNl24SoyRA8KfGSzeJ/z8dWmQ7308SQMP1KFyP4i5Abef7qfHSGUA/NV66SYwzQFK4HoXr8ThAJzEIrBzaMkDByqFFtnMkQEoMAiuHFh1AxSCwcmjRI0A9CtejcL0TQOF6FK5HQTNAYhBYObTIAkBmZmZmZmYNQDMzMzMzcxxAcT0K16MwQUDD9Shcj2IxQNejcD0KlxxAvp8aL91EM0C0yHa+n9ocQPT91HjpljNACtejcD3qOkBSuB6F60E4QArXo3A9yhpAVOOlm8SIQUBI4XoUrscMQJqZmZmZ2UFAEFg5tMg2IkAAAAAAAAAbQDMzMzMz00hAgZVDi2wXMkArhxbZziczQM3MzMzMTChA/tR46SYx+D+HFtnO99MxQGZmZmZmxjJAXI/C9SjcR0AAAAAAAIAQQLByaJHt/A1A/tR46SYxQEC+nxov3eRCQGiR7Xw/9SNAnu+nxkv3NUDl0CLb+X4gQLx0kxgEVjBA8tJNYhAYN0DHSzeJQWAqQLgehetRuBxAmpmZmZlZI0BvEoPAymEiQPyp8dJNYhhAnMQgsHIINUBzaJHtfD8pQPYoXI/CxTBAzczMzMwsOEBkO99PjdcvQMuhRbbztUBATDeJQWBlM0DsUbgehesSQJ7vp8ZLdzBAfT81XrpJBUBcj8L1KOw4QNv5fmq89C1AuB6F61F4JECHFtnO91MOQB1aZDvfDyxAKVyPwvUoMEC+nxov3VQ4QDVeukkMghlAvp8aL90kKECamZmZmfkyQO58PzVeug5A4XoUrkchOkBMN4lBYOUPQAAAAAAAYDNAw/UoXI8iK0CDwMqhRXYYQIlBYOXQoihAN4lBYOVQIUCcxCCwcqgnQLByaJHtfCJAke18PzVe5j8AAAAAAOAjQKJFtvP9HEFAgZVDi2znKkAUrkfhepQLQJZDi2zneytA6SYxCKycJkBSuB6F69EXQHsUrkfhGjFA5dAi2/l+AUC4HoXrUfgUQDVeukkMAg9ArBxaZDtfNEBGtvP91DgTQPT91HjpJiJAWmQ7309NEEAX2c73U+MWQIGVQ4tspyFAKVyPwvUoF0DXo3A9CjcpQD0K16NwTUhAvHSTGARWJEA/NV66SQzqP4PAyqFFRjJAeekmMQicMkAlBoGVQwsJQOF6FK5H0TBAmpmZmZmpRkBvEoPAyqEbQAIrhxbZThFA9P3UeOkmHEDVeOkmMbhAQGDl0CLb+QJATmIQWDlURkC8dJMYBJYwQL6fGi/dZCRA3SQGgZVDC0Dy0k1iEFgwQHE9CtejcBFAVg4tsp2vQUDRItv5fhJEQKabxCCwcuQ/PQrXo3C9GkCkcD0K16PuPylcj8L1qCtAi2zn+6lxG0AOLbKd76f1P7Kd76fGS/8/fT81XrppNkC28/3UeGkaQK5H4XoUzi9AAAAAAAAA9D8EVg4tsp0QQI/C9Shcjx1ACtejcD1qQUApXI/C9dhDQClcj8L1SDdAg8DKoUW2/D/D9Shcj0IkQDMzMzMzQ0JAFK5H4XqULUB/arx0kxjyP+xRuB6FqylAZmZmZmZGO0DhehSuRwEqQIPAyqFFNiZA3SQGgZVD8T/4U+Olm8QTQKjGSzeJITlAhetRuB4FIEBxPQrXo5A1QLpJDAIrBz1AXI/C9SgcMEDn+6nx0o0jQOF6FK5HoSBAqvHSTWLQMECPwvUoXC8xQOF6FK5H4f4/F9nO91NjOkBmZmZmZmYwQFK4HoXrkSJAcT0K16MwPkA9CtejcH0yQLKd76fGyyNA7FG4HoWLNEC4HoXrUbgdQJHtfD81XvI/7nw/NV56QUDD9Shcj8ILQClcj8L1qCNAqMZLN4lBJEA9CtejcD0YQO58PzVe+iNAke18PzVePkB9PzVeukkZQN9PjZduEjtAx0s3iUGgE0DP91PjpZs0QEoMAiuHlg1AhetRuB6F+T/D9Shcj8IbQLbz/dR4qSJAcT0K16OwEUDy0k1iEFgjQJqZmZmZGR1A16NwPQo3OUCF61G4HqUuQKRwPQrXIxNA/Knx0k3CP0AUrkfhenQlQHNoke18/zJApHA9CtdrQUA5tMh2vm80QEoMAiuHlgRArkfhehRuK0BSuB6F67EjQGIQWDm0yAtAexSuR+H6MUCTGARWDm0bQPp+arx08zhAEFg5tMh2JkDZzvdT4yUZQBfZzvdTgzhACtejcD3aNkCR7Xw/NV4fQIts5/up8RdArkfhehQuO0BEi2zn+xFGQGq8dJMYhB5AvHSTGARWQUAzMzMzM/MmQM/3U+OlWx1AUrgehetRHEBKDAIrh1YXQC/dJAaBlQ1ASgwCK4eWE0C4HoXrUTgtQFg5tMh2PjpAnMQgsHJoEkAnMQisHFoOQL6fGi/dJBBAoBov3SSGFkB7FK5H4XoMQD81XrpJDB9A7FG4HoVrLUA9CtejcG07QIXrUbgexSlAxSCwcmjRM0B1kxgEVi4hQI2XbhKDcDhAaJHtfD81OkD0/dR46aYaQD81XrpJDBtAsHJoke18FkA3iUFg5dAcQOF6FK5HoUhA5dAi2/n+KEBg5dAi27klQHnpJjEIbCNAzczMzMxMRkArhxbZzvcwQO58PzVeWjZAmpmZmZnZI0A9CtejcE1EQArXo3A9qjhAaJHtfD+VPUD6fmq8dPM7QPhT46Wb5DlAw/UoXI+CNEDsUbgehasqQHe+nxovXQxA2/l+arz0HEAK16NwPXo1QEw3iUFgdTxAH4XrUbgeKEDRItv5fmoZQGiR7Xw/tSlA5/up8dLNG0CiRbbz/VQQQN9PjZduEi9Af2q8dJOYIkAhsHJoke0MQF66SQwC6yJAyXa+nxqvJECBlUOLbGcfQEjhehSuhyVArkfhehTOPUA9CtejcD0NQF66SQwC6ytAK4cW2c73IEAIrBxaZDsCQI/C9ShcjyZACtejcD0KLUBiEFg5tMgBQFK4HoXrUR9ArBxaZDv/NEDNzMzMzGwiQFTjpZvEIBxABFYOLbKdEEDl0CLb+f4JQKRwPQrXY0NA7nw/NV5aMEDTTWIQWCkyQGZmZmZmZhlA16NwPQrHMkDRItv5fuojQLByaJHtfPg/Di2yne8nF0BeukkMAiv3P+kmMQisREZAnu+nxkv3K0BWDi2ynS8QQM3MzMzM3EBABoGVQ4tsMUBI4XoUrsc1QArXo3A9+jVAyXa+nxqPPUD6fmq8dBMqQBsv3SQGgSVA30+Nl25SEkASg8DKoY1AQAAAAAAA0ERAhetRuB5FEkBaZDvfT40fQAwCK4cWWRhAhetRuB6lREB7FK5H4fofQPLSTWIQWOM/XI/C9SgMQECR7Xw/NX4nQBsv3SQGwSBAKVyPwvXoLUAMAiuHFvknQK5H4XoUnkBApHA9CtdDJEB7FK5H4XoCQOF6FK5HoRFAwcqhRbZzH0BQjZduEqMtQPYoXI/CtUFA+FPjpZtEFkA1XrpJDAI9QJqZmZmZGQhABoGVQ4tsIUDjpZvEIBA1QIGVQ4ts5/o/YhBYObTI+D89CtejcL0oQArXo3A96jJAke18PzW+MEBSuB6F6zFCQCUGgZVDyzBA30+Nl24SKECHFtnO99MCQOOlm8Qg8BNAUrgehetxKkCuR+F6FO4bQK5H4XoULgZA1XjpJjHIGUDl0CLb+f4XQAAAAAAAoDFAZmZmZmbGRUDD9Shcj8IjQMHKoUW2cyNA30+Nl25SIUCNl24Sg8AMQMdLN4lBoCxAc2iR7Xw/EECF61G4HgU8QK5H4XoUriJA2c73U+MFJkC28/3UeOkqQD0K16NwvTZAGy/dJAbBIEAhsHJokW02QBfZzvdTYy1AmpmZmZl5PUCamZmZmRktQC/dJAaBlf8/DAIrhxbZ+z9kO99PjZctQMl2vp8aLwFAGQRWDi2yG0CkcD0K16MTQDvfT42X7hlASOF6FK7HP0D0/dR46SYdQOF6FK5HISRA2c73U+OVP0DdJAaBlUMzQHE9CtejUDhAAiuHFtmuOUDsUbgehas3QEjhehSu1zVAbxKDwMqhFUDHSzeJQeAoQFYOLbKdTz9AAAAAAABgSEBEi2zn+yk4QDEIrBxaZBNAhetRuB7FI0BQjZduEhtCQCUGgZVD40NAO99PjZceOUAzMzMzMzMhQGQ730+NlwtAy6FFtvP9GEDXo3A9CtcOQFYOLbKdLzhAg8DKoUU2LkBzaJHtfHdBQK5H4XoU7hhAPQrXo3C9Q0DXo3A9CtchQIlBYOXQAjlADi2yne+n/D/ufD81XjobQGDl0CLb+RRAMQisHFrkIUA/NV66SWREQEa28/3UeBpAd76fGi+9KUB56SYxCKwSQM3MzMzMzCZAsp3vp8arIECPwvUoXG9BQMHKoUW2czNAF9nO91NDMkBCYOXQItsRQM3MzMzMzCBAhetRuB6F7z8CK4cW2Y46QLByaJHtfAVAzczMzMx8REDsUbgehWs8QOF6FK5HYT1AHVpkO99PQkBqvHSTGCRFQC2yne+ndjNAnu+nxkv3EED0/dR46aYcQPT91HjpJg5AvHSTGARWKUAj2/l+arz+Px+F61G4TkBAj8L1KFwPBUCsHFpkOx8WQJHtfD81bjxAQmDl0CLbEUBI4XoUrkcbQOxRuB6FayFAUrgehetRMkC8dJMYBHYpQGiR7Xw/dUNAZDvfT42XLEDb+X5qvPQ8QJqZmZmZ2SJADi2yne8nJkDNzMzMzExDQLgehetRCEJAWmQ730+NOUDhehSuR2EFQDMzMzMzMyZAZDvfT40XQ0DFILByaNEmQCGwcmiRbRBAVOOlm8QgM0A730+Nl24LQM/3U+OlGzNAy6FFtvMNPkCWQ4ts58s3QCuHFtnO9wRAw/UoXI9CGkBcj8L1KNwcQLKd76fG2zZAkxgEVg6tEkAAAAAAAEAZQFpkO99PxUNAcT0K16NwIUDByqFFtvMyQOXQItv5fvg/tMh2vp+aMUBSuB6F61EEQO58PzVeGjpAqMZLN4nBPEB7FK5H4foFQGq8dJMYJCJAdZMYBFaeNECq8dJNYpACQOxRuB6FaytASOF6FK5XSEAUrkfhejRAQL6fGi/dpBJAWDm0yHa+BUAMAiuHFlkIQD0K16NwfShAdZMYBFaOEkBcj8L1KKw1QOkmMQisnBtAKVyPwvUoKECgGi/dJJY3QNV46SYxCDZARIts5/sBQUCwcmiR7fwuQIlBYOXQoiJAZDvfT40XJEBmZmZmZmbsP9ejcD0KFz9AMzMzMzMzEUDhehSuRyE0QK5H4XoUPjBASOF6FK4HE0Cmm8QgsHIzQGIQWDm0SDVAAiuHFtnOL0C0yHa+nxorQAisHFpkOzNAFK5H4XqUJ0AOLbKd7yclQN9PjZduEhNAEoPAyqFF4D+wcmiR7ZwkQLpJDAIrBzVAz/dT46WbEUCoxks3iTlAQPhT46WbxBhAzczMzMw8QECuR+F6FI5CQEw3iUFg5RBAukkMAisHKUD2KFyPwvUSQMP1KFyPQhJAiUFg5dCCLEDByqFFtvMEQIXrUbgeRSNAukkMAivHKkCPwvUoXO87QNV46SYxiCFARIts5/spH0AfhetRuB4IQPp+arx0kw9AmG4Sg8DK9z91kxgEVg7xP/yp8dJNIixA5/up8dJNDUCBlUOLbOfxP9nO91PjZUBAexSuR+G6PUCkcD0K16MNQBkEVg4tsiNA5/up8dKdMkCF61G4HmU6QM3MzMzM/DdAy6FFtvNtMEBMN4lBYOUgQNnO91PjpRZA9P3UeOlGMUDl0CLb+W41QBsv3SQGQRFA0SLb+X5q9D/n+6nx0k0UQB1aZDvf3zFAjZduEoPgJ0Dwp8ZLN0kUQEJg5dAiG0JAVOOlm8QgGUB56SYxCCwNQLx0kxgE1ilAObTIdr5fIUCamZmZmZkGQK5H4XoUbiVAK4cW2c63OkBvEoPAyqESQLTIdr6fGjpAcT0K16PwBEDNzMzMzMz/Pxsv3SQGAUJAXI/C9ShcE0B7FK5H4ZowQH0/NV66SRBAPQrXo3D9L0D0/dR46aYkQF66SQwCqyBADi2yne/nL0AUrkfhepQRQK5H4XoUXkJAGy/dJAaBE0B7FK5H4TpDQArXo3A96jRARIts5/spN0CPwvUoXB83QOF6FK5HYRxAhetRuB5FLkCiRbbz/dRDQPyp8dJNQjVA6SYxCKxcLED2KFyPwvU9QPCnxks3iS9AIbByaJEtNEAX2c73U2MiQHsUrkfhuhtAMQisHFokEECHFtnO91MXQCcxCKwcWi9A16NwPQonRUC4HoXrUbg0QDeJQWDl0B9A4XoUrkeBOEA9CtejcH0RQMHKoUW2cyZAObTIdr6fQkDwp8ZLN4k0QOF6FK5H4S1AJQaBlUNLJUCkcD0K1yMBQMl2vp8a7zJAN4lBYOWwJEBQjZduEoMPQF66SQwCGzBAvp8aL92kE0CR7Xw/NV70P9NNYhBYGT1AbxKDwMohJUA/NV66SQwGQLbz/dR4qRFATmIQWDnUMUAzMzMzM9tDQHNoke18PwRAYOXQItv5PUDsUbgehasgQFyPwvUonEJAIbByaJFtNkBSuB6F6/EyQJ7vp8ZLtylABoGVQ4ucO0AfhetRuF42QI2XbhKDoCtAHVpkO98vMUDP91PjpZsqQBKDwMqhdUZA16NwPQrXNkCF61G4HmUpQNNNYhBYOQxA5/up8dJtQECamZmZmdkgQFCNl24SgwVASOF6FK7nIUC+nxov3SQlQBkEVg4t8hdASOF6FK5HCkCkcD0K1yMpQKJFtvP91BBA2c73U+PFM0AGgZVDi8wtQJzEILByuDZA6SYxCKycK0CamZmZmZkfQIlBYOXQMkZATDeJQWBlEkCDwMqhRbYAQM3MzMzMzOg/sp3vp8YLLUBEi2zn+6kKQARWDi2ynQ5AuB6F61H4LUAhsHJokU0oQPYoXI/C9QJAH4XrUbg+IUC4HoXrUShFQIPAyqFF1ilA7nw/NV56PkCgGi/dJAYoQGDl0CLbOSFAK4cW2c73E0B3vp8aL90tQOxRuB6F6x9AXI/C9Shc9D/P91PjpRsLQLx0kxgE1idAw/UoXI9CJ0ACK4cW2e5FQJHtfD81fkFATDeJQWDdQEB7FK5H4dovQARWDi2ynfc/zczMzMzMOED2KFyPwpVEQNnO91PjJT5ASOF6FK5HLEBmZmZmZiZDQIPAyqFFNhdAPQrXo3B9IUDhehSuR2EIQKRwPQrXIwBAuB6F61FYSEBGtvP91Hj5P4cW2c73UwpAJQaBlUPrPkA=",
          "dtype": "f8"
         },
         "y0": " ",
         "yaxis": "y"
        }
       ],
       "layout": {
        "boxmode": "group",
        "height": 700,
        "legend": {
         "tracegroupgap": 0
        },
        "template": {
         "data": {
          "bar": [
           {
            "error_x": {
             "color": "#2a3f5f"
            },
            "error_y": {
             "color": "#2a3f5f"
            },
            "marker": {
             "line": {
              "color": "#E5ECF6",
              "width": 0.5
             },
             "pattern": {
              "fillmode": "overlay",
              "size": 10,
              "solidity": 0.2
             }
            },
            "type": "bar"
           }
          ],
          "barpolar": [
           {
            "marker": {
             "line": {
              "color": "#E5ECF6",
              "width": 0.5
             },
             "pattern": {
              "fillmode": "overlay",
              "size": 10,
              "solidity": 0.2
             }
            },
            "type": "barpolar"
           }
          ],
          "carpet": [
           {
            "aaxis": {
             "endlinecolor": "#2a3f5f",
             "gridcolor": "white",
             "linecolor": "white",
             "minorgridcolor": "white",
             "startlinecolor": "#2a3f5f"
            },
            "baxis": {
             "endlinecolor": "#2a3f5f",
             "gridcolor": "white",
             "linecolor": "white",
             "minorgridcolor": "white",
             "startlinecolor": "#2a3f5f"
            },
            "type": "carpet"
           }
          ],
          "choropleth": [
           {
            "colorbar": {
             "outlinewidth": 0,
             "ticks": ""
            },
            "type": "choropleth"
           }
          ],
          "contour": [
           {
            "colorbar": {
             "outlinewidth": 0,
             "ticks": ""
            },
            "colorscale": [
             [
              0,
              "#0d0887"
             ],
             [
              0.1111111111111111,
              "#46039f"
             ],
             [
              0.2222222222222222,
              "#7201a8"
             ],
             [
              0.3333333333333333,
              "#9c179e"
             ],
             [
              0.4444444444444444,
              "#bd3786"
             ],
             [
              0.5555555555555556,
              "#d8576b"
             ],
             [
              0.6666666666666666,
              "#ed7953"
             ],
             [
              0.7777777777777778,
              "#fb9f3a"
             ],
             [
              0.8888888888888888,
              "#fdca26"
             ],
             [
              1,
              "#f0f921"
             ]
            ],
            "type": "contour"
           }
          ],
          "contourcarpet": [
           {
            "colorbar": {
             "outlinewidth": 0,
             "ticks": ""
            },
            "type": "contourcarpet"
           }
          ],
          "heatmap": [
           {
            "colorbar": {
             "outlinewidth": 0,
             "ticks": ""
            },
            "colorscale": [
             [
              0,
              "#0d0887"
             ],
             [
              0.1111111111111111,
              "#46039f"
             ],
             [
              0.2222222222222222,
              "#7201a8"
             ],
             [
              0.3333333333333333,
              "#9c179e"
             ],
             [
              0.4444444444444444,
              "#bd3786"
             ],
             [
              0.5555555555555556,
              "#d8576b"
             ],
             [
              0.6666666666666666,
              "#ed7953"
             ],
             [
              0.7777777777777778,
              "#fb9f3a"
             ],
             [
              0.8888888888888888,
              "#fdca26"
             ],
             [
              1,
              "#f0f921"
             ]
            ],
            "type": "heatmap"
           }
          ],
          "histogram": [
           {
            "marker": {
             "pattern": {
              "fillmode": "overlay",
              "size": 10,
              "solidity": 0.2
             }
            },
            "type": "histogram"
           }
          ],
          "histogram2d": [
           {
            "colorbar": {
             "outlinewidth": 0,
             "ticks": ""
            },
            "colorscale": [
             [
              0,
              "#0d0887"
             ],
             [
              0.1111111111111111,
              "#46039f"
             ],
             [
              0.2222222222222222,
              "#7201a8"
             ],
             [
              0.3333333333333333,
              "#9c179e"
             ],
             [
              0.4444444444444444,
              "#bd3786"
             ],
             [
              0.5555555555555556,
              "#d8576b"
             ],
             [
              0.6666666666666666,
              "#ed7953"
             ],
             [
              0.7777777777777778,
              "#fb9f3a"
             ],
             [
              0.8888888888888888,
              "#fdca26"
             ],
             [
              1,
              "#f0f921"
             ]
            ],
            "type": "histogram2d"
           }
          ],
          "histogram2dcontour": [
           {
            "colorbar": {
             "outlinewidth": 0,
             "ticks": ""
            },
            "colorscale": [
             [
              0,
              "#0d0887"
             ],
             [
              0.1111111111111111,
              "#46039f"
             ],
             [
              0.2222222222222222,
              "#7201a8"
             ],
             [
              0.3333333333333333,
              "#9c179e"
             ],
             [
              0.4444444444444444,
              "#bd3786"
             ],
             [
              0.5555555555555556,
              "#d8576b"
             ],
             [
              0.6666666666666666,
              "#ed7953"
             ],
             [
              0.7777777777777778,
              "#fb9f3a"
             ],
             [
              0.8888888888888888,
              "#fdca26"
             ],
             [
              1,
              "#f0f921"
             ]
            ],
            "type": "histogram2dcontour"
           }
          ],
          "mesh3d": [
           {
            "colorbar": {
             "outlinewidth": 0,
             "ticks": ""
            },
            "type": "mesh3d"
           }
          ],
          "parcoords": [
           {
            "line": {
             "colorbar": {
              "outlinewidth": 0,
              "ticks": ""
             }
            },
            "type": "parcoords"
           }
          ],
          "pie": [
           {
            "automargin": true,
            "type": "pie"
           }
          ],
          "scatter": [
           {
            "fillpattern": {
             "fillmode": "overlay",
             "size": 10,
             "solidity": 0.2
            },
            "type": "scatter"
           }
          ],
          "scatter3d": [
           {
            "line": {
             "colorbar": {
              "outlinewidth": 0,
              "ticks": ""
             }
            },
            "marker": {
             "colorbar": {
              "outlinewidth": 0,
              "ticks": ""
             }
            },
            "type": "scatter3d"
           }
          ],
          "scattercarpet": [
           {
            "marker": {
             "colorbar": {
              "outlinewidth": 0,
              "ticks": ""
             }
            },
            "type": "scattercarpet"
           }
          ],
          "scattergeo": [
           {
            "marker": {
             "colorbar": {
              "outlinewidth": 0,
              "ticks": ""
             }
            },
            "type": "scattergeo"
           }
          ],
          "scattergl": [
           {
            "marker": {
             "colorbar": {
              "outlinewidth": 0,
              "ticks": ""
             }
            },
            "type": "scattergl"
           }
          ],
          "scattermap": [
           {
            "marker": {
             "colorbar": {
              "outlinewidth": 0,
              "ticks": ""
             }
            },
            "type": "scattermap"
           }
          ],
          "scattermapbox": [
           {
            "marker": {
             "colorbar": {
              "outlinewidth": 0,
              "ticks": ""
             }
            },
            "type": "scattermapbox"
           }
          ],
          "scatterpolar": [
           {
            "marker": {
             "colorbar": {
              "outlinewidth": 0,
              "ticks": ""
             }
            },
            "type": "scatterpolar"
           }
          ],
          "scatterpolargl": [
           {
            "marker": {
             "colorbar": {
              "outlinewidth": 0,
              "ticks": ""
             }
            },
            "type": "scatterpolargl"
           }
          ],
          "scatterternary": [
           {
            "marker": {
             "colorbar": {
              "outlinewidth": 0,
              "ticks": ""
             }
            },
            "type": "scatterternary"
           }
          ],
          "surface": [
           {
            "colorbar": {
             "outlinewidth": 0,
             "ticks": ""
            },
            "colorscale": [
             [
              0,
              "#0d0887"
             ],
             [
              0.1111111111111111,
              "#46039f"
             ],
             [
              0.2222222222222222,
              "#7201a8"
             ],
             [
              0.3333333333333333,
              "#9c179e"
             ],
             [
              0.4444444444444444,
              "#bd3786"
             ],
             [
              0.5555555555555556,
              "#d8576b"
             ],
             [
              0.6666666666666666,
              "#ed7953"
             ],
             [
              0.7777777777777778,
              "#fb9f3a"
             ],
             [
              0.8888888888888888,
              "#fdca26"
             ],
             [
              1,
              "#f0f921"
             ]
            ],
            "type": "surface"
           }
          ],
          "table": [
           {
            "cells": {
             "fill": {
              "color": "#EBF0F8"
             },
             "line": {
              "color": "white"
             }
            },
            "header": {
             "fill": {
              "color": "#C8D4E3"
             },
             "line": {
              "color": "white"
             }
            },
            "type": "table"
           }
          ]
         },
         "layout": {
          "annotationdefaults": {
           "arrowcolor": "#2a3f5f",
           "arrowhead": 0,
           "arrowwidth": 1
          },
          "autotypenumbers": "strict",
          "coloraxis": {
           "colorbar": {
            "outlinewidth": 0,
            "ticks": ""
           }
          },
          "colorscale": {
           "diverging": [
            [
             0,
             "#8e0152"
            ],
            [
             0.1,
             "#c51b7d"
            ],
            [
             0.2,
             "#de77ae"
            ],
            [
             0.3,
             "#f1b6da"
            ],
            [
             0.4,
             "#fde0ef"
            ],
            [
             0.5,
             "#f7f7f7"
            ],
            [
             0.6,
             "#e6f5d0"
            ],
            [
             0.7,
             "#b8e186"
            ],
            [
             0.8,
             "#7fbc41"
            ],
            [
             0.9,
             "#4d9221"
            ],
            [
             1,
             "#276419"
            ]
           ],
           "sequential": [
            [
             0,
             "#0d0887"
            ],
            [
             0.1111111111111111,
             "#46039f"
            ],
            [
             0.2222222222222222,
             "#7201a8"
            ],
            [
             0.3333333333333333,
             "#9c179e"
            ],
            [
             0.4444444444444444,
             "#bd3786"
            ],
            [
             0.5555555555555556,
             "#d8576b"
            ],
            [
             0.6666666666666666,
             "#ed7953"
            ],
            [
             0.7777777777777778,
             "#fb9f3a"
            ],
            [
             0.8888888888888888,
             "#fdca26"
            ],
            [
             1,
             "#f0f921"
            ]
           ],
           "sequentialminus": [
            [
             0,
             "#0d0887"
            ],
            [
             0.1111111111111111,
             "#46039f"
            ],
            [
             0.2222222222222222,
             "#7201a8"
            ],
            [
             0.3333333333333333,
             "#9c179e"
            ],
            [
             0.4444444444444444,
             "#bd3786"
            ],
            [
             0.5555555555555556,
             "#d8576b"
            ],
            [
             0.6666666666666666,
             "#ed7953"
            ],
            [
             0.7777777777777778,
             "#fb9f3a"
            ],
            [
             0.8888888888888888,
             "#fdca26"
            ],
            [
             1,
             "#f0f921"
            ]
           ]
          },
          "colorway": [
           "#636efa",
           "#EF553B",
           "#00cc96",
           "#ab63fa",
           "#FFA15A",
           "#19d3f3",
           "#FF6692",
           "#B6E880",
           "#FF97FF",
           "#FECB52"
          ],
          "font": {
           "color": "#2a3f5f"
          },
          "geo": {
           "bgcolor": "white",
           "lakecolor": "white",
           "landcolor": "#E5ECF6",
           "showlakes": true,
           "showland": true,
           "subunitcolor": "white"
          },
          "hoverlabel": {
           "align": "left"
          },
          "hovermode": "closest",
          "mapbox": {
           "style": "light"
          },
          "paper_bgcolor": "white",
          "plot_bgcolor": "#E5ECF6",
          "polar": {
           "angularaxis": {
            "gridcolor": "white",
            "linecolor": "white",
            "ticks": ""
           },
           "bgcolor": "#E5ECF6",
           "radialaxis": {
            "gridcolor": "white",
            "linecolor": "white",
            "ticks": ""
           }
          },
          "scene": {
           "xaxis": {
            "backgroundcolor": "#E5ECF6",
            "gridcolor": "white",
            "gridwidth": 2,
            "linecolor": "white",
            "showbackground": true,
            "ticks": "",
            "zerolinecolor": "white"
           },
           "yaxis": {
            "backgroundcolor": "#E5ECF6",
            "gridcolor": "white",
            "gridwidth": 2,
            "linecolor": "white",
            "showbackground": true,
            "ticks": "",
            "zerolinecolor": "white"
           },
           "zaxis": {
            "backgroundcolor": "#E5ECF6",
            "gridcolor": "white",
            "gridwidth": 2,
            "linecolor": "white",
            "showbackground": true,
            "ticks": "",
            "zerolinecolor": "white"
           }
          },
          "shapedefaults": {
           "line": {
            "color": "#2a3f5f"
           }
          },
          "ternary": {
           "aaxis": {
            "gridcolor": "white",
            "linecolor": "white",
            "ticks": ""
           },
           "baxis": {
            "gridcolor": "white",
            "linecolor": "white",
            "ticks": ""
           },
           "bgcolor": "#E5ECF6",
           "caxis": {
            "gridcolor": "white",
            "linecolor": "white",
            "ticks": ""
           }
          },
          "title": {
           "x": 0.05
          },
          "xaxis": {
           "automargin": true,
           "gridcolor": "white",
           "linecolor": "white",
           "ticks": "",
           "title": {
            "standoff": 15
           },
           "zerolinecolor": "white",
           "zerolinewidth": 2
          },
          "yaxis": {
           "automargin": true,
           "gridcolor": "white",
           "linecolor": "white",
           "ticks": "",
           "title": {
            "standoff": 15
           },
           "zerolinecolor": "white",
           "zerolinewidth": 2
          }
         }
        },
        "title": {
         "text": "gross income",
         "x": 0.5
        },
        "width": 600,
        "xaxis": {
         "anchor": "y",
         "domain": [
          0,
          1
         ]
        },
        "yaxis": {
         "anchor": "x",
         "domain": [
          0,
          1
         ],
         "title": {
          "text": "gross income"
         }
        }
       }
      }
     },
     "metadata": {},
     "output_type": "display_data"
    },
    {
     "data": {
      "application/vnd.plotly.v1+json": {
       "config": {
        "plotlyServerURL": "https://plot.ly"
       },
       "data": [
        {
         "alignmentgroup": "True",
         "hovertemplate": "Rating=%{y}<extra></extra>",
         "legendgroup": "",
         "marker": {
          "color": "#636efa"
         },
         "name": "",
         "notched": false,
         "offsetgroup": "",
         "orientation": "v",
         "showlegend": false,
         "type": "box",
         "x0": " ",
         "xaxis": "x",
         "y": {
          "bdata": "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",
          "dtype": "f8"
         },
         "y0": " ",
         "yaxis": "y"
        }
       ],
       "layout": {
        "boxmode": "group",
        "height": 700,
        "legend": {
         "tracegroupgap": 0
        },
        "template": {
         "data": {
          "bar": [
           {
            "error_x": {
             "color": "#2a3f5f"
            },
            "error_y": {
             "color": "#2a3f5f"
            },
            "marker": {
             "line": {
              "color": "#E5ECF6",
              "width": 0.5
             },
             "pattern": {
              "fillmode": "overlay",
              "size": 10,
              "solidity": 0.2
             }
            },
            "type": "bar"
           }
          ],
          "barpolar": [
           {
            "marker": {
             "line": {
              "color": "#E5ECF6",
              "width": 0.5
             },
             "pattern": {
              "fillmode": "overlay",
              "size": 10,
              "solidity": 0.2
             }
            },
            "type": "barpolar"
           }
          ],
          "carpet": [
           {
            "aaxis": {
             "endlinecolor": "#2a3f5f",
             "gridcolor": "white",
             "linecolor": "white",
             "minorgridcolor": "white",
             "startlinecolor": "#2a3f5f"
            },
            "baxis": {
             "endlinecolor": "#2a3f5f",
             "gridcolor": "white",
             "linecolor": "white",
             "minorgridcolor": "white",
             "startlinecolor": "#2a3f5f"
            },
            "type": "carpet"
           }
          ],
          "choropleth": [
           {
            "colorbar": {
             "outlinewidth": 0,
             "ticks": ""
            },
            "type": "choropleth"
           }
          ],
          "contour": [
           {
            "colorbar": {
             "outlinewidth": 0,
             "ticks": ""
            },
            "colorscale": [
             [
              0,
              "#0d0887"
             ],
             [
              0.1111111111111111,
              "#46039f"
             ],
             [
              0.2222222222222222,
              "#7201a8"
             ],
             [
              0.3333333333333333,
              "#9c179e"
             ],
             [
              0.4444444444444444,
              "#bd3786"
             ],
             [
              0.5555555555555556,
              "#d8576b"
             ],
             [
              0.6666666666666666,
              "#ed7953"
             ],
             [
              0.7777777777777778,
              "#fb9f3a"
             ],
             [
              0.8888888888888888,
              "#fdca26"
             ],
             [
              1,
              "#f0f921"
             ]
            ],
            "type": "contour"
           }
          ],
          "contourcarpet": [
           {
            "colorbar": {
             "outlinewidth": 0,
             "ticks": ""
            },
            "type": "contourcarpet"
           }
          ],
          "heatmap": [
           {
            "colorbar": {
             "outlinewidth": 0,
             "ticks": ""
            },
            "colorscale": [
             [
              0,
              "#0d0887"
             ],
             [
              0.1111111111111111,
              "#46039f"
             ],
             [
              0.2222222222222222,
              "#7201a8"
             ],
             [
              0.3333333333333333,
              "#9c179e"
             ],
             [
              0.4444444444444444,
              "#bd3786"
             ],
             [
              0.5555555555555556,
              "#d8576b"
             ],
             [
              0.6666666666666666,
              "#ed7953"
             ],
             [
              0.7777777777777778,
              "#fb9f3a"
             ],
             [
              0.8888888888888888,
              "#fdca26"
             ],
             [
              1,
              "#f0f921"
             ]
            ],
            "type": "heatmap"
           }
          ],
          "histogram": [
           {
            "marker": {
             "pattern": {
              "fillmode": "overlay",
              "size": 10,
              "solidity": 0.2
             }
            },
            "type": "histogram"
           }
          ],
          "histogram2d": [
           {
            "colorbar": {
             "outlinewidth": 0,
             "ticks": ""
            },
            "colorscale": [
             [
              0,
              "#0d0887"
             ],
             [
              0.1111111111111111,
              "#46039f"
             ],
             [
              0.2222222222222222,
              "#7201a8"
             ],
             [
              0.3333333333333333,
              "#9c179e"
             ],
             [
              0.4444444444444444,
              "#bd3786"
             ],
             [
              0.5555555555555556,
              "#d8576b"
             ],
             [
              0.6666666666666666,
              "#ed7953"
             ],
             [
              0.7777777777777778,
              "#fb9f3a"
             ],
             [
              0.8888888888888888,
              "#fdca26"
             ],
             [
              1,
              "#f0f921"
             ]
            ],
            "type": "histogram2d"
           }
          ],
          "histogram2dcontour": [
           {
            "colorbar": {
             "outlinewidth": 0,
             "ticks": ""
            },
            "colorscale": [
             [
              0,
              "#0d0887"
             ],
             [
              0.1111111111111111,
              "#46039f"
             ],
             [
              0.2222222222222222,
              "#7201a8"
             ],
             [
              0.3333333333333333,
              "#9c179e"
             ],
             [
              0.4444444444444444,
              "#bd3786"
             ],
             [
              0.5555555555555556,
              "#d8576b"
             ],
             [
              0.6666666666666666,
              "#ed7953"
             ],
             [
              0.7777777777777778,
              "#fb9f3a"
             ],
             [
              0.8888888888888888,
              "#fdca26"
             ],
             [
              1,
              "#f0f921"
             ]
            ],
            "type": "histogram2dcontour"
           }
          ],
          "mesh3d": [
           {
            "colorbar": {
             "outlinewidth": 0,
             "ticks": ""
            },
            "type": "mesh3d"
           }
          ],
          "parcoords": [
           {
            "line": {
             "colorbar": {
              "outlinewidth": 0,
              "ticks": ""
             }
            },
            "type": "parcoords"
           }
          ],
          "pie": [
           {
            "automargin": true,
            "type": "pie"
           }
          ],
          "scatter": [
           {
            "fillpattern": {
             "fillmode": "overlay",
             "size": 10,
             "solidity": 0.2
            },
            "type": "scatter"
           }
          ],
          "scatter3d": [
           {
            "line": {
             "colorbar": {
              "outlinewidth": 0,
              "ticks": ""
             }
            },
            "marker": {
             "colorbar": {
              "outlinewidth": 0,
              "ticks": ""
             }
            },
            "type": "scatter3d"
           }
          ],
          "scattercarpet": [
           {
            "marker": {
             "colorbar": {
              "outlinewidth": 0,
              "ticks": ""
             }
            },
            "type": "scattercarpet"
           }
          ],
          "scattergeo": [
           {
            "marker": {
             "colorbar": {
              "outlinewidth": 0,
              "ticks": ""
             }
            },
            "type": "scattergeo"
           }
          ],
          "scattergl": [
           {
            "marker": {
             "colorbar": {
              "outlinewidth": 0,
              "ticks": ""
             }
            },
            "type": "scattergl"
           }
          ],
          "scattermap": [
           {
            "marker": {
             "colorbar": {
              "outlinewidth": 0,
              "ticks": ""
             }
            },
            "type": "scattermap"
           }
          ],
          "scattermapbox": [
           {
            "marker": {
             "colorbar": {
              "outlinewidth": 0,
              "ticks": ""
             }
            },
            "type": "scattermapbox"
           }
          ],
          "scatterpolar": [
           {
            "marker": {
             "colorbar": {
              "outlinewidth": 0,
              "ticks": ""
             }
            },
            "type": "scatterpolar"
           }
          ],
          "scatterpolargl": [
           {
            "marker": {
             "colorbar": {
              "outlinewidth": 0,
              "ticks": ""
             }
            },
            "type": "scatterpolargl"
           }
          ],
          "scatterternary": [
           {
            "marker": {
             "colorbar": {
              "outlinewidth": 0,
              "ticks": ""
             }
            },
            "type": "scatterternary"
           }
          ],
          "surface": [
           {
            "colorbar": {
             "outlinewidth": 0,
             "ticks": ""
            },
            "colorscale": [
             [
              0,
              "#0d0887"
             ],
             [
              0.1111111111111111,
              "#46039f"
             ],
             [
              0.2222222222222222,
              "#7201a8"
             ],
             [
              0.3333333333333333,
              "#9c179e"
             ],
             [
              0.4444444444444444,
              "#bd3786"
             ],
             [
              0.5555555555555556,
              "#d8576b"
             ],
             [
              0.6666666666666666,
              "#ed7953"
             ],
             [
              0.7777777777777778,
              "#fb9f3a"
             ],
             [
              0.8888888888888888,
              "#fdca26"
             ],
             [
              1,
              "#f0f921"
             ]
            ],
            "type": "surface"
           }
          ],
          "table": [
           {
            "cells": {
             "fill": {
              "color": "#EBF0F8"
             },
             "line": {
              "color": "white"
             }
            },
            "header": {
             "fill": {
              "color": "#C8D4E3"
             },
             "line": {
              "color": "white"
             }
            },
            "type": "table"
           }
          ]
         },
         "layout": {
          "annotationdefaults": {
           "arrowcolor": "#2a3f5f",
           "arrowhead": 0,
           "arrowwidth": 1
          },
          "autotypenumbers": "strict",
          "coloraxis": {
           "colorbar": {
            "outlinewidth": 0,
            "ticks": ""
           }
          },
          "colorscale": {
           "diverging": [
            [
             0,
             "#8e0152"
            ],
            [
             0.1,
             "#c51b7d"
            ],
            [
             0.2,
             "#de77ae"
            ],
            [
             0.3,
             "#f1b6da"
            ],
            [
             0.4,
             "#fde0ef"
            ],
            [
             0.5,
             "#f7f7f7"
            ],
            [
             0.6,
             "#e6f5d0"
            ],
            [
             0.7,
             "#b8e186"
            ],
            [
             0.8,
             "#7fbc41"
            ],
            [
             0.9,
             "#4d9221"
            ],
            [
             1,
             "#276419"
            ]
           ],
           "sequential": [
            [
             0,
             "#0d0887"
            ],
            [
             0.1111111111111111,
             "#46039f"
            ],
            [
             0.2222222222222222,
             "#7201a8"
            ],
            [
             0.3333333333333333,
             "#9c179e"
            ],
            [
             0.4444444444444444,
             "#bd3786"
            ],
            [
             0.5555555555555556,
             "#d8576b"
            ],
            [
             0.6666666666666666,
             "#ed7953"
            ],
            [
             0.7777777777777778,
             "#fb9f3a"
            ],
            [
             0.8888888888888888,
             "#fdca26"
            ],
            [
             1,
             "#f0f921"
            ]
           ],
           "sequentialminus": [
            [
             0,
             "#0d0887"
            ],
            [
             0.1111111111111111,
             "#46039f"
            ],
            [
             0.2222222222222222,
             "#7201a8"
            ],
            [
             0.3333333333333333,
             "#9c179e"
            ],
            [
             0.4444444444444444,
             "#bd3786"
            ],
            [
             0.5555555555555556,
             "#d8576b"
            ],
            [
             0.6666666666666666,
             "#ed7953"
            ],
            [
             0.7777777777777778,
             "#fb9f3a"
            ],
            [
             0.8888888888888888,
             "#fdca26"
            ],
            [
             1,
             "#f0f921"
            ]
           ]
          },
          "colorway": [
           "#636efa",
           "#EF553B",
           "#00cc96",
           "#ab63fa",
           "#FFA15A",
           "#19d3f3",
           "#FF6692",
           "#B6E880",
           "#FF97FF",
           "#FECB52"
          ],
          "font": {
           "color": "#2a3f5f"
          },
          "geo": {
           "bgcolor": "white",
           "lakecolor": "white",
           "landcolor": "#E5ECF6",
           "showlakes": true,
           "showland": true,
           "subunitcolor": "white"
          },
          "hoverlabel": {
           "align": "left"
          },
          "hovermode": "closest",
          "mapbox": {
           "style": "light"
          },
          "paper_bgcolor": "white",
          "plot_bgcolor": "#E5ECF6",
          "polar": {
           "angularaxis": {
            "gridcolor": "white",
            "linecolor": "white",
            "ticks": ""
           },
           "bgcolor": "#E5ECF6",
           "radialaxis": {
            "gridcolor": "white",
            "linecolor": "white",
            "ticks": ""
           }
          },
          "scene": {
           "xaxis": {
            "backgroundcolor": "#E5ECF6",
            "gridcolor": "white",
            "gridwidth": 2,
            "linecolor": "white",
            "showbackground": true,
            "ticks": "",
            "zerolinecolor": "white"
           },
           "yaxis": {
            "backgroundcolor": "#E5ECF6",
            "gridcolor": "white",
            "gridwidth": 2,
            "linecolor": "white",
            "showbackground": true,
            "ticks": "",
            "zerolinecolor": "white"
           },
           "zaxis": {
            "backgroundcolor": "#E5ECF6",
            "gridcolor": "white",
            "gridwidth": 2,
            "linecolor": "white",
            "showbackground": true,
            "ticks": "",
            "zerolinecolor": "white"
           }
          },
          "shapedefaults": {
           "line": {
            "color": "#2a3f5f"
           }
          },
          "ternary": {
           "aaxis": {
            "gridcolor": "white",
            "linecolor": "white",
            "ticks": ""
           },
           "baxis": {
            "gridcolor": "white",
            "linecolor": "white",
            "ticks": ""
           },
           "bgcolor": "#E5ECF6",
           "caxis": {
            "gridcolor": "white",
            "linecolor": "white",
            "ticks": ""
           }
          },
          "title": {
           "x": 0.05
          },
          "xaxis": {
           "automargin": true,
           "gridcolor": "white",
           "linecolor": "white",
           "ticks": "",
           "title": {
            "standoff": 15
           },
           "zerolinecolor": "white",
           "zerolinewidth": 2
          },
          "yaxis": {
           "automargin": true,
           "gridcolor": "white",
           "linecolor": "white",
           "ticks": "",
           "title": {
            "standoff": 15
           },
           "zerolinecolor": "white",
           "zerolinewidth": 2
          }
         }
        },
        "title": {
         "text": "Rating",
         "x": 0.5
        },
        "width": 600,
        "xaxis": {
         "anchor": "y",
         "domain": [
          0,
          1
         ]
        },
        "yaxis": {
         "anchor": "x",
         "domain": [
          0,
          1
         ],
         "title": {
          "text": "Rating"
         }
        }
       }
      }
     },
     "metadata": {},
     "output_type": "display_data"
    }
   ],
   "source": [
    "numericcol=df.select_dtypes('number')\n",
    "for col in numericcol.columns:\n",
    "    fig=px.box(data_frame=df,y=col,title=col,boxmode='group',height=700,width=600)\n",
    "    fig.update_layout(title_x=0.5)\n",
    "    fig.show()"
   ]
  },
  {
   "cell_type": "code",
   "execution_count": null,
   "id": "683fa86a",
   "metadata": {},
   "outputs": [],
   "source": []
  },
  {
   "cell_type": "code",
   "execution_count": 9,
   "id": "155c7736",
   "metadata": {},
   "outputs": [
    {
     "data": {
      "application/vnd.microsoft.datawrangler.viewer.v0+json": {
       "columns": [
        {
         "name": "index",
         "rawType": "int64",
         "type": "integer"
        },
        {
         "name": "index",
         "rawType": "object",
         "type": "string"
        },
        {
         "name": "Unit price",
         "rawType": "float64",
         "type": "float"
        },
        {
         "name": "Quantity",
         "rawType": "float64",
         "type": "float"
        },
        {
         "name": "Tax 5%",
         "rawType": "float64",
         "type": "float"
        },
        {
         "name": "Total",
         "rawType": "float64",
         "type": "float"
        },
        {
         "name": "cogs",
         "rawType": "float64",
         "type": "float"
        },
        {
         "name": "gross margin percentage",
         "rawType": "float64",
         "type": "float"
        },
        {
         "name": "gross income",
         "rawType": "float64",
         "type": "float"
        },
        {
         "name": "Rating",
         "rawType": "float64",
         "type": "float"
        }
       ],
       "conversionMethod": "pd.DataFrame",
       "ref": "4502dd86-cc49-4a62-a60d-baa521495ab6",
       "rows": [
        [
         "0",
         "count",
         "1000.0",
         "1000.0",
         "1000.0",
         "1000.0",
         "1000.0",
         "1000.0",
         "1000.0",
         "1000.0"
        ],
        [
         "1",
         "mean",
         "55.67213",
         "5.51",
         "15.379368999999999",
         "322.966749",
         "307.58738",
         "4.761904762",
         "15.379368999999999",
         "6.9727"
        ],
        [
         "2",
         "std",
         "26.49462834791978",
         "2.923430595455696",
         "11.708825480998659",
         "245.88533510097187",
         "234.1765096199732",
         "0.0",
         "11.708825480998659",
         "1.7185802943791215"
        ],
        [
         "3",
         "min",
         "10.08",
         "1.0",
         "0.5085",
         "10.6785",
         "10.17",
         "4.761904762",
         "0.5085",
         "4.0"
        ],
        [
         "4",
         "25%",
         "32.875",
         "3.0",
         "5.924875",
         "124.422375",
         "118.4975",
         "4.761904762",
         "5.924875",
         "5.5"
        ],
        [
         "5",
         "50%",
         "55.230000000000004",
         "5.0",
         "12.088000000000001",
         "253.848",
         "241.76",
         "4.761904762",
         "12.088000000000001",
         "7.0"
        ],
        [
         "6",
         "75%",
         "77.935",
         "8.0",
         "22.44525",
         "471.35024999999996",
         "448.90500000000003",
         "4.761904762",
         "22.44525",
         "8.5"
        ],
        [
         "7",
         "max",
         "99.96",
         "10.0",
         "49.65",
         "1042.65",
         "993.0",
         "4.761904762",
         "49.65",
         "10.0"
        ]
       ],
       "shape": {
        "columns": 9,
        "rows": 8
       }
      },
      "text/html": [
       "<div>\n",
       "<style scoped>\n",
       "    .dataframe tbody tr th:only-of-type {\n",
       "        vertical-align: middle;\n",
       "    }\n",
       "\n",
       "    .dataframe tbody tr th {\n",
       "        vertical-align: top;\n",
       "    }\n",
       "\n",
       "    .dataframe thead th {\n",
       "        text-align: right;\n",
       "    }\n",
       "</style>\n",
       "<table border=\"1\" class=\"dataframe\">\n",
       "  <thead>\n",
       "    <tr style=\"text-align: right;\">\n",
       "      <th></th>\n",
       "      <th>index</th>\n",
       "      <th>Unit price</th>\n",
       "      <th>Quantity</th>\n",
       "      <th>Tax 5%</th>\n",
       "      <th>Total</th>\n",
       "      <th>cogs</th>\n",
       "      <th>gross margin percentage</th>\n",
       "      <th>gross income</th>\n",
       "      <th>Rating</th>\n",
       "    </tr>\n",
       "  </thead>\n",
       "  <tbody>\n",
       "    <tr>\n",
       "      <th>0</th>\n",
       "      <td>count</td>\n",
       "      <td>1000.000000</td>\n",
       "      <td>1000.000000</td>\n",
       "      <td>1000.000000</td>\n",
       "      <td>1000.000000</td>\n",
       "      <td>1000.00000</td>\n",
       "      <td>1000.000000</td>\n",
       "      <td>1000.000000</td>\n",
       "      <td>1000.00000</td>\n",
       "    </tr>\n",
       "    <tr>\n",
       "      <th>1</th>\n",
       "      <td>mean</td>\n",
       "      <td>55.672130</td>\n",
       "      <td>5.510000</td>\n",
       "      <td>15.379369</td>\n",
       "      <td>322.966749</td>\n",
       "      <td>307.58738</td>\n",
       "      <td>4.761905</td>\n",
       "      <td>15.379369</td>\n",
       "      <td>6.97270</td>\n",
       "    </tr>\n",
       "    <tr>\n",
       "      <th>2</th>\n",
       "      <td>std</td>\n",
       "      <td>26.494628</td>\n",
       "      <td>2.923431</td>\n",
       "      <td>11.708825</td>\n",
       "      <td>245.885335</td>\n",
       "      <td>234.17651</td>\n",
       "      <td>0.000000</td>\n",
       "      <td>11.708825</td>\n",
       "      <td>1.71858</td>\n",
       "    </tr>\n",
       "    <tr>\n",
       "      <th>3</th>\n",
       "      <td>min</td>\n",
       "      <td>10.080000</td>\n",
       "      <td>1.000000</td>\n",
       "      <td>0.508500</td>\n",
       "      <td>10.678500</td>\n",
       "      <td>10.17000</td>\n",
       "      <td>4.761905</td>\n",
       "      <td>0.508500</td>\n",
       "      <td>4.00000</td>\n",
       "    </tr>\n",
       "    <tr>\n",
       "      <th>4</th>\n",
       "      <td>25%</td>\n",
       "      <td>32.875000</td>\n",
       "      <td>3.000000</td>\n",
       "      <td>5.924875</td>\n",
       "      <td>124.422375</td>\n",
       "      <td>118.49750</td>\n",
       "      <td>4.761905</td>\n",
       "      <td>5.924875</td>\n",
       "      <td>5.50000</td>\n",
       "    </tr>\n",
       "    <tr>\n",
       "      <th>5</th>\n",
       "      <td>50%</td>\n",
       "      <td>55.230000</td>\n",
       "      <td>5.000000</td>\n",
       "      <td>12.088000</td>\n",
       "      <td>253.848000</td>\n",
       "      <td>241.76000</td>\n",
       "      <td>4.761905</td>\n",
       "      <td>12.088000</td>\n",
       "      <td>7.00000</td>\n",
       "    </tr>\n",
       "    <tr>\n",
       "      <th>6</th>\n",
       "      <td>75%</td>\n",
       "      <td>77.935000</td>\n",
       "      <td>8.000000</td>\n",
       "      <td>22.445250</td>\n",
       "      <td>471.350250</td>\n",
       "      <td>448.90500</td>\n",
       "      <td>4.761905</td>\n",
       "      <td>22.445250</td>\n",
       "      <td>8.50000</td>\n",
       "    </tr>\n",
       "    <tr>\n",
       "      <th>7</th>\n",
       "      <td>max</td>\n",
       "      <td>99.960000</td>\n",
       "      <td>10.000000</td>\n",
       "      <td>49.650000</td>\n",
       "      <td>1042.650000</td>\n",
       "      <td>993.00000</td>\n",
       "      <td>4.761905</td>\n",
       "      <td>49.650000</td>\n",
       "      <td>10.00000</td>\n",
       "    </tr>\n",
       "  </tbody>\n",
       "</table>\n",
       "</div>"
      ],
      "text/plain": [
       "   index   Unit price     Quantity       Tax 5%        Total        cogs  \\\n",
       "0  count  1000.000000  1000.000000  1000.000000  1000.000000  1000.00000   \n",
       "1   mean    55.672130     5.510000    15.379369   322.966749   307.58738   \n",
       "2    std    26.494628     2.923431    11.708825   245.885335   234.17651   \n",
       "3    min    10.080000     1.000000     0.508500    10.678500    10.17000   \n",
       "4    25%    32.875000     3.000000     5.924875   124.422375   118.49750   \n",
       "5    50%    55.230000     5.000000    12.088000   253.848000   241.76000   \n",
       "6    75%    77.935000     8.000000    22.445250   471.350250   448.90500   \n",
       "7    max    99.960000    10.000000    49.650000  1042.650000   993.00000   \n",
       "\n",
       "   gross margin percentage  gross income      Rating  \n",
       "0              1000.000000   1000.000000  1000.00000  \n",
       "1                 4.761905     15.379369     6.97270  \n",
       "2                 0.000000     11.708825     1.71858  \n",
       "3                 4.761905      0.508500     4.00000  \n",
       "4                 4.761905      5.924875     5.50000  \n",
       "5                 4.761905     12.088000     7.00000  \n",
       "6                 4.761905     22.445250     8.50000  \n",
       "7                 4.761905     49.650000    10.00000  "
      ]
     },
     "execution_count": 9,
     "metadata": {},
     "output_type": "execute_result"
    }
   ],
   "source": [
    "test=numericcol.describe().reset_index()\n",
    "\n",
    "test"
   ]
  },
  {
   "cell_type": "code",
   "execution_count": 10,
   "id": "cc969664",
   "metadata": {},
   "outputs": [],
   "source": [
    "test.rename(columns={'index':'Stats'},inplace=True)\n",
    "Q1=test[test['Stats']=='25%'].drop(columns='Stats')\n",
    "Q3=test[test['Stats']=='75%'].drop(columns='Stats')\n",
    "IQR=Q3.values-Q1.values\n",
    "iqr_df=pd.DataFrame(IQR,columns=Q1.columns)\n"
   ]
  },
  {
   "cell_type": "code",
   "execution_count": 11,
   "id": "2f39c8aa",
   "metadata": {},
   "outputs": [],
   "source": [
    "lowerbound=Q1-1.5*IQR\n",
    "upperbound=Q3+1.5*IQR"
   ]
  },
  {
   "cell_type": "code",
   "execution_count": null,
   "id": "f12117f5",
   "metadata": {},
   "outputs": [],
   "source": []
  },
  {
   "cell_type": "code",
   "execution_count": 12,
   "id": "c235b4db",
   "metadata": {},
   "outputs": [
    {
     "data": {
      "application/vnd.microsoft.datawrangler.viewer.v0+json": {
       "columns": [
        {
         "name": "index",
         "rawType": "int64",
         "type": "integer"
        },
        {
         "name": "index",
         "rawType": "int64",
         "type": "integer"
        },
        {
         "name": "Unit price",
         "rawType": "float64",
         "type": "float"
        },
        {
         "name": "Quantity",
         "rawType": "float64",
         "type": "float"
        },
        {
         "name": "Tax 5%",
         "rawType": "float64",
         "type": "float"
        },
        {
         "name": "Total",
         "rawType": "float64",
         "type": "float"
        },
        {
         "name": "cogs",
         "rawType": "float64",
         "type": "float"
        },
        {
         "name": "gross margin percentage",
         "rawType": "float64",
         "type": "float"
        },
        {
         "name": "gross income",
         "rawType": "float64",
         "type": "float"
        },
        {
         "name": "Rating",
         "rawType": "float64",
         "type": "float"
        }
       ],
       "conversionMethod": "pd.DataFrame",
       "ref": "5903f05e-678e-4125-83e7-b6d327b3219e",
       "rows": [
        [
         "0",
         "6",
         "145.525",
         "15.5",
         "47.2258125",
         "991.7420625",
         "944.5162500000001",
         "4.761904762",
         "47.2258125",
         "13.0"
        ]
       ],
       "shape": {
        "columns": 9,
        "rows": 1
       }
      },
      "text/html": [
       "<div>\n",
       "<style scoped>\n",
       "    .dataframe tbody tr th:only-of-type {\n",
       "        vertical-align: middle;\n",
       "    }\n",
       "\n",
       "    .dataframe tbody tr th {\n",
       "        vertical-align: top;\n",
       "    }\n",
       "\n",
       "    .dataframe thead th {\n",
       "        text-align: right;\n",
       "    }\n",
       "</style>\n",
       "<table border=\"1\" class=\"dataframe\">\n",
       "  <thead>\n",
       "    <tr style=\"text-align: right;\">\n",
       "      <th></th>\n",
       "      <th>index</th>\n",
       "      <th>Unit price</th>\n",
       "      <th>Quantity</th>\n",
       "      <th>Tax 5%</th>\n",
       "      <th>Total</th>\n",
       "      <th>cogs</th>\n",
       "      <th>gross margin percentage</th>\n",
       "      <th>gross income</th>\n",
       "      <th>Rating</th>\n",
       "    </tr>\n",
       "  </thead>\n",
       "  <tbody>\n",
       "    <tr>\n",
       "      <th>0</th>\n",
       "      <td>6</td>\n",
       "      <td>145.525</td>\n",
       "      <td>15.5</td>\n",
       "      <td>47.225813</td>\n",
       "      <td>991.742062</td>\n",
       "      <td>944.51625</td>\n",
       "      <td>4.761905</td>\n",
       "      <td>47.225813</td>\n",
       "      <td>13.0</td>\n",
       "    </tr>\n",
       "  </tbody>\n",
       "</table>\n",
       "</div>"
      ],
      "text/plain": [
       "   index  Unit price  Quantity     Tax 5%       Total       cogs  \\\n",
       "0      6     145.525      15.5  47.225813  991.742062  944.51625   \n",
       "\n",
       "   gross margin percentage  gross income  Rating  \n",
       "0                 4.761905     47.225813    13.0  "
      ]
     },
     "execution_count": 12,
     "metadata": {},
     "output_type": "execute_result"
    }
   ],
   "source": [
    "\n",
    "lowerbound.reset_index(drop=True,inplace=True)\n",
    "upperbound.reset_index(inplace=True)\n",
    "upperbound\n"
   ]
  },
  {
   "cell_type": "markdown",
   "id": "717604db",
   "metadata": {},
   "source": [
    "## Treating gross column outliers!"
   ]
  },
  {
   "cell_type": "code",
   "execution_count": 13,
   "id": "a7fd9795",
   "metadata": {},
   "outputs": [],
   "source": [
    "grosslower=lowerbound['gross income']\n",
    "grossrupper=upperbound['gross income']\n",
    "\n",
    "nombre=df.select_dtypes(['number'])\n",
    "dictt=nombre.to_dict()\n",
    "for i in range(len(dictt['gross income'])):\n",
    "    if dictt['gross income'][i]<grosslower[0]:\n",
    "        dictt['gross income'][i]=grosslower\n",
    "    elif dictt['gross income'][i]>grossrupper[0]:\n",
    "        dictt['gross income'][i]=grossrupper\n",
    "    \n",
    "               "
   ]
  },
  {
   "cell_type": "code",
   "execution_count": 14,
   "id": "67a463c6",
   "metadata": {},
   "outputs": [],
   "source": [
    "updated=pd.DataFrame(dictt)"
   ]
  },
  {
   "cell_type": "code",
   "execution_count": 15,
   "id": "07a10b97",
   "metadata": {},
   "outputs": [
    {
     "name": "stderr",
     "output_type": "stream",
     "text": [
      "C:\\Users\\dell\\AppData\\Local\\Temp\\ipykernel_16232\\1198401377.py:2: FutureWarning:\n",
      "\n",
      "Calling float on a single element Series is deprecated and will raise a TypeError in the future. Use float(ser.iloc[0]) instead\n",
      "\n"
     ]
    },
    {
     "data": {
      "text/plain": [
       "0      26.141500\n",
       "1       3.820000\n",
       "2      16.215500\n",
       "3      23.288000\n",
       "4      30.208500\n",
       "         ...    \n",
       "995     2.017500\n",
       "996    47.225813\n",
       "997     1.592000\n",
       "998     3.291000\n",
       "999    30.919000\n",
       "Name: gross income, Length: 1000, dtype: float64"
      ]
     },
     "execution_count": 15,
     "metadata": {},
     "output_type": "execute_result"
    }
   ],
   "source": [
    "df['gross income']=updated['gross income']\n",
    "df['gross income']=df['gross income'].astype('float64')\n",
    "df['gross income']"
   ]
  },
  {
   "cell_type": "code",
   "execution_count": 16,
   "id": "7016d534",
   "metadata": {},
   "outputs": [
    {
     "data": {
      "application/vnd.plotly.v1+json": {
       "config": {
        "plotlyServerURL": "https://plot.ly"
       },
       "data": [
        {
         "alignmentgroup": "True",
         "hovertemplate": "gross income=%{y}<extra></extra>",
         "legendgroup": "",
         "marker": {
          "color": "#636efa"
         },
         "name": "",
         "notched": false,
         "offsetgroup": "",
         "orientation": "v",
         "showlegend": false,
         "type": "box",
         "x0": " ",
         "xaxis": "x",
         "y": {
          "bdata": "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",
          "dtype": "f8"
         },
         "y0": " ",
         "yaxis": "y"
        }
       ],
       "layout": {
        "boxmode": "group",
        "legend": {
         "tracegroupgap": 0
        },
        "template": {
         "data": {
          "bar": [
           {
            "error_x": {
             "color": "#2a3f5f"
            },
            "error_y": {
             "color": "#2a3f5f"
            },
            "marker": {
             "line": {
              "color": "#E5ECF6",
              "width": 0.5
             },
             "pattern": {
              "fillmode": "overlay",
              "size": 10,
              "solidity": 0.2
             }
            },
            "type": "bar"
           }
          ],
          "barpolar": [
           {
            "marker": {
             "line": {
              "color": "#E5ECF6",
              "width": 0.5
             },
             "pattern": {
              "fillmode": "overlay",
              "size": 10,
              "solidity": 0.2
             }
            },
            "type": "barpolar"
           }
          ],
          "carpet": [
           {
            "aaxis": {
             "endlinecolor": "#2a3f5f",
             "gridcolor": "white",
             "linecolor": "white",
             "minorgridcolor": "white",
             "startlinecolor": "#2a3f5f"
            },
            "baxis": {
             "endlinecolor": "#2a3f5f",
             "gridcolor": "white",
             "linecolor": "white",
             "minorgridcolor": "white",
             "startlinecolor": "#2a3f5f"
            },
            "type": "carpet"
           }
          ],
          "choropleth": [
           {
            "colorbar": {
             "outlinewidth": 0,
             "ticks": ""
            },
            "type": "choropleth"
           }
          ],
          "contour": [
           {
            "colorbar": {
             "outlinewidth": 0,
             "ticks": ""
            },
            "colorscale": [
             [
              0,
              "#0d0887"
             ],
             [
              0.1111111111111111,
              "#46039f"
             ],
             [
              0.2222222222222222,
              "#7201a8"
             ],
             [
              0.3333333333333333,
              "#9c179e"
             ],
             [
              0.4444444444444444,
              "#bd3786"
             ],
             [
              0.5555555555555556,
              "#d8576b"
             ],
             [
              0.6666666666666666,
              "#ed7953"
             ],
             [
              0.7777777777777778,
              "#fb9f3a"
             ],
             [
              0.8888888888888888,
              "#fdca26"
             ],
             [
              1,
              "#f0f921"
             ]
            ],
            "type": "contour"
           }
          ],
          "contourcarpet": [
           {
            "colorbar": {
             "outlinewidth": 0,
             "ticks": ""
            },
            "type": "contourcarpet"
           }
          ],
          "heatmap": [
           {
            "colorbar": {
             "outlinewidth": 0,
             "ticks": ""
            },
            "colorscale": [
             [
              0,
              "#0d0887"
             ],
             [
              0.1111111111111111,
              "#46039f"
             ],
             [
              0.2222222222222222,
              "#7201a8"
             ],
             [
              0.3333333333333333,
              "#9c179e"
             ],
             [
              0.4444444444444444,
              "#bd3786"
             ],
             [
              0.5555555555555556,
              "#d8576b"
             ],
             [
              0.6666666666666666,
              "#ed7953"
             ],
             [
              0.7777777777777778,
              "#fb9f3a"
             ],
             [
              0.8888888888888888,
              "#fdca26"
             ],
             [
              1,
              "#f0f921"
             ]
            ],
            "type": "heatmap"
           }
          ],
          "histogram": [
           {
            "marker": {
             "pattern": {
              "fillmode": "overlay",
              "size": 10,
              "solidity": 0.2
             }
            },
            "type": "histogram"
           }
          ],
          "histogram2d": [
           {
            "colorbar": {
             "outlinewidth": 0,
             "ticks": ""
            },
            "colorscale": [
             [
              0,
              "#0d0887"
             ],
             [
              0.1111111111111111,
              "#46039f"
             ],
             [
              0.2222222222222222,
              "#7201a8"
             ],
             [
              0.3333333333333333,
              "#9c179e"
             ],
             [
              0.4444444444444444,
              "#bd3786"
             ],
             [
              0.5555555555555556,
              "#d8576b"
             ],
             [
              0.6666666666666666,
              "#ed7953"
             ],
             [
              0.7777777777777778,
              "#fb9f3a"
             ],
             [
              0.8888888888888888,
              "#fdca26"
             ],
             [
              1,
              "#f0f921"
             ]
            ],
            "type": "histogram2d"
           }
          ],
          "histogram2dcontour": [
           {
            "colorbar": {
             "outlinewidth": 0,
             "ticks": ""
            },
            "colorscale": [
             [
              0,
              "#0d0887"
             ],
             [
              0.1111111111111111,
              "#46039f"
             ],
             [
              0.2222222222222222,
              "#7201a8"
             ],
             [
              0.3333333333333333,
              "#9c179e"
             ],
             [
              0.4444444444444444,
              "#bd3786"
             ],
             [
              0.5555555555555556,
              "#d8576b"
             ],
             [
              0.6666666666666666,
              "#ed7953"
             ],
             [
              0.7777777777777778,
              "#fb9f3a"
             ],
             [
              0.8888888888888888,
              "#fdca26"
             ],
             [
              1,
              "#f0f921"
             ]
            ],
            "type": "histogram2dcontour"
           }
          ],
          "mesh3d": [
           {
            "colorbar": {
             "outlinewidth": 0,
             "ticks": ""
            },
            "type": "mesh3d"
           }
          ],
          "parcoords": [
           {
            "line": {
             "colorbar": {
              "outlinewidth": 0,
              "ticks": ""
             }
            },
            "type": "parcoords"
           }
          ],
          "pie": [
           {
            "automargin": true,
            "type": "pie"
           }
          ],
          "scatter": [
           {
            "fillpattern": {
             "fillmode": "overlay",
             "size": 10,
             "solidity": 0.2
            },
            "type": "scatter"
           }
          ],
          "scatter3d": [
           {
            "line": {
             "colorbar": {
              "outlinewidth": 0,
              "ticks": ""
             }
            },
            "marker": {
             "colorbar": {
              "outlinewidth": 0,
              "ticks": ""
             }
            },
            "type": "scatter3d"
           }
          ],
          "scattercarpet": [
           {
            "marker": {
             "colorbar": {
              "outlinewidth": 0,
              "ticks": ""
             }
            },
            "type": "scattercarpet"
           }
          ],
          "scattergeo": [
           {
            "marker": {
             "colorbar": {
              "outlinewidth": 0,
              "ticks": ""
             }
            },
            "type": "scattergeo"
           }
          ],
          "scattergl": [
           {
            "marker": {
             "colorbar": {
              "outlinewidth": 0,
              "ticks": ""
             }
            },
            "type": "scattergl"
           }
          ],
          "scattermap": [
           {
            "marker": {
             "colorbar": {
              "outlinewidth": 0,
              "ticks": ""
             }
            },
            "type": "scattermap"
           }
          ],
          "scattermapbox": [
           {
            "marker": {
             "colorbar": {
              "outlinewidth": 0,
              "ticks": ""
             }
            },
            "type": "scattermapbox"
           }
          ],
          "scatterpolar": [
           {
            "marker": {
             "colorbar": {
              "outlinewidth": 0,
              "ticks": ""
             }
            },
            "type": "scatterpolar"
           }
          ],
          "scatterpolargl": [
           {
            "marker": {
             "colorbar": {
              "outlinewidth": 0,
              "ticks": ""
             }
            },
            "type": "scatterpolargl"
           }
          ],
          "scatterternary": [
           {
            "marker": {
             "colorbar": {
              "outlinewidth": 0,
              "ticks": ""
             }
            },
            "type": "scatterternary"
           }
          ],
          "surface": [
           {
            "colorbar": {
             "outlinewidth": 0,
             "ticks": ""
            },
            "colorscale": [
             [
              0,
              "#0d0887"
             ],
             [
              0.1111111111111111,
              "#46039f"
             ],
             [
              0.2222222222222222,
              "#7201a8"
             ],
             [
              0.3333333333333333,
              "#9c179e"
             ],
             [
              0.4444444444444444,
              "#bd3786"
             ],
             [
              0.5555555555555556,
              "#d8576b"
             ],
             [
              0.6666666666666666,
              "#ed7953"
             ],
             [
              0.7777777777777778,
              "#fb9f3a"
             ],
             [
              0.8888888888888888,
              "#fdca26"
             ],
             [
              1,
              "#f0f921"
             ]
            ],
            "type": "surface"
           }
          ],
          "table": [
           {
            "cells": {
             "fill": {
              "color": "#EBF0F8"
             },
             "line": {
              "color": "white"
             }
            },
            "header": {
             "fill": {
              "color": "#C8D4E3"
             },
             "line": {
              "color": "white"
             }
            },
            "type": "table"
           }
          ]
         },
         "layout": {
          "annotationdefaults": {
           "arrowcolor": "#2a3f5f",
           "arrowhead": 0,
           "arrowwidth": 1
          },
          "autotypenumbers": "strict",
          "coloraxis": {
           "colorbar": {
            "outlinewidth": 0,
            "ticks": ""
           }
          },
          "colorscale": {
           "diverging": [
            [
             0,
             "#8e0152"
            ],
            [
             0.1,
             "#c51b7d"
            ],
            [
             0.2,
             "#de77ae"
            ],
            [
             0.3,
             "#f1b6da"
            ],
            [
             0.4,
             "#fde0ef"
            ],
            [
             0.5,
             "#f7f7f7"
            ],
            [
             0.6,
             "#e6f5d0"
            ],
            [
             0.7,
             "#b8e186"
            ],
            [
             0.8,
             "#7fbc41"
            ],
            [
             0.9,
             "#4d9221"
            ],
            [
             1,
             "#276419"
            ]
           ],
           "sequential": [
            [
             0,
             "#0d0887"
            ],
            [
             0.1111111111111111,
             "#46039f"
            ],
            [
             0.2222222222222222,
             "#7201a8"
            ],
            [
             0.3333333333333333,
             "#9c179e"
            ],
            [
             0.4444444444444444,
             "#bd3786"
            ],
            [
             0.5555555555555556,
             "#d8576b"
            ],
            [
             0.6666666666666666,
             "#ed7953"
            ],
            [
             0.7777777777777778,
             "#fb9f3a"
            ],
            [
             0.8888888888888888,
             "#fdca26"
            ],
            [
             1,
             "#f0f921"
            ]
           ],
           "sequentialminus": [
            [
             0,
             "#0d0887"
            ],
            [
             0.1111111111111111,
             "#46039f"
            ],
            [
             0.2222222222222222,
             "#7201a8"
            ],
            [
             0.3333333333333333,
             "#9c179e"
            ],
            [
             0.4444444444444444,
             "#bd3786"
            ],
            [
             0.5555555555555556,
             "#d8576b"
            ],
            [
             0.6666666666666666,
             "#ed7953"
            ],
            [
             0.7777777777777778,
             "#fb9f3a"
            ],
            [
             0.8888888888888888,
             "#fdca26"
            ],
            [
             1,
             "#f0f921"
            ]
           ]
          },
          "colorway": [
           "#636efa",
           "#EF553B",
           "#00cc96",
           "#ab63fa",
           "#FFA15A",
           "#19d3f3",
           "#FF6692",
           "#B6E880",
           "#FF97FF",
           "#FECB52"
          ],
          "font": {
           "color": "#2a3f5f"
          },
          "geo": {
           "bgcolor": "white",
           "lakecolor": "white",
           "landcolor": "#E5ECF6",
           "showlakes": true,
           "showland": true,
           "subunitcolor": "white"
          },
          "hoverlabel": {
           "align": "left"
          },
          "hovermode": "closest",
          "mapbox": {
           "style": "light"
          },
          "paper_bgcolor": "white",
          "plot_bgcolor": "#E5ECF6",
          "polar": {
           "angularaxis": {
            "gridcolor": "white",
            "linecolor": "white",
            "ticks": ""
           },
           "bgcolor": "#E5ECF6",
           "radialaxis": {
            "gridcolor": "white",
            "linecolor": "white",
            "ticks": ""
           }
          },
          "scene": {
           "xaxis": {
            "backgroundcolor": "#E5ECF6",
            "gridcolor": "white",
            "gridwidth": 2,
            "linecolor": "white",
            "showbackground": true,
            "ticks": "",
            "zerolinecolor": "white"
           },
           "yaxis": {
            "backgroundcolor": "#E5ECF6",
            "gridcolor": "white",
            "gridwidth": 2,
            "linecolor": "white",
            "showbackground": true,
            "ticks": "",
            "zerolinecolor": "white"
           },
           "zaxis": {
            "backgroundcolor": "#E5ECF6",
            "gridcolor": "white",
            "gridwidth": 2,
            "linecolor": "white",
            "showbackground": true,
            "ticks": "",
            "zerolinecolor": "white"
           }
          },
          "shapedefaults": {
           "line": {
            "color": "#2a3f5f"
           }
          },
          "ternary": {
           "aaxis": {
            "gridcolor": "white",
            "linecolor": "white",
            "ticks": ""
           },
           "baxis": {
            "gridcolor": "white",
            "linecolor": "white",
            "ticks": ""
           },
           "bgcolor": "#E5ECF6",
           "caxis": {
            "gridcolor": "white",
            "linecolor": "white",
            "ticks": ""
           }
          },
          "title": {
           "x": 0.05
          },
          "xaxis": {
           "automargin": true,
           "gridcolor": "white",
           "linecolor": "white",
           "ticks": "",
           "title": {
            "standoff": 15
           },
           "zerolinecolor": "white",
           "zerolinewidth": 2
          },
          "yaxis": {
           "automargin": true,
           "gridcolor": "white",
           "linecolor": "white",
           "ticks": "",
           "title": {
            "standoff": 15
           },
           "zerolinecolor": "white",
           "zerolinewidth": 2
          }
         }
        },
        "title": {
         "text": "gross income",
         "x": 0.5
        },
        "xaxis": {
         "anchor": "y",
         "domain": [
          0,
          1
         ]
        },
        "yaxis": {
         "anchor": "x",
         "domain": [
          0,
          1
         ],
         "title": {
          "text": "gross income"
         }
        }
       }
      }
     },
     "metadata": {},
     "output_type": "display_data"
    }
   ],
   "source": [
    "grossbox=px.box(data_frame=df,y='gross income',title='gross income')\n",
    "grossbox.update_layout(title_x=0.5)"
   ]
  },
  {
   "cell_type": "code",
   "execution_count": 17,
   "id": "41c3aa1f",
   "metadata": {},
   "outputs": [
    {
     "data": {
      "application/vnd.plotly.v1+json": {
       "config": {
        "plotlyServerURL": "https://plot.ly"
       },
       "data": [
        {
         "alignmentgroup": "True",
         "hovertemplate": "gross income=%{y}<extra></extra>",
         "legendgroup": "",
         "marker": {
          "color": "#636efa"
         },
         "name": "",
         "notched": false,
         "offsetgroup": "",
         "orientation": "v",
         "showlegend": false,
         "type": "box",
         "x0": " ",
         "xaxis": "x",
         "y": [
          26.1415,
          3.82,
          16.2155,
          23.288,
          30.2085,
          29.8865,
          20.652,
          36.78,
          3.626,
          8.226,
          2.896,
          5.102,
          11.7375,
          21.595,
          35.69,
          28.116,
          24.1255,
          21.783,
          8.2005,
          4.03,
          21.51,
          13.197,
          3.32,
          8.64,
          13.2945,
          21.036,
          1.676,
          8.767,
          22.09,
          11.2005,
          23.5325,
          35.1315,
          33.512,
          9.658,
          19.884,
          3.406,
          15.655,
          27.396,
          21.968,
          12.048,
          4.336,
          5.611,
          20.736,
          39.48,
          1.537,
          18.792,
          25.5105,
          9.0045,
          5.679,
          41.315,
          31.99,
          11.1475,
          3.574,
          0.7715,
          1.616,
          34.392,
          4.434,
          35.84,
          36.175,
          9.183,
          3.711,
          16.719,
          24.7815,
          7.905,
          15.148,
          7.935,
          3.347,
          29.283,
          39.385,
          0.9165,
          44.74,
          31.06,
          7.278,
          22.773,
          33.6015,
          20.825,
          22.068,
          9.0045,
          39.155,
          5.095,
          29.757,
          14.502,
          7.7,
          16.072,
          12.2275,
          29.071,
          19.13,
          17.283,
          2.1235,
          23.097,
          9.476,
          22.43,
          7.693,
          28.962,
          4.4875,
          4.858,
          43.935,
          3.735,
          7.9125,
          24.81,
          2.4355,
          35.3475,
          10.3815,
          17.478,
          10.6225,
          44.335,
          8.214,
          18.639,
          15.291,
          40.985,
          1.649,
          14.7315,
          25.494,
          26.1315,
          36.3555,
          4.053,
          5.485,
          2.568,
          5.48,
          5.344,
          39.824,
          19.992,
          44.982,
          25.564,
          22.588,
          32.7915,
          8.0625,
          14.2785,
          27.416,
          40.626,
          13.867,
          27.639,
          6.968,
          26.235,
          24.39,
          13.533,
          6.5775,
          10.326,
          25.955,
          29,
          44.9,
          45.25,
          34.3,
          1.5205,
          23.385,
          13.878,
          15.07,
          13.228,
          28.744,
          12.984,
          18.308,
          12.096,
          37.458,
          4.944,
          32.388,
          23.0725,
          3.6085,
          12.57,
          43.749,
          28.017,
          17.272,
          3.1845,
          16.0265,
          7.64,
          19.95,
          17.028,
          [
           47.2258125
          ],
          [
           47.2258125
          ],
          15.384,
          24.332,
          17.5025,
          20.0125,
          8.34,
          15.867,
          7.916,
          15.228,
          8.868,
          7.8785,
          22.164,
          13.02,
          22.491,
          15.388,
          7.75,
          13.724,
          4.319,
          2.712,
          37.796,
          9.294,
          3.7035,
          13.962,
          11.556,
          7.352,
          39.51,
          5.11,
          8.1775,
          3.7145,
          4.37,
          1.2645,
          8.3,
          17.8475,
          5.745,
          11.498,
          21.4935,
          12.95,
          4.4425,
          10.3635,
          29.9925,
          14.265,
          4.5555,
          44.8785,
          11.8035,
          41.967,
          23.09,
          6.963,
          10.3635,
          0.914,
          6.1925,
          14.196,
          37.948,
          8.601,
          13.605,
          21.728,
          2.9525,
          0.627,
          4.325,
          8.716,
          31.2165,
          7.412,
          27.21,
          25.368,
          8.137,
          1.5885,
          37.8405,
          14.764,
          25.97,
          9.314,
          4.3525,
          11.055,
          3.305,
          4.4845,
          11.223,
          5.977,
          9.32,
          12.53,
          37.548,
          19.036,
          12.21,
          4.485,
          15.544,
          25.571,
          20.9475,
          17.595,
          1.439,
          4.75,
          23.56,
          6.524,
          3.3175,
          7.773,
          6.45,
          13.188,
          33.777,
          3.29,
          7.66,
          11.12,
          2.7225,
          34.44,
          7.094,
          37.3,
          14.148,
          17.77,
          16.8575,
          2.112,
          9.693,
          1.203,
          29.913,
          16.7895,
          10.91,
          19.084,
          35.495,
          22.01,
          27.984,
          1.85,
          0.767,
          29.949,
          9.534,
          16.67,
          3.743,
          10.6875,
          16.9785,
          33.208,
          20.15,
          9.7475,
          3.124,
          3.636,
          9.055,
          12.98,
          5.768,
          23.514,
          12.002,
          4.4305,
          9.982,
          1.9505,
          2.4305,
          10.238,
          5.984,
          25.27,
          14.0805,
          35.516,
          3.972,
          8.191,
          23.979,
          6.933,
          3.5575,
          6.9975,
          39.065,
          9.937,
          3.162,
          18.6975,
          10.3845,
          8.814,
          10.3185,
          1.971,
          4.578,
          15.4425,
          6.456,
          19.548,
          24.945,
          18.852,
          10.226,
          7.272,
          9.909,
          4.935,
          19.255,
          2.348,
          3.675,
          7.1125,
          34.38,
          17.385,
          7.1475,
          19.269,
          7.2135,
          19.5895,
          26.915,
          24.2575,
          6.6975,
          35.0685,
          3.5975,
          35.7,
          9.107,
          6.75,
          [
           47.2258125
          ],
          18.0915,
          19.1555,
          12.15,
          1.512,
          17.828,
          18.775,
          [
           47.2258125
          ],
          4.125,
          3.7485,
          32.384,
          37.788,
          9.979,
          21.966,
          8.248,
          16.336,
          23.094,
          13.188,
          7.18,
          9.675,
          9.191,
          6.096,
          21.033,
          12.624,
          16.7725,
          24.175,
          15.921,
          33.4215,
          19.396,
          4.73,
          16.466,
          2.661,
          24.9225,
          14.978,
          10.235,
          3.791,
          14.031,
          16.16,
          24.3315,
          6.377,
          12.072,
          18.975,
          3.841,
          26.13,
          3.987,
          19.375,
          13.5675,
          6.1155,
          12.318,
          8.658,
          11.829,
          9.244,
          0.699,
          9.9375,
          34.2265,
          13.452,
          3.4475,
          13.742,
          11.306,
          5.955,
          17.105,
          2.187,
          5.2425,
          3.876,
          20.372,
          4.8055,
          9.076,
          4.0755,
          5.722,
          8.827,
          5.79,
          12.6075,
          [
           47.2258125
          ],
          10.168,
          0.814,
          18.2745,
          18.6095,
          3.1305,
          16.8175,
          45.325,
          6.908,
          4.327,
          7.038,
          33.439,
          2.372,
          44.658,
          16.586,
          10.197,
          3.408,
          16.344,
          4.36,
          35.372,
          40.1445,
          0.639,
          6.685,
          0.9575,
          13.83,
          6.861,
          1.3535,
          1.956,
          22.413,
          6.603,
          15.9025,
          1.25,
          4.154,
          7.39,
          34.83,
          39.695,
          23.285,
          1.7945,
          10.13,
          36.525,
          14.79,
          1.131,
          12.835,
          27.275,
          13.0025,
          11.106,
          1.079,
          4.942,
          25.131,
          8.01,
          21.565,
          29.028,
          16.11,
          9.777,
          8.315,
          16.814,
          17.185,
          1.93,
          26.388,
          16.4,
          9.285,
          30.19,
          18.49,
          9.898,
          20.545,
          7.43,
          1.148,
          34.956,
          3.47,
          9.83,
          10.128,
          6.06,
          9.989,
          30.368,
          6.322,
          27.072,
          4.9065,
          20.608,
          3.6985,
          1.595,
          6.94,
          9.331,
          4.4225,
          9.672,
          7.275,
          25.215,
          15.3225,
          4.785,
          31.759,
          10.7275,
          18.998,
          34.8425,
          20.4365,
          2.5735,
          13.715,
          9.8475,
          3.473,
          17.98,
          6.8565,
          24.951,
          11.232,
          6.287,
          24.513,
          22.8525,
          7.842,
          5.986,
          27.18,
          44.1405,
          7.629,
          34.672,
          11.475,
          7.3395,
          7.08,
          5.8345,
          3.698,
          4.897,
          14.61,
          26.244,
          4.602,
          3.794,
          4.036,
          5.631,
          3.56,
          7.762,
          14.71,
          27.4275,
          12.885,
          19.818,
          8.5905,
          24.4395,
          26.208,
          6.663,
          6.762,
          5.622,
          7.204,
          [
           47.2258125
          ],
          12.498,
          10.863,
          9.711,
          44.6,
          16.968,
          22.353,
          9.925,
          40.605,
          24.665,
          29.583,
          27.951,
          25.893,
          20.51,
          13.335,
          3.5455,
          7.239,
          21.4775,
          28.4585,
          12.06,
          6.354,
          12.854,
          6.951,
          4.083,
          15.536,
          9.298,
          3.616,
          9.459,
          10.342,
          7.851,
          10.765,
          29.805,
          3.655,
          13.959,
          8.484,
          2.279,
          11.28,
          14.52,
          2.223,
          7.83,
          20.997,
          9.2125,
          7.032,
          4.154,
          3.2495,
          38.78,
          16.353,
          18.1615,
          6.35,
          18.7775,
          9.958,
          1.5305,
          5.789,
          1.448,
          44.5365,
          13.983,
          4.0465,
          33.725,
          17.424,
          21.78,
          21.9775,
          29.559,
          13.038,
          10.752,
          4.5805,
          33.1065,
          41.625,
          4.5675,
          7.888,
          6.087,
          41.29,
          7.995,
          0.6045,
          32.095,
          11.7465,
          8.377,
          14.955,
          11.9865,
          33.235,
          10.1325,
          2.31,
          4.4075,
          7.863,
          14.8185,
          35.42,
          5.567,
          29.008,
          3.0125,
          8.712,
          21.063,
          1.6815,
          1.549,
          12.37,
          18.915,
          16.743,
          36.39,
          16.794,
          12.036,
          2.3535,
          4.9845,
          13.2225,
          6.9825,
          2.7725,
          6.4455,
          5.999,
          17.625,
          43.55,
          9.88,
          9.726,
          8.661,
          3.594,
          14.313,
          4.062,
          28.02,
          9.34,
          11.0115,
          13.456,
          22.74,
          8.377,
          22.428,
          14.694,
          29.475,
          14.55,
          1.974,
          1.7405,
          14.796,
          2.148,
          6.924,
          4.91,
          6.483,
          31.78,
          7.288,
          10.065,
          31.5855,
          19.264,
          24.315,
          25.683,
          23.67,
          21.8425,
          5.408,
          12.438,
          31.311,
          [
           47.2258125
          ],
          24.164,
          4.848,
          9.885,
          36.2115,
          39.7755,
          25.1195,
          8.6,
          3.449,
          6.248,
          3.855,
          24.186,
          15.106,
          34.9335,
          6.2325,
          39.48,
          8.92,
          25.011,
          1.791,
          6.807,
          5.244,
          8.946,
          40.7835,
          6.618,
          12.8695,
          4.668,
          11.4,
          8.3355,
          34.87,
          19.452,
          18.263,
          4.464,
          8.4,
          0.985,
          26.558,
          2.686,
          40.975,
          28.42,
          29.38,
          36.624,
          42.282,
          19.4635,
          4.2415,
          7.163,
          3.769,
          12.668,
          1.921,
          32.615,
          2.6325,
          5.5305,
          28.4305,
          4.464,
          6.82,
          8.71,
          18.32,
          12.7305,
          38.916,
          14.296,
          28.956,
          9.425,
          11.078,
          38.6,
          36.065,
          25.552,
          2.6725,
          11.1,
          38.184,
          11.409,
          4.107,
          19.128,
          3.429,
          19.108,
          30.0545,
          23.7965,
          2.621,
          6.565,
          7.215,
          22.8585,
          4.669,
          6.3125,
          39.5415,
          8.72,
          18.952,
          1.531,
          17.604,
          2.54,
          26.103,
          28.756,
          2.7475,
          9.0705,
          20.6185,
          2.3205,
          13.71,
          [
           47.2258125
          ],
          32.41,
          4.661,
          2.718,
          3.0435,
          12.245,
          4.639,
          21.6725,
          6.903,
          12.08,
          23.5865,
          22.032,
          34.0155,
          15.494,
          9.318,
          10.046,
          0.8875,
          31.09,
          4.3,
          20.13,
          16.2425,
          4.7575,
          19.448,
          21.284,
          15.904,
          13.552,
          19.232,
          11.79,
          10.578,
          4.768,
          0.5085,
          10.3065,
          21.028,
          4.402,
          32.4495,
          6.192,
          32.475,
          37.11,
          4.224,
          12.514,
          4.74,
          4.565,
          14.2555,
          2.619,
          9.635,
          13.389,
          27.935,
          8.766,
          7.791,
          3.015,
          3.947,
          1.487,
          1.066,
          14.067,
          3.663,
          1.119,
          32.796,
          29.73,
          3.705,
          9.848,
          18.6165,
          26.395,
          23.9875,
          16.4295,
          8.448,
          5.662,
          17.277,
          21.4335,
          4.3135,
          1.276,
          5.076,
          17.8745,
          11.9385,
          5.0715,
          36.212,
          6.282,
          3.6465,
          12.918,
          8.687,
          2.825,
          10.715,
          26.718,
          4.658,
          26.104,
          2.6175,
          1.9875,
          36.008,
          4.84,
          16.605,
          4.072,
          15.995,
          10.326,
          8.334,
          15.953,
          4.395,
          36.735,
          4.876,
          38.46,
          20.915,
          23.164,
          23.1225,
          7.095,
          15.135,
          39.664,
          21.259,
          14.181,
          29.96,
          15.768,
          20.178,
          9.194,
          6.9325,
          4.0355,
          5.832,
          15.676,
          42.305,
          20.72,
          7.954,
          24.505,
          4.3725,
          11.226,
          37.248,
          20.536,
          14.94,
          10.647,
          2.1425,
          18.934,
          10.3455,
          3.939,
          16.1055,
          4.911,
          1.273,
          29.099,
          10.566,
          2.756,
          4.4155,
          17.829,
          39.7125,
          2.531,
          29.976,
          8.335,
          37.22,
          22.428,
          18.945,
          12.858,
          27.6115,
          22.37,
          13.8135,
          17.187,
          13.304,
          44.919,
          22.84,
          12.6975,
          3.528,
          32.858,
          8.425,
          2.689,
          8.9525,
          10.572,
          5.9865,
          3.285,
          12.57,
          4.208,
          19.773,
          14.8995,
          22.7205,
          13.806,
          7.9,
          44.397,
          4.599,
          2.089,
          0.775,
          14.523,
          3.333,
          3.827,
          14.985,
          12.1515,
          2.37,
          8.6225,
          42.315,
          12.9185,
          30.478,
          12.012,
          8.613,
          4.992,
          14.932,
          7.98,
          1.2725,
          3.3885,
          11.918,
          11.63,
          43.866,
          34.986,
          33.7295,
          15.9275,
          1.476,
          24.8,
          41.17,
          30.148,
          14.14,
          38.3,
          5.803,
          8.745,
          3.0475,
          2.0175,
          [
           47.2258125
          ],
          1.592,
          3.291,
          30.919
         ],
         "y0": " ",
         "yaxis": "y"
        }
       ],
       "layout": {
        "boxmode": "group",
        "legend": {
         "tracegroupgap": 0
        },
        "margin": {
         "t": 60
        },
        "template": {
         "data": {
          "bar": [
           {
            "error_x": {
             "color": "#2a3f5f"
            },
            "error_y": {
             "color": "#2a3f5f"
            },
            "marker": {
             "line": {
              "color": "#E5ECF6",
              "width": 0.5
             },
             "pattern": {
              "fillmode": "overlay",
              "size": 10,
              "solidity": 0.2
             }
            },
            "type": "bar"
           }
          ],
          "barpolar": [
           {
            "marker": {
             "line": {
              "color": "#E5ECF6",
              "width": 0.5
             },
             "pattern": {
              "fillmode": "overlay",
              "size": 10,
              "solidity": 0.2
             }
            },
            "type": "barpolar"
           }
          ],
          "carpet": [
           {
            "aaxis": {
             "endlinecolor": "#2a3f5f",
             "gridcolor": "white",
             "linecolor": "white",
             "minorgridcolor": "white",
             "startlinecolor": "#2a3f5f"
            },
            "baxis": {
             "endlinecolor": "#2a3f5f",
             "gridcolor": "white",
             "linecolor": "white",
             "minorgridcolor": "white",
             "startlinecolor": "#2a3f5f"
            },
            "type": "carpet"
           }
          ],
          "choropleth": [
           {
            "colorbar": {
             "outlinewidth": 0,
             "ticks": ""
            },
            "type": "choropleth"
           }
          ],
          "contour": [
           {
            "colorbar": {
             "outlinewidth": 0,
             "ticks": ""
            },
            "colorscale": [
             [
              0,
              "#0d0887"
             ],
             [
              0.1111111111111111,
              "#46039f"
             ],
             [
              0.2222222222222222,
              "#7201a8"
             ],
             [
              0.3333333333333333,
              "#9c179e"
             ],
             [
              0.4444444444444444,
              "#bd3786"
             ],
             [
              0.5555555555555556,
              "#d8576b"
             ],
             [
              0.6666666666666666,
              "#ed7953"
             ],
             [
              0.7777777777777778,
              "#fb9f3a"
             ],
             [
              0.8888888888888888,
              "#fdca26"
             ],
             [
              1,
              "#f0f921"
             ]
            ],
            "type": "contour"
           }
          ],
          "contourcarpet": [
           {
            "colorbar": {
             "outlinewidth": 0,
             "ticks": ""
            },
            "type": "contourcarpet"
           }
          ],
          "heatmap": [
           {
            "colorbar": {
             "outlinewidth": 0,
             "ticks": ""
            },
            "colorscale": [
             [
              0,
              "#0d0887"
             ],
             [
              0.1111111111111111,
              "#46039f"
             ],
             [
              0.2222222222222222,
              "#7201a8"
             ],
             [
              0.3333333333333333,
              "#9c179e"
             ],
             [
              0.4444444444444444,
              "#bd3786"
             ],
             [
              0.5555555555555556,
              "#d8576b"
             ],
             [
              0.6666666666666666,
              "#ed7953"
             ],
             [
              0.7777777777777778,
              "#fb9f3a"
             ],
             [
              0.8888888888888888,
              "#fdca26"
             ],
             [
              1,
              "#f0f921"
             ]
            ],
            "type": "heatmap"
           }
          ],
          "histogram": [
           {
            "marker": {
             "pattern": {
              "fillmode": "overlay",
              "size": 10,
              "solidity": 0.2
             }
            },
            "type": "histogram"
           }
          ],
          "histogram2d": [
           {
            "colorbar": {
             "outlinewidth": 0,
             "ticks": ""
            },
            "colorscale": [
             [
              0,
              "#0d0887"
             ],
             [
              0.1111111111111111,
              "#46039f"
             ],
             [
              0.2222222222222222,
              "#7201a8"
             ],
             [
              0.3333333333333333,
              "#9c179e"
             ],
             [
              0.4444444444444444,
              "#bd3786"
             ],
             [
              0.5555555555555556,
              "#d8576b"
             ],
             [
              0.6666666666666666,
              "#ed7953"
             ],
             [
              0.7777777777777778,
              "#fb9f3a"
             ],
             [
              0.8888888888888888,
              "#fdca26"
             ],
             [
              1,
              "#f0f921"
             ]
            ],
            "type": "histogram2d"
           }
          ],
          "histogram2dcontour": [
           {
            "colorbar": {
             "outlinewidth": 0,
             "ticks": ""
            },
            "colorscale": [
             [
              0,
              "#0d0887"
             ],
             [
              0.1111111111111111,
              "#46039f"
             ],
             [
              0.2222222222222222,
              "#7201a8"
             ],
             [
              0.3333333333333333,
              "#9c179e"
             ],
             [
              0.4444444444444444,
              "#bd3786"
             ],
             [
              0.5555555555555556,
              "#d8576b"
             ],
             [
              0.6666666666666666,
              "#ed7953"
             ],
             [
              0.7777777777777778,
              "#fb9f3a"
             ],
             [
              0.8888888888888888,
              "#fdca26"
             ],
             [
              1,
              "#f0f921"
             ]
            ],
            "type": "histogram2dcontour"
           }
          ],
          "mesh3d": [
           {
            "colorbar": {
             "outlinewidth": 0,
             "ticks": ""
            },
            "type": "mesh3d"
           }
          ],
          "parcoords": [
           {
            "line": {
             "colorbar": {
              "outlinewidth": 0,
              "ticks": ""
             }
            },
            "type": "parcoords"
           }
          ],
          "pie": [
           {
            "automargin": true,
            "type": "pie"
           }
          ],
          "scatter": [
           {
            "fillpattern": {
             "fillmode": "overlay",
             "size": 10,
             "solidity": 0.2
            },
            "type": "scatter"
           }
          ],
          "scatter3d": [
           {
            "line": {
             "colorbar": {
              "outlinewidth": 0,
              "ticks": ""
             }
            },
            "marker": {
             "colorbar": {
              "outlinewidth": 0,
              "ticks": ""
             }
            },
            "type": "scatter3d"
           }
          ],
          "scattercarpet": [
           {
            "marker": {
             "colorbar": {
              "outlinewidth": 0,
              "ticks": ""
             }
            },
            "type": "scattercarpet"
           }
          ],
          "scattergeo": [
           {
            "marker": {
             "colorbar": {
              "outlinewidth": 0,
              "ticks": ""
             }
            },
            "type": "scattergeo"
           }
          ],
          "scattergl": [
           {
            "marker": {
             "colorbar": {
              "outlinewidth": 0,
              "ticks": ""
             }
            },
            "type": "scattergl"
           }
          ],
          "scattermap": [
           {
            "marker": {
             "colorbar": {
              "outlinewidth": 0,
              "ticks": ""
             }
            },
            "type": "scattermap"
           }
          ],
          "scattermapbox": [
           {
            "marker": {
             "colorbar": {
              "outlinewidth": 0,
              "ticks": ""
             }
            },
            "type": "scattermapbox"
           }
          ],
          "scatterpolar": [
           {
            "marker": {
             "colorbar": {
              "outlinewidth": 0,
              "ticks": ""
             }
            },
            "type": "scatterpolar"
           }
          ],
          "scatterpolargl": [
           {
            "marker": {
             "colorbar": {
              "outlinewidth": 0,
              "ticks": ""
             }
            },
            "type": "scatterpolargl"
           }
          ],
          "scatterternary": [
           {
            "marker": {
             "colorbar": {
              "outlinewidth": 0,
              "ticks": ""
             }
            },
            "type": "scatterternary"
           }
          ],
          "surface": [
           {
            "colorbar": {
             "outlinewidth": 0,
             "ticks": ""
            },
            "colorscale": [
             [
              0,
              "#0d0887"
             ],
             [
              0.1111111111111111,
              "#46039f"
             ],
             [
              0.2222222222222222,
              "#7201a8"
             ],
             [
              0.3333333333333333,
              "#9c179e"
             ],
             [
              0.4444444444444444,
              "#bd3786"
             ],
             [
              0.5555555555555556,
              "#d8576b"
             ],
             [
              0.6666666666666666,
              "#ed7953"
             ],
             [
              0.7777777777777778,
              "#fb9f3a"
             ],
             [
              0.8888888888888888,
              "#fdca26"
             ],
             [
              1,
              "#f0f921"
             ]
            ],
            "type": "surface"
           }
          ],
          "table": [
           {
            "cells": {
             "fill": {
              "color": "#EBF0F8"
             },
             "line": {
              "color": "white"
             }
            },
            "header": {
             "fill": {
              "color": "#C8D4E3"
             },
             "line": {
              "color": "white"
             }
            },
            "type": "table"
           }
          ]
         },
         "layout": {
          "annotationdefaults": {
           "arrowcolor": "#2a3f5f",
           "arrowhead": 0,
           "arrowwidth": 1
          },
          "autotypenumbers": "strict",
          "coloraxis": {
           "colorbar": {
            "outlinewidth": 0,
            "ticks": ""
           }
          },
          "colorscale": {
           "diverging": [
            [
             0,
             "#8e0152"
            ],
            [
             0.1,
             "#c51b7d"
            ],
            [
             0.2,
             "#de77ae"
            ],
            [
             0.3,
             "#f1b6da"
            ],
            [
             0.4,
             "#fde0ef"
            ],
            [
             0.5,
             "#f7f7f7"
            ],
            [
             0.6,
             "#e6f5d0"
            ],
            [
             0.7,
             "#b8e186"
            ],
            [
             0.8,
             "#7fbc41"
            ],
            [
             0.9,
             "#4d9221"
            ],
            [
             1,
             "#276419"
            ]
           ],
           "sequential": [
            [
             0,
             "#0d0887"
            ],
            [
             0.1111111111111111,
             "#46039f"
            ],
            [
             0.2222222222222222,
             "#7201a8"
            ],
            [
             0.3333333333333333,
             "#9c179e"
            ],
            [
             0.4444444444444444,
             "#bd3786"
            ],
            [
             0.5555555555555556,
             "#d8576b"
            ],
            [
             0.6666666666666666,
             "#ed7953"
            ],
            [
             0.7777777777777778,
             "#fb9f3a"
            ],
            [
             0.8888888888888888,
             "#fdca26"
            ],
            [
             1,
             "#f0f921"
            ]
           ],
           "sequentialminus": [
            [
             0,
             "#0d0887"
            ],
            [
             0.1111111111111111,
             "#46039f"
            ],
            [
             0.2222222222222222,
             "#7201a8"
            ],
            [
             0.3333333333333333,
             "#9c179e"
            ],
            [
             0.4444444444444444,
             "#bd3786"
            ],
            [
             0.5555555555555556,
             "#d8576b"
            ],
            [
             0.6666666666666666,
             "#ed7953"
            ],
            [
             0.7777777777777778,
             "#fb9f3a"
            ],
            [
             0.8888888888888888,
             "#fdca26"
            ],
            [
             1,
             "#f0f921"
            ]
           ]
          },
          "colorway": [
           "#636efa",
           "#EF553B",
           "#00cc96",
           "#ab63fa",
           "#FFA15A",
           "#19d3f3",
           "#FF6692",
           "#B6E880",
           "#FF97FF",
           "#FECB52"
          ],
          "font": {
           "color": "#2a3f5f"
          },
          "geo": {
           "bgcolor": "white",
           "lakecolor": "white",
           "landcolor": "#E5ECF6",
           "showlakes": true,
           "showland": true,
           "subunitcolor": "white"
          },
          "hoverlabel": {
           "align": "left"
          },
          "hovermode": "closest",
          "mapbox": {
           "style": "light"
          },
          "paper_bgcolor": "white",
          "plot_bgcolor": "#E5ECF6",
          "polar": {
           "angularaxis": {
            "gridcolor": "white",
            "linecolor": "white",
            "ticks": ""
           },
           "bgcolor": "#E5ECF6",
           "radialaxis": {
            "gridcolor": "white",
            "linecolor": "white",
            "ticks": ""
           }
          },
          "scene": {
           "xaxis": {
            "backgroundcolor": "#E5ECF6",
            "gridcolor": "white",
            "gridwidth": 2,
            "linecolor": "white",
            "showbackground": true,
            "ticks": "",
            "zerolinecolor": "white"
           },
           "yaxis": {
            "backgroundcolor": "#E5ECF6",
            "gridcolor": "white",
            "gridwidth": 2,
            "linecolor": "white",
            "showbackground": true,
            "ticks": "",
            "zerolinecolor": "white"
           },
           "zaxis": {
            "backgroundcolor": "#E5ECF6",
            "gridcolor": "white",
            "gridwidth": 2,
            "linecolor": "white",
            "showbackground": true,
            "ticks": "",
            "zerolinecolor": "white"
           }
          },
          "shapedefaults": {
           "line": {
            "color": "#2a3f5f"
           }
          },
          "ternary": {
           "aaxis": {
            "gridcolor": "white",
            "linecolor": "white",
            "ticks": ""
           },
           "baxis": {
            "gridcolor": "white",
            "linecolor": "white",
            "ticks": ""
           },
           "bgcolor": "#E5ECF6",
           "caxis": {
            "gridcolor": "white",
            "linecolor": "white",
            "ticks": ""
           }
          },
          "title": {
           "x": 0.05
          },
          "xaxis": {
           "automargin": true,
           "gridcolor": "white",
           "linecolor": "white",
           "ticks": "",
           "title": {
            "standoff": 15
           },
           "zerolinecolor": "white",
           "zerolinewidth": 2
          },
          "yaxis": {
           "automargin": true,
           "gridcolor": "white",
           "linecolor": "white",
           "ticks": "",
           "title": {
            "standoff": 15
           },
           "zerolinecolor": "white",
           "zerolinewidth": 2
          }
         }
        },
        "xaxis": {
         "anchor": "y",
         "domain": [
          0,
          1
         ]
        },
        "yaxis": {
         "anchor": "x",
         "domain": [
          0,
          1
         ],
         "title": {
          "text": "gross income"
         }
        }
       }
      }
     },
     "metadata": {},
     "output_type": "display_data"
    }
   ],
   "source": [
    "px.box(data_frame=updated,y='gross income')"
   ]
  },
  {
   "cell_type": "markdown",
   "id": "ce7a0080",
   "metadata": {},
   "source": [
    "## Capping Cogs column from outliers"
   ]
  },
  {
   "cell_type": "code",
   "execution_count": 18,
   "id": "756adf95",
   "metadata": {},
   "outputs": [
    {
     "name": "stderr",
     "output_type": "stream",
     "text": [
      "C:\\Users\\dell\\AppData\\Local\\Temp\\ipykernel_16232\\2772071069.py:13: FutureWarning:\n",
      "\n",
      "Calling float on a single element Series is deprecated and will raise a TypeError in the future. Use float(ser.iloc[0]) instead\n",
      "\n"
     ]
    },
    {
     "data": {
      "text/plain": [
       "0      522.83000\n",
       "1       76.40000\n",
       "2      324.31000\n",
       "3      465.76000\n",
       "4      604.17000\n",
       "         ...    \n",
       "995     40.35000\n",
       "996    944.51625\n",
       "997     31.84000\n",
       "998     65.82000\n",
       "999    618.38000\n",
       "Name: cogs, Length: 1000, dtype: float64"
      ]
     },
     "execution_count": 18,
     "metadata": {},
     "output_type": "execute_result"
    }
   ],
   "source": [
    "cogslower=lowerbound['cogs']\n",
    "cogsrupper=upperbound['cogs']\n",
    "\n",
    "nombre=df.select_dtypes(['number'])\n",
    "dictt=nombre.to_dict()\n",
    "for i in range(len(dictt['cogs'])):\n",
    "    if dictt['cogs'][i]<cogslower[0]:\n",
    "        dictt['cogs'][i]=cogslower\n",
    "    elif dictt['cogs'][i]>cogsrupper[0]:\n",
    "        dictt['cogs'][i]=cogsrupper\n",
    "updated=pd.DataFrame(dictt)\n",
    "df['cogs']=updated['cogs']\n",
    "df['cogs']=df['cogs'].astype('float64')\n",
    "df['cogs']"
   ]
  },
  {
   "cell_type": "code",
   "execution_count": 19,
   "id": "1a01ef67",
   "metadata": {},
   "outputs": [
    {
     "data": {
      "application/vnd.plotly.v1+json": {
       "config": {
        "plotlyServerURL": "https://plot.ly"
       },
       "data": [
        {
         "alignmentgroup": "True",
         "hovertemplate": "cogs=%{y}<extra></extra>",
         "legendgroup": "",
         "marker": {
          "color": "#636efa"
         },
         "name": "",
         "notched": false,
         "offsetgroup": "",
         "orientation": "v",
         "showlegend": false,
         "type": "box",
         "x0": " ",
         "xaxis": "x",
         "y": {
          "bdata": "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",
          "dtype": "f8"
         },
         "y0": " ",
         "yaxis": "y"
        }
       ],
       "layout": {
        "boxmode": "group",
        "legend": {
         "tracegroupgap": 0
        },
        "template": {
         "data": {
          "bar": [
           {
            "error_x": {
             "color": "#2a3f5f"
            },
            "error_y": {
             "color": "#2a3f5f"
            },
            "marker": {
             "line": {
              "color": "#E5ECF6",
              "width": 0.5
             },
             "pattern": {
              "fillmode": "overlay",
              "size": 10,
              "solidity": 0.2
             }
            },
            "type": "bar"
           }
          ],
          "barpolar": [
           {
            "marker": {
             "line": {
              "color": "#E5ECF6",
              "width": 0.5
             },
             "pattern": {
              "fillmode": "overlay",
              "size": 10,
              "solidity": 0.2
             }
            },
            "type": "barpolar"
           }
          ],
          "carpet": [
           {
            "aaxis": {
             "endlinecolor": "#2a3f5f",
             "gridcolor": "white",
             "linecolor": "white",
             "minorgridcolor": "white",
             "startlinecolor": "#2a3f5f"
            },
            "baxis": {
             "endlinecolor": "#2a3f5f",
             "gridcolor": "white",
             "linecolor": "white",
             "minorgridcolor": "white",
             "startlinecolor": "#2a3f5f"
            },
            "type": "carpet"
           }
          ],
          "choropleth": [
           {
            "colorbar": {
             "outlinewidth": 0,
             "ticks": ""
            },
            "type": "choropleth"
           }
          ],
          "contour": [
           {
            "colorbar": {
             "outlinewidth": 0,
             "ticks": ""
            },
            "colorscale": [
             [
              0,
              "#0d0887"
             ],
             [
              0.1111111111111111,
              "#46039f"
             ],
             [
              0.2222222222222222,
              "#7201a8"
             ],
             [
              0.3333333333333333,
              "#9c179e"
             ],
             [
              0.4444444444444444,
              "#bd3786"
             ],
             [
              0.5555555555555556,
              "#d8576b"
             ],
             [
              0.6666666666666666,
              "#ed7953"
             ],
             [
              0.7777777777777778,
              "#fb9f3a"
             ],
             [
              0.8888888888888888,
              "#fdca26"
             ],
             [
              1,
              "#f0f921"
             ]
            ],
            "type": "contour"
           }
          ],
          "contourcarpet": [
           {
            "colorbar": {
             "outlinewidth": 0,
             "ticks": ""
            },
            "type": "contourcarpet"
           }
          ],
          "heatmap": [
           {
            "colorbar": {
             "outlinewidth": 0,
             "ticks": ""
            },
            "colorscale": [
             [
              0,
              "#0d0887"
             ],
             [
              0.1111111111111111,
              "#46039f"
             ],
             [
              0.2222222222222222,
              "#7201a8"
             ],
             [
              0.3333333333333333,
              "#9c179e"
             ],
             [
              0.4444444444444444,
              "#bd3786"
             ],
             [
              0.5555555555555556,
              "#d8576b"
             ],
             [
              0.6666666666666666,
              "#ed7953"
             ],
             [
              0.7777777777777778,
              "#fb9f3a"
             ],
             [
              0.8888888888888888,
              "#fdca26"
             ],
             [
              1,
              "#f0f921"
             ]
            ],
            "type": "heatmap"
           }
          ],
          "histogram": [
           {
            "marker": {
             "pattern": {
              "fillmode": "overlay",
              "size": 10,
              "solidity": 0.2
             }
            },
            "type": "histogram"
           }
          ],
          "histogram2d": [
           {
            "colorbar": {
             "outlinewidth": 0,
             "ticks": ""
            },
            "colorscale": [
             [
              0,
              "#0d0887"
             ],
             [
              0.1111111111111111,
              "#46039f"
             ],
             [
              0.2222222222222222,
              "#7201a8"
             ],
             [
              0.3333333333333333,
              "#9c179e"
             ],
             [
              0.4444444444444444,
              "#bd3786"
             ],
             [
              0.5555555555555556,
              "#d8576b"
             ],
             [
              0.6666666666666666,
              "#ed7953"
             ],
             [
              0.7777777777777778,
              "#fb9f3a"
             ],
             [
              0.8888888888888888,
              "#fdca26"
             ],
             [
              1,
              "#f0f921"
             ]
            ],
            "type": "histogram2d"
           }
          ],
          "histogram2dcontour": [
           {
            "colorbar": {
             "outlinewidth": 0,
             "ticks": ""
            },
            "colorscale": [
             [
              0,
              "#0d0887"
             ],
             [
              0.1111111111111111,
              "#46039f"
             ],
             [
              0.2222222222222222,
              "#7201a8"
             ],
             [
              0.3333333333333333,
              "#9c179e"
             ],
             [
              0.4444444444444444,
              "#bd3786"
             ],
             [
              0.5555555555555556,
              "#d8576b"
             ],
             [
              0.6666666666666666,
              "#ed7953"
             ],
             [
              0.7777777777777778,
              "#fb9f3a"
             ],
             [
              0.8888888888888888,
              "#fdca26"
             ],
             [
              1,
              "#f0f921"
             ]
            ],
            "type": "histogram2dcontour"
           }
          ],
          "mesh3d": [
           {
            "colorbar": {
             "outlinewidth": 0,
             "ticks": ""
            },
            "type": "mesh3d"
           }
          ],
          "parcoords": [
           {
            "line": {
             "colorbar": {
              "outlinewidth": 0,
              "ticks": ""
             }
            },
            "type": "parcoords"
           }
          ],
          "pie": [
           {
            "automargin": true,
            "type": "pie"
           }
          ],
          "scatter": [
           {
            "fillpattern": {
             "fillmode": "overlay",
             "size": 10,
             "solidity": 0.2
            },
            "type": "scatter"
           }
          ],
          "scatter3d": [
           {
            "line": {
             "colorbar": {
              "outlinewidth": 0,
              "ticks": ""
             }
            },
            "marker": {
             "colorbar": {
              "outlinewidth": 0,
              "ticks": ""
             }
            },
            "type": "scatter3d"
           }
          ],
          "scattercarpet": [
           {
            "marker": {
             "colorbar": {
              "outlinewidth": 0,
              "ticks": ""
             }
            },
            "type": "scattercarpet"
           }
          ],
          "scattergeo": [
           {
            "marker": {
             "colorbar": {
              "outlinewidth": 0,
              "ticks": ""
             }
            },
            "type": "scattergeo"
           }
          ],
          "scattergl": [
           {
            "marker": {
             "colorbar": {
              "outlinewidth": 0,
              "ticks": ""
             }
            },
            "type": "scattergl"
           }
          ],
          "scattermap": [
           {
            "marker": {
             "colorbar": {
              "outlinewidth": 0,
              "ticks": ""
             }
            },
            "type": "scattermap"
           }
          ],
          "scattermapbox": [
           {
            "marker": {
             "colorbar": {
              "outlinewidth": 0,
              "ticks": ""
             }
            },
            "type": "scattermapbox"
           }
          ],
          "scatterpolar": [
           {
            "marker": {
             "colorbar": {
              "outlinewidth": 0,
              "ticks": ""
             }
            },
            "type": "scatterpolar"
           }
          ],
          "scatterpolargl": [
           {
            "marker": {
             "colorbar": {
              "outlinewidth": 0,
              "ticks": ""
             }
            },
            "type": "scatterpolargl"
           }
          ],
          "scatterternary": [
           {
            "marker": {
             "colorbar": {
              "outlinewidth": 0,
              "ticks": ""
             }
            },
            "type": "scatterternary"
           }
          ],
          "surface": [
           {
            "colorbar": {
             "outlinewidth": 0,
             "ticks": ""
            },
            "colorscale": [
             [
              0,
              "#0d0887"
             ],
             [
              0.1111111111111111,
              "#46039f"
             ],
             [
              0.2222222222222222,
              "#7201a8"
             ],
             [
              0.3333333333333333,
              "#9c179e"
             ],
             [
              0.4444444444444444,
              "#bd3786"
             ],
             [
              0.5555555555555556,
              "#d8576b"
             ],
             [
              0.6666666666666666,
              "#ed7953"
             ],
             [
              0.7777777777777778,
              "#fb9f3a"
             ],
             [
              0.8888888888888888,
              "#fdca26"
             ],
             [
              1,
              "#f0f921"
             ]
            ],
            "type": "surface"
           }
          ],
          "table": [
           {
            "cells": {
             "fill": {
              "color": "#EBF0F8"
             },
             "line": {
              "color": "white"
             }
            },
            "header": {
             "fill": {
              "color": "#C8D4E3"
             },
             "line": {
              "color": "white"
             }
            },
            "type": "table"
           }
          ]
         },
         "layout": {
          "annotationdefaults": {
           "arrowcolor": "#2a3f5f",
           "arrowhead": 0,
           "arrowwidth": 1
          },
          "autotypenumbers": "strict",
          "coloraxis": {
           "colorbar": {
            "outlinewidth": 0,
            "ticks": ""
           }
          },
          "colorscale": {
           "diverging": [
            [
             0,
             "#8e0152"
            ],
            [
             0.1,
             "#c51b7d"
            ],
            [
             0.2,
             "#de77ae"
            ],
            [
             0.3,
             "#f1b6da"
            ],
            [
             0.4,
             "#fde0ef"
            ],
            [
             0.5,
             "#f7f7f7"
            ],
            [
             0.6,
             "#e6f5d0"
            ],
            [
             0.7,
             "#b8e186"
            ],
            [
             0.8,
             "#7fbc41"
            ],
            [
             0.9,
             "#4d9221"
            ],
            [
             1,
             "#276419"
            ]
           ],
           "sequential": [
            [
             0,
             "#0d0887"
            ],
            [
             0.1111111111111111,
             "#46039f"
            ],
            [
             0.2222222222222222,
             "#7201a8"
            ],
            [
             0.3333333333333333,
             "#9c179e"
            ],
            [
             0.4444444444444444,
             "#bd3786"
            ],
            [
             0.5555555555555556,
             "#d8576b"
            ],
            [
             0.6666666666666666,
             "#ed7953"
            ],
            [
             0.7777777777777778,
             "#fb9f3a"
            ],
            [
             0.8888888888888888,
             "#fdca26"
            ],
            [
             1,
             "#f0f921"
            ]
           ],
           "sequentialminus": [
            [
             0,
             "#0d0887"
            ],
            [
             0.1111111111111111,
             "#46039f"
            ],
            [
             0.2222222222222222,
             "#7201a8"
            ],
            [
             0.3333333333333333,
             "#9c179e"
            ],
            [
             0.4444444444444444,
             "#bd3786"
            ],
            [
             0.5555555555555556,
             "#d8576b"
            ],
            [
             0.6666666666666666,
             "#ed7953"
            ],
            [
             0.7777777777777778,
             "#fb9f3a"
            ],
            [
             0.8888888888888888,
             "#fdca26"
            ],
            [
             1,
             "#f0f921"
            ]
           ]
          },
          "colorway": [
           "#636efa",
           "#EF553B",
           "#00cc96",
           "#ab63fa",
           "#FFA15A",
           "#19d3f3",
           "#FF6692",
           "#B6E880",
           "#FF97FF",
           "#FECB52"
          ],
          "font": {
           "color": "#2a3f5f"
          },
          "geo": {
           "bgcolor": "white",
           "lakecolor": "white",
           "landcolor": "#E5ECF6",
           "showlakes": true,
           "showland": true,
           "subunitcolor": "white"
          },
          "hoverlabel": {
           "align": "left"
          },
          "hovermode": "closest",
          "mapbox": {
           "style": "light"
          },
          "paper_bgcolor": "white",
          "plot_bgcolor": "#E5ECF6",
          "polar": {
           "angularaxis": {
            "gridcolor": "white",
            "linecolor": "white",
            "ticks": ""
           },
           "bgcolor": "#E5ECF6",
           "radialaxis": {
            "gridcolor": "white",
            "linecolor": "white",
            "ticks": ""
           }
          },
          "scene": {
           "xaxis": {
            "backgroundcolor": "#E5ECF6",
            "gridcolor": "white",
            "gridwidth": 2,
            "linecolor": "white",
            "showbackground": true,
            "ticks": "",
            "zerolinecolor": "white"
           },
           "yaxis": {
            "backgroundcolor": "#E5ECF6",
            "gridcolor": "white",
            "gridwidth": 2,
            "linecolor": "white",
            "showbackground": true,
            "ticks": "",
            "zerolinecolor": "white"
           },
           "zaxis": {
            "backgroundcolor": "#E5ECF6",
            "gridcolor": "white",
            "gridwidth": 2,
            "linecolor": "white",
            "showbackground": true,
            "ticks": "",
            "zerolinecolor": "white"
           }
          },
          "shapedefaults": {
           "line": {
            "color": "#2a3f5f"
           }
          },
          "ternary": {
           "aaxis": {
            "gridcolor": "white",
            "linecolor": "white",
            "ticks": ""
           },
           "baxis": {
            "gridcolor": "white",
            "linecolor": "white",
            "ticks": ""
           },
           "bgcolor": "#E5ECF6",
           "caxis": {
            "gridcolor": "white",
            "linecolor": "white",
            "ticks": ""
           }
          },
          "title": {
           "x": 0.05
          },
          "xaxis": {
           "automargin": true,
           "gridcolor": "white",
           "linecolor": "white",
           "ticks": "",
           "title": {
            "standoff": 15
           },
           "zerolinecolor": "white",
           "zerolinewidth": 2
          },
          "yaxis": {
           "automargin": true,
           "gridcolor": "white",
           "linecolor": "white",
           "ticks": "",
           "title": {
            "standoff": 15
           },
           "zerolinecolor": "white",
           "zerolinewidth": 2
          }
         }
        },
        "title": {
         "text": "COGS",
         "x": 0.5
        },
        "xaxis": {
         "anchor": "y",
         "domain": [
          0,
          1
         ]
        },
        "yaxis": {
         "anchor": "x",
         "domain": [
          0,
          1
         ],
         "title": {
          "text": "cogs"
         }
        }
       }
      }
     },
     "metadata": {},
     "output_type": "display_data"
    }
   ],
   "source": [
    "cogsbox=px.box(data_frame=df,y='cogs',title='COGS')\n",
    "cogsbox.update_layout(title_x=0.5)"
   ]
  },
  {
   "cell_type": "markdown",
   "id": "261e178d",
   "metadata": {},
   "source": [
    "## Capping Tax5% column outliers"
   ]
  },
  {
   "cell_type": "code",
   "execution_count": 20,
   "id": "809cf54c",
   "metadata": {},
   "outputs": [
    {
     "name": "stderr",
     "output_type": "stream",
     "text": [
      "C:\\Users\\dell\\AppData\\Local\\Temp\\ipykernel_16232\\846491625.py:13: FutureWarning:\n",
      "\n",
      "Calling float on a single element Series is deprecated and will raise a TypeError in the future. Use float(ser.iloc[0]) instead\n",
      "\n"
     ]
    },
    {
     "data": {
      "text/plain": [
       "0      26.141500\n",
       "1       3.820000\n",
       "2      16.215500\n",
       "3      23.288000\n",
       "4      30.208500\n",
       "         ...    \n",
       "995     2.017500\n",
       "996    47.225813\n",
       "997     1.592000\n",
       "998     3.291000\n",
       "999    30.919000\n",
       "Name: Tax 5%, Length: 1000, dtype: float64"
      ]
     },
     "execution_count": 20,
     "metadata": {},
     "output_type": "execute_result"
    }
   ],
   "source": [
    "tax5lower=lowerbound['Tax 5%']\n",
    "tax5rupper=upperbound['Tax 5%']\n",
    "\n",
    "nombre=df.select_dtypes(['number'])\n",
    "dictt=nombre.to_dict()\n",
    "for i in range(len(dictt['Tax 5%'])):\n",
    "    if dictt['Tax 5%'][i]<tax5lower[0]:\n",
    "        dictt['Tax 5%'][i]=tax5lower\n",
    "    elif dictt['Tax 5%'][i]>tax5rupper[0]:\n",
    "        dictt['Tax 5%'][i]=tax5rupper\n",
    "updated=pd.DataFrame(dictt)\n",
    "df['Tax 5%']=updated['Tax 5%']\n",
    "df['Tax 5%']=df['Tax 5%'].astype('float64')\n",
    "df['Tax 5%']"
   ]
  },
  {
   "cell_type": "code",
   "execution_count": 21,
   "id": "6d78d6d9",
   "metadata": {},
   "outputs": [
    {
     "data": {
      "application/vnd.plotly.v1+json": {
       "config": {
        "plotlyServerURL": "https://plot.ly"
       },
       "data": [
        {
         "alignmentgroup": "True",
         "hovertemplate": "Tax 5%=%{y}<extra></extra>",
         "legendgroup": "",
         "marker": {
          "color": "#636efa"
         },
         "name": "",
         "notched": false,
         "offsetgroup": "",
         "orientation": "v",
         "showlegend": false,
         "type": "box",
         "x0": " ",
         "xaxis": "x",
         "y": {
          "bdata": "TmIQWDkkOkCPwvUoXI8OQLpJDAIrNzBAfT81XrpJN0BMN4lBYDU+QG3n+6nx4j1A9P3UeOmmNECkcD0K12NCQDVeukkMAg1AwcqhRbZzIEBeukkMAisHQJzEILByaBRAmpmZmZl5J0C4HoXrUZg1QLgehetR2EFABFYOLbIdPEDjpZvEICA4QJzEILByyDVALbKd76dmIEAfhetRuB4QQMP1KFyPgjVAvp8aL91kKkCPwvUoXI8KQEjhehSuRyFAEFg5tMiWKkDwp8ZLNwk1QDeJQWDl0Po/YhBYObSIIUDXo3A9Chc2QC2yne+nZiZAuB6F61GIN0BGtvP91JBBQKjGSzeJwUBAN4lBYOVQI0D8qfHSTeIzQHNoke18PwtAj8L1KFxPL0BMN4lBYGU7QCuHFtnO9zVAf2q8dJMYKEDy0k1iEFgRQIts5/upcRZAI9v5fmq8NEA9CtejcL1DQGQ730+Nl/g/mG4Sg8DKMkCmm8QgsII5QPyp8dJNAiJAnu+nxku3FkC4HoXrUahEQD0K16Nw/T9A7FG4HoVLJkBkO99PjZcMQOOlm8QgsOg/QmDl0CLb+T8ZBFYOLTJBQCPb+X5qvBFA7FG4HoXrQUBmZmZmZhZCQARWDi2yXSJA46WbxCCwDUDy0k1iELgwQPLSTWIQyDhAH4XrUbieH0Cyne+nxksuQD0K16NwvR9ALbKd76fGCkCcxCCwckg9QOF6FK5HsUNAhxbZzvdT7T8fhetRuF5GQI/C9ShcDz9A6SYxCKwcHUDZzvdT48U2QKJFtvP9zEBAMzMzMzPTNEDFILByaBE2QPyp8dJNAiJApHA9CteTQ0DhehSuR2EUQG8Sg8DKwT1AGy/dJAYBLUDNzMzMzMweQN9PjZduEjBAFK5H4Xp0KEAZBFYOLRI9QOF6FK5HITNAnMQgsHJIMUCwcmiR7fwAQEa28/3UGDdAwcqhRbbzIkCuR+F6FG42QBKDwMqhxR5Ag8DKoUX2PEAzMzMzM/MRQDvfT42XbhNASOF6FK73RUDhehSuR+ENQGZmZmZmph9Aj8L1KFzPOECWQ4ts53sDQBSuR+F6rEFAF9nO91PDJEDufD81XnoxQB+F61G4PiVAexSuR+EqRkAhsHJokW0gQN0kBoGVozJAokW28/2ULkCuR+F6FH5EQPyp8dJNYvo/SgwCK4d2LUBYObTIdn45QIts5/upITpAL90kBoEtQkCDwMqhRTYQQHE9Ctej8BVAJQaBlUOLBEDsUbgehesVQMdLN4lBYBVAtvP91HjpQ0DLoUW28/0zQARWDi2yfUZAqvHSTWKQOUBKDAIrh5Y2QFpkO99PZUBAAAAAAAAgIEA730+Nl44sQNEi2/l+ajtA46WbxCBQRECWQ4ts57srQN0kBoGVoztArBxaZDvfG0Bcj8L1KDw6QKRwPQrXYzhAN4lBYOUQK0CPwvUoXE8aQPT91HjppiRAFK5H4Xr0OUAAAAAAAAA9QDMzMzMzc0ZAAAAAAACgRkBmZmZmZiZBQIcW2c73U/g/w/UoXI9iN0Coxks3icErQKRwPQrXIy5A2/l+arx0KkBYObTIdr48QCuHFtnO9ylAAiuHFtlOMkD+1HjpJjEoQLTIdr6fukJALbKd76fGE0CLbOf7qTFAQMP1KFyPEjdAke18PzXeDECkcD0K1yMpQB1aZDvf30VAMQisHFoEPEASg8DKoUUxQGDl0CLbeQlAEFg5tMgGMECPwvUoXI8eQDMzMzMz8zNAukkMAisHMUCWQ4ts55xHQJZDi2znnEdA+FPjpZvELkCiRbbz/VQ4QHE9CtejgDFAMzMzMzMDNECuR+F6FK4gQJZDi2znuy9ARIts5/upH0Db+X5qvHQuQCPb+X5qvCFA3SQGgZWDH0BEi2zn+yk2QArXo3A9CipABFYOLbJ9NkAtsp3vp8YuQAAAAAAAAB9AppvEILByK0Atsp3vp0YRQBkEVg4tsgVA2c73U+PlQkBKDAIrh5YiQFTjpZvEoA1ABoGVQ4vsK0DpJjEIrBwnQJzEILByaB1A4XoUrkfBQ0BxPQrXo3AUQHsUrkfhWiBAnu+nxku3DUB7FK5H4XoRQAisHFpkO/Q/mpmZmZmZIEApXI/C9dgxQHsUrkfh+hZA5dAi2/n+JkB1kxgEVn41QGZmZmZm5ilAhetRuB7FEUAnMQisHLokQK5H4XoU/j1ASOF6FK6HLEBGtvP91DgSQJzEILBycEZACKwcWmSbJ0Cyne+nxvtEQNejcD0KFzdAJzEIrBzaG0AnMQisHLokQHNoke18P+0/hetRuB7FGEAxCKwcWmQsQNNNYhBY+UJAwcqhRbYzIUD2KFyPwjUrQO58PzVeujVAH4XrUbieB0Cq8dJNYhDkP83MzMzMTBFAO99PjZduIUCBlUOLbDc/QNnO91PjpR1A9ihcj8I1O0CR7Xw/NV45QKAaL90kRiBA0SLb+X5q+T/dJAaBletCQLpJDAIrhy1AuB6F61H4OUBU46WbxKAiQClcj8L1aBFAXI/C9SgcJkBxPQrXo3AKQOOlm8Qg8BFAGQRWDi1yJkCcxCCwcugXQKRwPQrXoyJAj8L1KFwPKUCgGi/dJMZCQPCnxks3CTNA7FG4HoVrKEBxPQrXo/ARQEoMAiuHFi9AGQRWDi2SOUDD9Shcj/I0QLgehetRmDFAoBov3SQG9z8AAAAAAAATQI/C9ShcjzdAf2q8dJMYGkAK16NwPYoKQGQ730+NFx9AzczMzMzMGUDHSzeJQWAqQPp+arx040BAUrgehetRCkCkcD0K16MeQD0K16NwPSZASOF6FK7HBUC4HoXrUThBQMdLN4lBYBxAZmZmZmamQkCyne+nxkssQIXrUbgexTFA7FG4HoXbMEBMN4lBYOUAQIlBYOXQYiNAc2iR7Xw/8z99PzVeuuk9QCcxCKwcyjBAUrgehevRJUAv3SQGgRUzQI/C9Shcv0FAw/UoXI8CNkCWQ4ts5/s7QJqZmZmZmf0/JQaBlUOL6D9t5/up8fI9QMUgsHJoESNA7FG4HoWrMECLbOf7qfENQAAAAAAAYCVA0SLb+X76MEC0yHa+n5pAQGZmZmZmJjRAH4XrUbh+I0DLoUW28/0IQEoMAiuHFg1AXI/C9SgcIkD2KFyPwvUpQN9PjZduEhdA3SQGgZWDN0AbL90kBgEoQEa28/3UuBFAEFg5tMj2I0Boke18PzX/P4ts5/upcQNAYOXQItt5JEBWDi2yne8XQIXrUbgeRTlA8KfGSzcpLEA1XrpJDMJBQC2yne+nxg9AbxKDwMphIEC0yHa+n/o3QAisHFpkuxtA9ihcj8J1DEA9CtejcP0bQLgehetRiENAObTIdr7fI0Cyne+nxksJQMP1KFyPsjJAvp8aL93EJEBU46WbxKAhQFCNl24SoyRA8KfGSzeJ/z8dWmQ7308SQMP1KFyP4i5Abef7qfHSGUA/NV66SYwzQFK4HoXr8ThAJzEIrBzaMkDByqFFtnMkQEoMAiuHFh1AxSCwcmjRI0A9CtejcL0TQOF6FK5HQTNAYhBYObTIAkBmZmZmZmYNQDMzMzMzcxxAcT0K16MwQUDD9Shcj2IxQNejcD0KlxxAvp8aL91EM0C0yHa+n9ocQPT91HjpljNACtejcD3qOkBSuB6F60E4QArXo3A9yhpAVOOlm8SIQUBI4XoUrscMQJqZmZmZ2UFAEFg5tMg2IkAAAAAAAAAbQJZDi2znnEdAgZVDi2wXMkArhxbZziczQM3MzMzMTChA/tR46SYx+D+HFtnO99MxQGZmZmZmxjJAlkOLbOecR0AAAAAAAIAQQLByaJHt/A1A/tR46SYxQEC+nxov3eRCQGiR7Xw/9SNAnu+nxkv3NUDl0CLb+X4gQLx0kxgEVjBA8tJNYhAYN0DHSzeJQWAqQLgehetRuBxAmpmZmZlZI0BvEoPAymEiQPyp8dJNYhhAnMQgsHIINUBzaJHtfD8pQPYoXI/CxTBAzczMzMwsOEBkO99PjdcvQMuhRbbztUBATDeJQWBlM0DsUbgehesSQJ7vp8ZLdzBAfT81XrpJBUBcj8L1KOw4QNv5fmq89C1AuB6F61F4JECHFtnO91MOQB1aZDvfDyxAKVyPwvUoMEC+nxov3VQ4QDVeukkMghlAvp8aL90kKECamZmZmfkyQO58PzVeug5A4XoUrkchOkBMN4lBYOUPQAAAAAAAYDNAw/UoXI8iK0CDwMqhRXYYQIlBYOXQoihAN4lBYOVQIUCcxCCwcqgnQLByaJHtfCJAke18PzVe5j8AAAAAAOAjQKJFtvP9HEFAgZVDi2znKkAUrkfhepQLQJZDi2zneytA6SYxCKycJkBSuB6F69EXQHsUrkfhGjFA5dAi2/l+AUC4HoXrUfgUQDVeukkMAg9ArBxaZDtfNEBGtvP91DgTQPT91HjpJiJAWmQ7309NEEAX2c73U+MWQIGVQ4tspyFAKVyPwvUoF0DXo3A9CjcpQJZDi2znnEdAvHSTGARWJEA/NV66SQzqP4PAyqFFRjJAeekmMQicMkAlBoGVQwsJQOF6FK5H0TBAmpmZmZmpRkBvEoPAyqEbQAIrhxbZThFA9P3UeOkmHEDVeOkmMbhAQGDl0CLb+QJATmIQWDlURkC8dJMYBJYwQL6fGi/dZCRA3SQGgZVDC0Dy0k1iEFgwQHE9CtejcBFAVg4tsp2vQUDRItv5fhJEQKabxCCwcuQ/PQrXo3C9GkCkcD0K16PuPylcj8L1qCtAi2zn+6lxG0AOLbKd76f1P7Kd76fGS/8/fT81XrppNkC28/3UeGkaQK5H4XoUzi9AAAAAAAAA9D8EVg4tsp0QQI/C9Shcjx1ACtejcD1qQUApXI/C9dhDQClcj8L1SDdAg8DKoUW2/D/D9Shcj0IkQDMzMzMzQ0JAFK5H4XqULUB/arx0kxjyP+xRuB6FqylAZmZmZmZGO0DhehSuRwEqQIPAyqFFNiZA3SQGgZVD8T/4U+Olm8QTQKjGSzeJITlAhetRuB4FIEBxPQrXo5A1QLpJDAIrBz1AXI/C9SgcMEDn+6nx0o0jQOF6FK5HoSBAqvHSTWLQMECPwvUoXC8xQOF6FK5H4f4/F9nO91NjOkBmZmZmZmYwQFK4HoXrkSJAcT0K16MwPkA9CtejcH0yQLKd76fGyyNA7FG4HoWLNEC4HoXrUbgdQJHtfD81XvI/7nw/NV56QUDD9Shcj8ILQClcj8L1qCNAqMZLN4lBJEA9CtejcD0YQO58PzVe+iNAke18PzVePkB9PzVeukkZQN9PjZduEjtAx0s3iUGgE0DP91PjpZs0QEoMAiuHlg1AhetRuB6F+T/D9Shcj8IbQLbz/dR4qSJAcT0K16OwEUDy0k1iEFgjQJqZmZmZGR1A16NwPQo3OUCF61G4HqUuQKRwPQrXIxNA/Knx0k3CP0AUrkfhenQlQHNoke18/zJApHA9CtdrQUA5tMh2vm80QEoMAiuHlgRArkfhehRuK0BSuB6F67EjQGIQWDm0yAtAexSuR+H6MUCTGARWDm0bQPp+arx08zhAEFg5tMh2JkDZzvdT4yUZQBfZzvdTgzhACtejcD3aNkCR7Xw/NV4fQIts5/up8RdArkfhehQuO0BEi2zn+xFGQGq8dJMYhB5AvHSTGARWQUAzMzMzM/MmQM/3U+OlWx1AUrgehetRHEBKDAIrh1YXQC/dJAaBlQ1ASgwCK4eWE0C4HoXrUTgtQFg5tMh2PjpAnMQgsHJoEkAnMQisHFoOQL6fGi/dJBBAoBov3SSGFkB7FK5H4XoMQD81XrpJDB9A7FG4HoVrLUA9CtejcG07QIXrUbgexSlAxSCwcmjRM0B1kxgEVi4hQI2XbhKDcDhAaJHtfD81OkD0/dR46aYaQD81XrpJDBtAsHJoke18FkA3iUFg5dAcQJZDi2znnEdA5dAi2/n+KEBg5dAi27klQHnpJjEIbCNAzczMzMxMRkArhxbZzvcwQO58PzVeWjZAmpmZmZnZI0A9CtejcE1EQArXo3A9qjhAaJHtfD+VPUD6fmq8dPM7QPhT46Wb5DlAw/UoXI+CNEDsUbgehasqQHe+nxovXQxA2/l+arz0HEAK16NwPXo1QEw3iUFgdTxAH4XrUbgeKEDRItv5fmoZQGiR7Xw/tSlA5/up8dLNG0CiRbbz/VQQQN9PjZduEi9Af2q8dJOYIkAhsHJoke0MQF66SQwC6yJAyXa+nxqvJECBlUOLbGcfQEjhehSuhyVArkfhehTOPUA9CtejcD0NQF66SQwC6ytAK4cW2c73IEAIrBxaZDsCQI/C9ShcjyZACtejcD0KLUBiEFg5tMgBQFK4HoXrUR9ArBxaZDv/NEDNzMzMzGwiQFTjpZvEIBxABFYOLbKdEEDl0CLb+f4JQKRwPQrXY0NA7nw/NV5aMEDTTWIQWCkyQGZmZmZmZhlA16NwPQrHMkDRItv5fuojQLByaJHtfPg/Di2yne8nF0BeukkMAiv3P+kmMQisREZAnu+nxkv3K0BWDi2ynS8QQM3MzMzM3EBABoGVQ4tsMUBI4XoUrsc1QArXo3A9+jVAyXa+nxqPPUD6fmq8dBMqQBsv3SQGgSVA30+Nl25SEkASg8DKoY1AQAAAAAAA0ERAhetRuB5FEkBaZDvfT40fQAwCK4cWWRhAhetRuB6lREB7FK5H4fofQPLSTWIQWOM/XI/C9SgMQECR7Xw/NX4nQBsv3SQGwSBAKVyPwvXoLUAMAiuHFvknQK5H4XoUnkBApHA9CtdDJEB7FK5H4XoCQOF6FK5HoRFAwcqhRbZzH0BQjZduEqMtQPYoXI/CtUFA+FPjpZtEFkA1XrpJDAI9QJqZmZmZGQhABoGVQ4tsIUDjpZvEIBA1QIGVQ4ts5/o/YhBYObTI+D89CtejcL0oQArXo3A96jJAke18PzW+MEBSuB6F6zFCQCUGgZVDyzBA30+Nl24SKECHFtnO99MCQOOlm8Qg8BNAUrgehetxKkCuR+F6FO4bQK5H4XoULgZA1XjpJjHIGUDl0CLb+f4XQAAAAAAAoDFAZmZmZmbGRUDD9Shcj8IjQMHKoUW2cyNA30+Nl25SIUCNl24Sg8AMQMdLN4lBoCxAc2iR7Xw/EECF61G4HgU8QK5H4XoUriJA2c73U+MFJkC28/3UeOkqQD0K16NwvTZAGy/dJAbBIEAhsHJokW02QBfZzvdTYy1AmpmZmZl5PUCamZmZmRktQC/dJAaBlf8/DAIrhxbZ+z9kO99PjZctQMl2vp8aLwFAGQRWDi2yG0CkcD0K16MTQDvfT42X7hlASOF6FK7HP0D0/dR46SYdQOF6FK5HISRA2c73U+OVP0DdJAaBlUMzQHE9CtejUDhAAiuHFtmuOUDsUbgehas3QEjhehSu1zVAbxKDwMqhFUDHSzeJQeAoQFYOLbKdTz9AlkOLbOecR0BEi2zn+yk4QDEIrBxaZBNAhetRuB7FI0BQjZduEhtCQCUGgZVD40NAO99PjZceOUAzMzMzMzMhQGQ730+NlwtAy6FFtvP9GEDXo3A9CtcOQFYOLbKdLzhAg8DKoUU2LkBzaJHtfHdBQK5H4XoU7hhAPQrXo3C9Q0DXo3A9CtchQIlBYOXQAjlADi2yne+n/D/ufD81XjobQGDl0CLb+RRAMQisHFrkIUA/NV66SWREQEa28/3UeBpAd76fGi+9KUB56SYxCKwSQM3MzMzMzCZAsp3vp8arIECPwvUoXG9BQMHKoUW2czNAF9nO91NDMkBCYOXQItsRQM3MzMzMzCBAhetRuB6F7z8CK4cW2Y46QLByaJHtfAVAzczMzMx8REDsUbgehWs8QOF6FK5HYT1AHVpkO99PQkBqvHSTGCRFQC2yne+ndjNAnu+nxkv3EED0/dR46aYcQPT91HjpJg5AvHSTGARWKUAj2/l+arz+Px+F61G4TkBAj8L1KFwPBUCsHFpkOx8WQJHtfD81bjxAQmDl0CLbEUBI4XoUrkcbQOxRuB6FayFAUrgehetRMkC8dJMYBHYpQGiR7Xw/dUNAZDvfT42XLEDb+X5qvPQ8QJqZmZmZ2SJADi2yne8nJkDNzMzMzExDQLgehetRCEJAWmQ730+NOUDhehSuR2EFQDMzMzMzMyZAZDvfT40XQ0DFILByaNEmQCGwcmiRbRBAVOOlm8QgM0A730+Nl24LQM/3U+OlGzNAy6FFtvMNPkCWQ4ts58s3QCuHFtnO9wRAw/UoXI9CGkBcj8L1KNwcQLKd76fG2zZAkxgEVg6tEkAAAAAAAEAZQFpkO99PxUNAcT0K16NwIUDByqFFtvMyQOXQItv5fvg/tMh2vp+aMUBSuB6F61EEQO58PzVeGjpAqMZLN4nBPEB7FK5H4foFQGq8dJMYJCJAdZMYBFaeNECq8dJNYpACQOxRuB6FaytAlkOLbOecR0AUrkfhejRAQL6fGi/dpBJAWDm0yHa+BUAMAiuHFlkIQD0K16NwfShAdZMYBFaOEkBcj8L1KKw1QOkmMQisnBtAKVyPwvUoKECgGi/dJJY3QNV46SYxCDZARIts5/sBQUCwcmiR7fwuQIlBYOXQoiJAZDvfT40XJEBmZmZmZmbsP9ejcD0KFz9AMzMzMzMzEUDhehSuRyE0QK5H4XoUPjBASOF6FK4HE0Cmm8QgsHIzQGIQWDm0SDVAAiuHFtnOL0C0yHa+nxorQAisHFpkOzNAFK5H4XqUJ0AOLbKd7yclQN9PjZduEhNAEoPAyqFF4D+wcmiR7ZwkQLpJDAIrBzVAz/dT46WbEUCoxks3iTlAQPhT46WbxBhAzczMzMw8QECuR+F6FI5CQEw3iUFg5RBAukkMAisHKUD2KFyPwvUSQMP1KFyPQhJAiUFg5dCCLEDByqFFtvMEQIXrUbgeRSNAukkMAivHKkCPwvUoXO87QNV46SYxiCFARIts5/spH0AfhetRuB4IQPp+arx0kw9AmG4Sg8DK9z91kxgEVg7xP/yp8dJNIixA5/up8dJNDUCBlUOLbOfxP9nO91PjZUBAexSuR+G6PUCkcD0K16MNQBkEVg4tsiNA5/up8dKdMkCF61G4HmU6QM3MzMzM/DdAy6FFtvNtMEBMN4lBYOUgQNnO91PjpRZA9P3UeOlGMUDl0CLb+W41QBsv3SQGQRFA0SLb+X5q9D/n+6nx0k0UQB1aZDvf3zFAjZduEoPgJ0Dwp8ZLN0kUQEJg5dAiG0JAVOOlm8QgGUB56SYxCCwNQLx0kxgE1ilAObTIdr5fIUCamZmZmZkGQK5H4XoUbiVAK4cW2c63OkBvEoPAyqESQLTIdr6fGjpAcT0K16PwBEDNzMzMzMz/Pxsv3SQGAUJAXI/C9ShcE0B7FK5H4ZowQH0/NV66SRBAPQrXo3D9L0D0/dR46aYkQF66SQwCqyBADi2yne/nL0AUrkfhepQRQK5H4XoUXkJAGy/dJAaBE0B7FK5H4TpDQArXo3A96jRARIts5/spN0CPwvUoXB83QOF6FK5HYRxAhetRuB5FLkCiRbbz/dRDQPyp8dJNQjVA6SYxCKxcLED2KFyPwvU9QPCnxks3iS9AIbByaJEtNEAX2c73U2MiQHsUrkfhuhtAMQisHFokEECHFtnO91MXQCcxCKwcWi9A16NwPQonRUC4HoXrUbg0QDeJQWDl0B9A4XoUrkeBOEA9CtejcH0RQMHKoUW2cyZAObTIdr6fQkDwp8ZLN4k0QOF6FK5H4S1AJQaBlUNLJUCkcD0K1yMBQMl2vp8a7zJAN4lBYOWwJEBQjZduEoMPQF66SQwCGzBAvp8aL92kE0CR7Xw/NV70P9NNYhBYGT1AbxKDwMohJUA/NV66SQwGQLbz/dR4qRFATmIQWDnUMUAzMzMzM9tDQHNoke18PwRAYOXQItv5PUDsUbgehasgQFyPwvUonEJAIbByaJFtNkBSuB6F6/EyQJ7vp8ZLtylABoGVQ4ucO0AfhetRuF42QI2XbhKDoCtAHVpkO98vMUDP91PjpZsqQBKDwMqhdUZA16NwPQrXNkCF61G4HmUpQNNNYhBYOQxA5/up8dJtQECamZmZmdkgQFCNl24SgwVASOF6FK7nIUC+nxov3SQlQBkEVg4t8hdASOF6FK5HCkCkcD0K1yMpQKJFtvP91BBA2c73U+PFM0AGgZVDi8wtQJzEILByuDZA6SYxCKycK0CamZmZmZkfQIlBYOXQMkZATDeJQWBlEkCDwMqhRbYAQM3MzMzMzOg/sp3vp8YLLUBEi2zn+6kKQARWDi2ynQ5AuB6F61H4LUAhsHJokU0oQPYoXI/C9QJAH4XrUbg+IUC4HoXrUShFQIPAyqFF1ilA7nw/NV56PkCgGi/dJAYoQGDl0CLbOSFAK4cW2c73E0B3vp8aL90tQOxRuB6F6x9AXI/C9Shc9D/P91PjpRsLQLx0kxgE1idAw/UoXI9CJ0ACK4cW2e5FQJHtfD81fkFATDeJQWDdQEB7FK5H4dovQARWDi2ynfc/zczMzMzMOED2KFyPwpVEQNnO91PjJT5ASOF6FK5HLEBmZmZmZiZDQIPAyqFFNhdAPQrXo3B9IUDhehSuR2EIQKRwPQrXIwBAlkOLbOecR0BGtvP91Hj5P4cW2c73UwpAJQaBlUPrPkA=",
          "dtype": "f8"
         },
         "y0": " ",
         "yaxis": "y"
        }
       ],
       "layout": {
        "boxmode": "group",
        "legend": {
         "tracegroupgap": 0
        },
        "template": {
         "data": {
          "bar": [
           {
            "error_x": {
             "color": "#2a3f5f"
            },
            "error_y": {
             "color": "#2a3f5f"
            },
            "marker": {
             "line": {
              "color": "#E5ECF6",
              "width": 0.5
             },
             "pattern": {
              "fillmode": "overlay",
              "size": 10,
              "solidity": 0.2
             }
            },
            "type": "bar"
           }
          ],
          "barpolar": [
           {
            "marker": {
             "line": {
              "color": "#E5ECF6",
              "width": 0.5
             },
             "pattern": {
              "fillmode": "overlay",
              "size": 10,
              "solidity": 0.2
             }
            },
            "type": "barpolar"
           }
          ],
          "carpet": [
           {
            "aaxis": {
             "endlinecolor": "#2a3f5f",
             "gridcolor": "white",
             "linecolor": "white",
             "minorgridcolor": "white",
             "startlinecolor": "#2a3f5f"
            },
            "baxis": {
             "endlinecolor": "#2a3f5f",
             "gridcolor": "white",
             "linecolor": "white",
             "minorgridcolor": "white",
             "startlinecolor": "#2a3f5f"
            },
            "type": "carpet"
           }
          ],
          "choropleth": [
           {
            "colorbar": {
             "outlinewidth": 0,
             "ticks": ""
            },
            "type": "choropleth"
           }
          ],
          "contour": [
           {
            "colorbar": {
             "outlinewidth": 0,
             "ticks": ""
            },
            "colorscale": [
             [
              0,
              "#0d0887"
             ],
             [
              0.1111111111111111,
              "#46039f"
             ],
             [
              0.2222222222222222,
              "#7201a8"
             ],
             [
              0.3333333333333333,
              "#9c179e"
             ],
             [
              0.4444444444444444,
              "#bd3786"
             ],
             [
              0.5555555555555556,
              "#d8576b"
             ],
             [
              0.6666666666666666,
              "#ed7953"
             ],
             [
              0.7777777777777778,
              "#fb9f3a"
             ],
             [
              0.8888888888888888,
              "#fdca26"
             ],
             [
              1,
              "#f0f921"
             ]
            ],
            "type": "contour"
           }
          ],
          "contourcarpet": [
           {
            "colorbar": {
             "outlinewidth": 0,
             "ticks": ""
            },
            "type": "contourcarpet"
           }
          ],
          "heatmap": [
           {
            "colorbar": {
             "outlinewidth": 0,
             "ticks": ""
            },
            "colorscale": [
             [
              0,
              "#0d0887"
             ],
             [
              0.1111111111111111,
              "#46039f"
             ],
             [
              0.2222222222222222,
              "#7201a8"
             ],
             [
              0.3333333333333333,
              "#9c179e"
             ],
             [
              0.4444444444444444,
              "#bd3786"
             ],
             [
              0.5555555555555556,
              "#d8576b"
             ],
             [
              0.6666666666666666,
              "#ed7953"
             ],
             [
              0.7777777777777778,
              "#fb9f3a"
             ],
             [
              0.8888888888888888,
              "#fdca26"
             ],
             [
              1,
              "#f0f921"
             ]
            ],
            "type": "heatmap"
           }
          ],
          "histogram": [
           {
            "marker": {
             "pattern": {
              "fillmode": "overlay",
              "size": 10,
              "solidity": 0.2
             }
            },
            "type": "histogram"
           }
          ],
          "histogram2d": [
           {
            "colorbar": {
             "outlinewidth": 0,
             "ticks": ""
            },
            "colorscale": [
             [
              0,
              "#0d0887"
             ],
             [
              0.1111111111111111,
              "#46039f"
             ],
             [
              0.2222222222222222,
              "#7201a8"
             ],
             [
              0.3333333333333333,
              "#9c179e"
             ],
             [
              0.4444444444444444,
              "#bd3786"
             ],
             [
              0.5555555555555556,
              "#d8576b"
             ],
             [
              0.6666666666666666,
              "#ed7953"
             ],
             [
              0.7777777777777778,
              "#fb9f3a"
             ],
             [
              0.8888888888888888,
              "#fdca26"
             ],
             [
              1,
              "#f0f921"
             ]
            ],
            "type": "histogram2d"
           }
          ],
          "histogram2dcontour": [
           {
            "colorbar": {
             "outlinewidth": 0,
             "ticks": ""
            },
            "colorscale": [
             [
              0,
              "#0d0887"
             ],
             [
              0.1111111111111111,
              "#46039f"
             ],
             [
              0.2222222222222222,
              "#7201a8"
             ],
             [
              0.3333333333333333,
              "#9c179e"
             ],
             [
              0.4444444444444444,
              "#bd3786"
             ],
             [
              0.5555555555555556,
              "#d8576b"
             ],
             [
              0.6666666666666666,
              "#ed7953"
             ],
             [
              0.7777777777777778,
              "#fb9f3a"
             ],
             [
              0.8888888888888888,
              "#fdca26"
             ],
             [
              1,
              "#f0f921"
             ]
            ],
            "type": "histogram2dcontour"
           }
          ],
          "mesh3d": [
           {
            "colorbar": {
             "outlinewidth": 0,
             "ticks": ""
            },
            "type": "mesh3d"
           }
          ],
          "parcoords": [
           {
            "line": {
             "colorbar": {
              "outlinewidth": 0,
              "ticks": ""
             }
            },
            "type": "parcoords"
           }
          ],
          "pie": [
           {
            "automargin": true,
            "type": "pie"
           }
          ],
          "scatter": [
           {
            "fillpattern": {
             "fillmode": "overlay",
             "size": 10,
             "solidity": 0.2
            },
            "type": "scatter"
           }
          ],
          "scatter3d": [
           {
            "line": {
             "colorbar": {
              "outlinewidth": 0,
              "ticks": ""
             }
            },
            "marker": {
             "colorbar": {
              "outlinewidth": 0,
              "ticks": ""
             }
            },
            "type": "scatter3d"
           }
          ],
          "scattercarpet": [
           {
            "marker": {
             "colorbar": {
              "outlinewidth": 0,
              "ticks": ""
             }
            },
            "type": "scattercarpet"
           }
          ],
          "scattergeo": [
           {
            "marker": {
             "colorbar": {
              "outlinewidth": 0,
              "ticks": ""
             }
            },
            "type": "scattergeo"
           }
          ],
          "scattergl": [
           {
            "marker": {
             "colorbar": {
              "outlinewidth": 0,
              "ticks": ""
             }
            },
            "type": "scattergl"
           }
          ],
          "scattermap": [
           {
            "marker": {
             "colorbar": {
              "outlinewidth": 0,
              "ticks": ""
             }
            },
            "type": "scattermap"
           }
          ],
          "scattermapbox": [
           {
            "marker": {
             "colorbar": {
              "outlinewidth": 0,
              "ticks": ""
             }
            },
            "type": "scattermapbox"
           }
          ],
          "scatterpolar": [
           {
            "marker": {
             "colorbar": {
              "outlinewidth": 0,
              "ticks": ""
             }
            },
            "type": "scatterpolar"
           }
          ],
          "scatterpolargl": [
           {
            "marker": {
             "colorbar": {
              "outlinewidth": 0,
              "ticks": ""
             }
            },
            "type": "scatterpolargl"
           }
          ],
          "scatterternary": [
           {
            "marker": {
             "colorbar": {
              "outlinewidth": 0,
              "ticks": ""
             }
            },
            "type": "scatterternary"
           }
          ],
          "surface": [
           {
            "colorbar": {
             "outlinewidth": 0,
             "ticks": ""
            },
            "colorscale": [
             [
              0,
              "#0d0887"
             ],
             [
              0.1111111111111111,
              "#46039f"
             ],
             [
              0.2222222222222222,
              "#7201a8"
             ],
             [
              0.3333333333333333,
              "#9c179e"
             ],
             [
              0.4444444444444444,
              "#bd3786"
             ],
             [
              0.5555555555555556,
              "#d8576b"
             ],
             [
              0.6666666666666666,
              "#ed7953"
             ],
             [
              0.7777777777777778,
              "#fb9f3a"
             ],
             [
              0.8888888888888888,
              "#fdca26"
             ],
             [
              1,
              "#f0f921"
             ]
            ],
            "type": "surface"
           }
          ],
          "table": [
           {
            "cells": {
             "fill": {
              "color": "#EBF0F8"
             },
             "line": {
              "color": "white"
             }
            },
            "header": {
             "fill": {
              "color": "#C8D4E3"
             },
             "line": {
              "color": "white"
             }
            },
            "type": "table"
           }
          ]
         },
         "layout": {
          "annotationdefaults": {
           "arrowcolor": "#2a3f5f",
           "arrowhead": 0,
           "arrowwidth": 1
          },
          "autotypenumbers": "strict",
          "coloraxis": {
           "colorbar": {
            "outlinewidth": 0,
            "ticks": ""
           }
          },
          "colorscale": {
           "diverging": [
            [
             0,
             "#8e0152"
            ],
            [
             0.1,
             "#c51b7d"
            ],
            [
             0.2,
             "#de77ae"
            ],
            [
             0.3,
             "#f1b6da"
            ],
            [
             0.4,
             "#fde0ef"
            ],
            [
             0.5,
             "#f7f7f7"
            ],
            [
             0.6,
             "#e6f5d0"
            ],
            [
             0.7,
             "#b8e186"
            ],
            [
             0.8,
             "#7fbc41"
            ],
            [
             0.9,
             "#4d9221"
            ],
            [
             1,
             "#276419"
            ]
           ],
           "sequential": [
            [
             0,
             "#0d0887"
            ],
            [
             0.1111111111111111,
             "#46039f"
            ],
            [
             0.2222222222222222,
             "#7201a8"
            ],
            [
             0.3333333333333333,
             "#9c179e"
            ],
            [
             0.4444444444444444,
             "#bd3786"
            ],
            [
             0.5555555555555556,
             "#d8576b"
            ],
            [
             0.6666666666666666,
             "#ed7953"
            ],
            [
             0.7777777777777778,
             "#fb9f3a"
            ],
            [
             0.8888888888888888,
             "#fdca26"
            ],
            [
             1,
             "#f0f921"
            ]
           ],
           "sequentialminus": [
            [
             0,
             "#0d0887"
            ],
            [
             0.1111111111111111,
             "#46039f"
            ],
            [
             0.2222222222222222,
             "#7201a8"
            ],
            [
             0.3333333333333333,
             "#9c179e"
            ],
            [
             0.4444444444444444,
             "#bd3786"
            ],
            [
             0.5555555555555556,
             "#d8576b"
            ],
            [
             0.6666666666666666,
             "#ed7953"
            ],
            [
             0.7777777777777778,
             "#fb9f3a"
            ],
            [
             0.8888888888888888,
             "#fdca26"
            ],
            [
             1,
             "#f0f921"
            ]
           ]
          },
          "colorway": [
           "#636efa",
           "#EF553B",
           "#00cc96",
           "#ab63fa",
           "#FFA15A",
           "#19d3f3",
           "#FF6692",
           "#B6E880",
           "#FF97FF",
           "#FECB52"
          ],
          "font": {
           "color": "#2a3f5f"
          },
          "geo": {
           "bgcolor": "white",
           "lakecolor": "white",
           "landcolor": "#E5ECF6",
           "showlakes": true,
           "showland": true,
           "subunitcolor": "white"
          },
          "hoverlabel": {
           "align": "left"
          },
          "hovermode": "closest",
          "mapbox": {
           "style": "light"
          },
          "paper_bgcolor": "white",
          "plot_bgcolor": "#E5ECF6",
          "polar": {
           "angularaxis": {
            "gridcolor": "white",
            "linecolor": "white",
            "ticks": ""
           },
           "bgcolor": "#E5ECF6",
           "radialaxis": {
            "gridcolor": "white",
            "linecolor": "white",
            "ticks": ""
           }
          },
          "scene": {
           "xaxis": {
            "backgroundcolor": "#E5ECF6",
            "gridcolor": "white",
            "gridwidth": 2,
            "linecolor": "white",
            "showbackground": true,
            "ticks": "",
            "zerolinecolor": "white"
           },
           "yaxis": {
            "backgroundcolor": "#E5ECF6",
            "gridcolor": "white",
            "gridwidth": 2,
            "linecolor": "white",
            "showbackground": true,
            "ticks": "",
            "zerolinecolor": "white"
           },
           "zaxis": {
            "backgroundcolor": "#E5ECF6",
            "gridcolor": "white",
            "gridwidth": 2,
            "linecolor": "white",
            "showbackground": true,
            "ticks": "",
            "zerolinecolor": "white"
           }
          },
          "shapedefaults": {
           "line": {
            "color": "#2a3f5f"
           }
          },
          "ternary": {
           "aaxis": {
            "gridcolor": "white",
            "linecolor": "white",
            "ticks": ""
           },
           "baxis": {
            "gridcolor": "white",
            "linecolor": "white",
            "ticks": ""
           },
           "bgcolor": "#E5ECF6",
           "caxis": {
            "gridcolor": "white",
            "linecolor": "white",
            "ticks": ""
           }
          },
          "title": {
           "x": 0.05
          },
          "xaxis": {
           "automargin": true,
           "gridcolor": "white",
           "linecolor": "white",
           "ticks": "",
           "title": {
            "standoff": 15
           },
           "zerolinecolor": "white",
           "zerolinewidth": 2
          },
          "yaxis": {
           "automargin": true,
           "gridcolor": "white",
           "linecolor": "white",
           "ticks": "",
           "title": {
            "standoff": 15
           },
           "zerolinecolor": "white",
           "zerolinewidth": 2
          }
         }
        },
        "title": {
         "text": "Tax 5%",
         "x": 0.5
        },
        "xaxis": {
         "anchor": "y",
         "domain": [
          0,
          1
         ]
        },
        "yaxis": {
         "anchor": "x",
         "domain": [
          0,
          1
         ],
         "title": {
          "text": "Tax 5%"
         }
        }
       }
      }
     },
     "metadata": {},
     "output_type": "display_data"
    }
   ],
   "source": [
    "taxbox=px.box(data_frame=df,y='Tax 5%',title='Tax 5%')\n",
    "taxbox.update_layout(title_x=0.5)"
   ]
  },
  {
   "cell_type": "markdown",
   "id": "250eb544",
   "metadata": {},
   "source": [
    "## Capping Total column Outliers"
   ]
  },
  {
   "cell_type": "code",
   "execution_count": 22,
   "id": "79fde726",
   "metadata": {},
   "outputs": [
    {
     "name": "stderr",
     "output_type": "stream",
     "text": [
      "C:\\Users\\dell\\AppData\\Local\\Temp\\ipykernel_16232\\3827094245.py:13: FutureWarning:\n",
      "\n",
      "Calling float on a single element Series is deprecated and will raise a TypeError in the future. Use float(ser.iloc[0]) instead\n",
      "\n"
     ]
    },
    {
     "data": {
      "text/plain": [
       "0      548.971500\n",
       "1       80.220000\n",
       "2      340.525500\n",
       "3      489.048000\n",
       "4      634.378500\n",
       "          ...    \n",
       "995     42.367500\n",
       "996    991.742062\n",
       "997     33.432000\n",
       "998     69.111000\n",
       "999    649.299000\n",
       "Name: Total, Length: 1000, dtype: float64"
      ]
     },
     "execution_count": 22,
     "metadata": {},
     "output_type": "execute_result"
    }
   ],
   "source": [
    "Totallower=lowerbound['Total']\n",
    "Totalrupper=upperbound['Total']\n",
    "\n",
    "nombre=df.select_dtypes(['number'])\n",
    "dictt=nombre.to_dict()\n",
    "for i in range(len(dictt['Total'])):\n",
    "    if dictt['Total'][i]<Totallower[0]:\n",
    "        dictt['Total'][i]=Totallower\n",
    "    elif dictt['Total'][i]>Totalrupper[0]:\n",
    "        dictt['Total'][i]=Totalrupper\n",
    "updated=pd.DataFrame(dictt)\n",
    "df['Total']=updated['Total']\n",
    "df['Total']=df['Total'].astype('float64')\n",
    "df['Total']"
   ]
  },
  {
   "cell_type": "code",
   "execution_count": 23,
   "id": "4ba83370",
   "metadata": {},
   "outputs": [
    {
     "data": {
      "application/vnd.plotly.v1+json": {
       "config": {
        "plotlyServerURL": "https://plot.ly"
       },
       "data": [
        {
         "alignmentgroup": "True",
         "hovertemplate": "Total=%{y}<extra></extra>",
         "legendgroup": "",
         "marker": {
          "color": "#636efa"
         },
         "name": "",
         "notched": false,
         "offsetgroup": "",
         "orientation": "v",
         "showlegend": false,
         "type": "box",
         "x0": " ",
         "xaxis": "x",
         "y": {
          "bdata": "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",
          "dtype": "f8"
         },
         "y0": " ",
         "yaxis": "y"
        }
       ],
       "layout": {
        "boxmode": "group",
        "legend": {
         "tracegroupgap": 0
        },
        "template": {
         "data": {
          "bar": [
           {
            "error_x": {
             "color": "#2a3f5f"
            },
            "error_y": {
             "color": "#2a3f5f"
            },
            "marker": {
             "line": {
              "color": "#E5ECF6",
              "width": 0.5
             },
             "pattern": {
              "fillmode": "overlay",
              "size": 10,
              "solidity": 0.2
             }
            },
            "type": "bar"
           }
          ],
          "barpolar": [
           {
            "marker": {
             "line": {
              "color": "#E5ECF6",
              "width": 0.5
             },
             "pattern": {
              "fillmode": "overlay",
              "size": 10,
              "solidity": 0.2
             }
            },
            "type": "barpolar"
           }
          ],
          "carpet": [
           {
            "aaxis": {
             "endlinecolor": "#2a3f5f",
             "gridcolor": "white",
             "linecolor": "white",
             "minorgridcolor": "white",
             "startlinecolor": "#2a3f5f"
            },
            "baxis": {
             "endlinecolor": "#2a3f5f",
             "gridcolor": "white",
             "linecolor": "white",
             "minorgridcolor": "white",
             "startlinecolor": "#2a3f5f"
            },
            "type": "carpet"
           }
          ],
          "choropleth": [
           {
            "colorbar": {
             "outlinewidth": 0,
             "ticks": ""
            },
            "type": "choropleth"
           }
          ],
          "contour": [
           {
            "colorbar": {
             "outlinewidth": 0,
             "ticks": ""
            },
            "colorscale": [
             [
              0,
              "#0d0887"
             ],
             [
              0.1111111111111111,
              "#46039f"
             ],
             [
              0.2222222222222222,
              "#7201a8"
             ],
             [
              0.3333333333333333,
              "#9c179e"
             ],
             [
              0.4444444444444444,
              "#bd3786"
             ],
             [
              0.5555555555555556,
              "#d8576b"
             ],
             [
              0.6666666666666666,
              "#ed7953"
             ],
             [
              0.7777777777777778,
              "#fb9f3a"
             ],
             [
              0.8888888888888888,
              "#fdca26"
             ],
             [
              1,
              "#f0f921"
             ]
            ],
            "type": "contour"
           }
          ],
          "contourcarpet": [
           {
            "colorbar": {
             "outlinewidth": 0,
             "ticks": ""
            },
            "type": "contourcarpet"
           }
          ],
          "heatmap": [
           {
            "colorbar": {
             "outlinewidth": 0,
             "ticks": ""
            },
            "colorscale": [
             [
              0,
              "#0d0887"
             ],
             [
              0.1111111111111111,
              "#46039f"
             ],
             [
              0.2222222222222222,
              "#7201a8"
             ],
             [
              0.3333333333333333,
              "#9c179e"
             ],
             [
              0.4444444444444444,
              "#bd3786"
             ],
             [
              0.5555555555555556,
              "#d8576b"
             ],
             [
              0.6666666666666666,
              "#ed7953"
             ],
             [
              0.7777777777777778,
              "#fb9f3a"
             ],
             [
              0.8888888888888888,
              "#fdca26"
             ],
             [
              1,
              "#f0f921"
             ]
            ],
            "type": "heatmap"
           }
          ],
          "histogram": [
           {
            "marker": {
             "pattern": {
              "fillmode": "overlay",
              "size": 10,
              "solidity": 0.2
             }
            },
            "type": "histogram"
           }
          ],
          "histogram2d": [
           {
            "colorbar": {
             "outlinewidth": 0,
             "ticks": ""
            },
            "colorscale": [
             [
              0,
              "#0d0887"
             ],
             [
              0.1111111111111111,
              "#46039f"
             ],
             [
              0.2222222222222222,
              "#7201a8"
             ],
             [
              0.3333333333333333,
              "#9c179e"
             ],
             [
              0.4444444444444444,
              "#bd3786"
             ],
             [
              0.5555555555555556,
              "#d8576b"
             ],
             [
              0.6666666666666666,
              "#ed7953"
             ],
             [
              0.7777777777777778,
              "#fb9f3a"
             ],
             [
              0.8888888888888888,
              "#fdca26"
             ],
             [
              1,
              "#f0f921"
             ]
            ],
            "type": "histogram2d"
           }
          ],
          "histogram2dcontour": [
           {
            "colorbar": {
             "outlinewidth": 0,
             "ticks": ""
            },
            "colorscale": [
             [
              0,
              "#0d0887"
             ],
             [
              0.1111111111111111,
              "#46039f"
             ],
             [
              0.2222222222222222,
              "#7201a8"
             ],
             [
              0.3333333333333333,
              "#9c179e"
             ],
             [
              0.4444444444444444,
              "#bd3786"
             ],
             [
              0.5555555555555556,
              "#d8576b"
             ],
             [
              0.6666666666666666,
              "#ed7953"
             ],
             [
              0.7777777777777778,
              "#fb9f3a"
             ],
             [
              0.8888888888888888,
              "#fdca26"
             ],
             [
              1,
              "#f0f921"
             ]
            ],
            "type": "histogram2dcontour"
           }
          ],
          "mesh3d": [
           {
            "colorbar": {
             "outlinewidth": 0,
             "ticks": ""
            },
            "type": "mesh3d"
           }
          ],
          "parcoords": [
           {
            "line": {
             "colorbar": {
              "outlinewidth": 0,
              "ticks": ""
             }
            },
            "type": "parcoords"
           }
          ],
          "pie": [
           {
            "automargin": true,
            "type": "pie"
           }
          ],
          "scatter": [
           {
            "fillpattern": {
             "fillmode": "overlay",
             "size": 10,
             "solidity": 0.2
            },
            "type": "scatter"
           }
          ],
          "scatter3d": [
           {
            "line": {
             "colorbar": {
              "outlinewidth": 0,
              "ticks": ""
             }
            },
            "marker": {
             "colorbar": {
              "outlinewidth": 0,
              "ticks": ""
             }
            },
            "type": "scatter3d"
           }
          ],
          "scattercarpet": [
           {
            "marker": {
             "colorbar": {
              "outlinewidth": 0,
              "ticks": ""
             }
            },
            "type": "scattercarpet"
           }
          ],
          "scattergeo": [
           {
            "marker": {
             "colorbar": {
              "outlinewidth": 0,
              "ticks": ""
             }
            },
            "type": "scattergeo"
           }
          ],
          "scattergl": [
           {
            "marker": {
             "colorbar": {
              "outlinewidth": 0,
              "ticks": ""
             }
            },
            "type": "scattergl"
           }
          ],
          "scattermap": [
           {
            "marker": {
             "colorbar": {
              "outlinewidth": 0,
              "ticks": ""
             }
            },
            "type": "scattermap"
           }
          ],
          "scattermapbox": [
           {
            "marker": {
             "colorbar": {
              "outlinewidth": 0,
              "ticks": ""
             }
            },
            "type": "scattermapbox"
           }
          ],
          "scatterpolar": [
           {
            "marker": {
             "colorbar": {
              "outlinewidth": 0,
              "ticks": ""
             }
            },
            "type": "scatterpolar"
           }
          ],
          "scatterpolargl": [
           {
            "marker": {
             "colorbar": {
              "outlinewidth": 0,
              "ticks": ""
             }
            },
            "type": "scatterpolargl"
           }
          ],
          "scatterternary": [
           {
            "marker": {
             "colorbar": {
              "outlinewidth": 0,
              "ticks": ""
             }
            },
            "type": "scatterternary"
           }
          ],
          "surface": [
           {
            "colorbar": {
             "outlinewidth": 0,
             "ticks": ""
            },
            "colorscale": [
             [
              0,
              "#0d0887"
             ],
             [
              0.1111111111111111,
              "#46039f"
             ],
             [
              0.2222222222222222,
              "#7201a8"
             ],
             [
              0.3333333333333333,
              "#9c179e"
             ],
             [
              0.4444444444444444,
              "#bd3786"
             ],
             [
              0.5555555555555556,
              "#d8576b"
             ],
             [
              0.6666666666666666,
              "#ed7953"
             ],
             [
              0.7777777777777778,
              "#fb9f3a"
             ],
             [
              0.8888888888888888,
              "#fdca26"
             ],
             [
              1,
              "#f0f921"
             ]
            ],
            "type": "surface"
           }
          ],
          "table": [
           {
            "cells": {
             "fill": {
              "color": "#EBF0F8"
             },
             "line": {
              "color": "white"
             }
            },
            "header": {
             "fill": {
              "color": "#C8D4E3"
             },
             "line": {
              "color": "white"
             }
            },
            "type": "table"
           }
          ]
         },
         "layout": {
          "annotationdefaults": {
           "arrowcolor": "#2a3f5f",
           "arrowhead": 0,
           "arrowwidth": 1
          },
          "autotypenumbers": "strict",
          "coloraxis": {
           "colorbar": {
            "outlinewidth": 0,
            "ticks": ""
           }
          },
          "colorscale": {
           "diverging": [
            [
             0,
             "#8e0152"
            ],
            [
             0.1,
             "#c51b7d"
            ],
            [
             0.2,
             "#de77ae"
            ],
            [
             0.3,
             "#f1b6da"
            ],
            [
             0.4,
             "#fde0ef"
            ],
            [
             0.5,
             "#f7f7f7"
            ],
            [
             0.6,
             "#e6f5d0"
            ],
            [
             0.7,
             "#b8e186"
            ],
            [
             0.8,
             "#7fbc41"
            ],
            [
             0.9,
             "#4d9221"
            ],
            [
             1,
             "#276419"
            ]
           ],
           "sequential": [
            [
             0,
             "#0d0887"
            ],
            [
             0.1111111111111111,
             "#46039f"
            ],
            [
             0.2222222222222222,
             "#7201a8"
            ],
            [
             0.3333333333333333,
             "#9c179e"
            ],
            [
             0.4444444444444444,
             "#bd3786"
            ],
            [
             0.5555555555555556,
             "#d8576b"
            ],
            [
             0.6666666666666666,
             "#ed7953"
            ],
            [
             0.7777777777777778,
             "#fb9f3a"
            ],
            [
             0.8888888888888888,
             "#fdca26"
            ],
            [
             1,
             "#f0f921"
            ]
           ],
           "sequentialminus": [
            [
             0,
             "#0d0887"
            ],
            [
             0.1111111111111111,
             "#46039f"
            ],
            [
             0.2222222222222222,
             "#7201a8"
            ],
            [
             0.3333333333333333,
             "#9c179e"
            ],
            [
             0.4444444444444444,
             "#bd3786"
            ],
            [
             0.5555555555555556,
             "#d8576b"
            ],
            [
             0.6666666666666666,
             "#ed7953"
            ],
            [
             0.7777777777777778,
             "#fb9f3a"
            ],
            [
             0.8888888888888888,
             "#fdca26"
            ],
            [
             1,
             "#f0f921"
            ]
           ]
          },
          "colorway": [
           "#636efa",
           "#EF553B",
           "#00cc96",
           "#ab63fa",
           "#FFA15A",
           "#19d3f3",
           "#FF6692",
           "#B6E880",
           "#FF97FF",
           "#FECB52"
          ],
          "font": {
           "color": "#2a3f5f"
          },
          "geo": {
           "bgcolor": "white",
           "lakecolor": "white",
           "landcolor": "#E5ECF6",
           "showlakes": true,
           "showland": true,
           "subunitcolor": "white"
          },
          "hoverlabel": {
           "align": "left"
          },
          "hovermode": "closest",
          "mapbox": {
           "style": "light"
          },
          "paper_bgcolor": "white",
          "plot_bgcolor": "#E5ECF6",
          "polar": {
           "angularaxis": {
            "gridcolor": "white",
            "linecolor": "white",
            "ticks": ""
           },
           "bgcolor": "#E5ECF6",
           "radialaxis": {
            "gridcolor": "white",
            "linecolor": "white",
            "ticks": ""
           }
          },
          "scene": {
           "xaxis": {
            "backgroundcolor": "#E5ECF6",
            "gridcolor": "white",
            "gridwidth": 2,
            "linecolor": "white",
            "showbackground": true,
            "ticks": "",
            "zerolinecolor": "white"
           },
           "yaxis": {
            "backgroundcolor": "#E5ECF6",
            "gridcolor": "white",
            "gridwidth": 2,
            "linecolor": "white",
            "showbackground": true,
            "ticks": "",
            "zerolinecolor": "white"
           },
           "zaxis": {
            "backgroundcolor": "#E5ECF6",
            "gridcolor": "white",
            "gridwidth": 2,
            "linecolor": "white",
            "showbackground": true,
            "ticks": "",
            "zerolinecolor": "white"
           }
          },
          "shapedefaults": {
           "line": {
            "color": "#2a3f5f"
           }
          },
          "ternary": {
           "aaxis": {
            "gridcolor": "white",
            "linecolor": "white",
            "ticks": ""
           },
           "baxis": {
            "gridcolor": "white",
            "linecolor": "white",
            "ticks": ""
           },
           "bgcolor": "#E5ECF6",
           "caxis": {
            "gridcolor": "white",
            "linecolor": "white",
            "ticks": ""
           }
          },
          "title": {
           "x": 0.05
          },
          "xaxis": {
           "automargin": true,
           "gridcolor": "white",
           "linecolor": "white",
           "ticks": "",
           "title": {
            "standoff": 15
           },
           "zerolinecolor": "white",
           "zerolinewidth": 2
          },
          "yaxis": {
           "automargin": true,
           "gridcolor": "white",
           "linecolor": "white",
           "ticks": "",
           "title": {
            "standoff": 15
           },
           "zerolinecolor": "white",
           "zerolinewidth": 2
          }
         }
        },
        "title": {
         "text": "Total",
         "x": 0.5
        },
        "xaxis": {
         "anchor": "y",
         "domain": [
          0,
          1
         ]
        },
        "yaxis": {
         "anchor": "x",
         "domain": [
          0,
          1
         ],
         "title": {
          "text": "Total"
         }
        }
       }
      }
     },
     "metadata": {},
     "output_type": "display_data"
    }
   ],
   "source": [
    "Totalbox=px.box(data_frame=df,y='Total',title='Total')\n",
    "Totalbox.update_layout(title_x=0.5)"
   ]
  },
  {
   "cell_type": "markdown",
   "id": "975aa83b",
   "metadata": {},
   "source": [
    "# Changing column Date to Datetime "
   ]
  },
  {
   "cell_type": "code",
   "execution_count": 24,
   "id": "a7257726",
   "metadata": {},
   "outputs": [
    {
     "data": {
      "text/plain": [
       "0     2019-01-05\n",
       "1     2019-03-08\n",
       "2     2019-03-03\n",
       "3     2019-01-27\n",
       "4     2019-02-08\n",
       "         ...    \n",
       "995   2019-01-29\n",
       "996   2019-03-02\n",
       "997   2019-02-09\n",
       "998   2019-02-22\n",
       "999   2019-02-18\n",
       "Name: Date, Length: 1000, dtype: datetime64[ns]"
      ]
     },
     "execution_count": 24,
     "metadata": {},
     "output_type": "execute_result"
    }
   ],
   "source": [
    "df['Date']=pd.to_datetime(df['Date'])\n",
    "df['Date']"
   ]
  },
  {
   "cell_type": "code",
   "execution_count": 25,
   "id": "1f3b6cc9",
   "metadata": {},
   "outputs": [
    {
     "data": {
      "text/plain": [
       "0     2019-01-05\n",
       "1     2019-03-08\n",
       "2     2019-03-03\n",
       "3     2019-01-27\n",
       "4     2019-02-08\n",
       "         ...    \n",
       "995   2019-01-29\n",
       "996   2019-03-02\n",
       "997   2019-02-09\n",
       "998   2019-02-22\n",
       "999   2019-02-18\n",
       "Name: Date, Length: 1000, dtype: datetime64[ns]"
      ]
     },
     "execution_count": 25,
     "metadata": {},
     "output_type": "execute_result"
    }
   ],
   "source": [
    "df.Date"
   ]
  },
  {
   "cell_type": "code",
   "execution_count": 26,
   "id": "adfd6003",
   "metadata": {},
   "outputs": [],
   "source": [
    "df['Month']=df['Date'].dt.month.astype('object')"
   ]
  },
  {
   "cell_type": "code",
   "execution_count": 27,
   "id": "f8cc7b0d",
   "metadata": {},
   "outputs": [
    {
     "data": {
      "application/vnd.microsoft.datawrangler.viewer.v0+json": {
       "columns": [
        {
         "name": "index",
         "rawType": "int64",
         "type": "integer"
        },
        {
         "name": "Invoice ID",
         "rawType": "object",
         "type": "string"
        },
        {
         "name": "Branch",
         "rawType": "object",
         "type": "string"
        },
        {
         "name": "City",
         "rawType": "object",
         "type": "string"
        },
        {
         "name": "Customer type",
         "rawType": "object",
         "type": "string"
        },
        {
         "name": "Gender",
         "rawType": "object",
         "type": "string"
        },
        {
         "name": "Product line",
         "rawType": "object",
         "type": "string"
        },
        {
         "name": "Unit price",
         "rawType": "float64",
         "type": "float"
        },
        {
         "name": "Quantity",
         "rawType": "int64",
         "type": "integer"
        },
        {
         "name": "Tax 5%",
         "rawType": "float64",
         "type": "float"
        },
        {
         "name": "Total",
         "rawType": "float64",
         "type": "float"
        },
        {
         "name": "Date",
         "rawType": "datetime64[ns]",
         "type": "datetime"
        },
        {
         "name": "Time",
         "rawType": "object",
         "type": "string"
        },
        {
         "name": "Payment",
         "rawType": "object",
         "type": "string"
        },
        {
         "name": "cogs",
         "rawType": "float64",
         "type": "float"
        },
        {
         "name": "gross margin percentage",
         "rawType": "float64",
         "type": "float"
        },
        {
         "name": "gross income",
         "rawType": "float64",
         "type": "float"
        },
        {
         "name": "Rating",
         "rawType": "float64",
         "type": "float"
        },
        {
         "name": "Month",
         "rawType": "object",
         "type": "unknown"
        }
       ],
       "conversionMethod": "pd.DataFrame",
       "ref": "606c6599-e7f4-4b4a-a61b-c127a9b14435",
       "rows": [
        [
         "0",
         "750-67-8428",
         "A",
         "Yangon",
         "Member",
         "Female",
         "Health and beauty",
         "74.69",
         "7",
         "26.1415",
         "548.9715",
         "2019-01-05 00:00:00",
         "13:08",
         "Ewallet",
         "522.83",
         "4.761904762",
         "26.1415",
         "9.1",
         "1"
        ],
        [
         "1",
         "226-31-3081",
         "C",
         "Naypyitaw",
         "Normal",
         "Female",
         "Electronic accessories",
         "15.28",
         "5",
         "3.82",
         "80.22",
         "2019-03-08 00:00:00",
         "10:29",
         "Cash",
         "76.4",
         "4.761904762",
         "3.82",
         "9.6",
         "3"
        ],
        [
         "2",
         "631-41-3108",
         "A",
         "Yangon",
         "Normal",
         "Male",
         "Home and lifestyle",
         "46.33",
         "7",
         "16.2155",
         "340.5255",
         "2019-03-03 00:00:00",
         "13:23",
         "Credit card",
         "324.31",
         "4.761904762",
         "16.2155",
         "7.4",
         "3"
        ],
        [
         "3",
         "123-19-1176",
         "A",
         "Yangon",
         "Member",
         "Male",
         "Health and beauty",
         "58.22",
         "8",
         "23.288",
         "489.048",
         "2019-01-27 00:00:00",
         "20:33",
         "Ewallet",
         "465.76",
         "4.761904762",
         "23.288",
         "8.4",
         "1"
        ],
        [
         "4",
         "373-73-7910",
         "A",
         "Yangon",
         "Normal",
         "Male",
         "Sports and travel",
         "86.31",
         "7",
         "30.2085",
         "634.3785",
         "2019-02-08 00:00:00",
         "10:37",
         "Ewallet",
         "604.17",
         "4.761904762",
         "30.2085",
         "5.3",
         "2"
        ],
        [
         "5",
         "699-14-3026",
         "C",
         "Naypyitaw",
         "Normal",
         "Male",
         "Electronic accessories",
         "85.39",
         "7",
         "29.8865",
         "627.6165",
         "2019-03-25 00:00:00",
         "18:30",
         "Ewallet",
         "597.73",
         "4.761904762",
         "29.8865",
         "4.1",
         "3"
        ],
        [
         "6",
         "355-53-5943",
         "A",
         "Yangon",
         "Member",
         "Female",
         "Electronic accessories",
         "68.84",
         "6",
         "20.652",
         "433.692",
         "2019-02-25 00:00:00",
         "14:36",
         "Ewallet",
         "413.04",
         "4.761904762",
         "20.652",
         "5.8",
         "2"
        ],
        [
         "7",
         "315-22-5665",
         "C",
         "Naypyitaw",
         "Normal",
         "Female",
         "Home and lifestyle",
         "73.56",
         "10",
         "36.78",
         "772.38",
         "2019-02-24 00:00:00",
         "11:38",
         "Ewallet",
         "735.6",
         "4.761904762",
         "36.78",
         "8.0",
         "2"
        ],
        [
         "8",
         "665-32-9167",
         "A",
         "Yangon",
         "Member",
         "Female",
         "Health and beauty",
         "36.26",
         "2",
         "3.626",
         "76.146",
         "2019-01-10 00:00:00",
         "17:15",
         "Credit card",
         "72.52",
         "4.761904762",
         "3.626",
         "7.2",
         "1"
        ],
        [
         "9",
         "692-92-5582",
         "B",
         "Mandalay",
         "Member",
         "Female",
         "Food and beverages",
         "54.84",
         "3",
         "8.226",
         "172.746",
         "2019-02-20 00:00:00",
         "13:27",
         "Credit card",
         "164.52",
         "4.761904762",
         "8.226",
         "5.9",
         "2"
        ],
        [
         "10",
         "351-62-0822",
         "B",
         "Mandalay",
         "Member",
         "Female",
         "Fashion accessories",
         "14.48",
         "4",
         "2.896",
         "60.816",
         "2019-02-06 00:00:00",
         "18:07",
         "Ewallet",
         "57.92",
         "4.761904762",
         "2.896",
         "4.5",
         "2"
        ],
        [
         "11",
         "529-56-3974",
         "B",
         "Mandalay",
         "Member",
         "Male",
         "Electronic accessories",
         "25.51",
         "4",
         "5.102",
         "107.142",
         "2019-03-09 00:00:00",
         "17:03",
         "Cash",
         "102.04",
         "4.761904762",
         "5.102",
         "6.8",
         "3"
        ],
        [
         "12",
         "365-64-0515",
         "A",
         "Yangon",
         "Normal",
         "Female",
         "Electronic accessories",
         "46.95",
         "5",
         "11.7375",
         "246.4875",
         "2019-02-12 00:00:00",
         "10:25",
         "Ewallet",
         "234.75",
         "4.761904762",
         "11.7375",
         "7.1",
         "2"
        ],
        [
         "13",
         "252-56-2699",
         "A",
         "Yangon",
         "Normal",
         "Male",
         "Food and beverages",
         "43.19",
         "10",
         "21.595",
         "453.495",
         "2019-02-07 00:00:00",
         "16:48",
         "Ewallet",
         "431.9",
         "4.761904762",
         "21.595",
         "8.2",
         "2"
        ],
        [
         "14",
         "829-34-3910",
         "A",
         "Yangon",
         "Normal",
         "Female",
         "Health and beauty",
         "71.38",
         "10",
         "35.69",
         "749.49",
         "2019-03-29 00:00:00",
         "19:21",
         "Cash",
         "713.8",
         "4.761904762",
         "35.69",
         "5.7",
         "3"
        ],
        [
         "15",
         "299-46-1805",
         "B",
         "Mandalay",
         "Member",
         "Female",
         "Sports and travel",
         "93.72",
         "6",
         "28.116",
         "590.436",
         "2019-01-15 00:00:00",
         "16:19",
         "Cash",
         "562.32",
         "4.761904762",
         "28.116",
         "4.5",
         "1"
        ],
        [
         "16",
         "656-95-9349",
         "A",
         "Yangon",
         "Member",
         "Female",
         "Health and beauty",
         "68.93",
         "7",
         "24.1255",
         "506.6355",
         "2019-03-11 00:00:00",
         "11:03",
         "Credit card",
         "482.51",
         "4.761904762",
         "24.1255",
         "4.6",
         "3"
        ],
        [
         "17",
         "765-26-6951",
         "A",
         "Yangon",
         "Normal",
         "Male",
         "Sports and travel",
         "72.61",
         "6",
         "21.783",
         "457.443",
         "2019-01-01 00:00:00",
         "10:39",
         "Credit card",
         "435.66",
         "4.761904762",
         "21.783",
         "6.9",
         "1"
        ],
        [
         "18",
         "329-62-1586",
         "A",
         "Yangon",
         "Normal",
         "Male",
         "Food and beverages",
         "54.67",
         "3",
         "8.2005",
         "172.2105",
         "2019-01-21 00:00:00",
         "18:00",
         "Credit card",
         "164.01",
         "4.761904762",
         "8.2005",
         "8.6",
         "1"
        ],
        [
         "19",
         "319-50-3348",
         "B",
         "Mandalay",
         "Normal",
         "Female",
         "Home and lifestyle",
         "40.3",
         "2",
         "4.03",
         "84.63",
         "2019-03-11 00:00:00",
         "15:30",
         "Ewallet",
         "80.6",
         "4.761904762",
         "4.03",
         "4.4",
         "3"
        ],
        [
         "20",
         "300-71-4605",
         "C",
         "Naypyitaw",
         "Member",
         "Male",
         "Electronic accessories",
         "86.04",
         "5",
         "21.51",
         "451.71",
         "2019-02-25 00:00:00",
         "11:24",
         "Ewallet",
         "430.2",
         "4.761904762",
         "21.51",
         "4.8",
         "2"
        ],
        [
         "21",
         "371-85-5789",
         "B",
         "Mandalay",
         "Normal",
         "Male",
         "Health and beauty",
         "87.98",
         "3",
         "13.197",
         "277.137",
         "2019-03-05 00:00:00",
         "10:40",
         "Ewallet",
         "263.94",
         "4.761904762",
         "13.197",
         "5.1",
         "3"
        ],
        [
         "22",
         "273-16-6619",
         "B",
         "Mandalay",
         "Normal",
         "Male",
         "Home and lifestyle",
         "33.2",
         "2",
         "3.32",
         "69.72",
         "2019-03-15 00:00:00",
         "12:20",
         "Credit card",
         "66.4",
         "4.761904762",
         "3.32",
         "4.4",
         "3"
        ],
        [
         "23",
         "636-48-8204",
         "A",
         "Yangon",
         "Normal",
         "Male",
         "Electronic accessories",
         "34.56",
         "5",
         "8.64",
         "181.44",
         "2019-02-17 00:00:00",
         "11:15",
         "Ewallet",
         "172.8",
         "4.761904762",
         "8.64",
         "9.9",
         "2"
        ],
        [
         "24",
         "549-59-1358",
         "A",
         "Yangon",
         "Member",
         "Male",
         "Sports and travel",
         "88.63",
         "3",
         "13.2945",
         "279.1845",
         "2019-03-02 00:00:00",
         "17:36",
         "Ewallet",
         "265.89",
         "4.761904762",
         "13.2945",
         "6.0",
         "3"
        ],
        [
         "25",
         "227-03-5010",
         "A",
         "Yangon",
         "Member",
         "Female",
         "Home and lifestyle",
         "52.59",
         "8",
         "21.036",
         "441.756",
         "2019-03-22 00:00:00",
         "19:20",
         "Credit card",
         "420.72",
         "4.761904762",
         "21.036",
         "8.5",
         "3"
        ],
        [
         "26",
         "649-29-6775",
         "B",
         "Mandalay",
         "Normal",
         "Male",
         "Fashion accessories",
         "33.52",
         "1",
         "1.676",
         "35.196",
         "2019-02-08 00:00:00",
         "15:31",
         "Cash",
         "33.52",
         "4.761904762",
         "1.676",
         "6.7",
         "2"
        ],
        [
         "27",
         "189-17-4241",
         "A",
         "Yangon",
         "Normal",
         "Female",
         "Fashion accessories",
         "87.67",
         "2",
         "8.767",
         "184.107",
         "2019-03-10 00:00:00",
         "12:17",
         "Credit card",
         "175.34",
         "4.761904762",
         "8.767",
         "7.7",
         "3"
        ],
        [
         "28",
         "145-94-9061",
         "B",
         "Mandalay",
         "Normal",
         "Female",
         "Food and beverages",
         "88.36",
         "5",
         "22.09",
         "463.89",
         "2019-01-25 00:00:00",
         "19:48",
         "Cash",
         "441.8",
         "4.761904762",
         "22.09",
         "9.6",
         "1"
        ],
        [
         "29",
         "848-62-7243",
         "A",
         "Yangon",
         "Normal",
         "Male",
         "Health and beauty",
         "24.89",
         "9",
         "11.2005",
         "235.2105",
         "2019-03-15 00:00:00",
         "15:36",
         "Cash",
         "224.01",
         "4.761904762",
         "11.2005",
         "7.4",
         "3"
        ],
        [
         "30",
         "871-79-8483",
         "B",
         "Mandalay",
         "Normal",
         "Male",
         "Fashion accessories",
         "94.13",
         "5",
         "23.5325",
         "494.1825",
         "2019-02-25 00:00:00",
         "19:39",
         "Credit card",
         "470.65",
         "4.761904762",
         "23.5325",
         "4.8",
         "2"
        ],
        [
         "31",
         "149-71-6266",
         "B",
         "Mandalay",
         "Member",
         "Male",
         "Sports and travel",
         "78.07",
         "9",
         "35.1315",
         "737.7615",
         "2019-01-28 00:00:00",
         "12:43",
         "Cash",
         "702.63",
         "4.761904762",
         "35.1315",
         "4.5",
         "1"
        ],
        [
         "32",
         "640-49-2076",
         "B",
         "Mandalay",
         "Normal",
         "Male",
         "Sports and travel",
         "83.78",
         "8",
         "33.512",
         "703.752",
         "2019-01-10 00:00:00",
         "14:49",
         "Cash",
         "670.24",
         "4.761904762",
         "33.512",
         "5.1",
         "1"
        ],
        [
         "33",
         "595-11-5460",
         "A",
         "Yangon",
         "Normal",
         "Male",
         "Health and beauty",
         "96.58",
         "2",
         "9.658",
         "202.818",
         "2019-03-15 00:00:00",
         "10:12",
         "Credit card",
         "193.16",
         "4.761904762",
         "9.658",
         "5.1",
         "3"
        ],
        [
         "34",
         "183-56-6882",
         "C",
         "Naypyitaw",
         "Member",
         "Female",
         "Food and beverages",
         "99.42",
         "4",
         "19.884",
         "417.564",
         "2019-02-06 00:00:00",
         "10:42",
         "Ewallet",
         "397.68",
         "4.761904762",
         "19.884",
         "7.5",
         "2"
        ],
        [
         "35",
         "232-16-2483",
         "C",
         "Naypyitaw",
         "Member",
         "Female",
         "Sports and travel",
         "68.12",
         "1",
         "3.406",
         "71.526",
         "2019-01-07 00:00:00",
         "12:28",
         "Ewallet",
         "68.12",
         "4.761904762",
         "3.406",
         "6.8",
         "1"
        ],
        [
         "36",
         "129-29-8530",
         "A",
         "Yangon",
         "Member",
         "Male",
         "Sports and travel",
         "62.62",
         "5",
         "15.655",
         "328.755",
         "2019-03-10 00:00:00",
         "19:15",
         "Ewallet",
         "313.1",
         "4.761904762",
         "15.655",
         "7.0",
         "3"
        ],
        [
         "37",
         "272-65-1806",
         "A",
         "Yangon",
         "Normal",
         "Female",
         "Electronic accessories",
         "60.88",
         "9",
         "27.396",
         "575.316",
         "2019-01-15 00:00:00",
         "17:17",
         "Ewallet",
         "547.92",
         "4.761904762",
         "27.396",
         "4.7",
         "1"
        ],
        [
         "38",
         "333-73-7901",
         "C",
         "Naypyitaw",
         "Normal",
         "Female",
         "Health and beauty",
         "54.92",
         "8",
         "21.968",
         "461.328",
         "2019-03-23 00:00:00",
         "13:24",
         "Ewallet",
         "439.36",
         "4.761904762",
         "21.968",
         "7.6",
         "3"
        ],
        [
         "39",
         "777-82-7220",
         "B",
         "Mandalay",
         "Member",
         "Male",
         "Home and lifestyle",
         "30.12",
         "8",
         "12.048",
         "253.008",
         "2019-03-03 00:00:00",
         "13:01",
         "Cash",
         "240.96",
         "4.761904762",
         "12.048",
         "7.7",
         "3"
        ],
        [
         "40",
         "280-35-5823",
         "B",
         "Mandalay",
         "Member",
         "Female",
         "Home and lifestyle",
         "86.72",
         "1",
         "4.336",
         "91.056",
         "2019-01-17 00:00:00",
         "18:45",
         "Ewallet",
         "86.72",
         "4.761904762",
         "4.336",
         "7.9",
         "1"
        ],
        [
         "41",
         "554-53-8700",
         "C",
         "Naypyitaw",
         "Member",
         "Male",
         "Home and lifestyle",
         "56.11",
         "2",
         "5.611",
         "117.831",
         "2019-02-02 00:00:00",
         "10:11",
         "Cash",
         "112.22",
         "4.761904762",
         "5.611",
         "6.3",
         "2"
        ],
        [
         "42",
         "354-25-5821",
         "B",
         "Mandalay",
         "Member",
         "Female",
         "Sports and travel",
         "69.12",
         "6",
         "20.736",
         "435.456",
         "2019-02-08 00:00:00",
         "13:03",
         "Cash",
         "414.72",
         "4.761904762",
         "20.736",
         "5.6",
         "2"
        ],
        [
         "43",
         "228-96-1411",
         "C",
         "Naypyitaw",
         "Member",
         "Female",
         "Food and beverages",
         "98.7",
         "8",
         "39.48",
         "829.08",
         "2019-03-04 00:00:00",
         "20:39",
         "Cash",
         "789.6",
         "4.761904762",
         "39.48",
         "7.6",
         "3"
        ],
        [
         "44",
         "617-15-4209",
         "C",
         "Naypyitaw",
         "Member",
         "Male",
         "Health and beauty",
         "15.37",
         "2",
         "1.537",
         "32.277",
         "2019-03-16 00:00:00",
         "19:47",
         "Cash",
         "30.74",
         "4.761904762",
         "1.537",
         "7.2",
         "3"
        ],
        [
         "45",
         "132-32-9879",
         "B",
         "Mandalay",
         "Member",
         "Female",
         "Electronic accessories",
         "93.96",
         "4",
         "18.792",
         "394.632",
         "2019-03-09 00:00:00",
         "18:00",
         "Cash",
         "375.84",
         "4.761904762",
         "18.792",
         "9.5",
         "3"
        ],
        [
         "46",
         "370-41-7321",
         "B",
         "Mandalay",
         "Member",
         "Male",
         "Health and beauty",
         "56.69",
         "9",
         "25.5105",
         "535.7205",
         "2019-02-27 00:00:00",
         "17:24",
         "Credit card",
         "510.21",
         "4.761904762",
         "25.5105",
         "8.4",
         "2"
        ],
        [
         "47",
         "727-46-3608",
         "B",
         "Mandalay",
         "Member",
         "Female",
         "Food and beverages",
         "20.01",
         "9",
         "9.0045",
         "189.0945",
         "2019-02-06 00:00:00",
         "15:47",
         "Ewallet",
         "180.09",
         "4.761904762",
         "9.0045",
         "4.1",
         "2"
        ],
        [
         "48",
         "669-54-1719",
         "B",
         "Mandalay",
         "Member",
         "Male",
         "Electronic accessories",
         "18.93",
         "6",
         "5.679",
         "119.259",
         "2019-02-10 00:00:00",
         "12:45",
         "Credit card",
         "113.58",
         "4.761904762",
         "5.679",
         "8.1",
         "2"
        ],
        [
         "49",
         "574-22-5561",
         "C",
         "Naypyitaw",
         "Member",
         "Female",
         "Fashion accessories",
         "82.63",
         "10",
         "41.315",
         "867.615",
         "2019-03-19 00:00:00",
         "17:08",
         "Ewallet",
         "826.3",
         "4.761904762",
         "41.315",
         "7.9",
         "3"
        ]
       ],
       "shape": {
        "columns": 18,
        "rows": 1000
       }
      },
      "text/html": [
       "<div>\n",
       "<style scoped>\n",
       "    .dataframe tbody tr th:only-of-type {\n",
       "        vertical-align: middle;\n",
       "    }\n",
       "\n",
       "    .dataframe tbody tr th {\n",
       "        vertical-align: top;\n",
       "    }\n",
       "\n",
       "    .dataframe thead th {\n",
       "        text-align: right;\n",
       "    }\n",
       "</style>\n",
       "<table border=\"1\" class=\"dataframe\">\n",
       "  <thead>\n",
       "    <tr style=\"text-align: right;\">\n",
       "      <th></th>\n",
       "      <th>Invoice ID</th>\n",
       "      <th>Branch</th>\n",
       "      <th>City</th>\n",
       "      <th>Customer type</th>\n",
       "      <th>Gender</th>\n",
       "      <th>Product line</th>\n",
       "      <th>Unit price</th>\n",
       "      <th>Quantity</th>\n",
       "      <th>Tax 5%</th>\n",
       "      <th>Total</th>\n",
       "      <th>Date</th>\n",
       "      <th>Time</th>\n",
       "      <th>Payment</th>\n",
       "      <th>cogs</th>\n",
       "      <th>gross margin percentage</th>\n",
       "      <th>gross income</th>\n",
       "      <th>Rating</th>\n",
       "      <th>Month</th>\n",
       "    </tr>\n",
       "  </thead>\n",
       "  <tbody>\n",
       "    <tr>\n",
       "      <th>0</th>\n",
       "      <td>750-67-8428</td>\n",
       "      <td>A</td>\n",
       "      <td>Yangon</td>\n",
       "      <td>Member</td>\n",
       "      <td>Female</td>\n",
       "      <td>Health and beauty</td>\n",
       "      <td>74.69</td>\n",
       "      <td>7</td>\n",
       "      <td>26.141500</td>\n",
       "      <td>548.971500</td>\n",
       "      <td>2019-01-05</td>\n",
       "      <td>13:08</td>\n",
       "      <td>Ewallet</td>\n",
       "      <td>522.83000</td>\n",
       "      <td>4.761905</td>\n",
       "      <td>26.141500</td>\n",
       "      <td>9.1</td>\n",
       "      <td>1</td>\n",
       "    </tr>\n",
       "    <tr>\n",
       "      <th>1</th>\n",
       "      <td>226-31-3081</td>\n",
       "      <td>C</td>\n",
       "      <td>Naypyitaw</td>\n",
       "      <td>Normal</td>\n",
       "      <td>Female</td>\n",
       "      <td>Electronic accessories</td>\n",
       "      <td>15.28</td>\n",
       "      <td>5</td>\n",
       "      <td>3.820000</td>\n",
       "      <td>80.220000</td>\n",
       "      <td>2019-03-08</td>\n",
       "      <td>10:29</td>\n",
       "      <td>Cash</td>\n",
       "      <td>76.40000</td>\n",
       "      <td>4.761905</td>\n",
       "      <td>3.820000</td>\n",
       "      <td>9.6</td>\n",
       "      <td>3</td>\n",
       "    </tr>\n",
       "    <tr>\n",
       "      <th>2</th>\n",
       "      <td>631-41-3108</td>\n",
       "      <td>A</td>\n",
       "      <td>Yangon</td>\n",
       "      <td>Normal</td>\n",
       "      <td>Male</td>\n",
       "      <td>Home and lifestyle</td>\n",
       "      <td>46.33</td>\n",
       "      <td>7</td>\n",
       "      <td>16.215500</td>\n",
       "      <td>340.525500</td>\n",
       "      <td>2019-03-03</td>\n",
       "      <td>13:23</td>\n",
       "      <td>Credit card</td>\n",
       "      <td>324.31000</td>\n",
       "      <td>4.761905</td>\n",
       "      <td>16.215500</td>\n",
       "      <td>7.4</td>\n",
       "      <td>3</td>\n",
       "    </tr>\n",
       "    <tr>\n",
       "      <th>3</th>\n",
       "      <td>123-19-1176</td>\n",
       "      <td>A</td>\n",
       "      <td>Yangon</td>\n",
       "      <td>Member</td>\n",
       "      <td>Male</td>\n",
       "      <td>Health and beauty</td>\n",
       "      <td>58.22</td>\n",
       "      <td>8</td>\n",
       "      <td>23.288000</td>\n",
       "      <td>489.048000</td>\n",
       "      <td>2019-01-27</td>\n",
       "      <td>20:33</td>\n",
       "      <td>Ewallet</td>\n",
       "      <td>465.76000</td>\n",
       "      <td>4.761905</td>\n",
       "      <td>23.288000</td>\n",
       "      <td>8.4</td>\n",
       "      <td>1</td>\n",
       "    </tr>\n",
       "    <tr>\n",
       "      <th>4</th>\n",
       "      <td>373-73-7910</td>\n",
       "      <td>A</td>\n",
       "      <td>Yangon</td>\n",
       "      <td>Normal</td>\n",
       "      <td>Male</td>\n",
       "      <td>Sports and travel</td>\n",
       "      <td>86.31</td>\n",
       "      <td>7</td>\n",
       "      <td>30.208500</td>\n",
       "      <td>634.378500</td>\n",
       "      <td>2019-02-08</td>\n",
       "      <td>10:37</td>\n",
       "      <td>Ewallet</td>\n",
       "      <td>604.17000</td>\n",
       "      <td>4.761905</td>\n",
       "      <td>30.208500</td>\n",
       "      <td>5.3</td>\n",
       "      <td>2</td>\n",
       "    </tr>\n",
       "    <tr>\n",
       "      <th>...</th>\n",
       "      <td>...</td>\n",
       "      <td>...</td>\n",
       "      <td>...</td>\n",
       "      <td>...</td>\n",
       "      <td>...</td>\n",
       "      <td>...</td>\n",
       "      <td>...</td>\n",
       "      <td>...</td>\n",
       "      <td>...</td>\n",
       "      <td>...</td>\n",
       "      <td>...</td>\n",
       "      <td>...</td>\n",
       "      <td>...</td>\n",
       "      <td>...</td>\n",
       "      <td>...</td>\n",
       "      <td>...</td>\n",
       "      <td>...</td>\n",
       "      <td>...</td>\n",
       "    </tr>\n",
       "    <tr>\n",
       "      <th>995</th>\n",
       "      <td>233-67-5758</td>\n",
       "      <td>C</td>\n",
       "      <td>Naypyitaw</td>\n",
       "      <td>Normal</td>\n",
       "      <td>Male</td>\n",
       "      <td>Health and beauty</td>\n",
       "      <td>40.35</td>\n",
       "      <td>1</td>\n",
       "      <td>2.017500</td>\n",
       "      <td>42.367500</td>\n",
       "      <td>2019-01-29</td>\n",
       "      <td>13:46</td>\n",
       "      <td>Ewallet</td>\n",
       "      <td>40.35000</td>\n",
       "      <td>4.761905</td>\n",
       "      <td>2.017500</td>\n",
       "      <td>6.2</td>\n",
       "      <td>1</td>\n",
       "    </tr>\n",
       "    <tr>\n",
       "      <th>996</th>\n",
       "      <td>303-96-2227</td>\n",
       "      <td>B</td>\n",
       "      <td>Mandalay</td>\n",
       "      <td>Normal</td>\n",
       "      <td>Female</td>\n",
       "      <td>Home and lifestyle</td>\n",
       "      <td>97.38</td>\n",
       "      <td>10</td>\n",
       "      <td>47.225813</td>\n",
       "      <td>991.742062</td>\n",
       "      <td>2019-03-02</td>\n",
       "      <td>17:16</td>\n",
       "      <td>Ewallet</td>\n",
       "      <td>944.51625</td>\n",
       "      <td>4.761905</td>\n",
       "      <td>47.225813</td>\n",
       "      <td>4.4</td>\n",
       "      <td>3</td>\n",
       "    </tr>\n",
       "    <tr>\n",
       "      <th>997</th>\n",
       "      <td>727-02-1313</td>\n",
       "      <td>A</td>\n",
       "      <td>Yangon</td>\n",
       "      <td>Member</td>\n",
       "      <td>Male</td>\n",
       "      <td>Food and beverages</td>\n",
       "      <td>31.84</td>\n",
       "      <td>1</td>\n",
       "      <td>1.592000</td>\n",
       "      <td>33.432000</td>\n",
       "      <td>2019-02-09</td>\n",
       "      <td>13:22</td>\n",
       "      <td>Cash</td>\n",
       "      <td>31.84000</td>\n",
       "      <td>4.761905</td>\n",
       "      <td>1.592000</td>\n",
       "      <td>7.7</td>\n",
       "      <td>2</td>\n",
       "    </tr>\n",
       "    <tr>\n",
       "      <th>998</th>\n",
       "      <td>347-56-2442</td>\n",
       "      <td>A</td>\n",
       "      <td>Yangon</td>\n",
       "      <td>Normal</td>\n",
       "      <td>Male</td>\n",
       "      <td>Home and lifestyle</td>\n",
       "      <td>65.82</td>\n",
       "      <td>1</td>\n",
       "      <td>3.291000</td>\n",
       "      <td>69.111000</td>\n",
       "      <td>2019-02-22</td>\n",
       "      <td>15:33</td>\n",
       "      <td>Cash</td>\n",
       "      <td>65.82000</td>\n",
       "      <td>4.761905</td>\n",
       "      <td>3.291000</td>\n",
       "      <td>4.1</td>\n",
       "      <td>2</td>\n",
       "    </tr>\n",
       "    <tr>\n",
       "      <th>999</th>\n",
       "      <td>849-09-3807</td>\n",
       "      <td>A</td>\n",
       "      <td>Yangon</td>\n",
       "      <td>Member</td>\n",
       "      <td>Female</td>\n",
       "      <td>Fashion accessories</td>\n",
       "      <td>88.34</td>\n",
       "      <td>7</td>\n",
       "      <td>30.919000</td>\n",
       "      <td>649.299000</td>\n",
       "      <td>2019-02-18</td>\n",
       "      <td>13:28</td>\n",
       "      <td>Cash</td>\n",
       "      <td>618.38000</td>\n",
       "      <td>4.761905</td>\n",
       "      <td>30.919000</td>\n",
       "      <td>6.6</td>\n",
       "      <td>2</td>\n",
       "    </tr>\n",
       "  </tbody>\n",
       "</table>\n",
       "<p>1000 rows × 18 columns</p>\n",
       "</div>"
      ],
      "text/plain": [
       "      Invoice ID Branch       City Customer type  Gender  \\\n",
       "0    750-67-8428      A     Yangon        Member  Female   \n",
       "1    226-31-3081      C  Naypyitaw        Normal  Female   \n",
       "2    631-41-3108      A     Yangon        Normal    Male   \n",
       "3    123-19-1176      A     Yangon        Member    Male   \n",
       "4    373-73-7910      A     Yangon        Normal    Male   \n",
       "..           ...    ...        ...           ...     ...   \n",
       "995  233-67-5758      C  Naypyitaw        Normal    Male   \n",
       "996  303-96-2227      B   Mandalay        Normal  Female   \n",
       "997  727-02-1313      A     Yangon        Member    Male   \n",
       "998  347-56-2442      A     Yangon        Normal    Male   \n",
       "999  849-09-3807      A     Yangon        Member  Female   \n",
       "\n",
       "               Product line  Unit price  Quantity     Tax 5%       Total  \\\n",
       "0         Health and beauty       74.69         7  26.141500  548.971500   \n",
       "1    Electronic accessories       15.28         5   3.820000   80.220000   \n",
       "2        Home and lifestyle       46.33         7  16.215500  340.525500   \n",
       "3         Health and beauty       58.22         8  23.288000  489.048000   \n",
       "4         Sports and travel       86.31         7  30.208500  634.378500   \n",
       "..                      ...         ...       ...        ...         ...   \n",
       "995       Health and beauty       40.35         1   2.017500   42.367500   \n",
       "996      Home and lifestyle       97.38        10  47.225813  991.742062   \n",
       "997      Food and beverages       31.84         1   1.592000   33.432000   \n",
       "998      Home and lifestyle       65.82         1   3.291000   69.111000   \n",
       "999     Fashion accessories       88.34         7  30.919000  649.299000   \n",
       "\n",
       "          Date   Time      Payment       cogs  gross margin percentage  \\\n",
       "0   2019-01-05  13:08      Ewallet  522.83000                 4.761905   \n",
       "1   2019-03-08  10:29         Cash   76.40000                 4.761905   \n",
       "2   2019-03-03  13:23  Credit card  324.31000                 4.761905   \n",
       "3   2019-01-27  20:33      Ewallet  465.76000                 4.761905   \n",
       "4   2019-02-08  10:37      Ewallet  604.17000                 4.761905   \n",
       "..         ...    ...          ...        ...                      ...   \n",
       "995 2019-01-29  13:46      Ewallet   40.35000                 4.761905   \n",
       "996 2019-03-02  17:16      Ewallet  944.51625                 4.761905   \n",
       "997 2019-02-09  13:22         Cash   31.84000                 4.761905   \n",
       "998 2019-02-22  15:33         Cash   65.82000                 4.761905   \n",
       "999 2019-02-18  13:28         Cash  618.38000                 4.761905   \n",
       "\n",
       "     gross income  Rating Month  \n",
       "0       26.141500     9.1     1  \n",
       "1        3.820000     9.6     3  \n",
       "2       16.215500     7.4     3  \n",
       "3       23.288000     8.4     1  \n",
       "4       30.208500     5.3     2  \n",
       "..            ...     ...   ...  \n",
       "995      2.017500     6.2     1  \n",
       "996     47.225813     4.4     3  \n",
       "997      1.592000     7.7     2  \n",
       "998      3.291000     4.1     2  \n",
       "999     30.919000     6.6     2  \n",
       "\n",
       "[1000 rows x 18 columns]"
      ]
     },
     "execution_count": 27,
     "metadata": {},
     "output_type": "execute_result"
    }
   ],
   "source": [
    "df"
   ]
  },
  {
   "cell_type": "code",
   "execution_count": 28,
   "id": "b0a17105",
   "metadata": {},
   "outputs": [
    {
     "data": {
      "application/vnd.microsoft.datawrangler.viewer.v0+json": {
       "columns": [
        {
         "name": "index",
         "rawType": "int64",
         "type": "integer"
        },
        {
         "name": "Invoice ID",
         "rawType": "object",
         "type": "string"
        },
        {
         "name": "Branch",
         "rawType": "object",
         "type": "string"
        },
        {
         "name": "City",
         "rawType": "object",
         "type": "string"
        },
        {
         "name": "Customer type",
         "rawType": "object",
         "type": "string"
        },
        {
         "name": "Gender",
         "rawType": "object",
         "type": "string"
        },
        {
         "name": "Product line",
         "rawType": "object",
         "type": "string"
        },
        {
         "name": "Unit price",
         "rawType": "float64",
         "type": "float"
        },
        {
         "name": "Quantity",
         "rawType": "int64",
         "type": "integer"
        },
        {
         "name": "Tax 5%",
         "rawType": "float64",
         "type": "float"
        },
        {
         "name": "Total",
         "rawType": "float64",
         "type": "float"
        },
        {
         "name": "Date",
         "rawType": "datetime64[ns]",
         "type": "datetime"
        },
        {
         "name": "Time",
         "rawType": "object",
         "type": "string"
        },
        {
         "name": "Payment",
         "rawType": "object",
         "type": "string"
        },
        {
         "name": "cogs",
         "rawType": "float64",
         "type": "float"
        },
        {
         "name": "gross margin percentage",
         "rawType": "float64",
         "type": "float"
        },
        {
         "name": "gross income",
         "rawType": "float64",
         "type": "float"
        },
        {
         "name": "Rating",
         "rawType": "float64",
         "type": "float"
        },
        {
         "name": "Month",
         "rawType": "object",
         "type": "unknown"
        }
       ],
       "conversionMethod": "pd.DataFrame",
       "ref": "fa0a0544-57c7-4fd4-b2ff-154decd4626a",
       "rows": [
        [
         "0",
         "750-67-8428",
         "A",
         "Yangon",
         "Member",
         "Female",
         "Health and beauty",
         "74.69",
         "7",
         "26.1415",
         "548.9715",
         "2019-01-05 00:00:00",
         "13:08",
         "Ewallet",
         "522.83",
         "4.761904762",
         "26.1415",
         "9.1",
         "1"
        ],
        [
         "1",
         "226-31-3081",
         "C",
         "Naypyitaw",
         "Normal",
         "Female",
         "Electronic accessories",
         "15.28",
         "5",
         "3.82",
         "80.22",
         "2019-03-08 00:00:00",
         "10:29",
         "Cash",
         "76.4",
         "4.761904762",
         "3.82",
         "9.6",
         "3"
        ],
        [
         "2",
         "631-41-3108",
         "A",
         "Yangon",
         "Normal",
         "Male",
         "Home and lifestyle",
         "46.33",
         "7",
         "16.2155",
         "340.5255",
         "2019-03-03 00:00:00",
         "13:23",
         "Credit card",
         "324.31",
         "4.761904762",
         "16.2155",
         "7.4",
         "3"
        ],
        [
         "3",
         "123-19-1176",
         "A",
         "Yangon",
         "Member",
         "Male",
         "Health and beauty",
         "58.22",
         "8",
         "23.288",
         "489.048",
         "2019-01-27 00:00:00",
         "20:33",
         "Ewallet",
         "465.76",
         "4.761904762",
         "23.288",
         "8.4",
         "1"
        ],
        [
         "4",
         "373-73-7910",
         "A",
         "Yangon",
         "Normal",
         "Male",
         "Sports and travel",
         "86.31",
         "7",
         "30.2085",
         "634.3785",
         "2019-02-08 00:00:00",
         "10:37",
         "Ewallet",
         "604.17",
         "4.761904762",
         "30.2085",
         "5.3",
         "2"
        ],
        [
         "5",
         "699-14-3026",
         "C",
         "Naypyitaw",
         "Normal",
         "Male",
         "Electronic accessories",
         "85.39",
         "7",
         "29.8865",
         "627.6165",
         "2019-03-25 00:00:00",
         "18:30",
         "Ewallet",
         "597.73",
         "4.761904762",
         "29.8865",
         "4.1",
         "3"
        ],
        [
         "6",
         "355-53-5943",
         "A",
         "Yangon",
         "Member",
         "Female",
         "Electronic accessories",
         "68.84",
         "6",
         "20.652",
         "433.692",
         "2019-02-25 00:00:00",
         "14:36",
         "Ewallet",
         "413.04",
         "4.761904762",
         "20.652",
         "5.8",
         "2"
        ],
        [
         "7",
         "315-22-5665",
         "C",
         "Naypyitaw",
         "Normal",
         "Female",
         "Home and lifestyle",
         "73.56",
         "10",
         "36.78",
         "772.38",
         "2019-02-24 00:00:00",
         "11:38",
         "Ewallet",
         "735.6",
         "4.761904762",
         "36.78",
         "8.0",
         "2"
        ],
        [
         "8",
         "665-32-9167",
         "A",
         "Yangon",
         "Member",
         "Female",
         "Health and beauty",
         "36.26",
         "2",
         "3.626",
         "76.146",
         "2019-01-10 00:00:00",
         "17:15",
         "Credit card",
         "72.52",
         "4.761904762",
         "3.626",
         "7.2",
         "1"
        ],
        [
         "9",
         "692-92-5582",
         "B",
         "Mandalay",
         "Member",
         "Female",
         "Food and beverages",
         "54.84",
         "3",
         "8.226",
         "172.746",
         "2019-02-20 00:00:00",
         "13:27",
         "Credit card",
         "164.52",
         "4.761904762",
         "8.226",
         "5.9",
         "2"
        ],
        [
         "10",
         "351-62-0822",
         "B",
         "Mandalay",
         "Member",
         "Female",
         "Fashion accessories",
         "14.48",
         "4",
         "2.896",
         "60.816",
         "2019-02-06 00:00:00",
         "18:07",
         "Ewallet",
         "57.92",
         "4.761904762",
         "2.896",
         "4.5",
         "2"
        ],
        [
         "11",
         "529-56-3974",
         "B",
         "Mandalay",
         "Member",
         "Male",
         "Electronic accessories",
         "25.51",
         "4",
         "5.102",
         "107.142",
         "2019-03-09 00:00:00",
         "17:03",
         "Cash",
         "102.04",
         "4.761904762",
         "5.102",
         "6.8",
         "3"
        ],
        [
         "12",
         "365-64-0515",
         "A",
         "Yangon",
         "Normal",
         "Female",
         "Electronic accessories",
         "46.95",
         "5",
         "11.7375",
         "246.4875",
         "2019-02-12 00:00:00",
         "10:25",
         "Ewallet",
         "234.75",
         "4.761904762",
         "11.7375",
         "7.1",
         "2"
        ],
        [
         "13",
         "252-56-2699",
         "A",
         "Yangon",
         "Normal",
         "Male",
         "Food and beverages",
         "43.19",
         "10",
         "21.595",
         "453.495",
         "2019-02-07 00:00:00",
         "16:48",
         "Ewallet",
         "431.9",
         "4.761904762",
         "21.595",
         "8.2",
         "2"
        ],
        [
         "14",
         "829-34-3910",
         "A",
         "Yangon",
         "Normal",
         "Female",
         "Health and beauty",
         "71.38",
         "10",
         "35.69",
         "749.49",
         "2019-03-29 00:00:00",
         "19:21",
         "Cash",
         "713.8",
         "4.761904762",
         "35.69",
         "5.7",
         "3"
        ],
        [
         "15",
         "299-46-1805",
         "B",
         "Mandalay",
         "Member",
         "Female",
         "Sports and travel",
         "93.72",
         "6",
         "28.116",
         "590.436",
         "2019-01-15 00:00:00",
         "16:19",
         "Cash",
         "562.32",
         "4.761904762",
         "28.116",
         "4.5",
         "1"
        ],
        [
         "16",
         "656-95-9349",
         "A",
         "Yangon",
         "Member",
         "Female",
         "Health and beauty",
         "68.93",
         "7",
         "24.1255",
         "506.6355",
         "2019-03-11 00:00:00",
         "11:03",
         "Credit card",
         "482.51",
         "4.761904762",
         "24.1255",
         "4.6",
         "3"
        ],
        [
         "17",
         "765-26-6951",
         "A",
         "Yangon",
         "Normal",
         "Male",
         "Sports and travel",
         "72.61",
         "6",
         "21.783",
         "457.443",
         "2019-01-01 00:00:00",
         "10:39",
         "Credit card",
         "435.66",
         "4.761904762",
         "21.783",
         "6.9",
         "1"
        ],
        [
         "18",
         "329-62-1586",
         "A",
         "Yangon",
         "Normal",
         "Male",
         "Food and beverages",
         "54.67",
         "3",
         "8.2005",
         "172.2105",
         "2019-01-21 00:00:00",
         "18:00",
         "Credit card",
         "164.01",
         "4.761904762",
         "8.2005",
         "8.6",
         "1"
        ],
        [
         "19",
         "319-50-3348",
         "B",
         "Mandalay",
         "Normal",
         "Female",
         "Home and lifestyle",
         "40.3",
         "2",
         "4.03",
         "84.63",
         "2019-03-11 00:00:00",
         "15:30",
         "Ewallet",
         "80.6",
         "4.761904762",
         "4.03",
         "4.4",
         "3"
        ],
        [
         "20",
         "300-71-4605",
         "C",
         "Naypyitaw",
         "Member",
         "Male",
         "Electronic accessories",
         "86.04",
         "5",
         "21.51",
         "451.71",
         "2019-02-25 00:00:00",
         "11:24",
         "Ewallet",
         "430.2",
         "4.761904762",
         "21.51",
         "4.8",
         "2"
        ],
        [
         "21",
         "371-85-5789",
         "B",
         "Mandalay",
         "Normal",
         "Male",
         "Health and beauty",
         "87.98",
         "3",
         "13.197",
         "277.137",
         "2019-03-05 00:00:00",
         "10:40",
         "Ewallet",
         "263.94",
         "4.761904762",
         "13.197",
         "5.1",
         "3"
        ],
        [
         "22",
         "273-16-6619",
         "B",
         "Mandalay",
         "Normal",
         "Male",
         "Home and lifestyle",
         "33.2",
         "2",
         "3.32",
         "69.72",
         "2019-03-15 00:00:00",
         "12:20",
         "Credit card",
         "66.4",
         "4.761904762",
         "3.32",
         "4.4",
         "3"
        ],
        [
         "23",
         "636-48-8204",
         "A",
         "Yangon",
         "Normal",
         "Male",
         "Electronic accessories",
         "34.56",
         "5",
         "8.64",
         "181.44",
         "2019-02-17 00:00:00",
         "11:15",
         "Ewallet",
         "172.8",
         "4.761904762",
         "8.64",
         "9.9",
         "2"
        ],
        [
         "24",
         "549-59-1358",
         "A",
         "Yangon",
         "Member",
         "Male",
         "Sports and travel",
         "88.63",
         "3",
         "13.2945",
         "279.1845",
         "2019-03-02 00:00:00",
         "17:36",
         "Ewallet",
         "265.89",
         "4.761904762",
         "13.2945",
         "6.0",
         "3"
        ],
        [
         "25",
         "227-03-5010",
         "A",
         "Yangon",
         "Member",
         "Female",
         "Home and lifestyle",
         "52.59",
         "8",
         "21.036",
         "441.756",
         "2019-03-22 00:00:00",
         "19:20",
         "Credit card",
         "420.72",
         "4.761904762",
         "21.036",
         "8.5",
         "3"
        ],
        [
         "26",
         "649-29-6775",
         "B",
         "Mandalay",
         "Normal",
         "Male",
         "Fashion accessories",
         "33.52",
         "1",
         "1.676",
         "35.196",
         "2019-02-08 00:00:00",
         "15:31",
         "Cash",
         "33.52",
         "4.761904762",
         "1.676",
         "6.7",
         "2"
        ],
        [
         "27",
         "189-17-4241",
         "A",
         "Yangon",
         "Normal",
         "Female",
         "Fashion accessories",
         "87.67",
         "2",
         "8.767",
         "184.107",
         "2019-03-10 00:00:00",
         "12:17",
         "Credit card",
         "175.34",
         "4.761904762",
         "8.767",
         "7.7",
         "3"
        ],
        [
         "28",
         "145-94-9061",
         "B",
         "Mandalay",
         "Normal",
         "Female",
         "Food and beverages",
         "88.36",
         "5",
         "22.09",
         "463.89",
         "2019-01-25 00:00:00",
         "19:48",
         "Cash",
         "441.8",
         "4.761904762",
         "22.09",
         "9.6",
         "1"
        ],
        [
         "29",
         "848-62-7243",
         "A",
         "Yangon",
         "Normal",
         "Male",
         "Health and beauty",
         "24.89",
         "9",
         "11.2005",
         "235.2105",
         "2019-03-15 00:00:00",
         "15:36",
         "Cash",
         "224.01",
         "4.761904762",
         "11.2005",
         "7.4",
         "3"
        ],
        [
         "30",
         "871-79-8483",
         "B",
         "Mandalay",
         "Normal",
         "Male",
         "Fashion accessories",
         "94.13",
         "5",
         "23.5325",
         "494.1825",
         "2019-02-25 00:00:00",
         "19:39",
         "Credit card",
         "470.65",
         "4.761904762",
         "23.5325",
         "4.8",
         "2"
        ],
        [
         "31",
         "149-71-6266",
         "B",
         "Mandalay",
         "Member",
         "Male",
         "Sports and travel",
         "78.07",
         "9",
         "35.1315",
         "737.7615",
         "2019-01-28 00:00:00",
         "12:43",
         "Cash",
         "702.63",
         "4.761904762",
         "35.1315",
         "4.5",
         "1"
        ],
        [
         "32",
         "640-49-2076",
         "B",
         "Mandalay",
         "Normal",
         "Male",
         "Sports and travel",
         "83.78",
         "8",
         "33.512",
         "703.752",
         "2019-01-10 00:00:00",
         "14:49",
         "Cash",
         "670.24",
         "4.761904762",
         "33.512",
         "5.1",
         "1"
        ],
        [
         "33",
         "595-11-5460",
         "A",
         "Yangon",
         "Normal",
         "Male",
         "Health and beauty",
         "96.58",
         "2",
         "9.658",
         "202.818",
         "2019-03-15 00:00:00",
         "10:12",
         "Credit card",
         "193.16",
         "4.761904762",
         "9.658",
         "5.1",
         "3"
        ],
        [
         "34",
         "183-56-6882",
         "C",
         "Naypyitaw",
         "Member",
         "Female",
         "Food and beverages",
         "99.42",
         "4",
         "19.884",
         "417.564",
         "2019-02-06 00:00:00",
         "10:42",
         "Ewallet",
         "397.68",
         "4.761904762",
         "19.884",
         "7.5",
         "2"
        ],
        [
         "35",
         "232-16-2483",
         "C",
         "Naypyitaw",
         "Member",
         "Female",
         "Sports and travel",
         "68.12",
         "1",
         "3.406",
         "71.526",
         "2019-01-07 00:00:00",
         "12:28",
         "Ewallet",
         "68.12",
         "4.761904762",
         "3.406",
         "6.8",
         "1"
        ],
        [
         "36",
         "129-29-8530",
         "A",
         "Yangon",
         "Member",
         "Male",
         "Sports and travel",
         "62.62",
         "5",
         "15.655",
         "328.755",
         "2019-03-10 00:00:00",
         "19:15",
         "Ewallet",
         "313.1",
         "4.761904762",
         "15.655",
         "7.0",
         "3"
        ],
        [
         "37",
         "272-65-1806",
         "A",
         "Yangon",
         "Normal",
         "Female",
         "Electronic accessories",
         "60.88",
         "9",
         "27.396",
         "575.316",
         "2019-01-15 00:00:00",
         "17:17",
         "Ewallet",
         "547.92",
         "4.761904762",
         "27.396",
         "4.7",
         "1"
        ],
        [
         "38",
         "333-73-7901",
         "C",
         "Naypyitaw",
         "Normal",
         "Female",
         "Health and beauty",
         "54.92",
         "8",
         "21.968",
         "461.328",
         "2019-03-23 00:00:00",
         "13:24",
         "Ewallet",
         "439.36",
         "4.761904762",
         "21.968",
         "7.6",
         "3"
        ],
        [
         "39",
         "777-82-7220",
         "B",
         "Mandalay",
         "Member",
         "Male",
         "Home and lifestyle",
         "30.12",
         "8",
         "12.048",
         "253.008",
         "2019-03-03 00:00:00",
         "13:01",
         "Cash",
         "240.96",
         "4.761904762",
         "12.048",
         "7.7",
         "3"
        ],
        [
         "40",
         "280-35-5823",
         "B",
         "Mandalay",
         "Member",
         "Female",
         "Home and lifestyle",
         "86.72",
         "1",
         "4.336",
         "91.056",
         "2019-01-17 00:00:00",
         "18:45",
         "Ewallet",
         "86.72",
         "4.761904762",
         "4.336",
         "7.9",
         "1"
        ],
        [
         "41",
         "554-53-8700",
         "C",
         "Naypyitaw",
         "Member",
         "Male",
         "Home and lifestyle",
         "56.11",
         "2",
         "5.611",
         "117.831",
         "2019-02-02 00:00:00",
         "10:11",
         "Cash",
         "112.22",
         "4.761904762",
         "5.611",
         "6.3",
         "2"
        ],
        [
         "42",
         "354-25-5821",
         "B",
         "Mandalay",
         "Member",
         "Female",
         "Sports and travel",
         "69.12",
         "6",
         "20.736",
         "435.456",
         "2019-02-08 00:00:00",
         "13:03",
         "Cash",
         "414.72",
         "4.761904762",
         "20.736",
         "5.6",
         "2"
        ],
        [
         "43",
         "228-96-1411",
         "C",
         "Naypyitaw",
         "Member",
         "Female",
         "Food and beverages",
         "98.7",
         "8",
         "39.48",
         "829.08",
         "2019-03-04 00:00:00",
         "20:39",
         "Cash",
         "789.6",
         "4.761904762",
         "39.48",
         "7.6",
         "3"
        ],
        [
         "44",
         "617-15-4209",
         "C",
         "Naypyitaw",
         "Member",
         "Male",
         "Health and beauty",
         "15.37",
         "2",
         "1.537",
         "32.277",
         "2019-03-16 00:00:00",
         "19:47",
         "Cash",
         "30.74",
         "4.761904762",
         "1.537",
         "7.2",
         "3"
        ],
        [
         "45",
         "132-32-9879",
         "B",
         "Mandalay",
         "Member",
         "Female",
         "Electronic accessories",
         "93.96",
         "4",
         "18.792",
         "394.632",
         "2019-03-09 00:00:00",
         "18:00",
         "Cash",
         "375.84",
         "4.761904762",
         "18.792",
         "9.5",
         "3"
        ],
        [
         "46",
         "370-41-7321",
         "B",
         "Mandalay",
         "Member",
         "Male",
         "Health and beauty",
         "56.69",
         "9",
         "25.5105",
         "535.7205",
         "2019-02-27 00:00:00",
         "17:24",
         "Credit card",
         "510.21",
         "4.761904762",
         "25.5105",
         "8.4",
         "2"
        ],
        [
         "47",
         "727-46-3608",
         "B",
         "Mandalay",
         "Member",
         "Female",
         "Food and beverages",
         "20.01",
         "9",
         "9.0045",
         "189.0945",
         "2019-02-06 00:00:00",
         "15:47",
         "Ewallet",
         "180.09",
         "4.761904762",
         "9.0045",
         "4.1",
         "2"
        ],
        [
         "48",
         "669-54-1719",
         "B",
         "Mandalay",
         "Member",
         "Male",
         "Electronic accessories",
         "18.93",
         "6",
         "5.679",
         "119.259",
         "2019-02-10 00:00:00",
         "12:45",
         "Credit card",
         "113.58",
         "4.761904762",
         "5.679",
         "8.1",
         "2"
        ],
        [
         "49",
         "574-22-5561",
         "C",
         "Naypyitaw",
         "Member",
         "Female",
         "Fashion accessories",
         "82.63",
         "10",
         "41.315",
         "867.615",
         "2019-03-19 00:00:00",
         "17:08",
         "Ewallet",
         "826.3",
         "4.761904762",
         "41.315",
         "7.9",
         "3"
        ]
       ],
       "shape": {
        "columns": 18,
        "rows": 1000
       }
      },
      "text/html": [
       "<div>\n",
       "<style scoped>\n",
       "    .dataframe tbody tr th:only-of-type {\n",
       "        vertical-align: middle;\n",
       "    }\n",
       "\n",
       "    .dataframe tbody tr th {\n",
       "        vertical-align: top;\n",
       "    }\n",
       "\n",
       "    .dataframe thead th {\n",
       "        text-align: right;\n",
       "    }\n",
       "</style>\n",
       "<table border=\"1\" class=\"dataframe\">\n",
       "  <thead>\n",
       "    <tr style=\"text-align: right;\">\n",
       "      <th></th>\n",
       "      <th>Invoice ID</th>\n",
       "      <th>Branch</th>\n",
       "      <th>City</th>\n",
       "      <th>Customer type</th>\n",
       "      <th>Gender</th>\n",
       "      <th>Product line</th>\n",
       "      <th>Unit price</th>\n",
       "      <th>Quantity</th>\n",
       "      <th>Tax 5%</th>\n",
       "      <th>Total</th>\n",
       "      <th>Date</th>\n",
       "      <th>Time</th>\n",
       "      <th>Payment</th>\n",
       "      <th>cogs</th>\n",
       "      <th>gross margin percentage</th>\n",
       "      <th>gross income</th>\n",
       "      <th>Rating</th>\n",
       "      <th>Month</th>\n",
       "    </tr>\n",
       "  </thead>\n",
       "  <tbody>\n",
       "    <tr>\n",
       "      <th>0</th>\n",
       "      <td>750-67-8428</td>\n",
       "      <td>A</td>\n",
       "      <td>Yangon</td>\n",
       "      <td>Member</td>\n",
       "      <td>Female</td>\n",
       "      <td>Health and beauty</td>\n",
       "      <td>74.69</td>\n",
       "      <td>7</td>\n",
       "      <td>26.141500</td>\n",
       "      <td>548.971500</td>\n",
       "      <td>2019-01-05</td>\n",
       "      <td>13:08</td>\n",
       "      <td>Ewallet</td>\n",
       "      <td>522.83000</td>\n",
       "      <td>4.761905</td>\n",
       "      <td>26.141500</td>\n",
       "      <td>9.1</td>\n",
       "      <td>1</td>\n",
       "    </tr>\n",
       "    <tr>\n",
       "      <th>1</th>\n",
       "      <td>226-31-3081</td>\n",
       "      <td>C</td>\n",
       "      <td>Naypyitaw</td>\n",
       "      <td>Normal</td>\n",
       "      <td>Female</td>\n",
       "      <td>Electronic accessories</td>\n",
       "      <td>15.28</td>\n",
       "      <td>5</td>\n",
       "      <td>3.820000</td>\n",
       "      <td>80.220000</td>\n",
       "      <td>2019-03-08</td>\n",
       "      <td>10:29</td>\n",
       "      <td>Cash</td>\n",
       "      <td>76.40000</td>\n",
       "      <td>4.761905</td>\n",
       "      <td>3.820000</td>\n",
       "      <td>9.6</td>\n",
       "      <td>3</td>\n",
       "    </tr>\n",
       "    <tr>\n",
       "      <th>2</th>\n",
       "      <td>631-41-3108</td>\n",
       "      <td>A</td>\n",
       "      <td>Yangon</td>\n",
       "      <td>Normal</td>\n",
       "      <td>Male</td>\n",
       "      <td>Home and lifestyle</td>\n",
       "      <td>46.33</td>\n",
       "      <td>7</td>\n",
       "      <td>16.215500</td>\n",
       "      <td>340.525500</td>\n",
       "      <td>2019-03-03</td>\n",
       "      <td>13:23</td>\n",
       "      <td>Credit card</td>\n",
       "      <td>324.31000</td>\n",
       "      <td>4.761905</td>\n",
       "      <td>16.215500</td>\n",
       "      <td>7.4</td>\n",
       "      <td>3</td>\n",
       "    </tr>\n",
       "    <tr>\n",
       "      <th>3</th>\n",
       "      <td>123-19-1176</td>\n",
       "      <td>A</td>\n",
       "      <td>Yangon</td>\n",
       "      <td>Member</td>\n",
       "      <td>Male</td>\n",
       "      <td>Health and beauty</td>\n",
       "      <td>58.22</td>\n",
       "      <td>8</td>\n",
       "      <td>23.288000</td>\n",
       "      <td>489.048000</td>\n",
       "      <td>2019-01-27</td>\n",
       "      <td>20:33</td>\n",
       "      <td>Ewallet</td>\n",
       "      <td>465.76000</td>\n",
       "      <td>4.761905</td>\n",
       "      <td>23.288000</td>\n",
       "      <td>8.4</td>\n",
       "      <td>1</td>\n",
       "    </tr>\n",
       "    <tr>\n",
       "      <th>4</th>\n",
       "      <td>373-73-7910</td>\n",
       "      <td>A</td>\n",
       "      <td>Yangon</td>\n",
       "      <td>Normal</td>\n",
       "      <td>Male</td>\n",
       "      <td>Sports and travel</td>\n",
       "      <td>86.31</td>\n",
       "      <td>7</td>\n",
       "      <td>30.208500</td>\n",
       "      <td>634.378500</td>\n",
       "      <td>2019-02-08</td>\n",
       "      <td>10:37</td>\n",
       "      <td>Ewallet</td>\n",
       "      <td>604.17000</td>\n",
       "      <td>4.761905</td>\n",
       "      <td>30.208500</td>\n",
       "      <td>5.3</td>\n",
       "      <td>2</td>\n",
       "    </tr>\n",
       "    <tr>\n",
       "      <th>...</th>\n",
       "      <td>...</td>\n",
       "      <td>...</td>\n",
       "      <td>...</td>\n",
       "      <td>...</td>\n",
       "      <td>...</td>\n",
       "      <td>...</td>\n",
       "      <td>...</td>\n",
       "      <td>...</td>\n",
       "      <td>...</td>\n",
       "      <td>...</td>\n",
       "      <td>...</td>\n",
       "      <td>...</td>\n",
       "      <td>...</td>\n",
       "      <td>...</td>\n",
       "      <td>...</td>\n",
       "      <td>...</td>\n",
       "      <td>...</td>\n",
       "      <td>...</td>\n",
       "    </tr>\n",
       "    <tr>\n",
       "      <th>995</th>\n",
       "      <td>233-67-5758</td>\n",
       "      <td>C</td>\n",
       "      <td>Naypyitaw</td>\n",
       "      <td>Normal</td>\n",
       "      <td>Male</td>\n",
       "      <td>Health and beauty</td>\n",
       "      <td>40.35</td>\n",
       "      <td>1</td>\n",
       "      <td>2.017500</td>\n",
       "      <td>42.367500</td>\n",
       "      <td>2019-01-29</td>\n",
       "      <td>13:46</td>\n",
       "      <td>Ewallet</td>\n",
       "      <td>40.35000</td>\n",
       "      <td>4.761905</td>\n",
       "      <td>2.017500</td>\n",
       "      <td>6.2</td>\n",
       "      <td>1</td>\n",
       "    </tr>\n",
       "    <tr>\n",
       "      <th>996</th>\n",
       "      <td>303-96-2227</td>\n",
       "      <td>B</td>\n",
       "      <td>Mandalay</td>\n",
       "      <td>Normal</td>\n",
       "      <td>Female</td>\n",
       "      <td>Home and lifestyle</td>\n",
       "      <td>97.38</td>\n",
       "      <td>10</td>\n",
       "      <td>47.225813</td>\n",
       "      <td>991.742062</td>\n",
       "      <td>2019-03-02</td>\n",
       "      <td>17:16</td>\n",
       "      <td>Ewallet</td>\n",
       "      <td>944.51625</td>\n",
       "      <td>4.761905</td>\n",
       "      <td>47.225813</td>\n",
       "      <td>4.4</td>\n",
       "      <td>3</td>\n",
       "    </tr>\n",
       "    <tr>\n",
       "      <th>997</th>\n",
       "      <td>727-02-1313</td>\n",
       "      <td>A</td>\n",
       "      <td>Yangon</td>\n",
       "      <td>Member</td>\n",
       "      <td>Male</td>\n",
       "      <td>Food and beverages</td>\n",
       "      <td>31.84</td>\n",
       "      <td>1</td>\n",
       "      <td>1.592000</td>\n",
       "      <td>33.432000</td>\n",
       "      <td>2019-02-09</td>\n",
       "      <td>13:22</td>\n",
       "      <td>Cash</td>\n",
       "      <td>31.84000</td>\n",
       "      <td>4.761905</td>\n",
       "      <td>1.592000</td>\n",
       "      <td>7.7</td>\n",
       "      <td>2</td>\n",
       "    </tr>\n",
       "    <tr>\n",
       "      <th>998</th>\n",
       "      <td>347-56-2442</td>\n",
       "      <td>A</td>\n",
       "      <td>Yangon</td>\n",
       "      <td>Normal</td>\n",
       "      <td>Male</td>\n",
       "      <td>Home and lifestyle</td>\n",
       "      <td>65.82</td>\n",
       "      <td>1</td>\n",
       "      <td>3.291000</td>\n",
       "      <td>69.111000</td>\n",
       "      <td>2019-02-22</td>\n",
       "      <td>15:33</td>\n",
       "      <td>Cash</td>\n",
       "      <td>65.82000</td>\n",
       "      <td>4.761905</td>\n",
       "      <td>3.291000</td>\n",
       "      <td>4.1</td>\n",
       "      <td>2</td>\n",
       "    </tr>\n",
       "    <tr>\n",
       "      <th>999</th>\n",
       "      <td>849-09-3807</td>\n",
       "      <td>A</td>\n",
       "      <td>Yangon</td>\n",
       "      <td>Member</td>\n",
       "      <td>Female</td>\n",
       "      <td>Fashion accessories</td>\n",
       "      <td>88.34</td>\n",
       "      <td>7</td>\n",
       "      <td>30.919000</td>\n",
       "      <td>649.299000</td>\n",
       "      <td>2019-02-18</td>\n",
       "      <td>13:28</td>\n",
       "      <td>Cash</td>\n",
       "      <td>618.38000</td>\n",
       "      <td>4.761905</td>\n",
       "      <td>30.919000</td>\n",
       "      <td>6.6</td>\n",
       "      <td>2</td>\n",
       "    </tr>\n",
       "  </tbody>\n",
       "</table>\n",
       "<p>1000 rows × 18 columns</p>\n",
       "</div>"
      ],
      "text/plain": [
       "      Invoice ID Branch       City Customer type  Gender  \\\n",
       "0    750-67-8428      A     Yangon        Member  Female   \n",
       "1    226-31-3081      C  Naypyitaw        Normal  Female   \n",
       "2    631-41-3108      A     Yangon        Normal    Male   \n",
       "3    123-19-1176      A     Yangon        Member    Male   \n",
       "4    373-73-7910      A     Yangon        Normal    Male   \n",
       "..           ...    ...        ...           ...     ...   \n",
       "995  233-67-5758      C  Naypyitaw        Normal    Male   \n",
       "996  303-96-2227      B   Mandalay        Normal  Female   \n",
       "997  727-02-1313      A     Yangon        Member    Male   \n",
       "998  347-56-2442      A     Yangon        Normal    Male   \n",
       "999  849-09-3807      A     Yangon        Member  Female   \n",
       "\n",
       "               Product line  Unit price  Quantity     Tax 5%       Total  \\\n",
       "0         Health and beauty       74.69         7  26.141500  548.971500   \n",
       "1    Electronic accessories       15.28         5   3.820000   80.220000   \n",
       "2        Home and lifestyle       46.33         7  16.215500  340.525500   \n",
       "3         Health and beauty       58.22         8  23.288000  489.048000   \n",
       "4         Sports and travel       86.31         7  30.208500  634.378500   \n",
       "..                      ...         ...       ...        ...         ...   \n",
       "995       Health and beauty       40.35         1   2.017500   42.367500   \n",
       "996      Home and lifestyle       97.38        10  47.225813  991.742062   \n",
       "997      Food and beverages       31.84         1   1.592000   33.432000   \n",
       "998      Home and lifestyle       65.82         1   3.291000   69.111000   \n",
       "999     Fashion accessories       88.34         7  30.919000  649.299000   \n",
       "\n",
       "          Date   Time      Payment       cogs  gross margin percentage  \\\n",
       "0   2019-01-05  13:08      Ewallet  522.83000                 4.761905   \n",
       "1   2019-03-08  10:29         Cash   76.40000                 4.761905   \n",
       "2   2019-03-03  13:23  Credit card  324.31000                 4.761905   \n",
       "3   2019-01-27  20:33      Ewallet  465.76000                 4.761905   \n",
       "4   2019-02-08  10:37      Ewallet  604.17000                 4.761905   \n",
       "..         ...    ...          ...        ...                      ...   \n",
       "995 2019-01-29  13:46      Ewallet   40.35000                 4.761905   \n",
       "996 2019-03-02  17:16      Ewallet  944.51625                 4.761905   \n",
       "997 2019-02-09  13:22         Cash   31.84000                 4.761905   \n",
       "998 2019-02-22  15:33         Cash   65.82000                 4.761905   \n",
       "999 2019-02-18  13:28         Cash  618.38000                 4.761905   \n",
       "\n",
       "     gross income  Rating Month  \n",
       "0       26.141500     9.1     1  \n",
       "1        3.820000     9.6     3  \n",
       "2       16.215500     7.4     3  \n",
       "3       23.288000     8.4     1  \n",
       "4       30.208500     5.3     2  \n",
       "..            ...     ...   ...  \n",
       "995      2.017500     6.2     1  \n",
       "996     47.225813     4.4     3  \n",
       "997      1.592000     7.7     2  \n",
       "998      3.291000     4.1     2  \n",
       "999     30.919000     6.6     2  \n",
       "\n",
       "[1000 rows x 18 columns]"
      ]
     },
     "execution_count": 28,
     "metadata": {},
     "output_type": "execute_result"
    }
   ],
   "source": [
    "df"
   ]
  },
  {
   "cell_type": "code",
   "execution_count": 29,
   "id": "6b55784d",
   "metadata": {},
   "outputs": [],
   "source": [
    "df['Month_Name']=df['Date'].dt.month_name()"
   ]
  },
  {
   "cell_type": "code",
   "execution_count": 30,
   "id": "c407828b",
   "metadata": {},
   "outputs": [
    {
     "data": {
      "application/vnd.microsoft.datawrangler.viewer.v0+json": {
       "columns": [
        {
         "name": "index",
         "rawType": "int64",
         "type": "integer"
        },
        {
         "name": "Invoice ID",
         "rawType": "object",
         "type": "string"
        },
        {
         "name": "Branch",
         "rawType": "object",
         "type": "string"
        },
        {
         "name": "City",
         "rawType": "object",
         "type": "string"
        },
        {
         "name": "Customer type",
         "rawType": "object",
         "type": "string"
        },
        {
         "name": "Gender",
         "rawType": "object",
         "type": "string"
        },
        {
         "name": "Product line",
         "rawType": "object",
         "type": "string"
        },
        {
         "name": "Unit price",
         "rawType": "float64",
         "type": "float"
        },
        {
         "name": "Quantity",
         "rawType": "int64",
         "type": "integer"
        },
        {
         "name": "Tax 5%",
         "rawType": "float64",
         "type": "float"
        },
        {
         "name": "Total",
         "rawType": "float64",
         "type": "float"
        },
        {
         "name": "Date",
         "rawType": "datetime64[ns]",
         "type": "datetime"
        },
        {
         "name": "Time",
         "rawType": "object",
         "type": "string"
        },
        {
         "name": "Payment",
         "rawType": "object",
         "type": "string"
        },
        {
         "name": "cogs",
         "rawType": "float64",
         "type": "float"
        },
        {
         "name": "gross margin percentage",
         "rawType": "float64",
         "type": "float"
        },
        {
         "name": "gross income",
         "rawType": "float64",
         "type": "float"
        },
        {
         "name": "Rating",
         "rawType": "float64",
         "type": "float"
        },
        {
         "name": "Month",
         "rawType": "object",
         "type": "unknown"
        },
        {
         "name": "Month_Name",
         "rawType": "object",
         "type": "string"
        },
        {
         "name": "day",
         "rawType": "int32",
         "type": "integer"
        },
        {
         "name": "Day_Name",
         "rawType": "object",
         "type": "string"
        }
       ],
       "conversionMethod": "pd.DataFrame",
       "ref": "4e34ef67-a74a-45cd-ac57-5da673be1a7e",
       "rows": [
        [
         "0",
         "750-67-8428",
         "A",
         "Yangon",
         "Member",
         "Female",
         "Health and beauty",
         "74.69",
         "7",
         "26.1415",
         "548.9715",
         "2019-01-05 00:00:00",
         "13:08",
         "Ewallet",
         "522.83",
         "4.761904762",
         "26.1415",
         "9.1",
         "1",
         "January",
         "5",
         "Saturday"
        ],
        [
         "1",
         "226-31-3081",
         "C",
         "Naypyitaw",
         "Normal",
         "Female",
         "Electronic accessories",
         "15.28",
         "5",
         "3.82",
         "80.22",
         "2019-03-08 00:00:00",
         "10:29",
         "Cash",
         "76.4",
         "4.761904762",
         "3.82",
         "9.6",
         "3",
         "March",
         "8",
         "Friday"
        ],
        [
         "2",
         "631-41-3108",
         "A",
         "Yangon",
         "Normal",
         "Male",
         "Home and lifestyle",
         "46.33",
         "7",
         "16.2155",
         "340.5255",
         "2019-03-03 00:00:00",
         "13:23",
         "Credit card",
         "324.31",
         "4.761904762",
         "16.2155",
         "7.4",
         "3",
         "March",
         "3",
         "Sunday"
        ],
        [
         "3",
         "123-19-1176",
         "A",
         "Yangon",
         "Member",
         "Male",
         "Health and beauty",
         "58.22",
         "8",
         "23.288",
         "489.048",
         "2019-01-27 00:00:00",
         "20:33",
         "Ewallet",
         "465.76",
         "4.761904762",
         "23.288",
         "8.4",
         "1",
         "January",
         "27",
         "Sunday"
        ],
        [
         "4",
         "373-73-7910",
         "A",
         "Yangon",
         "Normal",
         "Male",
         "Sports and travel",
         "86.31",
         "7",
         "30.2085",
         "634.3785",
         "2019-02-08 00:00:00",
         "10:37",
         "Ewallet",
         "604.17",
         "4.761904762",
         "30.2085",
         "5.3",
         "2",
         "February",
         "8",
         "Friday"
        ],
        [
         "5",
         "699-14-3026",
         "C",
         "Naypyitaw",
         "Normal",
         "Male",
         "Electronic accessories",
         "85.39",
         "7",
         "29.8865",
         "627.6165",
         "2019-03-25 00:00:00",
         "18:30",
         "Ewallet",
         "597.73",
         "4.761904762",
         "29.8865",
         "4.1",
         "3",
         "March",
         "25",
         "Monday"
        ],
        [
         "6",
         "355-53-5943",
         "A",
         "Yangon",
         "Member",
         "Female",
         "Electronic accessories",
         "68.84",
         "6",
         "20.652",
         "433.692",
         "2019-02-25 00:00:00",
         "14:36",
         "Ewallet",
         "413.04",
         "4.761904762",
         "20.652",
         "5.8",
         "2",
         "February",
         "25",
         "Monday"
        ],
        [
         "7",
         "315-22-5665",
         "C",
         "Naypyitaw",
         "Normal",
         "Female",
         "Home and lifestyle",
         "73.56",
         "10",
         "36.78",
         "772.38",
         "2019-02-24 00:00:00",
         "11:38",
         "Ewallet",
         "735.6",
         "4.761904762",
         "36.78",
         "8.0",
         "2",
         "February",
         "24",
         "Sunday"
        ],
        [
         "8",
         "665-32-9167",
         "A",
         "Yangon",
         "Member",
         "Female",
         "Health and beauty",
         "36.26",
         "2",
         "3.626",
         "76.146",
         "2019-01-10 00:00:00",
         "17:15",
         "Credit card",
         "72.52",
         "4.761904762",
         "3.626",
         "7.2",
         "1",
         "January",
         "10",
         "Thursday"
        ],
        [
         "9",
         "692-92-5582",
         "B",
         "Mandalay",
         "Member",
         "Female",
         "Food and beverages",
         "54.84",
         "3",
         "8.226",
         "172.746",
         "2019-02-20 00:00:00",
         "13:27",
         "Credit card",
         "164.52",
         "4.761904762",
         "8.226",
         "5.9",
         "2",
         "February",
         "20",
         "Wednesday"
        ],
        [
         "10",
         "351-62-0822",
         "B",
         "Mandalay",
         "Member",
         "Female",
         "Fashion accessories",
         "14.48",
         "4",
         "2.896",
         "60.816",
         "2019-02-06 00:00:00",
         "18:07",
         "Ewallet",
         "57.92",
         "4.761904762",
         "2.896",
         "4.5",
         "2",
         "February",
         "6",
         "Wednesday"
        ],
        [
         "11",
         "529-56-3974",
         "B",
         "Mandalay",
         "Member",
         "Male",
         "Electronic accessories",
         "25.51",
         "4",
         "5.102",
         "107.142",
         "2019-03-09 00:00:00",
         "17:03",
         "Cash",
         "102.04",
         "4.761904762",
         "5.102",
         "6.8",
         "3",
         "March",
         "9",
         "Saturday"
        ],
        [
         "12",
         "365-64-0515",
         "A",
         "Yangon",
         "Normal",
         "Female",
         "Electronic accessories",
         "46.95",
         "5",
         "11.7375",
         "246.4875",
         "2019-02-12 00:00:00",
         "10:25",
         "Ewallet",
         "234.75",
         "4.761904762",
         "11.7375",
         "7.1",
         "2",
         "February",
         "12",
         "Tuesday"
        ],
        [
         "13",
         "252-56-2699",
         "A",
         "Yangon",
         "Normal",
         "Male",
         "Food and beverages",
         "43.19",
         "10",
         "21.595",
         "453.495",
         "2019-02-07 00:00:00",
         "16:48",
         "Ewallet",
         "431.9",
         "4.761904762",
         "21.595",
         "8.2",
         "2",
         "February",
         "7",
         "Thursday"
        ],
        [
         "14",
         "829-34-3910",
         "A",
         "Yangon",
         "Normal",
         "Female",
         "Health and beauty",
         "71.38",
         "10",
         "35.69",
         "749.49",
         "2019-03-29 00:00:00",
         "19:21",
         "Cash",
         "713.8",
         "4.761904762",
         "35.69",
         "5.7",
         "3",
         "March",
         "29",
         "Friday"
        ],
        [
         "15",
         "299-46-1805",
         "B",
         "Mandalay",
         "Member",
         "Female",
         "Sports and travel",
         "93.72",
         "6",
         "28.116",
         "590.436",
         "2019-01-15 00:00:00",
         "16:19",
         "Cash",
         "562.32",
         "4.761904762",
         "28.116",
         "4.5",
         "1",
         "January",
         "15",
         "Tuesday"
        ],
        [
         "16",
         "656-95-9349",
         "A",
         "Yangon",
         "Member",
         "Female",
         "Health and beauty",
         "68.93",
         "7",
         "24.1255",
         "506.6355",
         "2019-03-11 00:00:00",
         "11:03",
         "Credit card",
         "482.51",
         "4.761904762",
         "24.1255",
         "4.6",
         "3",
         "March",
         "11",
         "Monday"
        ],
        [
         "17",
         "765-26-6951",
         "A",
         "Yangon",
         "Normal",
         "Male",
         "Sports and travel",
         "72.61",
         "6",
         "21.783",
         "457.443",
         "2019-01-01 00:00:00",
         "10:39",
         "Credit card",
         "435.66",
         "4.761904762",
         "21.783",
         "6.9",
         "1",
         "January",
         "1",
         "Tuesday"
        ],
        [
         "18",
         "329-62-1586",
         "A",
         "Yangon",
         "Normal",
         "Male",
         "Food and beverages",
         "54.67",
         "3",
         "8.2005",
         "172.2105",
         "2019-01-21 00:00:00",
         "18:00",
         "Credit card",
         "164.01",
         "4.761904762",
         "8.2005",
         "8.6",
         "1",
         "January",
         "21",
         "Monday"
        ],
        [
         "19",
         "319-50-3348",
         "B",
         "Mandalay",
         "Normal",
         "Female",
         "Home and lifestyle",
         "40.3",
         "2",
         "4.03",
         "84.63",
         "2019-03-11 00:00:00",
         "15:30",
         "Ewallet",
         "80.6",
         "4.761904762",
         "4.03",
         "4.4",
         "3",
         "March",
         "11",
         "Monday"
        ],
        [
         "20",
         "300-71-4605",
         "C",
         "Naypyitaw",
         "Member",
         "Male",
         "Electronic accessories",
         "86.04",
         "5",
         "21.51",
         "451.71",
         "2019-02-25 00:00:00",
         "11:24",
         "Ewallet",
         "430.2",
         "4.761904762",
         "21.51",
         "4.8",
         "2",
         "February",
         "25",
         "Monday"
        ],
        [
         "21",
         "371-85-5789",
         "B",
         "Mandalay",
         "Normal",
         "Male",
         "Health and beauty",
         "87.98",
         "3",
         "13.197",
         "277.137",
         "2019-03-05 00:00:00",
         "10:40",
         "Ewallet",
         "263.94",
         "4.761904762",
         "13.197",
         "5.1",
         "3",
         "March",
         "5",
         "Tuesday"
        ],
        [
         "22",
         "273-16-6619",
         "B",
         "Mandalay",
         "Normal",
         "Male",
         "Home and lifestyle",
         "33.2",
         "2",
         "3.32",
         "69.72",
         "2019-03-15 00:00:00",
         "12:20",
         "Credit card",
         "66.4",
         "4.761904762",
         "3.32",
         "4.4",
         "3",
         "March",
         "15",
         "Friday"
        ],
        [
         "23",
         "636-48-8204",
         "A",
         "Yangon",
         "Normal",
         "Male",
         "Electronic accessories",
         "34.56",
         "5",
         "8.64",
         "181.44",
         "2019-02-17 00:00:00",
         "11:15",
         "Ewallet",
         "172.8",
         "4.761904762",
         "8.64",
         "9.9",
         "2",
         "February",
         "17",
         "Sunday"
        ],
        [
         "24",
         "549-59-1358",
         "A",
         "Yangon",
         "Member",
         "Male",
         "Sports and travel",
         "88.63",
         "3",
         "13.2945",
         "279.1845",
         "2019-03-02 00:00:00",
         "17:36",
         "Ewallet",
         "265.89",
         "4.761904762",
         "13.2945",
         "6.0",
         "3",
         "March",
         "2",
         "Saturday"
        ],
        [
         "25",
         "227-03-5010",
         "A",
         "Yangon",
         "Member",
         "Female",
         "Home and lifestyle",
         "52.59",
         "8",
         "21.036",
         "441.756",
         "2019-03-22 00:00:00",
         "19:20",
         "Credit card",
         "420.72",
         "4.761904762",
         "21.036",
         "8.5",
         "3",
         "March",
         "22",
         "Friday"
        ],
        [
         "26",
         "649-29-6775",
         "B",
         "Mandalay",
         "Normal",
         "Male",
         "Fashion accessories",
         "33.52",
         "1",
         "1.676",
         "35.196",
         "2019-02-08 00:00:00",
         "15:31",
         "Cash",
         "33.52",
         "4.761904762",
         "1.676",
         "6.7",
         "2",
         "February",
         "8",
         "Friday"
        ],
        [
         "27",
         "189-17-4241",
         "A",
         "Yangon",
         "Normal",
         "Female",
         "Fashion accessories",
         "87.67",
         "2",
         "8.767",
         "184.107",
         "2019-03-10 00:00:00",
         "12:17",
         "Credit card",
         "175.34",
         "4.761904762",
         "8.767",
         "7.7",
         "3",
         "March",
         "10",
         "Sunday"
        ],
        [
         "28",
         "145-94-9061",
         "B",
         "Mandalay",
         "Normal",
         "Female",
         "Food and beverages",
         "88.36",
         "5",
         "22.09",
         "463.89",
         "2019-01-25 00:00:00",
         "19:48",
         "Cash",
         "441.8",
         "4.761904762",
         "22.09",
         "9.6",
         "1",
         "January",
         "25",
         "Friday"
        ],
        [
         "29",
         "848-62-7243",
         "A",
         "Yangon",
         "Normal",
         "Male",
         "Health and beauty",
         "24.89",
         "9",
         "11.2005",
         "235.2105",
         "2019-03-15 00:00:00",
         "15:36",
         "Cash",
         "224.01",
         "4.761904762",
         "11.2005",
         "7.4",
         "3",
         "March",
         "15",
         "Friday"
        ],
        [
         "30",
         "871-79-8483",
         "B",
         "Mandalay",
         "Normal",
         "Male",
         "Fashion accessories",
         "94.13",
         "5",
         "23.5325",
         "494.1825",
         "2019-02-25 00:00:00",
         "19:39",
         "Credit card",
         "470.65",
         "4.761904762",
         "23.5325",
         "4.8",
         "2",
         "February",
         "25",
         "Monday"
        ],
        [
         "31",
         "149-71-6266",
         "B",
         "Mandalay",
         "Member",
         "Male",
         "Sports and travel",
         "78.07",
         "9",
         "35.1315",
         "737.7615",
         "2019-01-28 00:00:00",
         "12:43",
         "Cash",
         "702.63",
         "4.761904762",
         "35.1315",
         "4.5",
         "1",
         "January",
         "28",
         "Monday"
        ],
        [
         "32",
         "640-49-2076",
         "B",
         "Mandalay",
         "Normal",
         "Male",
         "Sports and travel",
         "83.78",
         "8",
         "33.512",
         "703.752",
         "2019-01-10 00:00:00",
         "14:49",
         "Cash",
         "670.24",
         "4.761904762",
         "33.512",
         "5.1",
         "1",
         "January",
         "10",
         "Thursday"
        ],
        [
         "33",
         "595-11-5460",
         "A",
         "Yangon",
         "Normal",
         "Male",
         "Health and beauty",
         "96.58",
         "2",
         "9.658",
         "202.818",
         "2019-03-15 00:00:00",
         "10:12",
         "Credit card",
         "193.16",
         "4.761904762",
         "9.658",
         "5.1",
         "3",
         "March",
         "15",
         "Friday"
        ],
        [
         "34",
         "183-56-6882",
         "C",
         "Naypyitaw",
         "Member",
         "Female",
         "Food and beverages",
         "99.42",
         "4",
         "19.884",
         "417.564",
         "2019-02-06 00:00:00",
         "10:42",
         "Ewallet",
         "397.68",
         "4.761904762",
         "19.884",
         "7.5",
         "2",
         "February",
         "6",
         "Wednesday"
        ],
        [
         "35",
         "232-16-2483",
         "C",
         "Naypyitaw",
         "Member",
         "Female",
         "Sports and travel",
         "68.12",
         "1",
         "3.406",
         "71.526",
         "2019-01-07 00:00:00",
         "12:28",
         "Ewallet",
         "68.12",
         "4.761904762",
         "3.406",
         "6.8",
         "1",
         "January",
         "7",
         "Monday"
        ],
        [
         "36",
         "129-29-8530",
         "A",
         "Yangon",
         "Member",
         "Male",
         "Sports and travel",
         "62.62",
         "5",
         "15.655",
         "328.755",
         "2019-03-10 00:00:00",
         "19:15",
         "Ewallet",
         "313.1",
         "4.761904762",
         "15.655",
         "7.0",
         "3",
         "March",
         "10",
         "Sunday"
        ],
        [
         "37",
         "272-65-1806",
         "A",
         "Yangon",
         "Normal",
         "Female",
         "Electronic accessories",
         "60.88",
         "9",
         "27.396",
         "575.316",
         "2019-01-15 00:00:00",
         "17:17",
         "Ewallet",
         "547.92",
         "4.761904762",
         "27.396",
         "4.7",
         "1",
         "January",
         "15",
         "Tuesday"
        ],
        [
         "38",
         "333-73-7901",
         "C",
         "Naypyitaw",
         "Normal",
         "Female",
         "Health and beauty",
         "54.92",
         "8",
         "21.968",
         "461.328",
         "2019-03-23 00:00:00",
         "13:24",
         "Ewallet",
         "439.36",
         "4.761904762",
         "21.968",
         "7.6",
         "3",
         "March",
         "23",
         "Saturday"
        ],
        [
         "39",
         "777-82-7220",
         "B",
         "Mandalay",
         "Member",
         "Male",
         "Home and lifestyle",
         "30.12",
         "8",
         "12.048",
         "253.008",
         "2019-03-03 00:00:00",
         "13:01",
         "Cash",
         "240.96",
         "4.761904762",
         "12.048",
         "7.7",
         "3",
         "March",
         "3",
         "Sunday"
        ],
        [
         "40",
         "280-35-5823",
         "B",
         "Mandalay",
         "Member",
         "Female",
         "Home and lifestyle",
         "86.72",
         "1",
         "4.336",
         "91.056",
         "2019-01-17 00:00:00",
         "18:45",
         "Ewallet",
         "86.72",
         "4.761904762",
         "4.336",
         "7.9",
         "1",
         "January",
         "17",
         "Thursday"
        ],
        [
         "41",
         "554-53-8700",
         "C",
         "Naypyitaw",
         "Member",
         "Male",
         "Home and lifestyle",
         "56.11",
         "2",
         "5.611",
         "117.831",
         "2019-02-02 00:00:00",
         "10:11",
         "Cash",
         "112.22",
         "4.761904762",
         "5.611",
         "6.3",
         "2",
         "February",
         "2",
         "Saturday"
        ],
        [
         "42",
         "354-25-5821",
         "B",
         "Mandalay",
         "Member",
         "Female",
         "Sports and travel",
         "69.12",
         "6",
         "20.736",
         "435.456",
         "2019-02-08 00:00:00",
         "13:03",
         "Cash",
         "414.72",
         "4.761904762",
         "20.736",
         "5.6",
         "2",
         "February",
         "8",
         "Friday"
        ],
        [
         "43",
         "228-96-1411",
         "C",
         "Naypyitaw",
         "Member",
         "Female",
         "Food and beverages",
         "98.7",
         "8",
         "39.48",
         "829.08",
         "2019-03-04 00:00:00",
         "20:39",
         "Cash",
         "789.6",
         "4.761904762",
         "39.48",
         "7.6",
         "3",
         "March",
         "4",
         "Monday"
        ],
        [
         "44",
         "617-15-4209",
         "C",
         "Naypyitaw",
         "Member",
         "Male",
         "Health and beauty",
         "15.37",
         "2",
         "1.537",
         "32.277",
         "2019-03-16 00:00:00",
         "19:47",
         "Cash",
         "30.74",
         "4.761904762",
         "1.537",
         "7.2",
         "3",
         "March",
         "16",
         "Saturday"
        ],
        [
         "45",
         "132-32-9879",
         "B",
         "Mandalay",
         "Member",
         "Female",
         "Electronic accessories",
         "93.96",
         "4",
         "18.792",
         "394.632",
         "2019-03-09 00:00:00",
         "18:00",
         "Cash",
         "375.84",
         "4.761904762",
         "18.792",
         "9.5",
         "3",
         "March",
         "9",
         "Saturday"
        ],
        [
         "46",
         "370-41-7321",
         "B",
         "Mandalay",
         "Member",
         "Male",
         "Health and beauty",
         "56.69",
         "9",
         "25.5105",
         "535.7205",
         "2019-02-27 00:00:00",
         "17:24",
         "Credit card",
         "510.21",
         "4.761904762",
         "25.5105",
         "8.4",
         "2",
         "February",
         "27",
         "Wednesday"
        ],
        [
         "47",
         "727-46-3608",
         "B",
         "Mandalay",
         "Member",
         "Female",
         "Food and beverages",
         "20.01",
         "9",
         "9.0045",
         "189.0945",
         "2019-02-06 00:00:00",
         "15:47",
         "Ewallet",
         "180.09",
         "4.761904762",
         "9.0045",
         "4.1",
         "2",
         "February",
         "6",
         "Wednesday"
        ],
        [
         "48",
         "669-54-1719",
         "B",
         "Mandalay",
         "Member",
         "Male",
         "Electronic accessories",
         "18.93",
         "6",
         "5.679",
         "119.259",
         "2019-02-10 00:00:00",
         "12:45",
         "Credit card",
         "113.58",
         "4.761904762",
         "5.679",
         "8.1",
         "2",
         "February",
         "10",
         "Sunday"
        ],
        [
         "49",
         "574-22-5561",
         "C",
         "Naypyitaw",
         "Member",
         "Female",
         "Fashion accessories",
         "82.63",
         "10",
         "41.315",
         "867.615",
         "2019-03-19 00:00:00",
         "17:08",
         "Ewallet",
         "826.3",
         "4.761904762",
         "41.315",
         "7.9",
         "3",
         "March",
         "19",
         "Tuesday"
        ]
       ],
       "shape": {
        "columns": 21,
        "rows": 1000
       }
      },
      "text/html": [
       "<div>\n",
       "<style scoped>\n",
       "    .dataframe tbody tr th:only-of-type {\n",
       "        vertical-align: middle;\n",
       "    }\n",
       "\n",
       "    .dataframe tbody tr th {\n",
       "        vertical-align: top;\n",
       "    }\n",
       "\n",
       "    .dataframe thead th {\n",
       "        text-align: right;\n",
       "    }\n",
       "</style>\n",
       "<table border=\"1\" class=\"dataframe\">\n",
       "  <thead>\n",
       "    <tr style=\"text-align: right;\">\n",
       "      <th></th>\n",
       "      <th>Invoice ID</th>\n",
       "      <th>Branch</th>\n",
       "      <th>City</th>\n",
       "      <th>Customer type</th>\n",
       "      <th>Gender</th>\n",
       "      <th>Product line</th>\n",
       "      <th>Unit price</th>\n",
       "      <th>Quantity</th>\n",
       "      <th>Tax 5%</th>\n",
       "      <th>Total</th>\n",
       "      <th>...</th>\n",
       "      <th>Time</th>\n",
       "      <th>Payment</th>\n",
       "      <th>cogs</th>\n",
       "      <th>gross margin percentage</th>\n",
       "      <th>gross income</th>\n",
       "      <th>Rating</th>\n",
       "      <th>Month</th>\n",
       "      <th>Month_Name</th>\n",
       "      <th>day</th>\n",
       "      <th>Day_Name</th>\n",
       "    </tr>\n",
       "  </thead>\n",
       "  <tbody>\n",
       "    <tr>\n",
       "      <th>0</th>\n",
       "      <td>750-67-8428</td>\n",
       "      <td>A</td>\n",
       "      <td>Yangon</td>\n",
       "      <td>Member</td>\n",
       "      <td>Female</td>\n",
       "      <td>Health and beauty</td>\n",
       "      <td>74.69</td>\n",
       "      <td>7</td>\n",
       "      <td>26.141500</td>\n",
       "      <td>548.971500</td>\n",
       "      <td>...</td>\n",
       "      <td>13:08</td>\n",
       "      <td>Ewallet</td>\n",
       "      <td>522.83000</td>\n",
       "      <td>4.761905</td>\n",
       "      <td>26.141500</td>\n",
       "      <td>9.1</td>\n",
       "      <td>1</td>\n",
       "      <td>January</td>\n",
       "      <td>5</td>\n",
       "      <td>Saturday</td>\n",
       "    </tr>\n",
       "    <tr>\n",
       "      <th>1</th>\n",
       "      <td>226-31-3081</td>\n",
       "      <td>C</td>\n",
       "      <td>Naypyitaw</td>\n",
       "      <td>Normal</td>\n",
       "      <td>Female</td>\n",
       "      <td>Electronic accessories</td>\n",
       "      <td>15.28</td>\n",
       "      <td>5</td>\n",
       "      <td>3.820000</td>\n",
       "      <td>80.220000</td>\n",
       "      <td>...</td>\n",
       "      <td>10:29</td>\n",
       "      <td>Cash</td>\n",
       "      <td>76.40000</td>\n",
       "      <td>4.761905</td>\n",
       "      <td>3.820000</td>\n",
       "      <td>9.6</td>\n",
       "      <td>3</td>\n",
       "      <td>March</td>\n",
       "      <td>8</td>\n",
       "      <td>Friday</td>\n",
       "    </tr>\n",
       "    <tr>\n",
       "      <th>2</th>\n",
       "      <td>631-41-3108</td>\n",
       "      <td>A</td>\n",
       "      <td>Yangon</td>\n",
       "      <td>Normal</td>\n",
       "      <td>Male</td>\n",
       "      <td>Home and lifestyle</td>\n",
       "      <td>46.33</td>\n",
       "      <td>7</td>\n",
       "      <td>16.215500</td>\n",
       "      <td>340.525500</td>\n",
       "      <td>...</td>\n",
       "      <td>13:23</td>\n",
       "      <td>Credit card</td>\n",
       "      <td>324.31000</td>\n",
       "      <td>4.761905</td>\n",
       "      <td>16.215500</td>\n",
       "      <td>7.4</td>\n",
       "      <td>3</td>\n",
       "      <td>March</td>\n",
       "      <td>3</td>\n",
       "      <td>Sunday</td>\n",
       "    </tr>\n",
       "    <tr>\n",
       "      <th>3</th>\n",
       "      <td>123-19-1176</td>\n",
       "      <td>A</td>\n",
       "      <td>Yangon</td>\n",
       "      <td>Member</td>\n",
       "      <td>Male</td>\n",
       "      <td>Health and beauty</td>\n",
       "      <td>58.22</td>\n",
       "      <td>8</td>\n",
       "      <td>23.288000</td>\n",
       "      <td>489.048000</td>\n",
       "      <td>...</td>\n",
       "      <td>20:33</td>\n",
       "      <td>Ewallet</td>\n",
       "      <td>465.76000</td>\n",
       "      <td>4.761905</td>\n",
       "      <td>23.288000</td>\n",
       "      <td>8.4</td>\n",
       "      <td>1</td>\n",
       "      <td>January</td>\n",
       "      <td>27</td>\n",
       "      <td>Sunday</td>\n",
       "    </tr>\n",
       "    <tr>\n",
       "      <th>4</th>\n",
       "      <td>373-73-7910</td>\n",
       "      <td>A</td>\n",
       "      <td>Yangon</td>\n",
       "      <td>Normal</td>\n",
       "      <td>Male</td>\n",
       "      <td>Sports and travel</td>\n",
       "      <td>86.31</td>\n",
       "      <td>7</td>\n",
       "      <td>30.208500</td>\n",
       "      <td>634.378500</td>\n",
       "      <td>...</td>\n",
       "      <td>10:37</td>\n",
       "      <td>Ewallet</td>\n",
       "      <td>604.17000</td>\n",
       "      <td>4.761905</td>\n",
       "      <td>30.208500</td>\n",
       "      <td>5.3</td>\n",
       "      <td>2</td>\n",
       "      <td>February</td>\n",
       "      <td>8</td>\n",
       "      <td>Friday</td>\n",
       "    </tr>\n",
       "    <tr>\n",
       "      <th>...</th>\n",
       "      <td>...</td>\n",
       "      <td>...</td>\n",
       "      <td>...</td>\n",
       "      <td>...</td>\n",
       "      <td>...</td>\n",
       "      <td>...</td>\n",
       "      <td>...</td>\n",
       "      <td>...</td>\n",
       "      <td>...</td>\n",
       "      <td>...</td>\n",
       "      <td>...</td>\n",
       "      <td>...</td>\n",
       "      <td>...</td>\n",
       "      <td>...</td>\n",
       "      <td>...</td>\n",
       "      <td>...</td>\n",
       "      <td>...</td>\n",
       "      <td>...</td>\n",
       "      <td>...</td>\n",
       "      <td>...</td>\n",
       "      <td>...</td>\n",
       "    </tr>\n",
       "    <tr>\n",
       "      <th>995</th>\n",
       "      <td>233-67-5758</td>\n",
       "      <td>C</td>\n",
       "      <td>Naypyitaw</td>\n",
       "      <td>Normal</td>\n",
       "      <td>Male</td>\n",
       "      <td>Health and beauty</td>\n",
       "      <td>40.35</td>\n",
       "      <td>1</td>\n",
       "      <td>2.017500</td>\n",
       "      <td>42.367500</td>\n",
       "      <td>...</td>\n",
       "      <td>13:46</td>\n",
       "      <td>Ewallet</td>\n",
       "      <td>40.35000</td>\n",
       "      <td>4.761905</td>\n",
       "      <td>2.017500</td>\n",
       "      <td>6.2</td>\n",
       "      <td>1</td>\n",
       "      <td>January</td>\n",
       "      <td>29</td>\n",
       "      <td>Tuesday</td>\n",
       "    </tr>\n",
       "    <tr>\n",
       "      <th>996</th>\n",
       "      <td>303-96-2227</td>\n",
       "      <td>B</td>\n",
       "      <td>Mandalay</td>\n",
       "      <td>Normal</td>\n",
       "      <td>Female</td>\n",
       "      <td>Home and lifestyle</td>\n",
       "      <td>97.38</td>\n",
       "      <td>10</td>\n",
       "      <td>47.225813</td>\n",
       "      <td>991.742062</td>\n",
       "      <td>...</td>\n",
       "      <td>17:16</td>\n",
       "      <td>Ewallet</td>\n",
       "      <td>944.51625</td>\n",
       "      <td>4.761905</td>\n",
       "      <td>47.225813</td>\n",
       "      <td>4.4</td>\n",
       "      <td>3</td>\n",
       "      <td>March</td>\n",
       "      <td>2</td>\n",
       "      <td>Saturday</td>\n",
       "    </tr>\n",
       "    <tr>\n",
       "      <th>997</th>\n",
       "      <td>727-02-1313</td>\n",
       "      <td>A</td>\n",
       "      <td>Yangon</td>\n",
       "      <td>Member</td>\n",
       "      <td>Male</td>\n",
       "      <td>Food and beverages</td>\n",
       "      <td>31.84</td>\n",
       "      <td>1</td>\n",
       "      <td>1.592000</td>\n",
       "      <td>33.432000</td>\n",
       "      <td>...</td>\n",
       "      <td>13:22</td>\n",
       "      <td>Cash</td>\n",
       "      <td>31.84000</td>\n",
       "      <td>4.761905</td>\n",
       "      <td>1.592000</td>\n",
       "      <td>7.7</td>\n",
       "      <td>2</td>\n",
       "      <td>February</td>\n",
       "      <td>9</td>\n",
       "      <td>Saturday</td>\n",
       "    </tr>\n",
       "    <tr>\n",
       "      <th>998</th>\n",
       "      <td>347-56-2442</td>\n",
       "      <td>A</td>\n",
       "      <td>Yangon</td>\n",
       "      <td>Normal</td>\n",
       "      <td>Male</td>\n",
       "      <td>Home and lifestyle</td>\n",
       "      <td>65.82</td>\n",
       "      <td>1</td>\n",
       "      <td>3.291000</td>\n",
       "      <td>69.111000</td>\n",
       "      <td>...</td>\n",
       "      <td>15:33</td>\n",
       "      <td>Cash</td>\n",
       "      <td>65.82000</td>\n",
       "      <td>4.761905</td>\n",
       "      <td>3.291000</td>\n",
       "      <td>4.1</td>\n",
       "      <td>2</td>\n",
       "      <td>February</td>\n",
       "      <td>22</td>\n",
       "      <td>Friday</td>\n",
       "    </tr>\n",
       "    <tr>\n",
       "      <th>999</th>\n",
       "      <td>849-09-3807</td>\n",
       "      <td>A</td>\n",
       "      <td>Yangon</td>\n",
       "      <td>Member</td>\n",
       "      <td>Female</td>\n",
       "      <td>Fashion accessories</td>\n",
       "      <td>88.34</td>\n",
       "      <td>7</td>\n",
       "      <td>30.919000</td>\n",
       "      <td>649.299000</td>\n",
       "      <td>...</td>\n",
       "      <td>13:28</td>\n",
       "      <td>Cash</td>\n",
       "      <td>618.38000</td>\n",
       "      <td>4.761905</td>\n",
       "      <td>30.919000</td>\n",
       "      <td>6.6</td>\n",
       "      <td>2</td>\n",
       "      <td>February</td>\n",
       "      <td>18</td>\n",
       "      <td>Monday</td>\n",
       "    </tr>\n",
       "  </tbody>\n",
       "</table>\n",
       "<p>1000 rows × 21 columns</p>\n",
       "</div>"
      ],
      "text/plain": [
       "      Invoice ID Branch       City Customer type  Gender  \\\n",
       "0    750-67-8428      A     Yangon        Member  Female   \n",
       "1    226-31-3081      C  Naypyitaw        Normal  Female   \n",
       "2    631-41-3108      A     Yangon        Normal    Male   \n",
       "3    123-19-1176      A     Yangon        Member    Male   \n",
       "4    373-73-7910      A     Yangon        Normal    Male   \n",
       "..           ...    ...        ...           ...     ...   \n",
       "995  233-67-5758      C  Naypyitaw        Normal    Male   \n",
       "996  303-96-2227      B   Mandalay        Normal  Female   \n",
       "997  727-02-1313      A     Yangon        Member    Male   \n",
       "998  347-56-2442      A     Yangon        Normal    Male   \n",
       "999  849-09-3807      A     Yangon        Member  Female   \n",
       "\n",
       "               Product line  Unit price  Quantity     Tax 5%       Total  ...  \\\n",
       "0         Health and beauty       74.69         7  26.141500  548.971500  ...   \n",
       "1    Electronic accessories       15.28         5   3.820000   80.220000  ...   \n",
       "2        Home and lifestyle       46.33         7  16.215500  340.525500  ...   \n",
       "3         Health and beauty       58.22         8  23.288000  489.048000  ...   \n",
       "4         Sports and travel       86.31         7  30.208500  634.378500  ...   \n",
       "..                      ...         ...       ...        ...         ...  ...   \n",
       "995       Health and beauty       40.35         1   2.017500   42.367500  ...   \n",
       "996      Home and lifestyle       97.38        10  47.225813  991.742062  ...   \n",
       "997      Food and beverages       31.84         1   1.592000   33.432000  ...   \n",
       "998      Home and lifestyle       65.82         1   3.291000   69.111000  ...   \n",
       "999     Fashion accessories       88.34         7  30.919000  649.299000  ...   \n",
       "\n",
       "      Time      Payment       cogs  gross margin percentage  gross income  \\\n",
       "0    13:08      Ewallet  522.83000                 4.761905     26.141500   \n",
       "1    10:29         Cash   76.40000                 4.761905      3.820000   \n",
       "2    13:23  Credit card  324.31000                 4.761905     16.215500   \n",
       "3    20:33      Ewallet  465.76000                 4.761905     23.288000   \n",
       "4    10:37      Ewallet  604.17000                 4.761905     30.208500   \n",
       "..     ...          ...        ...                      ...           ...   \n",
       "995  13:46      Ewallet   40.35000                 4.761905      2.017500   \n",
       "996  17:16      Ewallet  944.51625                 4.761905     47.225813   \n",
       "997  13:22         Cash   31.84000                 4.761905      1.592000   \n",
       "998  15:33         Cash   65.82000                 4.761905      3.291000   \n",
       "999  13:28         Cash  618.38000                 4.761905     30.919000   \n",
       "\n",
       "     Rating  Month Month_Name day  Day_Name  \n",
       "0       9.1      1    January   5  Saturday  \n",
       "1       9.6      3      March   8    Friday  \n",
       "2       7.4      3      March   3    Sunday  \n",
       "3       8.4      1    January  27    Sunday  \n",
       "4       5.3      2   February   8    Friday  \n",
       "..      ...    ...        ...  ..       ...  \n",
       "995     6.2      1    January  29   Tuesday  \n",
       "996     4.4      3      March   2  Saturday  \n",
       "997     7.7      2   February   9  Saturday  \n",
       "998     4.1      2   February  22    Friday  \n",
       "999     6.6      2   February  18    Monday  \n",
       "\n",
       "[1000 rows x 21 columns]"
      ]
     },
     "execution_count": 30,
     "metadata": {},
     "output_type": "execute_result"
    }
   ],
   "source": [
    "df['day']=df['Date'].dt.day\n",
    "df['Day_Name']=df['Date'].dt.day_name()\n",
    "df"
   ]
  },
  {
   "cell_type": "markdown",
   "id": "917d6bfe",
   "metadata": {},
   "source": [
    "# Data Analaysis"
   ]
  },
  {
   "cell_type": "code",
   "execution_count": 31,
   "id": "10a7f9f4",
   "metadata": {},
   "outputs": [],
   "source": [
    "df['Revenue']=(df['Unit price']*df.Quantity).round(2) #Revenue column calculation"
   ]
  },
  {
   "cell_type": "markdown",
   "id": "c7cce521",
   "metadata": {},
   "source": [
    "## Which City has the highest gross income?"
   ]
  },
  {
   "cell_type": "code",
   "execution_count": 32,
   "id": "bae7b32a",
   "metadata": {},
   "outputs": [],
   "source": [
    "city_gross=df.groupby('City')['gross income'].sum().reset_index().sort_values(ascending=False,by='gross income').round(2).reset_index(drop=True)"
   ]
  },
  {
   "cell_type": "markdown",
   "id": "5be0d510",
   "metadata": {},
   "source": [
    "## Which product line across all branches hasthe highest gross income?"
   ]
  },
  {
   "cell_type": "code",
   "execution_count": null,
   "id": "cef592dc",
   "metadata": {},
   "outputs": [],
   "source": []
  },
  {
   "cell_type": "code",
   "execution_count": 33,
   "id": "babaac47",
   "metadata": {},
   "outputs": [],
   "source": [
    "productline_gross=df.groupby('Product line')['gross income'].sum().reset_index().sort_values(ascending=False,by='Product line').round(2).reset_index(drop=True)"
   ]
  },
  {
   "cell_type": "markdown",
   "id": "00976e67",
   "metadata": {},
   "source": [
    "## Average rating per product line\n"
   ]
  },
  {
   "cell_type": "code",
   "execution_count": 34,
   "id": "1cb40e11",
   "metadata": {},
   "outputs": [],
   "source": [
    "avg_rating=df.groupby('Product line').agg(Average_rating=('Rating','mean'),Total_reviews=('Rating','count')).reset_index().sort_values(ascending=False,by='Average_rating').round(2).reset_index(drop=True)"
   ]
  },
  {
   "cell_type": "code",
   "execution_count": 35,
   "id": "063bc65a",
   "metadata": {},
   "outputs": [
    {
     "data": {
      "text/plain": [
       "0      Member\n",
       "1      Normal\n",
       "2      Normal\n",
       "3      Member\n",
       "4      Normal\n",
       "        ...  \n",
       "995    Normal\n",
       "996    Normal\n",
       "997    Member\n",
       "998    Normal\n",
       "999    Member\n",
       "Name: Customer type, Length: 1000, dtype: object"
      ]
     },
     "execution_count": 35,
     "metadata": {},
     "output_type": "execute_result"
    }
   ],
   "source": [
    "df['Customer type']"
   ]
  },
  {
   "cell_type": "markdown",
   "id": "77b31cd0",
   "metadata": {},
   "source": [
    "## Count of member types per city"
   ]
  },
  {
   "cell_type": "code",
   "execution_count": 36,
   "id": "b1f8e170",
   "metadata": {},
   "outputs": [],
   "source": [
    "member_citycount=df.groupby(['City','Customer type'])['Invoice ID'].count().reset_index().sort_values(by='Invoice ID',ascending=False).reset_index(drop=True)"
   ]
  },
  {
   "cell_type": "markdown",
   "id": "8cf4ac41",
   "metadata": {},
   "source": [
    "##  Card payments per City"
   ]
  },
  {
   "cell_type": "code",
   "execution_count": 37,
   "id": "cbce9b0a",
   "metadata": {},
   "outputs": [],
   "source": [
    "card_city=df.groupby(['City','Payment'])['Invoice ID'].count().reset_index().sort_values(by='Invoice ID',ascending=False).reset_index(drop=True)"
   ]
  },
  {
   "cell_type": "markdown",
   "id": "e18990f8",
   "metadata": {},
   "source": [
    "## Gross income Per Month"
   ]
  },
  {
   "cell_type": "code",
   "execution_count": 38,
   "id": "e1bb7d58",
   "metadata": {},
   "outputs": [
    {
     "data": {
      "application/vnd.microsoft.datawrangler.viewer.v0+json": {
       "columns": [
        {
         "name": "index",
         "rawType": "int64",
         "type": "integer"
        },
        {
         "name": "Month_Name",
         "rawType": "object",
         "type": "string"
        },
        {
         "name": "Month",
         "rawType": "int64",
         "type": "integer"
        },
        {
         "name": "gross income",
         "rawType": "float64",
         "type": "float"
        }
       ],
       "conversionMethod": "pd.DataFrame",
       "ref": "bc5517a8-0468-4765-b7c6-9615fd32726e",
       "rows": [
        [
         "1",
         "January",
         "1",
         "5531.63"
        ],
        [
         "0",
         "February",
         "2",
         "4623.43"
        ],
        [
         "2",
         "March",
         "3",
         "5210.7"
        ]
       ],
       "shape": {
        "columns": 3,
        "rows": 3
       }
      },
      "text/html": [
       "<div>\n",
       "<style scoped>\n",
       "    .dataframe tbody tr th:only-of-type {\n",
       "        vertical-align: middle;\n",
       "    }\n",
       "\n",
       "    .dataframe tbody tr th {\n",
       "        vertical-align: top;\n",
       "    }\n",
       "\n",
       "    .dataframe thead th {\n",
       "        text-align: right;\n",
       "    }\n",
       "</style>\n",
       "<table border=\"1\" class=\"dataframe\">\n",
       "  <thead>\n",
       "    <tr style=\"text-align: right;\">\n",
       "      <th></th>\n",
       "      <th>Month_Name</th>\n",
       "      <th>Month</th>\n",
       "      <th>gross income</th>\n",
       "    </tr>\n",
       "  </thead>\n",
       "  <tbody>\n",
       "    <tr>\n",
       "      <th>1</th>\n",
       "      <td>January</td>\n",
       "      <td>1</td>\n",
       "      <td>5531.63</td>\n",
       "    </tr>\n",
       "    <tr>\n",
       "      <th>0</th>\n",
       "      <td>February</td>\n",
       "      <td>2</td>\n",
       "      <td>4623.43</td>\n",
       "    </tr>\n",
       "    <tr>\n",
       "      <th>2</th>\n",
       "      <td>March</td>\n",
       "      <td>3</td>\n",
       "      <td>5210.70</td>\n",
       "    </tr>\n",
       "  </tbody>\n",
       "</table>\n",
       "</div>"
      ],
      "text/plain": [
       "  Month_Name  Month  gross income\n",
       "1    January      1       5531.63\n",
       "0   February      2       4623.43\n",
       "2      March      3       5210.70"
      ]
     },
     "execution_count": 38,
     "metadata": {},
     "output_type": "execute_result"
    }
   ],
   "source": [
    "gross_month=df.groupby(['Month_Name','Month'])['gross income'].sum().reset_index().round(2).sort_values(by='Month')\n",
    "gross_month"
   ]
  },
  {
   "cell_type": "markdown",
   "id": "080d94ab",
   "metadata": {},
   "source": [
    "## Correlation Matrix between columns!"
   ]
  },
  {
   "cell_type": "code",
   "execution_count": 39,
   "id": "4be88822",
   "metadata": {},
   "outputs": [
    {
     "data": {
      "application/vnd.microsoft.datawrangler.viewer.v0+json": {
       "columns": [
        {
         "name": "index",
         "rawType": "object",
         "type": "string"
        },
        {
         "name": "Unit price",
         "rawType": "float64",
         "type": "float"
        },
        {
         "name": "Quantity",
         "rawType": "float64",
         "type": "float"
        },
        {
         "name": "Tax 5%",
         "rawType": "float64",
         "type": "float"
        },
        {
         "name": "Total",
         "rawType": "float64",
         "type": "float"
        },
        {
         "name": "cogs",
         "rawType": "float64",
         "type": "float"
        },
        {
         "name": "gross income",
         "rawType": "float64",
         "type": "float"
        },
        {
         "name": "Rating",
         "rawType": "float64",
         "type": "float"
        },
        {
         "name": "day",
         "rawType": "float64",
         "type": "float"
        },
        {
         "name": "Revenue",
         "rawType": "float64",
         "type": "float"
        }
       ],
       "conversionMethod": "pd.DataFrame",
       "ref": "faf2a267-d89e-485d-aa24-be6afe4a98d0",
       "rows": [
        [
         "Unit price",
         "1.0",
         "0.010777564342497253",
         "0.6341695721876897",
         "0.634169572187689",
         "0.6341695721876893",
         "0.6341695721876897",
         "-0.008777507200778936",
         "0.05702089601259136",
         "0.633962088589068"
        ],
        [
         "Quantity",
         "0.010777564342497253",
         "1.0",
         "0.7060240069514988",
         "0.7060240069514989",
         "0.7060240069514991",
         "0.7060240069514988",
         "-0.015814904627167052",
         "-0.04334685867903851",
         "0.7055101859433045"
        ],
        [
         "Tax 5%",
         "0.6341695721876897",
         "0.7060240069514988",
         "1.0",
         "1.0000000000000002",
         "1.0000000000000007",
         "1.0",
         "-0.0362130961686183",
         "-0.002281448190832508",
         "0.9999173607115108"
        ],
        [
         "Total",
         "0.634169572187689",
         "0.7060240069514989",
         "1.0000000000000002",
         "1.0",
         "0.9999999999999992",
         "1.0000000000000002",
         "-0.03621309616861824",
         "-0.0022814481908326025",
         "0.9999173607115096"
        ],
        [
         "cogs",
         "0.6341695721876893",
         "0.7060240069514991",
         "1.0000000000000007",
         "0.9999999999999992",
         "1.0",
         "1.0000000000000009",
         "-0.0362130961686182",
         "-0.0022814481908326498",
         "0.9999173607115093"
        ],
        [
         "gross income",
         "0.6341695721876897",
         "0.7060240069514988",
         "1.0",
         "1.0000000000000002",
         "1.0000000000000009",
         "1.0",
         "-0.0362130961686183",
         "-0.002281448190832508",
         "0.9999173607115108"
        ],
        [
         "Rating",
         "-0.008777507200778936",
         "-0.015814904627167052",
         "-0.0362130961686183",
         "-0.03621309616861824",
         "-0.0362130961686182",
         "-0.0362130961686183",
         "1.0",
         "-0.007075821083050052",
         "-0.036441704997018425"
        ],
        [
         "day",
         "0.05702089601259136",
         "-0.04334685867903851",
         "-0.002281448190832508",
         "-0.0022814481908326025",
         "-0.0022814481908326498",
         "-0.002281448190832508",
         "-0.007075821083050052",
         "1.0",
         "-0.0025147695028071874"
        ],
        [
         "Revenue",
         "0.633962088589068",
         "0.7055101859433045",
         "0.9999173607115108",
         "0.9999173607115096",
         "0.9999173607115093",
         "0.9999173607115108",
         "-0.036441704997018425",
         "-0.0025147695028071874",
         "1.0"
        ]
       ],
       "shape": {
        "columns": 9,
        "rows": 9
       }
      },
      "text/html": [
       "<div>\n",
       "<style scoped>\n",
       "    .dataframe tbody tr th:only-of-type {\n",
       "        vertical-align: middle;\n",
       "    }\n",
       "\n",
       "    .dataframe tbody tr th {\n",
       "        vertical-align: top;\n",
       "    }\n",
       "\n",
       "    .dataframe thead th {\n",
       "        text-align: right;\n",
       "    }\n",
       "</style>\n",
       "<table border=\"1\" class=\"dataframe\">\n",
       "  <thead>\n",
       "    <tr style=\"text-align: right;\">\n",
       "      <th></th>\n",
       "      <th>Unit price</th>\n",
       "      <th>Quantity</th>\n",
       "      <th>Tax 5%</th>\n",
       "      <th>Total</th>\n",
       "      <th>cogs</th>\n",
       "      <th>gross income</th>\n",
       "      <th>Rating</th>\n",
       "      <th>day</th>\n",
       "      <th>Revenue</th>\n",
       "    </tr>\n",
       "  </thead>\n",
       "  <tbody>\n",
       "    <tr>\n",
       "      <th>Unit price</th>\n",
       "      <td>1.000000</td>\n",
       "      <td>0.010778</td>\n",
       "      <td>0.634170</td>\n",
       "      <td>0.634170</td>\n",
       "      <td>0.634170</td>\n",
       "      <td>0.634170</td>\n",
       "      <td>-0.008778</td>\n",
       "      <td>0.057021</td>\n",
       "      <td>0.633962</td>\n",
       "    </tr>\n",
       "    <tr>\n",
       "      <th>Quantity</th>\n",
       "      <td>0.010778</td>\n",
       "      <td>1.000000</td>\n",
       "      <td>0.706024</td>\n",
       "      <td>0.706024</td>\n",
       "      <td>0.706024</td>\n",
       "      <td>0.706024</td>\n",
       "      <td>-0.015815</td>\n",
       "      <td>-0.043347</td>\n",
       "      <td>0.705510</td>\n",
       "    </tr>\n",
       "    <tr>\n",
       "      <th>Tax 5%</th>\n",
       "      <td>0.634170</td>\n",
       "      <td>0.706024</td>\n",
       "      <td>1.000000</td>\n",
       "      <td>1.000000</td>\n",
       "      <td>1.000000</td>\n",
       "      <td>1.000000</td>\n",
       "      <td>-0.036213</td>\n",
       "      <td>-0.002281</td>\n",
       "      <td>0.999917</td>\n",
       "    </tr>\n",
       "    <tr>\n",
       "      <th>Total</th>\n",
       "      <td>0.634170</td>\n",
       "      <td>0.706024</td>\n",
       "      <td>1.000000</td>\n",
       "      <td>1.000000</td>\n",
       "      <td>1.000000</td>\n",
       "      <td>1.000000</td>\n",
       "      <td>-0.036213</td>\n",
       "      <td>-0.002281</td>\n",
       "      <td>0.999917</td>\n",
       "    </tr>\n",
       "    <tr>\n",
       "      <th>cogs</th>\n",
       "      <td>0.634170</td>\n",
       "      <td>0.706024</td>\n",
       "      <td>1.000000</td>\n",
       "      <td>1.000000</td>\n",
       "      <td>1.000000</td>\n",
       "      <td>1.000000</td>\n",
       "      <td>-0.036213</td>\n",
       "      <td>-0.002281</td>\n",
       "      <td>0.999917</td>\n",
       "    </tr>\n",
       "    <tr>\n",
       "      <th>gross income</th>\n",
       "      <td>0.634170</td>\n",
       "      <td>0.706024</td>\n",
       "      <td>1.000000</td>\n",
       "      <td>1.000000</td>\n",
       "      <td>1.000000</td>\n",
       "      <td>1.000000</td>\n",
       "      <td>-0.036213</td>\n",
       "      <td>-0.002281</td>\n",
       "      <td>0.999917</td>\n",
       "    </tr>\n",
       "    <tr>\n",
       "      <th>Rating</th>\n",
       "      <td>-0.008778</td>\n",
       "      <td>-0.015815</td>\n",
       "      <td>-0.036213</td>\n",
       "      <td>-0.036213</td>\n",
       "      <td>-0.036213</td>\n",
       "      <td>-0.036213</td>\n",
       "      <td>1.000000</td>\n",
       "      <td>-0.007076</td>\n",
       "      <td>-0.036442</td>\n",
       "    </tr>\n",
       "    <tr>\n",
       "      <th>day</th>\n",
       "      <td>0.057021</td>\n",
       "      <td>-0.043347</td>\n",
       "      <td>-0.002281</td>\n",
       "      <td>-0.002281</td>\n",
       "      <td>-0.002281</td>\n",
       "      <td>-0.002281</td>\n",
       "      <td>-0.007076</td>\n",
       "      <td>1.000000</td>\n",
       "      <td>-0.002515</td>\n",
       "    </tr>\n",
       "    <tr>\n",
       "      <th>Revenue</th>\n",
       "      <td>0.633962</td>\n",
       "      <td>0.705510</td>\n",
       "      <td>0.999917</td>\n",
       "      <td>0.999917</td>\n",
       "      <td>0.999917</td>\n",
       "      <td>0.999917</td>\n",
       "      <td>-0.036442</td>\n",
       "      <td>-0.002515</td>\n",
       "      <td>1.000000</td>\n",
       "    </tr>\n",
       "  </tbody>\n",
       "</table>\n",
       "</div>"
      ],
      "text/plain": [
       "              Unit price  Quantity    Tax 5%     Total      cogs  \\\n",
       "Unit price      1.000000  0.010778  0.634170  0.634170  0.634170   \n",
       "Quantity        0.010778  1.000000  0.706024  0.706024  0.706024   \n",
       "Tax 5%          0.634170  0.706024  1.000000  1.000000  1.000000   \n",
       "Total           0.634170  0.706024  1.000000  1.000000  1.000000   \n",
       "cogs            0.634170  0.706024  1.000000  1.000000  1.000000   \n",
       "gross income    0.634170  0.706024  1.000000  1.000000  1.000000   \n",
       "Rating         -0.008778 -0.015815 -0.036213 -0.036213 -0.036213   \n",
       "day             0.057021 -0.043347 -0.002281 -0.002281 -0.002281   \n",
       "Revenue         0.633962  0.705510  0.999917  0.999917  0.999917   \n",
       "\n",
       "              gross income    Rating       day   Revenue  \n",
       "Unit price        0.634170 -0.008778  0.057021  0.633962  \n",
       "Quantity          0.706024 -0.015815 -0.043347  0.705510  \n",
       "Tax 5%            1.000000 -0.036213 -0.002281  0.999917  \n",
       "Total             1.000000 -0.036213 -0.002281  0.999917  \n",
       "cogs              1.000000 -0.036213 -0.002281  0.999917  \n",
       "gross income      1.000000 -0.036213 -0.002281  0.999917  \n",
       "Rating           -0.036213  1.000000 -0.007076 -0.036442  \n",
       "day              -0.002281 -0.007076  1.000000 -0.002515  \n",
       "Revenue           0.999917 -0.036442 -0.002515  1.000000  "
      ]
     },
     "execution_count": 39,
     "metadata": {},
     "output_type": "execute_result"
    }
   ],
   "source": [
    "df.corr(numeric_only=True).drop(columns='gross margin percentage').drop(index='gross margin percentage')"
   ]
  },
  {
   "cell_type": "markdown",
   "id": "e80c8a65",
   "metadata": {},
   "source": [
    "## Gross income per day in each city"
   ]
  },
  {
   "cell_type": "code",
   "execution_count": 40,
   "id": "148056c5",
   "metadata": {},
   "outputs": [],
   "source": [
    "gross_day=df.groupby(['City','Day_Name'])['gross income'].sum().reset_index().sort_values(by='gross income',ascending=False).reset_index(drop=True)"
   ]
  },
  {
   "cell_type": "markdown",
   "id": "02561300",
   "metadata": {},
   "source": [
    "## highest Gross income perday by city for each product line "
   ]
  },
  {
   "cell_type": "code",
   "execution_count": 41,
   "id": "454a520a",
   "metadata": {},
   "outputs": [],
   "source": [
    "gross_product_day=df.groupby(['City','Day_Name','Product line'])['gross income'].sum().reset_index().sort_values(by='gross income',ascending=False).reset_index(drop=True).round(2).head()"
   ]
  },
  {
   "cell_type": "markdown",
   "id": "9e656e87",
   "metadata": {},
   "source": [
    "## Peak Sales Analysis"
   ]
  },
  {
   "cell_type": "code",
   "execution_count": 42,
   "id": "60314039",
   "metadata": {},
   "outputs": [],
   "source": [
    "peak=df.groupby(['Product line','Day_Name','Time'])['gross income'].sum().reset_index().sort_values(by='gross income',ascending=False).round(2).reset_index(drop=True).head(10)"
   ]
  },
  {
   "cell_type": "code",
   "execution_count": 43,
   "id": "c333125a",
   "metadata": {},
   "outputs": [
    {
     "data": {
      "application/vnd.microsoft.datawrangler.viewer.v0+json": {
       "columns": [
        {
         "name": "index",
         "rawType": "int64",
         "type": "integer"
        },
        {
         "name": "City",
         "rawType": "object",
         "type": "string"
        },
        {
         "name": "gross income",
         "rawType": "float64",
         "type": "float"
        }
       ],
       "conversionMethod": "pd.DataFrame",
       "ref": "1ac1ee74-37e0-4755-bce4-f1623bfd569e",
       "rows": [
        [
         "0",
         "Naypyitaw",
         "5256.76"
        ],
        [
         "1",
         "Yangon",
         "5054.9"
        ],
        [
         "2",
         "Mandalay",
         "5054.11"
        ]
       ],
       "shape": {
        "columns": 2,
        "rows": 3
       }
      },
      "text/html": [
       "<div>\n",
       "<style scoped>\n",
       "    .dataframe tbody tr th:only-of-type {\n",
       "        vertical-align: middle;\n",
       "    }\n",
       "\n",
       "    .dataframe tbody tr th {\n",
       "        vertical-align: top;\n",
       "    }\n",
       "\n",
       "    .dataframe thead th {\n",
       "        text-align: right;\n",
       "    }\n",
       "</style>\n",
       "<table border=\"1\" class=\"dataframe\">\n",
       "  <thead>\n",
       "    <tr style=\"text-align: right;\">\n",
       "      <th></th>\n",
       "      <th>City</th>\n",
       "      <th>gross income</th>\n",
       "    </tr>\n",
       "  </thead>\n",
       "  <tbody>\n",
       "    <tr>\n",
       "      <th>0</th>\n",
       "      <td>Naypyitaw</td>\n",
       "      <td>5256.76</td>\n",
       "    </tr>\n",
       "    <tr>\n",
       "      <th>1</th>\n",
       "      <td>Yangon</td>\n",
       "      <td>5054.90</td>\n",
       "    </tr>\n",
       "    <tr>\n",
       "      <th>2</th>\n",
       "      <td>Mandalay</td>\n",
       "      <td>5054.11</td>\n",
       "    </tr>\n",
       "  </tbody>\n",
       "</table>\n",
       "</div>"
      ],
      "text/plain": [
       "        City  gross income\n",
       "0  Naypyitaw       5256.76\n",
       "1     Yangon       5054.90\n",
       "2   Mandalay       5054.11"
      ]
     },
     "execution_count": 43,
     "metadata": {},
     "output_type": "execute_result"
    }
   ],
   "source": [
    "city_gross"
   ]
  },
  {
   "cell_type": "markdown",
   "id": "8425cbed",
   "metadata": {},
   "source": [
    "## Data Visualization"
   ]
  },
  {
   "cell_type": "code",
   "execution_count": 44,
   "id": "27808683",
   "metadata": {},
   "outputs": [
    {
     "data": {
      "application/vnd.plotly.v1+json": {
       "config": {
        "plotlyServerURL": "https://plot.ly"
       },
       "data": [
        {
         "domain": {
          "x": [
           0,
           1
          ],
          "y": [
           0,
           1
          ]
         },
         "hole": 0.5,
         "hovertemplate": "City=%{label}<br>gross income=%{value}<extra></extra>",
         "labels": [
          "Naypyitaw",
          "Yangon",
          "Mandalay"
         ],
         "legendgroup": "",
         "name": "",
         "showlegend": true,
         "type": "pie",
         "values": {
          "bdata": "9ihcj8KItEBmZmZm5r6zQI/C9SgcvrNA",
          "dtype": "f8"
         }
        }
       ],
       "layout": {
        "legend": {
         "tracegroupgap": 0
        },
        "template": {
         "data": {
          "bar": [
           {
            "error_x": {
             "color": "#2a3f5f"
            },
            "error_y": {
             "color": "#2a3f5f"
            },
            "marker": {
             "line": {
              "color": "#E5ECF6",
              "width": 0.5
             },
             "pattern": {
              "fillmode": "overlay",
              "size": 10,
              "solidity": 0.2
             }
            },
            "type": "bar"
           }
          ],
          "barpolar": [
           {
            "marker": {
             "line": {
              "color": "#E5ECF6",
              "width": 0.5
             },
             "pattern": {
              "fillmode": "overlay",
              "size": 10,
              "solidity": 0.2
             }
            },
            "type": "barpolar"
           }
          ],
          "carpet": [
           {
            "aaxis": {
             "endlinecolor": "#2a3f5f",
             "gridcolor": "white",
             "linecolor": "white",
             "minorgridcolor": "white",
             "startlinecolor": "#2a3f5f"
            },
            "baxis": {
             "endlinecolor": "#2a3f5f",
             "gridcolor": "white",
             "linecolor": "white",
             "minorgridcolor": "white",
             "startlinecolor": "#2a3f5f"
            },
            "type": "carpet"
           }
          ],
          "choropleth": [
           {
            "colorbar": {
             "outlinewidth": 0,
             "ticks": ""
            },
            "type": "choropleth"
           }
          ],
          "contour": [
           {
            "colorbar": {
             "outlinewidth": 0,
             "ticks": ""
            },
            "colorscale": [
             [
              0,
              "#0d0887"
             ],
             [
              0.1111111111111111,
              "#46039f"
             ],
             [
              0.2222222222222222,
              "#7201a8"
             ],
             [
              0.3333333333333333,
              "#9c179e"
             ],
             [
              0.4444444444444444,
              "#bd3786"
             ],
             [
              0.5555555555555556,
              "#d8576b"
             ],
             [
              0.6666666666666666,
              "#ed7953"
             ],
             [
              0.7777777777777778,
              "#fb9f3a"
             ],
             [
              0.8888888888888888,
              "#fdca26"
             ],
             [
              1,
              "#f0f921"
             ]
            ],
            "type": "contour"
           }
          ],
          "contourcarpet": [
           {
            "colorbar": {
             "outlinewidth": 0,
             "ticks": ""
            },
            "type": "contourcarpet"
           }
          ],
          "heatmap": [
           {
            "colorbar": {
             "outlinewidth": 0,
             "ticks": ""
            },
            "colorscale": [
             [
              0,
              "#0d0887"
             ],
             [
              0.1111111111111111,
              "#46039f"
             ],
             [
              0.2222222222222222,
              "#7201a8"
             ],
             [
              0.3333333333333333,
              "#9c179e"
             ],
             [
              0.4444444444444444,
              "#bd3786"
             ],
             [
              0.5555555555555556,
              "#d8576b"
             ],
             [
              0.6666666666666666,
              "#ed7953"
             ],
             [
              0.7777777777777778,
              "#fb9f3a"
             ],
             [
              0.8888888888888888,
              "#fdca26"
             ],
             [
              1,
              "#f0f921"
             ]
            ],
            "type": "heatmap"
           }
          ],
          "histogram": [
           {
            "marker": {
             "pattern": {
              "fillmode": "overlay",
              "size": 10,
              "solidity": 0.2
             }
            },
            "type": "histogram"
           }
          ],
          "histogram2d": [
           {
            "colorbar": {
             "outlinewidth": 0,
             "ticks": ""
            },
            "colorscale": [
             [
              0,
              "#0d0887"
             ],
             [
              0.1111111111111111,
              "#46039f"
             ],
             [
              0.2222222222222222,
              "#7201a8"
             ],
             [
              0.3333333333333333,
              "#9c179e"
             ],
             [
              0.4444444444444444,
              "#bd3786"
             ],
             [
              0.5555555555555556,
              "#d8576b"
             ],
             [
              0.6666666666666666,
              "#ed7953"
             ],
             [
              0.7777777777777778,
              "#fb9f3a"
             ],
             [
              0.8888888888888888,
              "#fdca26"
             ],
             [
              1,
              "#f0f921"
             ]
            ],
            "type": "histogram2d"
           }
          ],
          "histogram2dcontour": [
           {
            "colorbar": {
             "outlinewidth": 0,
             "ticks": ""
            },
            "colorscale": [
             [
              0,
              "#0d0887"
             ],
             [
              0.1111111111111111,
              "#46039f"
             ],
             [
              0.2222222222222222,
              "#7201a8"
             ],
             [
              0.3333333333333333,
              "#9c179e"
             ],
             [
              0.4444444444444444,
              "#bd3786"
             ],
             [
              0.5555555555555556,
              "#d8576b"
             ],
             [
              0.6666666666666666,
              "#ed7953"
             ],
             [
              0.7777777777777778,
              "#fb9f3a"
             ],
             [
              0.8888888888888888,
              "#fdca26"
             ],
             [
              1,
              "#f0f921"
             ]
            ],
            "type": "histogram2dcontour"
           }
          ],
          "mesh3d": [
           {
            "colorbar": {
             "outlinewidth": 0,
             "ticks": ""
            },
            "type": "mesh3d"
           }
          ],
          "parcoords": [
           {
            "line": {
             "colorbar": {
              "outlinewidth": 0,
              "ticks": ""
             }
            },
            "type": "parcoords"
           }
          ],
          "pie": [
           {
            "automargin": true,
            "type": "pie"
           }
          ],
          "scatter": [
           {
            "fillpattern": {
             "fillmode": "overlay",
             "size": 10,
             "solidity": 0.2
            },
            "type": "scatter"
           }
          ],
          "scatter3d": [
           {
            "line": {
             "colorbar": {
              "outlinewidth": 0,
              "ticks": ""
             }
            },
            "marker": {
             "colorbar": {
              "outlinewidth": 0,
              "ticks": ""
             }
            },
            "type": "scatter3d"
           }
          ],
          "scattercarpet": [
           {
            "marker": {
             "colorbar": {
              "outlinewidth": 0,
              "ticks": ""
             }
            },
            "type": "scattercarpet"
           }
          ],
          "scattergeo": [
           {
            "marker": {
             "colorbar": {
              "outlinewidth": 0,
              "ticks": ""
             }
            },
            "type": "scattergeo"
           }
          ],
          "scattergl": [
           {
            "marker": {
             "colorbar": {
              "outlinewidth": 0,
              "ticks": ""
             }
            },
            "type": "scattergl"
           }
          ],
          "scattermap": [
           {
            "marker": {
             "colorbar": {
              "outlinewidth": 0,
              "ticks": ""
             }
            },
            "type": "scattermap"
           }
          ],
          "scattermapbox": [
           {
            "marker": {
             "colorbar": {
              "outlinewidth": 0,
              "ticks": ""
             }
            },
            "type": "scattermapbox"
           }
          ],
          "scatterpolar": [
           {
            "marker": {
             "colorbar": {
              "outlinewidth": 0,
              "ticks": ""
             }
            },
            "type": "scatterpolar"
           }
          ],
          "scatterpolargl": [
           {
            "marker": {
             "colorbar": {
              "outlinewidth": 0,
              "ticks": ""
             }
            },
            "type": "scatterpolargl"
           }
          ],
          "scatterternary": [
           {
            "marker": {
             "colorbar": {
              "outlinewidth": 0,
              "ticks": ""
             }
            },
            "type": "scatterternary"
           }
          ],
          "surface": [
           {
            "colorbar": {
             "outlinewidth": 0,
             "ticks": ""
            },
            "colorscale": [
             [
              0,
              "#0d0887"
             ],
             [
              0.1111111111111111,
              "#46039f"
             ],
             [
              0.2222222222222222,
              "#7201a8"
             ],
             [
              0.3333333333333333,
              "#9c179e"
             ],
             [
              0.4444444444444444,
              "#bd3786"
             ],
             [
              0.5555555555555556,
              "#d8576b"
             ],
             [
              0.6666666666666666,
              "#ed7953"
             ],
             [
              0.7777777777777778,
              "#fb9f3a"
             ],
             [
              0.8888888888888888,
              "#fdca26"
             ],
             [
              1,
              "#f0f921"
             ]
            ],
            "type": "surface"
           }
          ],
          "table": [
           {
            "cells": {
             "fill": {
              "color": "#EBF0F8"
             },
             "line": {
              "color": "white"
             }
            },
            "header": {
             "fill": {
              "color": "#C8D4E3"
             },
             "line": {
              "color": "white"
             }
            },
            "type": "table"
           }
          ]
         },
         "layout": {
          "annotationdefaults": {
           "arrowcolor": "#2a3f5f",
           "arrowhead": 0,
           "arrowwidth": 1
          },
          "autotypenumbers": "strict",
          "coloraxis": {
           "colorbar": {
            "outlinewidth": 0,
            "ticks": ""
           }
          },
          "colorscale": {
           "diverging": [
            [
             0,
             "#8e0152"
            ],
            [
             0.1,
             "#c51b7d"
            ],
            [
             0.2,
             "#de77ae"
            ],
            [
             0.3,
             "#f1b6da"
            ],
            [
             0.4,
             "#fde0ef"
            ],
            [
             0.5,
             "#f7f7f7"
            ],
            [
             0.6,
             "#e6f5d0"
            ],
            [
             0.7,
             "#b8e186"
            ],
            [
             0.8,
             "#7fbc41"
            ],
            [
             0.9,
             "#4d9221"
            ],
            [
             1,
             "#276419"
            ]
           ],
           "sequential": [
            [
             0,
             "#0d0887"
            ],
            [
             0.1111111111111111,
             "#46039f"
            ],
            [
             0.2222222222222222,
             "#7201a8"
            ],
            [
             0.3333333333333333,
             "#9c179e"
            ],
            [
             0.4444444444444444,
             "#bd3786"
            ],
            [
             0.5555555555555556,
             "#d8576b"
            ],
            [
             0.6666666666666666,
             "#ed7953"
            ],
            [
             0.7777777777777778,
             "#fb9f3a"
            ],
            [
             0.8888888888888888,
             "#fdca26"
            ],
            [
             1,
             "#f0f921"
            ]
           ],
           "sequentialminus": [
            [
             0,
             "#0d0887"
            ],
            [
             0.1111111111111111,
             "#46039f"
            ],
            [
             0.2222222222222222,
             "#7201a8"
            ],
            [
             0.3333333333333333,
             "#9c179e"
            ],
            [
             0.4444444444444444,
             "#bd3786"
            ],
            [
             0.5555555555555556,
             "#d8576b"
            ],
            [
             0.6666666666666666,
             "#ed7953"
            ],
            [
             0.7777777777777778,
             "#fb9f3a"
            ],
            [
             0.8888888888888888,
             "#fdca26"
            ],
            [
             1,
             "#f0f921"
            ]
           ]
          },
          "colorway": [
           "#636efa",
           "#EF553B",
           "#00cc96",
           "#ab63fa",
           "#FFA15A",
           "#19d3f3",
           "#FF6692",
           "#B6E880",
           "#FF97FF",
           "#FECB52"
          ],
          "font": {
           "color": "#2a3f5f"
          },
          "geo": {
           "bgcolor": "white",
           "lakecolor": "white",
           "landcolor": "#E5ECF6",
           "showlakes": true,
           "showland": true,
           "subunitcolor": "white"
          },
          "hoverlabel": {
           "align": "left"
          },
          "hovermode": "closest",
          "mapbox": {
           "style": "light"
          },
          "paper_bgcolor": "white",
          "plot_bgcolor": "#E5ECF6",
          "polar": {
           "angularaxis": {
            "gridcolor": "white",
            "linecolor": "white",
            "ticks": ""
           },
           "bgcolor": "#E5ECF6",
           "radialaxis": {
            "gridcolor": "white",
            "linecolor": "white",
            "ticks": ""
           }
          },
          "scene": {
           "xaxis": {
            "backgroundcolor": "#E5ECF6",
            "gridcolor": "white",
            "gridwidth": 2,
            "linecolor": "white",
            "showbackground": true,
            "ticks": "",
            "zerolinecolor": "white"
           },
           "yaxis": {
            "backgroundcolor": "#E5ECF6",
            "gridcolor": "white",
            "gridwidth": 2,
            "linecolor": "white",
            "showbackground": true,
            "ticks": "",
            "zerolinecolor": "white"
           },
           "zaxis": {
            "backgroundcolor": "#E5ECF6",
            "gridcolor": "white",
            "gridwidth": 2,
            "linecolor": "white",
            "showbackground": true,
            "ticks": "",
            "zerolinecolor": "white"
           }
          },
          "shapedefaults": {
           "line": {
            "color": "#2a3f5f"
           }
          },
          "ternary": {
           "aaxis": {
            "gridcolor": "white",
            "linecolor": "white",
            "ticks": ""
           },
           "baxis": {
            "gridcolor": "white",
            "linecolor": "white",
            "ticks": ""
           },
           "bgcolor": "#E5ECF6",
           "caxis": {
            "gridcolor": "white",
            "linecolor": "white",
            "ticks": ""
           }
          },
          "title": {
           "x": 0.05
          },
          "xaxis": {
           "automargin": true,
           "gridcolor": "white",
           "linecolor": "white",
           "ticks": "",
           "title": {
            "standoff": 15
           },
           "zerolinecolor": "white",
           "zerolinewidth": 2
          },
          "yaxis": {
           "automargin": true,
           "gridcolor": "white",
           "linecolor": "white",
           "ticks": "",
           "title": {
            "standoff": 15
           },
           "zerolinecolor": "white",
           "zerolinewidth": 2
          }
         }
        },
        "title": {
         "text": "Gross income per city",
         "x": 0.5
        }
       }
      }
     },
     "metadata": {},
     "output_type": "display_data"
    }
   ],
   "source": [
    "px.pie(data_frame=city_gross,names='City',values='gross income',hole=0.5,title=\"Gross income per city\").update_layout(title_x=0.5)\n"
   ]
  },
  {
   "cell_type": "markdown",
   "id": "d2be58b0",
   "metadata": {},
   "source": []
  },
  {
   "cell_type": "code",
   "execution_count": 45,
   "id": "07553b82",
   "metadata": {},
   "outputs": [
    {
     "data": {
      "application/vnd.microsoft.datawrangler.viewer.v0+json": {
       "columns": [
        {
         "name": "index",
         "rawType": "int64",
         "type": "integer"
        },
        {
         "name": "Product line",
         "rawType": "object",
         "type": "string"
        },
        {
         "name": "gross income",
         "rawType": "float64",
         "type": "float"
        }
       ],
       "conversionMethod": "pd.DataFrame",
       "ref": "c9b622a4-2f07-436f-9d69-b9c7c77cd9a4",
       "rows": [
        [
         "0",
         "Sports and travel",
         "2624.4"
        ],
        [
         "1",
         "Home and lifestyle",
         "2559.84"
        ],
        [
         "2",
         "Health and beauty",
         "2342.56"
        ],
        [
         "3",
         "Food and beverages",
         "2671.53"
        ],
        [
         "4",
         "Fashion accessories",
         "2579.93"
        ],
        [
         "5",
         "Electronic accessories",
         "2587.5"
        ]
       ],
       "shape": {
        "columns": 2,
        "rows": 6
       }
      },
      "text/html": [
       "<div>\n",
       "<style scoped>\n",
       "    .dataframe tbody tr th:only-of-type {\n",
       "        vertical-align: middle;\n",
       "    }\n",
       "\n",
       "    .dataframe tbody tr th {\n",
       "        vertical-align: top;\n",
       "    }\n",
       "\n",
       "    .dataframe thead th {\n",
       "        text-align: right;\n",
       "    }\n",
       "</style>\n",
       "<table border=\"1\" class=\"dataframe\">\n",
       "  <thead>\n",
       "    <tr style=\"text-align: right;\">\n",
       "      <th></th>\n",
       "      <th>Product line</th>\n",
       "      <th>gross income</th>\n",
       "    </tr>\n",
       "  </thead>\n",
       "  <tbody>\n",
       "    <tr>\n",
       "      <th>0</th>\n",
       "      <td>Sports and travel</td>\n",
       "      <td>2624.40</td>\n",
       "    </tr>\n",
       "    <tr>\n",
       "      <th>1</th>\n",
       "      <td>Home and lifestyle</td>\n",
       "      <td>2559.84</td>\n",
       "    </tr>\n",
       "    <tr>\n",
       "      <th>2</th>\n",
       "      <td>Health and beauty</td>\n",
       "      <td>2342.56</td>\n",
       "    </tr>\n",
       "    <tr>\n",
       "      <th>3</th>\n",
       "      <td>Food and beverages</td>\n",
       "      <td>2671.53</td>\n",
       "    </tr>\n",
       "    <tr>\n",
       "      <th>4</th>\n",
       "      <td>Fashion accessories</td>\n",
       "      <td>2579.93</td>\n",
       "    </tr>\n",
       "    <tr>\n",
       "      <th>5</th>\n",
       "      <td>Electronic accessories</td>\n",
       "      <td>2587.50</td>\n",
       "    </tr>\n",
       "  </tbody>\n",
       "</table>\n",
       "</div>"
      ],
      "text/plain": [
       "             Product line  gross income\n",
       "0       Sports and travel       2624.40\n",
       "1      Home and lifestyle       2559.84\n",
       "2       Health and beauty       2342.56\n",
       "3      Food and beverages       2671.53\n",
       "4     Fashion accessories       2579.93\n",
       "5  Electronic accessories       2587.50"
      ]
     },
     "execution_count": 45,
     "metadata": {},
     "output_type": "execute_result"
    }
   ],
   "source": [
    "productline_gross"
   ]
  },
  {
   "cell_type": "code",
   "execution_count": 46,
   "id": "9d532bf1",
   "metadata": {},
   "outputs": [
    {
     "data": {
      "application/vnd.plotly.v1+json": {
       "config": {
        "plotlyServerURL": "https://plot.ly"
       },
       "data": [
        {
         "hovertemplate": "Product line=%{x}<br>gross income=%{y}<extra></extra>",
         "legendgroup": "",
         "marker": {
          "color": "green",
          "pattern": {
           "shape": ""
          }
         },
         "name": "",
         "orientation": "v",
         "showlegend": false,
         "textposition": "auto",
         "texttemplate": "%{y}",
         "type": "bar",
         "x": [
          "Food and beverages",
          "Sports and travel",
          "Electronic accessories",
          "Fashion accessories",
          "Home and lifestyle",
          "Health and beauty"
         ],
         "xaxis": "x",
         "y": {
          "bdata": "w/UoXA/fpEDNzMzMzICkQAAAAAAAN6RAj8L1KNwnpEBI4XoUrv+jQIXrUbgeTaJA",
          "dtype": "f8"
         },
         "yaxis": "y"
        }
       ],
       "layout": {
        "barmode": "relative",
        "legend": {
         "tracegroupgap": 0
        },
        "template": {
         "data": {
          "bar": [
           {
            "error_x": {
             "color": "#2a3f5f"
            },
            "error_y": {
             "color": "#2a3f5f"
            },
            "marker": {
             "line": {
              "color": "#E5ECF6",
              "width": 0.5
             },
             "pattern": {
              "fillmode": "overlay",
              "size": 10,
              "solidity": 0.2
             }
            },
            "type": "bar"
           }
          ],
          "barpolar": [
           {
            "marker": {
             "line": {
              "color": "#E5ECF6",
              "width": 0.5
             },
             "pattern": {
              "fillmode": "overlay",
              "size": 10,
              "solidity": 0.2
             }
            },
            "type": "barpolar"
           }
          ],
          "carpet": [
           {
            "aaxis": {
             "endlinecolor": "#2a3f5f",
             "gridcolor": "white",
             "linecolor": "white",
             "minorgridcolor": "white",
             "startlinecolor": "#2a3f5f"
            },
            "baxis": {
             "endlinecolor": "#2a3f5f",
             "gridcolor": "white",
             "linecolor": "white",
             "minorgridcolor": "white",
             "startlinecolor": "#2a3f5f"
            },
            "type": "carpet"
           }
          ],
          "choropleth": [
           {
            "colorbar": {
             "outlinewidth": 0,
             "ticks": ""
            },
            "type": "choropleth"
           }
          ],
          "contour": [
           {
            "colorbar": {
             "outlinewidth": 0,
             "ticks": ""
            },
            "colorscale": [
             [
              0,
              "#0d0887"
             ],
             [
              0.1111111111111111,
              "#46039f"
             ],
             [
              0.2222222222222222,
              "#7201a8"
             ],
             [
              0.3333333333333333,
              "#9c179e"
             ],
             [
              0.4444444444444444,
              "#bd3786"
             ],
             [
              0.5555555555555556,
              "#d8576b"
             ],
             [
              0.6666666666666666,
              "#ed7953"
             ],
             [
              0.7777777777777778,
              "#fb9f3a"
             ],
             [
              0.8888888888888888,
              "#fdca26"
             ],
             [
              1,
              "#f0f921"
             ]
            ],
            "type": "contour"
           }
          ],
          "contourcarpet": [
           {
            "colorbar": {
             "outlinewidth": 0,
             "ticks": ""
            },
            "type": "contourcarpet"
           }
          ],
          "heatmap": [
           {
            "colorbar": {
             "outlinewidth": 0,
             "ticks": ""
            },
            "colorscale": [
             [
              0,
              "#0d0887"
             ],
             [
              0.1111111111111111,
              "#46039f"
             ],
             [
              0.2222222222222222,
              "#7201a8"
             ],
             [
              0.3333333333333333,
              "#9c179e"
             ],
             [
              0.4444444444444444,
              "#bd3786"
             ],
             [
              0.5555555555555556,
              "#d8576b"
             ],
             [
              0.6666666666666666,
              "#ed7953"
             ],
             [
              0.7777777777777778,
              "#fb9f3a"
             ],
             [
              0.8888888888888888,
              "#fdca26"
             ],
             [
              1,
              "#f0f921"
             ]
            ],
            "type": "heatmap"
           }
          ],
          "histogram": [
           {
            "marker": {
             "pattern": {
              "fillmode": "overlay",
              "size": 10,
              "solidity": 0.2
             }
            },
            "type": "histogram"
           }
          ],
          "histogram2d": [
           {
            "colorbar": {
             "outlinewidth": 0,
             "ticks": ""
            },
            "colorscale": [
             [
              0,
              "#0d0887"
             ],
             [
              0.1111111111111111,
              "#46039f"
             ],
             [
              0.2222222222222222,
              "#7201a8"
             ],
             [
              0.3333333333333333,
              "#9c179e"
             ],
             [
              0.4444444444444444,
              "#bd3786"
             ],
             [
              0.5555555555555556,
              "#d8576b"
             ],
             [
              0.6666666666666666,
              "#ed7953"
             ],
             [
              0.7777777777777778,
              "#fb9f3a"
             ],
             [
              0.8888888888888888,
              "#fdca26"
             ],
             [
              1,
              "#f0f921"
             ]
            ],
            "type": "histogram2d"
           }
          ],
          "histogram2dcontour": [
           {
            "colorbar": {
             "outlinewidth": 0,
             "ticks": ""
            },
            "colorscale": [
             [
              0,
              "#0d0887"
             ],
             [
              0.1111111111111111,
              "#46039f"
             ],
             [
              0.2222222222222222,
              "#7201a8"
             ],
             [
              0.3333333333333333,
              "#9c179e"
             ],
             [
              0.4444444444444444,
              "#bd3786"
             ],
             [
              0.5555555555555556,
              "#d8576b"
             ],
             [
              0.6666666666666666,
              "#ed7953"
             ],
             [
              0.7777777777777778,
              "#fb9f3a"
             ],
             [
              0.8888888888888888,
              "#fdca26"
             ],
             [
              1,
              "#f0f921"
             ]
            ],
            "type": "histogram2dcontour"
           }
          ],
          "mesh3d": [
           {
            "colorbar": {
             "outlinewidth": 0,
             "ticks": ""
            },
            "type": "mesh3d"
           }
          ],
          "parcoords": [
           {
            "line": {
             "colorbar": {
              "outlinewidth": 0,
              "ticks": ""
             }
            },
            "type": "parcoords"
           }
          ],
          "pie": [
           {
            "automargin": true,
            "type": "pie"
           }
          ],
          "scatter": [
           {
            "fillpattern": {
             "fillmode": "overlay",
             "size": 10,
             "solidity": 0.2
            },
            "type": "scatter"
           }
          ],
          "scatter3d": [
           {
            "line": {
             "colorbar": {
              "outlinewidth": 0,
              "ticks": ""
             }
            },
            "marker": {
             "colorbar": {
              "outlinewidth": 0,
              "ticks": ""
             }
            },
            "type": "scatter3d"
           }
          ],
          "scattercarpet": [
           {
            "marker": {
             "colorbar": {
              "outlinewidth": 0,
              "ticks": ""
             }
            },
            "type": "scattercarpet"
           }
          ],
          "scattergeo": [
           {
            "marker": {
             "colorbar": {
              "outlinewidth": 0,
              "ticks": ""
             }
            },
            "type": "scattergeo"
           }
          ],
          "scattergl": [
           {
            "marker": {
             "colorbar": {
              "outlinewidth": 0,
              "ticks": ""
             }
            },
            "type": "scattergl"
           }
          ],
          "scattermap": [
           {
            "marker": {
             "colorbar": {
              "outlinewidth": 0,
              "ticks": ""
             }
            },
            "type": "scattermap"
           }
          ],
          "scattermapbox": [
           {
            "marker": {
             "colorbar": {
              "outlinewidth": 0,
              "ticks": ""
             }
            },
            "type": "scattermapbox"
           }
          ],
          "scatterpolar": [
           {
            "marker": {
             "colorbar": {
              "outlinewidth": 0,
              "ticks": ""
             }
            },
            "type": "scatterpolar"
           }
          ],
          "scatterpolargl": [
           {
            "marker": {
             "colorbar": {
              "outlinewidth": 0,
              "ticks": ""
             }
            },
            "type": "scatterpolargl"
           }
          ],
          "scatterternary": [
           {
            "marker": {
             "colorbar": {
              "outlinewidth": 0,
              "ticks": ""
             }
            },
            "type": "scatterternary"
           }
          ],
          "surface": [
           {
            "colorbar": {
             "outlinewidth": 0,
             "ticks": ""
            },
            "colorscale": [
             [
              0,
              "#0d0887"
             ],
             [
              0.1111111111111111,
              "#46039f"
             ],
             [
              0.2222222222222222,
              "#7201a8"
             ],
             [
              0.3333333333333333,
              "#9c179e"
             ],
             [
              0.4444444444444444,
              "#bd3786"
             ],
             [
              0.5555555555555556,
              "#d8576b"
             ],
             [
              0.6666666666666666,
              "#ed7953"
             ],
             [
              0.7777777777777778,
              "#fb9f3a"
             ],
             [
              0.8888888888888888,
              "#fdca26"
             ],
             [
              1,
              "#f0f921"
             ]
            ],
            "type": "surface"
           }
          ],
          "table": [
           {
            "cells": {
             "fill": {
              "color": "#EBF0F8"
             },
             "line": {
              "color": "white"
             }
            },
            "header": {
             "fill": {
              "color": "#C8D4E3"
             },
             "line": {
              "color": "white"
             }
            },
            "type": "table"
           }
          ]
         },
         "layout": {
          "annotationdefaults": {
           "arrowcolor": "#2a3f5f",
           "arrowhead": 0,
           "arrowwidth": 1
          },
          "autotypenumbers": "strict",
          "coloraxis": {
           "colorbar": {
            "outlinewidth": 0,
            "ticks": ""
           }
          },
          "colorscale": {
           "diverging": [
            [
             0,
             "#8e0152"
            ],
            [
             0.1,
             "#c51b7d"
            ],
            [
             0.2,
             "#de77ae"
            ],
            [
             0.3,
             "#f1b6da"
            ],
            [
             0.4,
             "#fde0ef"
            ],
            [
             0.5,
             "#f7f7f7"
            ],
            [
             0.6,
             "#e6f5d0"
            ],
            [
             0.7,
             "#b8e186"
            ],
            [
             0.8,
             "#7fbc41"
            ],
            [
             0.9,
             "#4d9221"
            ],
            [
             1,
             "#276419"
            ]
           ],
           "sequential": [
            [
             0,
             "#0d0887"
            ],
            [
             0.1111111111111111,
             "#46039f"
            ],
            [
             0.2222222222222222,
             "#7201a8"
            ],
            [
             0.3333333333333333,
             "#9c179e"
            ],
            [
             0.4444444444444444,
             "#bd3786"
            ],
            [
             0.5555555555555556,
             "#d8576b"
            ],
            [
             0.6666666666666666,
             "#ed7953"
            ],
            [
             0.7777777777777778,
             "#fb9f3a"
            ],
            [
             0.8888888888888888,
             "#fdca26"
            ],
            [
             1,
             "#f0f921"
            ]
           ],
           "sequentialminus": [
            [
             0,
             "#0d0887"
            ],
            [
             0.1111111111111111,
             "#46039f"
            ],
            [
             0.2222222222222222,
             "#7201a8"
            ],
            [
             0.3333333333333333,
             "#9c179e"
            ],
            [
             0.4444444444444444,
             "#bd3786"
            ],
            [
             0.5555555555555556,
             "#d8576b"
            ],
            [
             0.6666666666666666,
             "#ed7953"
            ],
            [
             0.7777777777777778,
             "#fb9f3a"
            ],
            [
             0.8888888888888888,
             "#fdca26"
            ],
            [
             1,
             "#f0f921"
            ]
           ]
          },
          "colorway": [
           "#636efa",
           "#EF553B",
           "#00cc96",
           "#ab63fa",
           "#FFA15A",
           "#19d3f3",
           "#FF6692",
           "#B6E880",
           "#FF97FF",
           "#FECB52"
          ],
          "font": {
           "color": "#2a3f5f"
          },
          "geo": {
           "bgcolor": "white",
           "lakecolor": "white",
           "landcolor": "#E5ECF6",
           "showlakes": true,
           "showland": true,
           "subunitcolor": "white"
          },
          "hoverlabel": {
           "align": "left"
          },
          "hovermode": "closest",
          "mapbox": {
           "style": "light"
          },
          "paper_bgcolor": "white",
          "plot_bgcolor": "#E5ECF6",
          "polar": {
           "angularaxis": {
            "gridcolor": "white",
            "linecolor": "white",
            "ticks": ""
           },
           "bgcolor": "#E5ECF6",
           "radialaxis": {
            "gridcolor": "white",
            "linecolor": "white",
            "ticks": ""
           }
          },
          "scene": {
           "xaxis": {
            "backgroundcolor": "#E5ECF6",
            "gridcolor": "white",
            "gridwidth": 2,
            "linecolor": "white",
            "showbackground": true,
            "ticks": "",
            "zerolinecolor": "white"
           },
           "yaxis": {
            "backgroundcolor": "#E5ECF6",
            "gridcolor": "white",
            "gridwidth": 2,
            "linecolor": "white",
            "showbackground": true,
            "ticks": "",
            "zerolinecolor": "white"
           },
           "zaxis": {
            "backgroundcolor": "#E5ECF6",
            "gridcolor": "white",
            "gridwidth": 2,
            "linecolor": "white",
            "showbackground": true,
            "ticks": "",
            "zerolinecolor": "white"
           }
          },
          "shapedefaults": {
           "line": {
            "color": "#2a3f5f"
           }
          },
          "ternary": {
           "aaxis": {
            "gridcolor": "white",
            "linecolor": "white",
            "ticks": ""
           },
           "baxis": {
            "gridcolor": "white",
            "linecolor": "white",
            "ticks": ""
           },
           "bgcolor": "#E5ECF6",
           "caxis": {
            "gridcolor": "white",
            "linecolor": "white",
            "ticks": ""
           }
          },
          "title": {
           "x": 0.05
          },
          "xaxis": {
           "automargin": true,
           "gridcolor": "white",
           "linecolor": "white",
           "ticks": "",
           "title": {
            "standoff": 15
           },
           "zerolinecolor": "white",
           "zerolinewidth": 2
          },
          "yaxis": {
           "automargin": true,
           "gridcolor": "white",
           "linecolor": "white",
           "ticks": "",
           "title": {
            "standoff": 15
           },
           "zerolinecolor": "white",
           "zerolinewidth": 2
          }
         }
        },
        "title": {
         "text": "product line across all branches  gross income",
         "x": 0.5
        },
        "xaxis": {
         "anchor": "y",
         "domain": [
          0,
          1
         ],
         "title": {
          "text": "Product line"
         }
        },
        "yaxis": {
         "anchor": "x",
         "domain": [
          0,
          1
         ],
         "title": {
          "text": "gross income"
         }
        }
       }
      }
     },
     "metadata": {},
     "output_type": "display_data"
    }
   ],
   "source": [
    "px.bar(data_frame=productline_gross.sort_values(ascending=False,by='gross income'),x='Product line',y='gross income', color_discrete_sequence=['green'],text_auto=True,title='product line across all branches  gross income').update_layout(title_x=0.5)\n"
   ]
  },
  {
   "cell_type": "code",
   "execution_count": 47,
   "id": "9114d16f",
   "metadata": {},
   "outputs": [
    {
     "data": {
      "application/vnd.microsoft.datawrangler.viewer.v0+json": {
       "columns": [
        {
         "name": "index",
         "rawType": "int64",
         "type": "integer"
        },
        {
         "name": "Product line",
         "rawType": "object",
         "type": "string"
        },
        {
         "name": "Average_rating",
         "rawType": "float64",
         "type": "float"
        },
        {
         "name": "Total_reviews",
         "rawType": "int64",
         "type": "integer"
        }
       ],
       "conversionMethod": "pd.DataFrame",
       "ref": "21953ad0-5e3e-4a42-a28c-217244d76b2e",
       "rows": [
        [
         "0",
         "Food and beverages",
         "7.11",
         "174"
        ],
        [
         "1",
         "Fashion accessories",
         "7.03",
         "178"
        ],
        [
         "2",
         "Health and beauty",
         "7.0",
         "152"
        ],
        [
         "3",
         "Electronic accessories",
         "6.92",
         "170"
        ],
        [
         "4",
         "Sports and travel",
         "6.92",
         "166"
        ],
        [
         "5",
         "Home and lifestyle",
         "6.84",
         "160"
        ]
       ],
       "shape": {
        "columns": 3,
        "rows": 6
       }
      },
      "text/html": [
       "<div>\n",
       "<style scoped>\n",
       "    .dataframe tbody tr th:only-of-type {\n",
       "        vertical-align: middle;\n",
       "    }\n",
       "\n",
       "    .dataframe tbody tr th {\n",
       "        vertical-align: top;\n",
       "    }\n",
       "\n",
       "    .dataframe thead th {\n",
       "        text-align: right;\n",
       "    }\n",
       "</style>\n",
       "<table border=\"1\" class=\"dataframe\">\n",
       "  <thead>\n",
       "    <tr style=\"text-align: right;\">\n",
       "      <th></th>\n",
       "      <th>Product line</th>\n",
       "      <th>Average_rating</th>\n",
       "      <th>Total_reviews</th>\n",
       "    </tr>\n",
       "  </thead>\n",
       "  <tbody>\n",
       "    <tr>\n",
       "      <th>0</th>\n",
       "      <td>Food and beverages</td>\n",
       "      <td>7.11</td>\n",
       "      <td>174</td>\n",
       "    </tr>\n",
       "    <tr>\n",
       "      <th>1</th>\n",
       "      <td>Fashion accessories</td>\n",
       "      <td>7.03</td>\n",
       "      <td>178</td>\n",
       "    </tr>\n",
       "    <tr>\n",
       "      <th>2</th>\n",
       "      <td>Health and beauty</td>\n",
       "      <td>7.00</td>\n",
       "      <td>152</td>\n",
       "    </tr>\n",
       "    <tr>\n",
       "      <th>3</th>\n",
       "      <td>Electronic accessories</td>\n",
       "      <td>6.92</td>\n",
       "      <td>170</td>\n",
       "    </tr>\n",
       "    <tr>\n",
       "      <th>4</th>\n",
       "      <td>Sports and travel</td>\n",
       "      <td>6.92</td>\n",
       "      <td>166</td>\n",
       "    </tr>\n",
       "    <tr>\n",
       "      <th>5</th>\n",
       "      <td>Home and lifestyle</td>\n",
       "      <td>6.84</td>\n",
       "      <td>160</td>\n",
       "    </tr>\n",
       "  </tbody>\n",
       "</table>\n",
       "</div>"
      ],
      "text/plain": [
       "             Product line  Average_rating  Total_reviews\n",
       "0      Food and beverages            7.11            174\n",
       "1     Fashion accessories            7.03            178\n",
       "2       Health and beauty            7.00            152\n",
       "3  Electronic accessories            6.92            170\n",
       "4       Sports and travel            6.92            166\n",
       "5      Home and lifestyle            6.84            160"
      ]
     },
     "execution_count": 47,
     "metadata": {},
     "output_type": "execute_result"
    }
   ],
   "source": [
    "avg_rating"
   ]
  },
  {
   "cell_type": "code",
   "execution_count": 48,
   "id": "2ada1baf",
   "metadata": {},
   "outputs": [
    {
     "data": {
      "application/vnd.plotly.v1+json": {
       "config": {
        "plotlyServerURL": "https://plot.ly"
       },
       "data": [
        {
         "customdata": {
          "bdata": "rgCyAJgAqgCmAKAA",
          "dtype": "i2",
          "shape": "6, 1"
         },
         "hovertemplate": "Product line=%{x}<br>Average_rating=%{y}<br>Total_reviews=%{customdata[0]}<extra></extra>",
         "legendgroup": "",
         "marker": {
          "color": "#636efa",
          "pattern": {
           "shape": ""
          }
         },
         "name": "",
         "orientation": "v",
         "showlegend": false,
         "textposition": "auto",
         "texttemplate": "%{y}",
         "type": "bar",
         "x": [
          "Food and beverages",
          "Fashion accessories",
          "Health and beauty",
          "Electronic accessories",
          "Sports and travel",
          "Home and lifestyle"
         ],
         "xaxis": "x",
         "y": {
          "bdata": "cT0K16NwHEAfhetRuB4cQAAAAAAAABxArkfhehSuG0CuR+F6FK4bQFyPwvUoXBtA",
          "dtype": "f8"
         },
         "yaxis": "y"
        }
       ],
       "layout": {
        "barmode": "relative",
        "legend": {
         "tracegroupgap": 0
        },
        "template": {
         "data": {
          "bar": [
           {
            "error_x": {
             "color": "#2a3f5f"
            },
            "error_y": {
             "color": "#2a3f5f"
            },
            "marker": {
             "line": {
              "color": "#E5ECF6",
              "width": 0.5
             },
             "pattern": {
              "fillmode": "overlay",
              "size": 10,
              "solidity": 0.2
             }
            },
            "type": "bar"
           }
          ],
          "barpolar": [
           {
            "marker": {
             "line": {
              "color": "#E5ECF6",
              "width": 0.5
             },
             "pattern": {
              "fillmode": "overlay",
              "size": 10,
              "solidity": 0.2
             }
            },
            "type": "barpolar"
           }
          ],
          "carpet": [
           {
            "aaxis": {
             "endlinecolor": "#2a3f5f",
             "gridcolor": "white",
             "linecolor": "white",
             "minorgridcolor": "white",
             "startlinecolor": "#2a3f5f"
            },
            "baxis": {
             "endlinecolor": "#2a3f5f",
             "gridcolor": "white",
             "linecolor": "white",
             "minorgridcolor": "white",
             "startlinecolor": "#2a3f5f"
            },
            "type": "carpet"
           }
          ],
          "choropleth": [
           {
            "colorbar": {
             "outlinewidth": 0,
             "ticks": ""
            },
            "type": "choropleth"
           }
          ],
          "contour": [
           {
            "colorbar": {
             "outlinewidth": 0,
             "ticks": ""
            },
            "colorscale": [
             [
              0,
              "#0d0887"
             ],
             [
              0.1111111111111111,
              "#46039f"
             ],
             [
              0.2222222222222222,
              "#7201a8"
             ],
             [
              0.3333333333333333,
              "#9c179e"
             ],
             [
              0.4444444444444444,
              "#bd3786"
             ],
             [
              0.5555555555555556,
              "#d8576b"
             ],
             [
              0.6666666666666666,
              "#ed7953"
             ],
             [
              0.7777777777777778,
              "#fb9f3a"
             ],
             [
              0.8888888888888888,
              "#fdca26"
             ],
             [
              1,
              "#f0f921"
             ]
            ],
            "type": "contour"
           }
          ],
          "contourcarpet": [
           {
            "colorbar": {
             "outlinewidth": 0,
             "ticks": ""
            },
            "type": "contourcarpet"
           }
          ],
          "heatmap": [
           {
            "colorbar": {
             "outlinewidth": 0,
             "ticks": ""
            },
            "colorscale": [
             [
              0,
              "#0d0887"
             ],
             [
              0.1111111111111111,
              "#46039f"
             ],
             [
              0.2222222222222222,
              "#7201a8"
             ],
             [
              0.3333333333333333,
              "#9c179e"
             ],
             [
              0.4444444444444444,
              "#bd3786"
             ],
             [
              0.5555555555555556,
              "#d8576b"
             ],
             [
              0.6666666666666666,
              "#ed7953"
             ],
             [
              0.7777777777777778,
              "#fb9f3a"
             ],
             [
              0.8888888888888888,
              "#fdca26"
             ],
             [
              1,
              "#f0f921"
             ]
            ],
            "type": "heatmap"
           }
          ],
          "histogram": [
           {
            "marker": {
             "pattern": {
              "fillmode": "overlay",
              "size": 10,
              "solidity": 0.2
             }
            },
            "type": "histogram"
           }
          ],
          "histogram2d": [
           {
            "colorbar": {
             "outlinewidth": 0,
             "ticks": ""
            },
            "colorscale": [
             [
              0,
              "#0d0887"
             ],
             [
              0.1111111111111111,
              "#46039f"
             ],
             [
              0.2222222222222222,
              "#7201a8"
             ],
             [
              0.3333333333333333,
              "#9c179e"
             ],
             [
              0.4444444444444444,
              "#bd3786"
             ],
             [
              0.5555555555555556,
              "#d8576b"
             ],
             [
              0.6666666666666666,
              "#ed7953"
             ],
             [
              0.7777777777777778,
              "#fb9f3a"
             ],
             [
              0.8888888888888888,
              "#fdca26"
             ],
             [
              1,
              "#f0f921"
             ]
            ],
            "type": "histogram2d"
           }
          ],
          "histogram2dcontour": [
           {
            "colorbar": {
             "outlinewidth": 0,
             "ticks": ""
            },
            "colorscale": [
             [
              0,
              "#0d0887"
             ],
             [
              0.1111111111111111,
              "#46039f"
             ],
             [
              0.2222222222222222,
              "#7201a8"
             ],
             [
              0.3333333333333333,
              "#9c179e"
             ],
             [
              0.4444444444444444,
              "#bd3786"
             ],
             [
              0.5555555555555556,
              "#d8576b"
             ],
             [
              0.6666666666666666,
              "#ed7953"
             ],
             [
              0.7777777777777778,
              "#fb9f3a"
             ],
             [
              0.8888888888888888,
              "#fdca26"
             ],
             [
              1,
              "#f0f921"
             ]
            ],
            "type": "histogram2dcontour"
           }
          ],
          "mesh3d": [
           {
            "colorbar": {
             "outlinewidth": 0,
             "ticks": ""
            },
            "type": "mesh3d"
           }
          ],
          "parcoords": [
           {
            "line": {
             "colorbar": {
              "outlinewidth": 0,
              "ticks": ""
             }
            },
            "type": "parcoords"
           }
          ],
          "pie": [
           {
            "automargin": true,
            "type": "pie"
           }
          ],
          "scatter": [
           {
            "fillpattern": {
             "fillmode": "overlay",
             "size": 10,
             "solidity": 0.2
            },
            "type": "scatter"
           }
          ],
          "scatter3d": [
           {
            "line": {
             "colorbar": {
              "outlinewidth": 0,
              "ticks": ""
             }
            },
            "marker": {
             "colorbar": {
              "outlinewidth": 0,
              "ticks": ""
             }
            },
            "type": "scatter3d"
           }
          ],
          "scattercarpet": [
           {
            "marker": {
             "colorbar": {
              "outlinewidth": 0,
              "ticks": ""
             }
            },
            "type": "scattercarpet"
           }
          ],
          "scattergeo": [
           {
            "marker": {
             "colorbar": {
              "outlinewidth": 0,
              "ticks": ""
             }
            },
            "type": "scattergeo"
           }
          ],
          "scattergl": [
           {
            "marker": {
             "colorbar": {
              "outlinewidth": 0,
              "ticks": ""
             }
            },
            "type": "scattergl"
           }
          ],
          "scattermap": [
           {
            "marker": {
             "colorbar": {
              "outlinewidth": 0,
              "ticks": ""
             }
            },
            "type": "scattermap"
           }
          ],
          "scattermapbox": [
           {
            "marker": {
             "colorbar": {
              "outlinewidth": 0,
              "ticks": ""
             }
            },
            "type": "scattermapbox"
           }
          ],
          "scatterpolar": [
           {
            "marker": {
             "colorbar": {
              "outlinewidth": 0,
              "ticks": ""
             }
            },
            "type": "scatterpolar"
           }
          ],
          "scatterpolargl": [
           {
            "marker": {
             "colorbar": {
              "outlinewidth": 0,
              "ticks": ""
             }
            },
            "type": "scatterpolargl"
           }
          ],
          "scatterternary": [
           {
            "marker": {
             "colorbar": {
              "outlinewidth": 0,
              "ticks": ""
             }
            },
            "type": "scatterternary"
           }
          ],
          "surface": [
           {
            "colorbar": {
             "outlinewidth": 0,
             "ticks": ""
            },
            "colorscale": [
             [
              0,
              "#0d0887"
             ],
             [
              0.1111111111111111,
              "#46039f"
             ],
             [
              0.2222222222222222,
              "#7201a8"
             ],
             [
              0.3333333333333333,
              "#9c179e"
             ],
             [
              0.4444444444444444,
              "#bd3786"
             ],
             [
              0.5555555555555556,
              "#d8576b"
             ],
             [
              0.6666666666666666,
              "#ed7953"
             ],
             [
              0.7777777777777778,
              "#fb9f3a"
             ],
             [
              0.8888888888888888,
              "#fdca26"
             ],
             [
              1,
              "#f0f921"
             ]
            ],
            "type": "surface"
           }
          ],
          "table": [
           {
            "cells": {
             "fill": {
              "color": "#EBF0F8"
             },
             "line": {
              "color": "white"
             }
            },
            "header": {
             "fill": {
              "color": "#C8D4E3"
             },
             "line": {
              "color": "white"
             }
            },
            "type": "table"
           }
          ]
         },
         "layout": {
          "annotationdefaults": {
           "arrowcolor": "#2a3f5f",
           "arrowhead": 0,
           "arrowwidth": 1
          },
          "autotypenumbers": "strict",
          "coloraxis": {
           "colorbar": {
            "outlinewidth": 0,
            "ticks": ""
           }
          },
          "colorscale": {
           "diverging": [
            [
             0,
             "#8e0152"
            ],
            [
             0.1,
             "#c51b7d"
            ],
            [
             0.2,
             "#de77ae"
            ],
            [
             0.3,
             "#f1b6da"
            ],
            [
             0.4,
             "#fde0ef"
            ],
            [
             0.5,
             "#f7f7f7"
            ],
            [
             0.6,
             "#e6f5d0"
            ],
            [
             0.7,
             "#b8e186"
            ],
            [
             0.8,
             "#7fbc41"
            ],
            [
             0.9,
             "#4d9221"
            ],
            [
             1,
             "#276419"
            ]
           ],
           "sequential": [
            [
             0,
             "#0d0887"
            ],
            [
             0.1111111111111111,
             "#46039f"
            ],
            [
             0.2222222222222222,
             "#7201a8"
            ],
            [
             0.3333333333333333,
             "#9c179e"
            ],
            [
             0.4444444444444444,
             "#bd3786"
            ],
            [
             0.5555555555555556,
             "#d8576b"
            ],
            [
             0.6666666666666666,
             "#ed7953"
            ],
            [
             0.7777777777777778,
             "#fb9f3a"
            ],
            [
             0.8888888888888888,
             "#fdca26"
            ],
            [
             1,
             "#f0f921"
            ]
           ],
           "sequentialminus": [
            [
             0,
             "#0d0887"
            ],
            [
             0.1111111111111111,
             "#46039f"
            ],
            [
             0.2222222222222222,
             "#7201a8"
            ],
            [
             0.3333333333333333,
             "#9c179e"
            ],
            [
             0.4444444444444444,
             "#bd3786"
            ],
            [
             0.5555555555555556,
             "#d8576b"
            ],
            [
             0.6666666666666666,
             "#ed7953"
            ],
            [
             0.7777777777777778,
             "#fb9f3a"
            ],
            [
             0.8888888888888888,
             "#fdca26"
            ],
            [
             1,
             "#f0f921"
            ]
           ]
          },
          "colorway": [
           "#636efa",
           "#EF553B",
           "#00cc96",
           "#ab63fa",
           "#FFA15A",
           "#19d3f3",
           "#FF6692",
           "#B6E880",
           "#FF97FF",
           "#FECB52"
          ],
          "font": {
           "color": "#2a3f5f"
          },
          "geo": {
           "bgcolor": "white",
           "lakecolor": "white",
           "landcolor": "#E5ECF6",
           "showlakes": true,
           "showland": true,
           "subunitcolor": "white"
          },
          "hoverlabel": {
           "align": "left"
          },
          "hovermode": "closest",
          "mapbox": {
           "style": "light"
          },
          "paper_bgcolor": "white",
          "plot_bgcolor": "#E5ECF6",
          "polar": {
           "angularaxis": {
            "gridcolor": "white",
            "linecolor": "white",
            "ticks": ""
           },
           "bgcolor": "#E5ECF6",
           "radialaxis": {
            "gridcolor": "white",
            "linecolor": "white",
            "ticks": ""
           }
          },
          "scene": {
           "xaxis": {
            "backgroundcolor": "#E5ECF6",
            "gridcolor": "white",
            "gridwidth": 2,
            "linecolor": "white",
            "showbackground": true,
            "ticks": "",
            "zerolinecolor": "white"
           },
           "yaxis": {
            "backgroundcolor": "#E5ECF6",
            "gridcolor": "white",
            "gridwidth": 2,
            "linecolor": "white",
            "showbackground": true,
            "ticks": "",
            "zerolinecolor": "white"
           },
           "zaxis": {
            "backgroundcolor": "#E5ECF6",
            "gridcolor": "white",
            "gridwidth": 2,
            "linecolor": "white",
            "showbackground": true,
            "ticks": "",
            "zerolinecolor": "white"
           }
          },
          "shapedefaults": {
           "line": {
            "color": "#2a3f5f"
           }
          },
          "ternary": {
           "aaxis": {
            "gridcolor": "white",
            "linecolor": "white",
            "ticks": ""
           },
           "baxis": {
            "gridcolor": "white",
            "linecolor": "white",
            "ticks": ""
           },
           "bgcolor": "#E5ECF6",
           "caxis": {
            "gridcolor": "white",
            "linecolor": "white",
            "ticks": ""
           }
          },
          "title": {
           "x": 0.05
          },
          "xaxis": {
           "automargin": true,
           "gridcolor": "white",
           "linecolor": "white",
           "ticks": "",
           "title": {
            "standoff": 15
           },
           "zerolinecolor": "white",
           "zerolinewidth": 2
          },
          "yaxis": {
           "automargin": true,
           "gridcolor": "white",
           "linecolor": "white",
           "ticks": "",
           "title": {
            "standoff": 15
           },
           "zerolinecolor": "white",
           "zerolinewidth": 2
          }
         }
        },
        "title": {
         "text": "Average Rating & TotalReviews Per Product Line",
         "x": 0.5
        },
        "xaxis": {
         "anchor": "y",
         "domain": [
          0,
          1
         ],
         "title": {
          "text": "Product line"
         }
        },
        "yaxis": {
         "anchor": "x",
         "domain": [
          0,
          1
         ],
         "title": {
          "text": "Average_rating"
         }
        }
       }
      }
     },
     "metadata": {},
     "output_type": "display_data"
    }
   ],
   "source": [
    "px.bar(data_frame=avg_rating,x='Product line',y='Average_rating',title='Average Rating & TotalReviews Per Product Line',hover_data=['Total_reviews'],text_auto=True).update_layout(title_x=0.5)"
   ]
  },
  {
   "cell_type": "code",
   "execution_count": 49,
   "id": "e8fb6f59",
   "metadata": {},
   "outputs": [
    {
     "data": {
      "application/vnd.microsoft.datawrangler.viewer.v0+json": {
       "columns": [
        {
         "name": "index",
         "rawType": "int64",
         "type": "integer"
        },
        {
         "name": "City",
         "rawType": "object",
         "type": "string"
        },
        {
         "name": "Customer type",
         "rawType": "object",
         "type": "string"
        },
        {
         "name": "Invoice ID",
         "rawType": "int64",
         "type": "integer"
        }
       ],
       "conversionMethod": "pd.DataFrame",
       "ref": "0b8ebd0b-d186-4252-84e0-3d3fed552702",
       "rows": [
        [
         "0",
         "Yangon",
         "Normal",
         "173"
        ],
        [
         "1",
         "Naypyitaw",
         "Member",
         "169"
        ],
        [
         "2",
         "Yangon",
         "Member",
         "167"
        ],
        [
         "3",
         "Mandalay",
         "Normal",
         "167"
        ],
        [
         "4",
         "Mandalay",
         "Member",
         "165"
        ],
        [
         "5",
         "Naypyitaw",
         "Normal",
         "159"
        ]
       ],
       "shape": {
        "columns": 3,
        "rows": 6
       }
      },
      "text/html": [
       "<div>\n",
       "<style scoped>\n",
       "    .dataframe tbody tr th:only-of-type {\n",
       "        vertical-align: middle;\n",
       "    }\n",
       "\n",
       "    .dataframe tbody tr th {\n",
       "        vertical-align: top;\n",
       "    }\n",
       "\n",
       "    .dataframe thead th {\n",
       "        text-align: right;\n",
       "    }\n",
       "</style>\n",
       "<table border=\"1\" class=\"dataframe\">\n",
       "  <thead>\n",
       "    <tr style=\"text-align: right;\">\n",
       "      <th></th>\n",
       "      <th>City</th>\n",
       "      <th>Customer type</th>\n",
       "      <th>Invoice ID</th>\n",
       "    </tr>\n",
       "  </thead>\n",
       "  <tbody>\n",
       "    <tr>\n",
       "      <th>0</th>\n",
       "      <td>Yangon</td>\n",
       "      <td>Normal</td>\n",
       "      <td>173</td>\n",
       "    </tr>\n",
       "    <tr>\n",
       "      <th>1</th>\n",
       "      <td>Naypyitaw</td>\n",
       "      <td>Member</td>\n",
       "      <td>169</td>\n",
       "    </tr>\n",
       "    <tr>\n",
       "      <th>2</th>\n",
       "      <td>Yangon</td>\n",
       "      <td>Member</td>\n",
       "      <td>167</td>\n",
       "    </tr>\n",
       "    <tr>\n",
       "      <th>3</th>\n",
       "      <td>Mandalay</td>\n",
       "      <td>Normal</td>\n",
       "      <td>167</td>\n",
       "    </tr>\n",
       "    <tr>\n",
       "      <th>4</th>\n",
       "      <td>Mandalay</td>\n",
       "      <td>Member</td>\n",
       "      <td>165</td>\n",
       "    </tr>\n",
       "    <tr>\n",
       "      <th>5</th>\n",
       "      <td>Naypyitaw</td>\n",
       "      <td>Normal</td>\n",
       "      <td>159</td>\n",
       "    </tr>\n",
       "  </tbody>\n",
       "</table>\n",
       "</div>"
      ],
      "text/plain": [
       "        City Customer type  Invoice ID\n",
       "0     Yangon        Normal         173\n",
       "1  Naypyitaw        Member         169\n",
       "2     Yangon        Member         167\n",
       "3   Mandalay        Normal         167\n",
       "4   Mandalay        Member         165\n",
       "5  Naypyitaw        Normal         159"
      ]
     },
     "execution_count": 49,
     "metadata": {},
     "output_type": "execute_result"
    }
   ],
   "source": [
    "member_citycount"
   ]
  },
  {
   "cell_type": "markdown",
   "id": "58a982ed",
   "metadata": {},
   "source": [
    "### Customer type count in different cities"
   ]
  },
  {
   "cell_type": "code",
   "execution_count": 50,
   "id": "60f8bf79",
   "metadata": {},
   "outputs": [
    {
     "data": {
      "application/vnd.plotly.v1+json": {
       "config": {
        "plotlyServerURL": "https://plot.ly"
       },
       "data": [
        {
         "alignmentgroup": "True",
         "hovertemplate": "Customer type=Normal<br>City=%{x}<br>Count=%{y}<extra></extra>",
         "legendgroup": "Normal",
         "marker": {
          "color": "#636efa",
          "pattern": {
           "shape": ""
          }
         },
         "name": "Normal",
         "offsetgroup": "Normal",
         "orientation": "v",
         "showlegend": true,
         "textposition": "auto",
         "texttemplate": "%{y}",
         "type": "bar",
         "x": [
          "Yangon",
          "Mandalay",
          "Naypyitaw"
         ],
         "xaxis": "x",
         "y": {
          "bdata": "rQCnAJ8A",
          "dtype": "i2"
         },
         "yaxis": "y"
        },
        {
         "alignmentgroup": "True",
         "hovertemplate": "Customer type=Member<br>City=%{x}<br>Count=%{y}<extra></extra>",
         "legendgroup": "Member",
         "marker": {
          "color": "#EF553B",
          "pattern": {
           "shape": ""
          }
         },
         "name": "Member",
         "offsetgroup": "Member",
         "orientation": "v",
         "showlegend": true,
         "textposition": "auto",
         "texttemplate": "%{y}",
         "type": "bar",
         "x": [
          "Naypyitaw",
          "Yangon",
          "Mandalay"
         ],
         "xaxis": "x",
         "y": {
          "bdata": "qQCnAKUA",
          "dtype": "i2"
         },
         "yaxis": "y"
        }
       ],
       "layout": {
        "barmode": "group",
        "legend": {
         "title": {
          "text": "Customer type"
         },
         "tracegroupgap": 0
        },
        "template": {
         "data": {
          "bar": [
           {
            "error_x": {
             "color": "#2a3f5f"
            },
            "error_y": {
             "color": "#2a3f5f"
            },
            "marker": {
             "line": {
              "color": "#E5ECF6",
              "width": 0.5
             },
             "pattern": {
              "fillmode": "overlay",
              "size": 10,
              "solidity": 0.2
             }
            },
            "type": "bar"
           }
          ],
          "barpolar": [
           {
            "marker": {
             "line": {
              "color": "#E5ECF6",
              "width": 0.5
             },
             "pattern": {
              "fillmode": "overlay",
              "size": 10,
              "solidity": 0.2
             }
            },
            "type": "barpolar"
           }
          ],
          "carpet": [
           {
            "aaxis": {
             "endlinecolor": "#2a3f5f",
             "gridcolor": "white",
             "linecolor": "white",
             "minorgridcolor": "white",
             "startlinecolor": "#2a3f5f"
            },
            "baxis": {
             "endlinecolor": "#2a3f5f",
             "gridcolor": "white",
             "linecolor": "white",
             "minorgridcolor": "white",
             "startlinecolor": "#2a3f5f"
            },
            "type": "carpet"
           }
          ],
          "choropleth": [
           {
            "colorbar": {
             "outlinewidth": 0,
             "ticks": ""
            },
            "type": "choropleth"
           }
          ],
          "contour": [
           {
            "colorbar": {
             "outlinewidth": 0,
             "ticks": ""
            },
            "colorscale": [
             [
              0,
              "#0d0887"
             ],
             [
              0.1111111111111111,
              "#46039f"
             ],
             [
              0.2222222222222222,
              "#7201a8"
             ],
             [
              0.3333333333333333,
              "#9c179e"
             ],
             [
              0.4444444444444444,
              "#bd3786"
             ],
             [
              0.5555555555555556,
              "#d8576b"
             ],
             [
              0.6666666666666666,
              "#ed7953"
             ],
             [
              0.7777777777777778,
              "#fb9f3a"
             ],
             [
              0.8888888888888888,
              "#fdca26"
             ],
             [
              1,
              "#f0f921"
             ]
            ],
            "type": "contour"
           }
          ],
          "contourcarpet": [
           {
            "colorbar": {
             "outlinewidth": 0,
             "ticks": ""
            },
            "type": "contourcarpet"
           }
          ],
          "heatmap": [
           {
            "colorbar": {
             "outlinewidth": 0,
             "ticks": ""
            },
            "colorscale": [
             [
              0,
              "#0d0887"
             ],
             [
              0.1111111111111111,
              "#46039f"
             ],
             [
              0.2222222222222222,
              "#7201a8"
             ],
             [
              0.3333333333333333,
              "#9c179e"
             ],
             [
              0.4444444444444444,
              "#bd3786"
             ],
             [
              0.5555555555555556,
              "#d8576b"
             ],
             [
              0.6666666666666666,
              "#ed7953"
             ],
             [
              0.7777777777777778,
              "#fb9f3a"
             ],
             [
              0.8888888888888888,
              "#fdca26"
             ],
             [
              1,
              "#f0f921"
             ]
            ],
            "type": "heatmap"
           }
          ],
          "histogram": [
           {
            "marker": {
             "pattern": {
              "fillmode": "overlay",
              "size": 10,
              "solidity": 0.2
             }
            },
            "type": "histogram"
           }
          ],
          "histogram2d": [
           {
            "colorbar": {
             "outlinewidth": 0,
             "ticks": ""
            },
            "colorscale": [
             [
              0,
              "#0d0887"
             ],
             [
              0.1111111111111111,
              "#46039f"
             ],
             [
              0.2222222222222222,
              "#7201a8"
             ],
             [
              0.3333333333333333,
              "#9c179e"
             ],
             [
              0.4444444444444444,
              "#bd3786"
             ],
             [
              0.5555555555555556,
              "#d8576b"
             ],
             [
              0.6666666666666666,
              "#ed7953"
             ],
             [
              0.7777777777777778,
              "#fb9f3a"
             ],
             [
              0.8888888888888888,
              "#fdca26"
             ],
             [
              1,
              "#f0f921"
             ]
            ],
            "type": "histogram2d"
           }
          ],
          "histogram2dcontour": [
           {
            "colorbar": {
             "outlinewidth": 0,
             "ticks": ""
            },
            "colorscale": [
             [
              0,
              "#0d0887"
             ],
             [
              0.1111111111111111,
              "#46039f"
             ],
             [
              0.2222222222222222,
              "#7201a8"
             ],
             [
              0.3333333333333333,
              "#9c179e"
             ],
             [
              0.4444444444444444,
              "#bd3786"
             ],
             [
              0.5555555555555556,
              "#d8576b"
             ],
             [
              0.6666666666666666,
              "#ed7953"
             ],
             [
              0.7777777777777778,
              "#fb9f3a"
             ],
             [
              0.8888888888888888,
              "#fdca26"
             ],
             [
              1,
              "#f0f921"
             ]
            ],
            "type": "histogram2dcontour"
           }
          ],
          "mesh3d": [
           {
            "colorbar": {
             "outlinewidth": 0,
             "ticks": ""
            },
            "type": "mesh3d"
           }
          ],
          "parcoords": [
           {
            "line": {
             "colorbar": {
              "outlinewidth": 0,
              "ticks": ""
             }
            },
            "type": "parcoords"
           }
          ],
          "pie": [
           {
            "automargin": true,
            "type": "pie"
           }
          ],
          "scatter": [
           {
            "fillpattern": {
             "fillmode": "overlay",
             "size": 10,
             "solidity": 0.2
            },
            "type": "scatter"
           }
          ],
          "scatter3d": [
           {
            "line": {
             "colorbar": {
              "outlinewidth": 0,
              "ticks": ""
             }
            },
            "marker": {
             "colorbar": {
              "outlinewidth": 0,
              "ticks": ""
             }
            },
            "type": "scatter3d"
           }
          ],
          "scattercarpet": [
           {
            "marker": {
             "colorbar": {
              "outlinewidth": 0,
              "ticks": ""
             }
            },
            "type": "scattercarpet"
           }
          ],
          "scattergeo": [
           {
            "marker": {
             "colorbar": {
              "outlinewidth": 0,
              "ticks": ""
             }
            },
            "type": "scattergeo"
           }
          ],
          "scattergl": [
           {
            "marker": {
             "colorbar": {
              "outlinewidth": 0,
              "ticks": ""
             }
            },
            "type": "scattergl"
           }
          ],
          "scattermap": [
           {
            "marker": {
             "colorbar": {
              "outlinewidth": 0,
              "ticks": ""
             }
            },
            "type": "scattermap"
           }
          ],
          "scattermapbox": [
           {
            "marker": {
             "colorbar": {
              "outlinewidth": 0,
              "ticks": ""
             }
            },
            "type": "scattermapbox"
           }
          ],
          "scatterpolar": [
           {
            "marker": {
             "colorbar": {
              "outlinewidth": 0,
              "ticks": ""
             }
            },
            "type": "scatterpolar"
           }
          ],
          "scatterpolargl": [
           {
            "marker": {
             "colorbar": {
              "outlinewidth": 0,
              "ticks": ""
             }
            },
            "type": "scatterpolargl"
           }
          ],
          "scatterternary": [
           {
            "marker": {
             "colorbar": {
              "outlinewidth": 0,
              "ticks": ""
             }
            },
            "type": "scatterternary"
           }
          ],
          "surface": [
           {
            "colorbar": {
             "outlinewidth": 0,
             "ticks": ""
            },
            "colorscale": [
             [
              0,
              "#0d0887"
             ],
             [
              0.1111111111111111,
              "#46039f"
             ],
             [
              0.2222222222222222,
              "#7201a8"
             ],
             [
              0.3333333333333333,
              "#9c179e"
             ],
             [
              0.4444444444444444,
              "#bd3786"
             ],
             [
              0.5555555555555556,
              "#d8576b"
             ],
             [
              0.6666666666666666,
              "#ed7953"
             ],
             [
              0.7777777777777778,
              "#fb9f3a"
             ],
             [
              0.8888888888888888,
              "#fdca26"
             ],
             [
              1,
              "#f0f921"
             ]
            ],
            "type": "surface"
           }
          ],
          "table": [
           {
            "cells": {
             "fill": {
              "color": "#EBF0F8"
             },
             "line": {
              "color": "white"
             }
            },
            "header": {
             "fill": {
              "color": "#C8D4E3"
             },
             "line": {
              "color": "white"
             }
            },
            "type": "table"
           }
          ]
         },
         "layout": {
          "annotationdefaults": {
           "arrowcolor": "#2a3f5f",
           "arrowhead": 0,
           "arrowwidth": 1
          },
          "autotypenumbers": "strict",
          "coloraxis": {
           "colorbar": {
            "outlinewidth": 0,
            "ticks": ""
           }
          },
          "colorscale": {
           "diverging": [
            [
             0,
             "#8e0152"
            ],
            [
             0.1,
             "#c51b7d"
            ],
            [
             0.2,
             "#de77ae"
            ],
            [
             0.3,
             "#f1b6da"
            ],
            [
             0.4,
             "#fde0ef"
            ],
            [
             0.5,
             "#f7f7f7"
            ],
            [
             0.6,
             "#e6f5d0"
            ],
            [
             0.7,
             "#b8e186"
            ],
            [
             0.8,
             "#7fbc41"
            ],
            [
             0.9,
             "#4d9221"
            ],
            [
             1,
             "#276419"
            ]
           ],
           "sequential": [
            [
             0,
             "#0d0887"
            ],
            [
             0.1111111111111111,
             "#46039f"
            ],
            [
             0.2222222222222222,
             "#7201a8"
            ],
            [
             0.3333333333333333,
             "#9c179e"
            ],
            [
             0.4444444444444444,
             "#bd3786"
            ],
            [
             0.5555555555555556,
             "#d8576b"
            ],
            [
             0.6666666666666666,
             "#ed7953"
            ],
            [
             0.7777777777777778,
             "#fb9f3a"
            ],
            [
             0.8888888888888888,
             "#fdca26"
            ],
            [
             1,
             "#f0f921"
            ]
           ],
           "sequentialminus": [
            [
             0,
             "#0d0887"
            ],
            [
             0.1111111111111111,
             "#46039f"
            ],
            [
             0.2222222222222222,
             "#7201a8"
            ],
            [
             0.3333333333333333,
             "#9c179e"
            ],
            [
             0.4444444444444444,
             "#bd3786"
            ],
            [
             0.5555555555555556,
             "#d8576b"
            ],
            [
             0.6666666666666666,
             "#ed7953"
            ],
            [
             0.7777777777777778,
             "#fb9f3a"
            ],
            [
             0.8888888888888888,
             "#fdca26"
            ],
            [
             1,
             "#f0f921"
            ]
           ]
          },
          "colorway": [
           "#636efa",
           "#EF553B",
           "#00cc96",
           "#ab63fa",
           "#FFA15A",
           "#19d3f3",
           "#FF6692",
           "#B6E880",
           "#FF97FF",
           "#FECB52"
          ],
          "font": {
           "color": "#2a3f5f"
          },
          "geo": {
           "bgcolor": "white",
           "lakecolor": "white",
           "landcolor": "#E5ECF6",
           "showlakes": true,
           "showland": true,
           "subunitcolor": "white"
          },
          "hoverlabel": {
           "align": "left"
          },
          "hovermode": "closest",
          "mapbox": {
           "style": "light"
          },
          "paper_bgcolor": "white",
          "plot_bgcolor": "#E5ECF6",
          "polar": {
           "angularaxis": {
            "gridcolor": "white",
            "linecolor": "white",
            "ticks": ""
           },
           "bgcolor": "#E5ECF6",
           "radialaxis": {
            "gridcolor": "white",
            "linecolor": "white",
            "ticks": ""
           }
          },
          "scene": {
           "xaxis": {
            "backgroundcolor": "#E5ECF6",
            "gridcolor": "white",
            "gridwidth": 2,
            "linecolor": "white",
            "showbackground": true,
            "ticks": "",
            "zerolinecolor": "white"
           },
           "yaxis": {
            "backgroundcolor": "#E5ECF6",
            "gridcolor": "white",
            "gridwidth": 2,
            "linecolor": "white",
            "showbackground": true,
            "ticks": "",
            "zerolinecolor": "white"
           },
           "zaxis": {
            "backgroundcolor": "#E5ECF6",
            "gridcolor": "white",
            "gridwidth": 2,
            "linecolor": "white",
            "showbackground": true,
            "ticks": "",
            "zerolinecolor": "white"
           }
          },
          "shapedefaults": {
           "line": {
            "color": "#2a3f5f"
           }
          },
          "ternary": {
           "aaxis": {
            "gridcolor": "white",
            "linecolor": "white",
            "ticks": ""
           },
           "baxis": {
            "gridcolor": "white",
            "linecolor": "white",
            "ticks": ""
           },
           "bgcolor": "#E5ECF6",
           "caxis": {
            "gridcolor": "white",
            "linecolor": "white",
            "ticks": ""
           }
          },
          "title": {
           "x": 0.05
          },
          "xaxis": {
           "automargin": true,
           "gridcolor": "white",
           "linecolor": "white",
           "ticks": "",
           "title": {
            "standoff": 15
           },
           "zerolinecolor": "white",
           "zerolinewidth": 2
          },
          "yaxis": {
           "automargin": true,
           "gridcolor": "white",
           "linecolor": "white",
           "ticks": "",
           "title": {
            "standoff": 15
           },
           "zerolinecolor": "white",
           "zerolinewidth": 2
          }
         }
        },
        "title": {
         "text": "Customer type Per City"
        },
        "xaxis": {
         "anchor": "y",
         "domain": [
          0,
          1
         ],
         "title": {
          "text": "City"
         }
        },
        "yaxis": {
         "anchor": "x",
         "domain": [
          0,
          1
         ],
         "title": {
          "text": "Count"
         }
        }
       }
      }
     },
     "metadata": {},
     "output_type": "display_data"
    }
   ],
   "source": [
    "px.bar(data_frame=member_citycount,x='City',y='Invoice ID',labels={'Invoice ID':'Count'},barmode='group',color='Customer type',text_auto=True,title=\"Customer type Per City\")"
   ]
  },
  {
   "cell_type": "code",
   "execution_count": null,
   "id": "1d938f47",
   "metadata": {},
   "outputs": [],
   "source": []
  },
  {
   "cell_type": "code",
   "execution_count": null,
   "id": "112d1bd5",
   "metadata": {},
   "outputs": [],
   "source": []
  },
  {
   "cell_type": "code",
   "execution_count": 69,
   "id": "80fbb2fc",
   "metadata": {},
   "outputs": [
    {
     "data": {
      "application/vnd.plotly.v1+json": {
       "config": {
        "plotlyServerURL": "https://plot.ly"
       },
       "data": [
        {
         "coloraxis": "coloraxis",
         "hovertemplate": "x: %{x}<br>y: %{y}<br>color: %{z}<extra></extra>",
         "name": "0",
         "texttemplate": "%{z}",
         "type": "heatmap",
         "x": [
          "Unit price",
          "Quantity",
          "Tax 5%",
          "Total",
          "cogs",
          "gross income",
          "Rating",
          "day",
          "Revenue"
         ],
         "xaxis": "x",
         "y": [
          "Unit price",
          "Quantity",
          "Tax 5%",
          "Total",
          "cogs",
          "gross income",
          "Rating",
          "day",
          "Revenue"
         ],
         "yaxis": "y",
         "z": {
          "bdata": "AAAAAAAA8D8WcA0zjBKGPxRDlfwdS+Q/DkOV/B1L5D8RQ5X8HUvkPxRDlfwdS+Q/7ibxEvH5gb/IGSDH1zGtP9iarNxqSeQ/FnANM4wShj8AAAAAAADwP6WFgai/l+Y/poWBqL+X5j+ohYGov5fmP6WFgai/l+Y/XvSmSMgxkL/sVNI4jzGmv0fi8xiKk+Y/FEOV/B1L5D+lhYGov5fmPwAAAAAAAPA/AQAAAAAA8D8DAAAAAADwPwAAAAAAAPA/KlV234WKor/ApL8ri7Biv6SsXrFS/+8/DkOV/B1L5D+mhYGov5fmPwEAAAAAAPA/AAAAAAAA8D/5///////vPwEAAAAAAPA/IVV234WKor+apb8ri7Biv5msXrFS/+8/EUOV/B1L5D+ohYGov5fmPwMAAAAAAPA/+f//////7z8AAAAAAADwPwQAAAAAAPA/HFV234WKor8Hpr8ri7Biv5asXrFS/+8/FEOV/B1L5D+lhYGov5fmPwAAAAAAAPA/AQAAAAAA8D8EAAAAAADwPwAAAAAAAPA/KlV234WKor/ApL8ri7Biv6SsXrFS/+8/7ibxEvH5gb9e9KZIyDGQvypVdt+FiqK/IVV234WKor8cVXbfhYqivypVdt+FiqK/AAAAAAAA8D+DBE5Cift8v7doWLZ8qKK/yBkgx9cxrT/sVNI4jzGmv8CkvyuLsGK/mqW/K4uwYr8Hpr8ri7Biv8CkvyuLsGK/gwROQon7fL8AAAAAAADwP0ZqsJjamWS/2Jqs3GpJ5D9H4vMYipPmP6SsXrFS/+8/maxesVL/7z+WrF6xUv/vP6SsXrFS/+8/t2hYtnyoor9GarCY2plkvwAAAAAAAPA/",
          "dtype": "f8",
          "shape": "9, 9"
         }
        }
       ],
       "layout": {
        "coloraxis": {
         "colorscale": [
          [
           0,
           "#000011"
          ],
          [
           0.1111111111111111,
           "#000012"
          ],
          [
           0.2222222222222222,
           "#000013"
          ],
          [
           0.3333333333333333,
           "#000014"
          ],
          [
           0.4444444444444444,
           "#000015"
          ],
          [
           0.5555555555555556,
           "#000016"
          ],
          [
           0.6666666666666666,
           "#000017"
          ],
          [
           0.7777777777777778,
           "#000018"
          ],
          [
           0.8888888888888888,
           "#000019"
          ],
          [
           1,
           "#000020"
          ]
         ]
        },
        "height": 600,
        "template": {
         "data": {
          "candlestick": [
           {
            "decreasing": {
             "line": {
              "color": "#000033"
             }
            },
            "increasing": {
             "line": {
              "color": "#000032"
             }
            },
            "type": "candlestick"
           }
          ],
          "contour": [
           {
            "colorscale": [
             [
              0,
              "#000011"
             ],
             [
              0.1111111111111111,
              "#000012"
             ],
             [
              0.2222222222222222,
              "#000013"
             ],
             [
              0.3333333333333333,
              "#000014"
             ],
             [
              0.4444444444444444,
              "#000015"
             ],
             [
              0.5555555555555556,
              "#000016"
             ],
             [
              0.6666666666666666,
              "#000017"
             ],
             [
              0.7777777777777778,
              "#000018"
             ],
             [
              0.8888888888888888,
              "#000019"
             ],
             [
              1,
              "#000020"
             ]
            ],
            "type": "contour"
           }
          ],
          "contourcarpet": [
           {
            "colorscale": [
             [
              0,
              "#000011"
             ],
             [
              0.1111111111111111,
              "#000012"
             ],
             [
              0.2222222222222222,
              "#000013"
             ],
             [
              0.3333333333333333,
              "#000014"
             ],
             [
              0.4444444444444444,
              "#000015"
             ],
             [
              0.5555555555555556,
              "#000016"
             ],
             [
              0.6666666666666666,
              "#000017"
             ],
             [
              0.7777777777777778,
              "#000018"
             ],
             [
              0.8888888888888888,
              "#000019"
             ],
             [
              1,
              "#000020"
             ]
            ],
            "type": "contourcarpet"
           }
          ],
          "heatmap": [
           {
            "colorscale": [
             [
              0,
              "#000011"
             ],
             [
              0.1111111111111111,
              "#000012"
             ],
             [
              0.2222222222222222,
              "#000013"
             ],
             [
              0.3333333333333333,
              "#000014"
             ],
             [
              0.4444444444444444,
              "#000015"
             ],
             [
              0.5555555555555556,
              "#000016"
             ],
             [
              0.6666666666666666,
              "#000017"
             ],
             [
              0.7777777777777778,
              "#000018"
             ],
             [
              0.8888888888888888,
              "#000019"
             ],
             [
              1,
              "#000020"
             ]
            ],
            "type": "heatmap"
           }
          ],
          "histogram2d": [
           {
            "colorscale": [
             [
              0,
              "#000011"
             ],
             [
              0.1111111111111111,
              "#000012"
             ],
             [
              0.2222222222222222,
              "#000013"
             ],
             [
              0.3333333333333333,
              "#000014"
             ],
             [
              0.4444444444444444,
              "#000015"
             ],
             [
              0.5555555555555556,
              "#000016"
             ],
             [
              0.6666666666666666,
              "#000017"
             ],
             [
              0.7777777777777778,
              "#000018"
             ],
             [
              0.8888888888888888,
              "#000019"
             ],
             [
              1,
              "#000020"
             ]
            ],
            "type": "histogram2d"
           }
          ],
          "icicle": [
           {
            "textfont": {
             "color": "white"
            },
            "type": "icicle"
           }
          ],
          "sankey": [
           {
            "textfont": {
             "color": "#000036"
            },
            "type": "sankey"
           }
          ],
          "scatter": [
           {
            "marker": {
             "line": {
              "width": 0
             }
            },
            "type": "scatter"
           }
          ],
          "table": [
           {
            "cells": {
             "fill": {
              "color": "#000038"
             },
             "font": {
              "color": "#000037"
             },
             "line": {
              "color": "#000039"
             }
            },
            "header": {
             "fill": {
              "color": "#000040"
             },
             "font": {
              "color": "#000036"
             },
             "line": {
              "color": "#000039"
             }
            },
            "type": "table"
           }
          ],
          "waterfall": [
           {
            "connector": {
             "line": {
              "color": "#000036",
              "width": 2
             }
            },
            "decreasing": {
             "marker": {
              "color": "#000033"
             }
            },
            "increasing": {
             "marker": {
              "color": "#000032"
             }
            },
            "totals": {
             "marker": {
              "color": "#000034"
             }
            },
            "type": "waterfall"
           }
          ]
         },
         "layout": {
          "coloraxis": {
           "colorscale": [
            [
             0,
             "#000011"
            ],
            [
             0.1111111111111111,
             "#000012"
            ],
            [
             0.2222222222222222,
             "#000013"
            ],
            [
             0.3333333333333333,
             "#000014"
            ],
            [
             0.4444444444444444,
             "#000015"
            ],
            [
             0.5555555555555556,
             "#000016"
            ],
            [
             0.6666666666666666,
             "#000017"
            ],
            [
             0.7777777777777778,
             "#000018"
            ],
            [
             0.8888888888888888,
             "#000019"
            ],
            [
             1,
             "#000020"
            ]
           ]
          },
          "colorscale": {
           "diverging": [
            [
             0,
             "#000021"
            ],
            [
             0.1,
             "#000022"
            ],
            [
             0.2,
             "#000023"
            ],
            [
             0.3,
             "#000024"
            ],
            [
             0.4,
             "#000025"
            ],
            [
             0.5,
             "#000026"
            ],
            [
             0.6,
             "#000027"
            ],
            [
             0.7,
             "#000028"
            ],
            [
             0.8,
             "#000029"
            ],
            [
             0.9,
             "#000030"
            ],
            [
             1,
             "#000031"
            ]
           ],
           "sequential": [
            [
             0,
             "#000011"
            ],
            [
             0.1111111111111111,
             "#000012"
            ],
            [
             0.2222222222222222,
             "#000013"
            ],
            [
             0.3333333333333333,
             "#000014"
            ],
            [
             0.4444444444444444,
             "#000015"
            ],
            [
             0.5555555555555556,
             "#000016"
            ],
            [
             0.6666666666666666,
             "#000017"
            ],
            [
             0.7777777777777778,
             "#000018"
            ],
            [
             0.8888888888888888,
             "#000019"
            ],
            [
             1,
             "#000020"
            ]
           ],
           "sequentialminus": [
            [
             0,
             "#000011"
            ],
            [
             0.1111111111111111,
             "#000012"
            ],
            [
             0.2222222222222222,
             "#000013"
            ],
            [
             0.3333333333333333,
             "#000014"
            ],
            [
             0.4444444444444444,
             "#000015"
            ],
            [
             0.5555555555555556,
             "#000016"
            ],
            [
             0.6666666666666666,
             "#000017"
            ],
            [
             0.7777777777777778,
             "#000018"
            ],
            [
             0.8888888888888888,
             "#000019"
            ],
            [
             1,
             "#000020"
            ]
           ]
          },
          "colorway": [
           "#000001",
           "#000002",
           "#000003",
           "#000004",
           "#000005",
           "#000006",
           "#000007",
           "#000008",
           "#000009",
           "#000010"
          ]
         }
        },
        "title": {
         "text": "Correlation Matrix between columns"
        },
        "width": 1200,
        "xaxis": {
         "anchor": "y",
         "constrain": "domain",
         "domain": [
          0,
          1
         ],
         "scaleanchor": "y"
        },
        "yaxis": {
         "anchor": "x",
         "autorange": "reversed",
         "constrain": "domain",
         "domain": [
          0,
          1
         ]
        }
       }
      }
     },
     "metadata": {},
     "output_type": "display_data"
    }
   ],
   "source": [
    "dfcor=df.corr(numeric_only=True)\n",
    "dfcor.drop(index='gross margin percentage',columns=\"gross margin percentage\",inplace=True,)\n",
    "px.imshow(dfcor,width=1200,height=600,text_auto=True,title=\"Correlation Matrix between columns\")"
   ]
  },
  {
   "cell_type": "code",
   "execution_count": 52,
   "id": "00f9587a",
   "metadata": {},
   "outputs": [],
   "source": [
    "genderdf=df.groupby(['Payment','Gender'])['gross income'].mean().reset_index().sort_values(ascending=False,by='gross income')"
   ]
  },
  {
   "cell_type": "markdown",
   "id": "88c3baca",
   "metadata": {},
   "source": [
    "### Payment type Per Gender and their total grossincome"
   ]
  },
  {
   "cell_type": "code",
   "execution_count": 53,
   "id": "ed3f3dca",
   "metadata": {},
   "outputs": [
    {
     "data": {
      "application/vnd.plotly.v1+json": {
       "config": {
        "plotlyServerURL": "https://plot.ly"
       },
       "data": [
        {
         "alignmentgroup": "True",
         "hovertemplate": "Payment=Ewallet<br>Gender=%{x}<br>gross income=%{y}<extra></extra>",
         "legendgroup": "Ewallet",
         "marker": {
          "color": "#636efa",
          "pattern": {
           "shape": ""
          }
         },
         "name": "Ewallet",
         "offsetgroup": "Ewallet",
         "orientation": "v",
         "showlegend": true,
         "textposition": "auto",
         "texttemplate": "%{y}",
         "type": "bar",
         "x": [
          "Female",
          "Male"
         ],
         "xaxis": "x",
         "y": {
          "bdata": "mggbnv5OMECbTSaMXFwsQA==",
          "dtype": "f8"
         },
         "yaxis": "y"
        },
        {
         "alignmentgroup": "True",
         "hovertemplate": "Payment=Cash<br>Gender=%{x}<br>gross income=%{y}<extra></extra>",
         "legendgroup": "Cash",
         "marker": {
          "color": "#EF553B",
          "pattern": {
           "shape": ""
          }
         },
         "name": "Cash",
         "offsetgroup": "Cash",
         "orientation": "v",
         "showlegend": true,
         "textposition": "auto",
         "texttemplate": "%{y}",
         "type": "bar",
         "x": [
          "Female",
          "Male"
         ],
         "xaxis": "x",
         "y": {
          "bdata": "BrwhblbWL0CAMQYTWzkuQA==",
          "dtype": "f8"
         },
         "yaxis": "y"
        },
        {
         "alignmentgroup": "True",
         "hovertemplate": "Payment=Credit card<br>Gender=%{x}<br>gross income=%{y}<extra></extra>",
         "legendgroup": "Credit card",
         "marker": {
          "color": "#00cc96",
          "pattern": {
           "shape": ""
          }
         },
         "name": "Credit card",
         "offsetgroup": "Credit card",
         "orientation": "v",
         "showlegend": true,
         "textposition": "auto",
         "texttemplate": "%{y}",
         "type": "bar",
         "x": [
          "Female",
          "Male"
         ],
         "xaxis": "x",
         "y": {
          "bdata": "kKgoBJMxL0D7jUv7BGMuQA==",
          "dtype": "f8"
         },
         "yaxis": "y"
        }
       ],
       "layout": {
        "barmode": "group",
        "legend": {
         "title": {
          "text": "Payment"
         },
         "tracegroupgap": 0
        },
        "template": {
         "data": {
          "bar": [
           {
            "error_x": {
             "color": "#2a3f5f"
            },
            "error_y": {
             "color": "#2a3f5f"
            },
            "marker": {
             "line": {
              "color": "#E5ECF6",
              "width": 0.5
             },
             "pattern": {
              "fillmode": "overlay",
              "size": 10,
              "solidity": 0.2
             }
            },
            "type": "bar"
           }
          ],
          "barpolar": [
           {
            "marker": {
             "line": {
              "color": "#E5ECF6",
              "width": 0.5
             },
             "pattern": {
              "fillmode": "overlay",
              "size": 10,
              "solidity": 0.2
             }
            },
            "type": "barpolar"
           }
          ],
          "carpet": [
           {
            "aaxis": {
             "endlinecolor": "#2a3f5f",
             "gridcolor": "white",
             "linecolor": "white",
             "minorgridcolor": "white",
             "startlinecolor": "#2a3f5f"
            },
            "baxis": {
             "endlinecolor": "#2a3f5f",
             "gridcolor": "white",
             "linecolor": "white",
             "minorgridcolor": "white",
             "startlinecolor": "#2a3f5f"
            },
            "type": "carpet"
           }
          ],
          "choropleth": [
           {
            "colorbar": {
             "outlinewidth": 0,
             "ticks": ""
            },
            "type": "choropleth"
           }
          ],
          "contour": [
           {
            "colorbar": {
             "outlinewidth": 0,
             "ticks": ""
            },
            "colorscale": [
             [
              0,
              "#0d0887"
             ],
             [
              0.1111111111111111,
              "#46039f"
             ],
             [
              0.2222222222222222,
              "#7201a8"
             ],
             [
              0.3333333333333333,
              "#9c179e"
             ],
             [
              0.4444444444444444,
              "#bd3786"
             ],
             [
              0.5555555555555556,
              "#d8576b"
             ],
             [
              0.6666666666666666,
              "#ed7953"
             ],
             [
              0.7777777777777778,
              "#fb9f3a"
             ],
             [
              0.8888888888888888,
              "#fdca26"
             ],
             [
              1,
              "#f0f921"
             ]
            ],
            "type": "contour"
           }
          ],
          "contourcarpet": [
           {
            "colorbar": {
             "outlinewidth": 0,
             "ticks": ""
            },
            "type": "contourcarpet"
           }
          ],
          "heatmap": [
           {
            "colorbar": {
             "outlinewidth": 0,
             "ticks": ""
            },
            "colorscale": [
             [
              0,
              "#0d0887"
             ],
             [
              0.1111111111111111,
              "#46039f"
             ],
             [
              0.2222222222222222,
              "#7201a8"
             ],
             [
              0.3333333333333333,
              "#9c179e"
             ],
             [
              0.4444444444444444,
              "#bd3786"
             ],
             [
              0.5555555555555556,
              "#d8576b"
             ],
             [
              0.6666666666666666,
              "#ed7953"
             ],
             [
              0.7777777777777778,
              "#fb9f3a"
             ],
             [
              0.8888888888888888,
              "#fdca26"
             ],
             [
              1,
              "#f0f921"
             ]
            ],
            "type": "heatmap"
           }
          ],
          "histogram": [
           {
            "marker": {
             "pattern": {
              "fillmode": "overlay",
              "size": 10,
              "solidity": 0.2
             }
            },
            "type": "histogram"
           }
          ],
          "histogram2d": [
           {
            "colorbar": {
             "outlinewidth": 0,
             "ticks": ""
            },
            "colorscale": [
             [
              0,
              "#0d0887"
             ],
             [
              0.1111111111111111,
              "#46039f"
             ],
             [
              0.2222222222222222,
              "#7201a8"
             ],
             [
              0.3333333333333333,
              "#9c179e"
             ],
             [
              0.4444444444444444,
              "#bd3786"
             ],
             [
              0.5555555555555556,
              "#d8576b"
             ],
             [
              0.6666666666666666,
              "#ed7953"
             ],
             [
              0.7777777777777778,
              "#fb9f3a"
             ],
             [
              0.8888888888888888,
              "#fdca26"
             ],
             [
              1,
              "#f0f921"
             ]
            ],
            "type": "histogram2d"
           }
          ],
          "histogram2dcontour": [
           {
            "colorbar": {
             "outlinewidth": 0,
             "ticks": ""
            },
            "colorscale": [
             [
              0,
              "#0d0887"
             ],
             [
              0.1111111111111111,
              "#46039f"
             ],
             [
              0.2222222222222222,
              "#7201a8"
             ],
             [
              0.3333333333333333,
              "#9c179e"
             ],
             [
              0.4444444444444444,
              "#bd3786"
             ],
             [
              0.5555555555555556,
              "#d8576b"
             ],
             [
              0.6666666666666666,
              "#ed7953"
             ],
             [
              0.7777777777777778,
              "#fb9f3a"
             ],
             [
              0.8888888888888888,
              "#fdca26"
             ],
             [
              1,
              "#f0f921"
             ]
            ],
            "type": "histogram2dcontour"
           }
          ],
          "mesh3d": [
           {
            "colorbar": {
             "outlinewidth": 0,
             "ticks": ""
            },
            "type": "mesh3d"
           }
          ],
          "parcoords": [
           {
            "line": {
             "colorbar": {
              "outlinewidth": 0,
              "ticks": ""
             }
            },
            "type": "parcoords"
           }
          ],
          "pie": [
           {
            "automargin": true,
            "type": "pie"
           }
          ],
          "scatter": [
           {
            "fillpattern": {
             "fillmode": "overlay",
             "size": 10,
             "solidity": 0.2
            },
            "type": "scatter"
           }
          ],
          "scatter3d": [
           {
            "line": {
             "colorbar": {
              "outlinewidth": 0,
              "ticks": ""
             }
            },
            "marker": {
             "colorbar": {
              "outlinewidth": 0,
              "ticks": ""
             }
            },
            "type": "scatter3d"
           }
          ],
          "scattercarpet": [
           {
            "marker": {
             "colorbar": {
              "outlinewidth": 0,
              "ticks": ""
             }
            },
            "type": "scattercarpet"
           }
          ],
          "scattergeo": [
           {
            "marker": {
             "colorbar": {
              "outlinewidth": 0,
              "ticks": ""
             }
            },
            "type": "scattergeo"
           }
          ],
          "scattergl": [
           {
            "marker": {
             "colorbar": {
              "outlinewidth": 0,
              "ticks": ""
             }
            },
            "type": "scattergl"
           }
          ],
          "scattermap": [
           {
            "marker": {
             "colorbar": {
              "outlinewidth": 0,
              "ticks": ""
             }
            },
            "type": "scattermap"
           }
          ],
          "scattermapbox": [
           {
            "marker": {
             "colorbar": {
              "outlinewidth": 0,
              "ticks": ""
             }
            },
            "type": "scattermapbox"
           }
          ],
          "scatterpolar": [
           {
            "marker": {
             "colorbar": {
              "outlinewidth": 0,
              "ticks": ""
             }
            },
            "type": "scatterpolar"
           }
          ],
          "scatterpolargl": [
           {
            "marker": {
             "colorbar": {
              "outlinewidth": 0,
              "ticks": ""
             }
            },
            "type": "scatterpolargl"
           }
          ],
          "scatterternary": [
           {
            "marker": {
             "colorbar": {
              "outlinewidth": 0,
              "ticks": ""
             }
            },
            "type": "scatterternary"
           }
          ],
          "surface": [
           {
            "colorbar": {
             "outlinewidth": 0,
             "ticks": ""
            },
            "colorscale": [
             [
              0,
              "#0d0887"
             ],
             [
              0.1111111111111111,
              "#46039f"
             ],
             [
              0.2222222222222222,
              "#7201a8"
             ],
             [
              0.3333333333333333,
              "#9c179e"
             ],
             [
              0.4444444444444444,
              "#bd3786"
             ],
             [
              0.5555555555555556,
              "#d8576b"
             ],
             [
              0.6666666666666666,
              "#ed7953"
             ],
             [
              0.7777777777777778,
              "#fb9f3a"
             ],
             [
              0.8888888888888888,
              "#fdca26"
             ],
             [
              1,
              "#f0f921"
             ]
            ],
            "type": "surface"
           }
          ],
          "table": [
           {
            "cells": {
             "fill": {
              "color": "#EBF0F8"
             },
             "line": {
              "color": "white"
             }
            },
            "header": {
             "fill": {
              "color": "#C8D4E3"
             },
             "line": {
              "color": "white"
             }
            },
            "type": "table"
           }
          ]
         },
         "layout": {
          "annotationdefaults": {
           "arrowcolor": "#2a3f5f",
           "arrowhead": 0,
           "arrowwidth": 1
          },
          "autotypenumbers": "strict",
          "coloraxis": {
           "colorbar": {
            "outlinewidth": 0,
            "ticks": ""
           }
          },
          "colorscale": {
           "diverging": [
            [
             0,
             "#8e0152"
            ],
            [
             0.1,
             "#c51b7d"
            ],
            [
             0.2,
             "#de77ae"
            ],
            [
             0.3,
             "#f1b6da"
            ],
            [
             0.4,
             "#fde0ef"
            ],
            [
             0.5,
             "#f7f7f7"
            ],
            [
             0.6,
             "#e6f5d0"
            ],
            [
             0.7,
             "#b8e186"
            ],
            [
             0.8,
             "#7fbc41"
            ],
            [
             0.9,
             "#4d9221"
            ],
            [
             1,
             "#276419"
            ]
           ],
           "sequential": [
            [
             0,
             "#0d0887"
            ],
            [
             0.1111111111111111,
             "#46039f"
            ],
            [
             0.2222222222222222,
             "#7201a8"
            ],
            [
             0.3333333333333333,
             "#9c179e"
            ],
            [
             0.4444444444444444,
             "#bd3786"
            ],
            [
             0.5555555555555556,
             "#d8576b"
            ],
            [
             0.6666666666666666,
             "#ed7953"
            ],
            [
             0.7777777777777778,
             "#fb9f3a"
            ],
            [
             0.8888888888888888,
             "#fdca26"
            ],
            [
             1,
             "#f0f921"
            ]
           ],
           "sequentialminus": [
            [
             0,
             "#0d0887"
            ],
            [
             0.1111111111111111,
             "#46039f"
            ],
            [
             0.2222222222222222,
             "#7201a8"
            ],
            [
             0.3333333333333333,
             "#9c179e"
            ],
            [
             0.4444444444444444,
             "#bd3786"
            ],
            [
             0.5555555555555556,
             "#d8576b"
            ],
            [
             0.6666666666666666,
             "#ed7953"
            ],
            [
             0.7777777777777778,
             "#fb9f3a"
            ],
            [
             0.8888888888888888,
             "#fdca26"
            ],
            [
             1,
             "#f0f921"
            ]
           ]
          },
          "colorway": [
           "#636efa",
           "#EF553B",
           "#00cc96",
           "#ab63fa",
           "#FFA15A",
           "#19d3f3",
           "#FF6692",
           "#B6E880",
           "#FF97FF",
           "#FECB52"
          ],
          "font": {
           "color": "#2a3f5f"
          },
          "geo": {
           "bgcolor": "white",
           "lakecolor": "white",
           "landcolor": "#E5ECF6",
           "showlakes": true,
           "showland": true,
           "subunitcolor": "white"
          },
          "hoverlabel": {
           "align": "left"
          },
          "hovermode": "closest",
          "mapbox": {
           "style": "light"
          },
          "paper_bgcolor": "white",
          "plot_bgcolor": "#E5ECF6",
          "polar": {
           "angularaxis": {
            "gridcolor": "white",
            "linecolor": "white",
            "ticks": ""
           },
           "bgcolor": "#E5ECF6",
           "radialaxis": {
            "gridcolor": "white",
            "linecolor": "white",
            "ticks": ""
           }
          },
          "scene": {
           "xaxis": {
            "backgroundcolor": "#E5ECF6",
            "gridcolor": "white",
            "gridwidth": 2,
            "linecolor": "white",
            "showbackground": true,
            "ticks": "",
            "zerolinecolor": "white"
           },
           "yaxis": {
            "backgroundcolor": "#E5ECF6",
            "gridcolor": "white",
            "gridwidth": 2,
            "linecolor": "white",
            "showbackground": true,
            "ticks": "",
            "zerolinecolor": "white"
           },
           "zaxis": {
            "backgroundcolor": "#E5ECF6",
            "gridcolor": "white",
            "gridwidth": 2,
            "linecolor": "white",
            "showbackground": true,
            "ticks": "",
            "zerolinecolor": "white"
           }
          },
          "shapedefaults": {
           "line": {
            "color": "#2a3f5f"
           }
          },
          "ternary": {
           "aaxis": {
            "gridcolor": "white",
            "linecolor": "white",
            "ticks": ""
           },
           "baxis": {
            "gridcolor": "white",
            "linecolor": "white",
            "ticks": ""
           },
           "bgcolor": "#E5ECF6",
           "caxis": {
            "gridcolor": "white",
            "linecolor": "white",
            "ticks": ""
           }
          },
          "title": {
           "x": 0.05
          },
          "xaxis": {
           "automargin": true,
           "gridcolor": "white",
           "linecolor": "white",
           "ticks": "",
           "title": {
            "standoff": 15
           },
           "zerolinecolor": "white",
           "zerolinewidth": 2
          },
          "yaxis": {
           "automargin": true,
           "gridcolor": "white",
           "linecolor": "white",
           "ticks": "",
           "title": {
            "standoff": 15
           },
           "zerolinecolor": "white",
           "zerolinewidth": 2
          }
         }
        },
        "title": {
         "text": "Payment"
        },
        "xaxis": {
         "anchor": "y",
         "domain": [
          0,
          1
         ],
         "title": {
          "text": "Gender"
         }
        },
        "yaxis": {
         "anchor": "x",
         "domain": [
          0,
          1
         ],
         "title": {
          "text": "gross income"
         }
        }
       }
      }
     },
     "metadata": {},
     "output_type": "display_data"
    }
   ],
   "source": [
    "px.bar(data_frame=genderdf,x='Gender',y='gross income',barmode='group',color='Payment',text_auto=True,title=\"Payment\")"
   ]
  },
  {
   "cell_type": "code",
   "execution_count": 54,
   "id": "70aece5c",
   "metadata": {},
   "outputs": [
    {
     "data": {
      "application/vnd.microsoft.datawrangler.viewer.v0+json": {
       "columns": [
        {
         "name": "index",
         "rawType": "int64",
         "type": "integer"
        },
        {
         "name": "Month_Name",
         "rawType": "object",
         "type": "string"
        },
        {
         "name": "Month",
         "rawType": "int64",
         "type": "integer"
        },
        {
         "name": "gross income",
         "rawType": "float64",
         "type": "float"
        }
       ],
       "conversionMethod": "pd.DataFrame",
       "ref": "75079087-eb6b-4621-9f68-806713f924d6",
       "rows": [
        [
         "1",
         "January",
         "1",
         "5531.63"
        ],
        [
         "0",
         "February",
         "2",
         "4623.43"
        ],
        [
         "2",
         "March",
         "3",
         "5210.7"
        ]
       ],
       "shape": {
        "columns": 3,
        "rows": 3
       }
      },
      "text/html": [
       "<div>\n",
       "<style scoped>\n",
       "    .dataframe tbody tr th:only-of-type {\n",
       "        vertical-align: middle;\n",
       "    }\n",
       "\n",
       "    .dataframe tbody tr th {\n",
       "        vertical-align: top;\n",
       "    }\n",
       "\n",
       "    .dataframe thead th {\n",
       "        text-align: right;\n",
       "    }\n",
       "</style>\n",
       "<table border=\"1\" class=\"dataframe\">\n",
       "  <thead>\n",
       "    <tr style=\"text-align: right;\">\n",
       "      <th></th>\n",
       "      <th>Month_Name</th>\n",
       "      <th>Month</th>\n",
       "      <th>gross income</th>\n",
       "    </tr>\n",
       "  </thead>\n",
       "  <tbody>\n",
       "    <tr>\n",
       "      <th>1</th>\n",
       "      <td>January</td>\n",
       "      <td>1</td>\n",
       "      <td>5531.63</td>\n",
       "    </tr>\n",
       "    <tr>\n",
       "      <th>0</th>\n",
       "      <td>February</td>\n",
       "      <td>2</td>\n",
       "      <td>4623.43</td>\n",
       "    </tr>\n",
       "    <tr>\n",
       "      <th>2</th>\n",
       "      <td>March</td>\n",
       "      <td>3</td>\n",
       "      <td>5210.70</td>\n",
       "    </tr>\n",
       "  </tbody>\n",
       "</table>\n",
       "</div>"
      ],
      "text/plain": [
       "  Month_Name  Month  gross income\n",
       "1    January      1       5531.63\n",
       "0   February      2       4623.43\n",
       "2      March      3       5210.70"
      ]
     },
     "execution_count": 54,
     "metadata": {},
     "output_type": "execute_result"
    }
   ],
   "source": [
    "gross_month=df.groupby(['Month_Name','Month'])['gross income'].sum().reset_index().round(2).sort_values(by='Month')\n",
    "gross_month"
   ]
  },
  {
   "cell_type": "markdown",
   "id": "1c4559fb",
   "metadata": {},
   "source": [
    "### Monthly gross income"
   ]
  },
  {
   "cell_type": "code",
   "execution_count": 55,
   "id": "f095f7ce",
   "metadata": {},
   "outputs": [
    {
     "data": {
      "application/vnd.plotly.v1+json": {
       "config": {
        "plotlyServerURL": "https://plot.ly"
       },
       "data": [
        {
         "hovertemplate": "Month_Name=%{x}<br>gross income=%{y}<extra></extra>",
         "legendgroup": "",
         "line": {
          "color": "#636efa",
          "dash": "solid"
         },
         "marker": {
          "symbol": "circle"
         },
         "mode": "lines",
         "name": "",
         "orientation": "v",
         "showlegend": false,
         "type": "scatter",
         "x": [
          "January",
          "February",
          "March"
         ],
         "xaxis": "x",
         "y": {
          "bdata": "exSuR6GbtUBI4XoUbg+yQDMzMzOzWrRA",
          "dtype": "f8"
         },
         "yaxis": "y"
        }
       ],
       "layout": {
        "legend": {
         "tracegroupgap": 0
        },
        "template": {
         "data": {
          "bar": [
           {
            "error_x": {
             "color": "#2a3f5f"
            },
            "error_y": {
             "color": "#2a3f5f"
            },
            "marker": {
             "line": {
              "color": "#E5ECF6",
              "width": 0.5
             },
             "pattern": {
              "fillmode": "overlay",
              "size": 10,
              "solidity": 0.2
             }
            },
            "type": "bar"
           }
          ],
          "barpolar": [
           {
            "marker": {
             "line": {
              "color": "#E5ECF6",
              "width": 0.5
             },
             "pattern": {
              "fillmode": "overlay",
              "size": 10,
              "solidity": 0.2
             }
            },
            "type": "barpolar"
           }
          ],
          "carpet": [
           {
            "aaxis": {
             "endlinecolor": "#2a3f5f",
             "gridcolor": "white",
             "linecolor": "white",
             "minorgridcolor": "white",
             "startlinecolor": "#2a3f5f"
            },
            "baxis": {
             "endlinecolor": "#2a3f5f",
             "gridcolor": "white",
             "linecolor": "white",
             "minorgridcolor": "white",
             "startlinecolor": "#2a3f5f"
            },
            "type": "carpet"
           }
          ],
          "choropleth": [
           {
            "colorbar": {
             "outlinewidth": 0,
             "ticks": ""
            },
            "type": "choropleth"
           }
          ],
          "contour": [
           {
            "colorbar": {
             "outlinewidth": 0,
             "ticks": ""
            },
            "colorscale": [
             [
              0,
              "#0d0887"
             ],
             [
              0.1111111111111111,
              "#46039f"
             ],
             [
              0.2222222222222222,
              "#7201a8"
             ],
             [
              0.3333333333333333,
              "#9c179e"
             ],
             [
              0.4444444444444444,
              "#bd3786"
             ],
             [
              0.5555555555555556,
              "#d8576b"
             ],
             [
              0.6666666666666666,
              "#ed7953"
             ],
             [
              0.7777777777777778,
              "#fb9f3a"
             ],
             [
              0.8888888888888888,
              "#fdca26"
             ],
             [
              1,
              "#f0f921"
             ]
            ],
            "type": "contour"
           }
          ],
          "contourcarpet": [
           {
            "colorbar": {
             "outlinewidth": 0,
             "ticks": ""
            },
            "type": "contourcarpet"
           }
          ],
          "heatmap": [
           {
            "colorbar": {
             "outlinewidth": 0,
             "ticks": ""
            },
            "colorscale": [
             [
              0,
              "#0d0887"
             ],
             [
              0.1111111111111111,
              "#46039f"
             ],
             [
              0.2222222222222222,
              "#7201a8"
             ],
             [
              0.3333333333333333,
              "#9c179e"
             ],
             [
              0.4444444444444444,
              "#bd3786"
             ],
             [
              0.5555555555555556,
              "#d8576b"
             ],
             [
              0.6666666666666666,
              "#ed7953"
             ],
             [
              0.7777777777777778,
              "#fb9f3a"
             ],
             [
              0.8888888888888888,
              "#fdca26"
             ],
             [
              1,
              "#f0f921"
             ]
            ],
            "type": "heatmap"
           }
          ],
          "histogram": [
           {
            "marker": {
             "pattern": {
              "fillmode": "overlay",
              "size": 10,
              "solidity": 0.2
             }
            },
            "type": "histogram"
           }
          ],
          "histogram2d": [
           {
            "colorbar": {
             "outlinewidth": 0,
             "ticks": ""
            },
            "colorscale": [
             [
              0,
              "#0d0887"
             ],
             [
              0.1111111111111111,
              "#46039f"
             ],
             [
              0.2222222222222222,
              "#7201a8"
             ],
             [
              0.3333333333333333,
              "#9c179e"
             ],
             [
              0.4444444444444444,
              "#bd3786"
             ],
             [
              0.5555555555555556,
              "#d8576b"
             ],
             [
              0.6666666666666666,
              "#ed7953"
             ],
             [
              0.7777777777777778,
              "#fb9f3a"
             ],
             [
              0.8888888888888888,
              "#fdca26"
             ],
             [
              1,
              "#f0f921"
             ]
            ],
            "type": "histogram2d"
           }
          ],
          "histogram2dcontour": [
           {
            "colorbar": {
             "outlinewidth": 0,
             "ticks": ""
            },
            "colorscale": [
             [
              0,
              "#0d0887"
             ],
             [
              0.1111111111111111,
              "#46039f"
             ],
             [
              0.2222222222222222,
              "#7201a8"
             ],
             [
              0.3333333333333333,
              "#9c179e"
             ],
             [
              0.4444444444444444,
              "#bd3786"
             ],
             [
              0.5555555555555556,
              "#d8576b"
             ],
             [
              0.6666666666666666,
              "#ed7953"
             ],
             [
              0.7777777777777778,
              "#fb9f3a"
             ],
             [
              0.8888888888888888,
              "#fdca26"
             ],
             [
              1,
              "#f0f921"
             ]
            ],
            "type": "histogram2dcontour"
           }
          ],
          "mesh3d": [
           {
            "colorbar": {
             "outlinewidth": 0,
             "ticks": ""
            },
            "type": "mesh3d"
           }
          ],
          "parcoords": [
           {
            "line": {
             "colorbar": {
              "outlinewidth": 0,
              "ticks": ""
             }
            },
            "type": "parcoords"
           }
          ],
          "pie": [
           {
            "automargin": true,
            "type": "pie"
           }
          ],
          "scatter": [
           {
            "fillpattern": {
             "fillmode": "overlay",
             "size": 10,
             "solidity": 0.2
            },
            "type": "scatter"
           }
          ],
          "scatter3d": [
           {
            "line": {
             "colorbar": {
              "outlinewidth": 0,
              "ticks": ""
             }
            },
            "marker": {
             "colorbar": {
              "outlinewidth": 0,
              "ticks": ""
             }
            },
            "type": "scatter3d"
           }
          ],
          "scattercarpet": [
           {
            "marker": {
             "colorbar": {
              "outlinewidth": 0,
              "ticks": ""
             }
            },
            "type": "scattercarpet"
           }
          ],
          "scattergeo": [
           {
            "marker": {
             "colorbar": {
              "outlinewidth": 0,
              "ticks": ""
             }
            },
            "type": "scattergeo"
           }
          ],
          "scattergl": [
           {
            "marker": {
             "colorbar": {
              "outlinewidth": 0,
              "ticks": ""
             }
            },
            "type": "scattergl"
           }
          ],
          "scattermap": [
           {
            "marker": {
             "colorbar": {
              "outlinewidth": 0,
              "ticks": ""
             }
            },
            "type": "scattermap"
           }
          ],
          "scattermapbox": [
           {
            "marker": {
             "colorbar": {
              "outlinewidth": 0,
              "ticks": ""
             }
            },
            "type": "scattermapbox"
           }
          ],
          "scatterpolar": [
           {
            "marker": {
             "colorbar": {
              "outlinewidth": 0,
              "ticks": ""
             }
            },
            "type": "scatterpolar"
           }
          ],
          "scatterpolargl": [
           {
            "marker": {
             "colorbar": {
              "outlinewidth": 0,
              "ticks": ""
             }
            },
            "type": "scatterpolargl"
           }
          ],
          "scatterternary": [
           {
            "marker": {
             "colorbar": {
              "outlinewidth": 0,
              "ticks": ""
             }
            },
            "type": "scatterternary"
           }
          ],
          "surface": [
           {
            "colorbar": {
             "outlinewidth": 0,
             "ticks": ""
            },
            "colorscale": [
             [
              0,
              "#0d0887"
             ],
             [
              0.1111111111111111,
              "#46039f"
             ],
             [
              0.2222222222222222,
              "#7201a8"
             ],
             [
              0.3333333333333333,
              "#9c179e"
             ],
             [
              0.4444444444444444,
              "#bd3786"
             ],
             [
              0.5555555555555556,
              "#d8576b"
             ],
             [
              0.6666666666666666,
              "#ed7953"
             ],
             [
              0.7777777777777778,
              "#fb9f3a"
             ],
             [
              0.8888888888888888,
              "#fdca26"
             ],
             [
              1,
              "#f0f921"
             ]
            ],
            "type": "surface"
           }
          ],
          "table": [
           {
            "cells": {
             "fill": {
              "color": "#EBF0F8"
             },
             "line": {
              "color": "white"
             }
            },
            "header": {
             "fill": {
              "color": "#C8D4E3"
             },
             "line": {
              "color": "white"
             }
            },
            "type": "table"
           }
          ]
         },
         "layout": {
          "annotationdefaults": {
           "arrowcolor": "#2a3f5f",
           "arrowhead": 0,
           "arrowwidth": 1
          },
          "autotypenumbers": "strict",
          "coloraxis": {
           "colorbar": {
            "outlinewidth": 0,
            "ticks": ""
           }
          },
          "colorscale": {
           "diverging": [
            [
             0,
             "#8e0152"
            ],
            [
             0.1,
             "#c51b7d"
            ],
            [
             0.2,
             "#de77ae"
            ],
            [
             0.3,
             "#f1b6da"
            ],
            [
             0.4,
             "#fde0ef"
            ],
            [
             0.5,
             "#f7f7f7"
            ],
            [
             0.6,
             "#e6f5d0"
            ],
            [
             0.7,
             "#b8e186"
            ],
            [
             0.8,
             "#7fbc41"
            ],
            [
             0.9,
             "#4d9221"
            ],
            [
             1,
             "#276419"
            ]
           ],
           "sequential": [
            [
             0,
             "#0d0887"
            ],
            [
             0.1111111111111111,
             "#46039f"
            ],
            [
             0.2222222222222222,
             "#7201a8"
            ],
            [
             0.3333333333333333,
             "#9c179e"
            ],
            [
             0.4444444444444444,
             "#bd3786"
            ],
            [
             0.5555555555555556,
             "#d8576b"
            ],
            [
             0.6666666666666666,
             "#ed7953"
            ],
            [
             0.7777777777777778,
             "#fb9f3a"
            ],
            [
             0.8888888888888888,
             "#fdca26"
            ],
            [
             1,
             "#f0f921"
            ]
           ],
           "sequentialminus": [
            [
             0,
             "#0d0887"
            ],
            [
             0.1111111111111111,
             "#46039f"
            ],
            [
             0.2222222222222222,
             "#7201a8"
            ],
            [
             0.3333333333333333,
             "#9c179e"
            ],
            [
             0.4444444444444444,
             "#bd3786"
            ],
            [
             0.5555555555555556,
             "#d8576b"
            ],
            [
             0.6666666666666666,
             "#ed7953"
            ],
            [
             0.7777777777777778,
             "#fb9f3a"
            ],
            [
             0.8888888888888888,
             "#fdca26"
            ],
            [
             1,
             "#f0f921"
            ]
           ]
          },
          "colorway": [
           "#636efa",
           "#EF553B",
           "#00cc96",
           "#ab63fa",
           "#FFA15A",
           "#19d3f3",
           "#FF6692",
           "#B6E880",
           "#FF97FF",
           "#FECB52"
          ],
          "font": {
           "color": "#2a3f5f"
          },
          "geo": {
           "bgcolor": "white",
           "lakecolor": "white",
           "landcolor": "#E5ECF6",
           "showlakes": true,
           "showland": true,
           "subunitcolor": "white"
          },
          "hoverlabel": {
           "align": "left"
          },
          "hovermode": "closest",
          "mapbox": {
           "style": "light"
          },
          "paper_bgcolor": "white",
          "plot_bgcolor": "#E5ECF6",
          "polar": {
           "angularaxis": {
            "gridcolor": "white",
            "linecolor": "white",
            "ticks": ""
           },
           "bgcolor": "#E5ECF6",
           "radialaxis": {
            "gridcolor": "white",
            "linecolor": "white",
            "ticks": ""
           }
          },
          "scene": {
           "xaxis": {
            "backgroundcolor": "#E5ECF6",
            "gridcolor": "white",
            "gridwidth": 2,
            "linecolor": "white",
            "showbackground": true,
            "ticks": "",
            "zerolinecolor": "white"
           },
           "yaxis": {
            "backgroundcolor": "#E5ECF6",
            "gridcolor": "white",
            "gridwidth": 2,
            "linecolor": "white",
            "showbackground": true,
            "ticks": "",
            "zerolinecolor": "white"
           },
           "zaxis": {
            "backgroundcolor": "#E5ECF6",
            "gridcolor": "white",
            "gridwidth": 2,
            "linecolor": "white",
            "showbackground": true,
            "ticks": "",
            "zerolinecolor": "white"
           }
          },
          "shapedefaults": {
           "line": {
            "color": "#2a3f5f"
           }
          },
          "ternary": {
           "aaxis": {
            "gridcolor": "white",
            "linecolor": "white",
            "ticks": ""
           },
           "baxis": {
            "gridcolor": "white",
            "linecolor": "white",
            "ticks": ""
           },
           "bgcolor": "#E5ECF6",
           "caxis": {
            "gridcolor": "white",
            "linecolor": "white",
            "ticks": ""
           }
          },
          "title": {
           "x": 0.05
          },
          "xaxis": {
           "automargin": true,
           "gridcolor": "white",
           "linecolor": "white",
           "ticks": "",
           "title": {
            "standoff": 15
           },
           "zerolinecolor": "white",
           "zerolinewidth": 2
          },
          "yaxis": {
           "automargin": true,
           "gridcolor": "white",
           "linecolor": "white",
           "ticks": "",
           "title": {
            "standoff": 15
           },
           "zerolinecolor": "white",
           "zerolinewidth": 2
          }
         }
        },
        "title": {
         "text": "Gross Per Month"
        },
        "xaxis": {
         "anchor": "y",
         "domain": [
          0,
          1
         ],
         "title": {
          "text": "Month_Name"
         }
        },
        "yaxis": {
         "anchor": "x",
         "domain": [
          0,
          1
         ],
         "title": {
          "text": "gross income"
         }
        }
       }
      }
     },
     "metadata": {},
     "output_type": "display_data"
    }
   ],
   "source": [
    "px.line(data_frame=gross_month,x='Month_Name',y='gross income',title=\"Gross Per Month\")"
   ]
  },
  {
   "cell_type": "markdown",
   "id": "69c2358a",
   "metadata": {},
   "source": [
    "### Gross income each month per city"
   ]
  },
  {
   "cell_type": "code",
   "execution_count": 56,
   "id": "83952aac",
   "metadata": {},
   "outputs": [
    {
     "data": {
      "application/vnd.plotly.v1+json": {
       "config": {
        "plotlyServerURL": "https://plot.ly"
       },
       "data": [
        {
         "alignmentgroup": "True",
         "hovertemplate": "City=Mandalay<br>Month_Name=%{x}<br>gross income=%{y}<extra></extra>",
         "legendgroup": "Mandalay",
         "marker": {
          "color": "#636efa",
          "pattern": {
           "shape": ""
          }
         },
         "name": "Mandalay",
         "offsetgroup": "Mandalay",
         "orientation": "v",
         "showlegend": true,
         "textposition": "auto",
         "type": "bar",
         "x": [
          "January",
          "February",
          "March"
         ],
         "xaxis": "x",
         "y": {
          "bdata": "uB6F61Gjm0AAAAAAAJ2ZQIXrUbgeuJlA",
          "dtype": "f8"
         },
         "yaxis": "y"
        },
        {
         "alignmentgroup": "True",
         "hovertemplate": "City=Naypyitaw<br>Month_Name=%{x}<br>gross income=%{y}<extra></extra>",
         "legendgroup": "Naypyitaw",
         "marker": {
          "color": "#EF553B",
          "pattern": {
           "shape": ""
          }
         },
         "name": "Naypyitaw",
         "offsetgroup": "Naypyitaw",
         "orientation": "v",
         "showlegend": true,
         "textposition": "auto",
         "type": "bar",
         "x": [
          "January",
          "February",
          "March"
         ],
         "xaxis": "x2",
         "y": {
          "bdata": "j8L1KFwDnkCF61G4HnKYQOxRuB6FrZtA",
          "dtype": "f8"
         },
         "yaxis": "y2"
        },
        {
         "alignmentgroup": "True",
         "hovertemplate": "City=Yangon<br>Month_Name=%{x}<br>gross income=%{y}<extra></extra>",
         "legendgroup": "Yangon",
         "marker": {
          "color": "#00cc96",
          "pattern": {
           "shape": ""
          }
         },
         "name": "Yangon",
         "offsetgroup": "Yangon",
         "orientation": "v",
         "showlegend": true,
         "textposition": "auto",
         "type": "bar",
         "x": [
          "January",
          "February",
          "March"
         ],
         "xaxis": "x3",
         "y": {
          "bdata": "pHA9CtfHnECamZmZmS6WQFyPwvUoBZxA",
          "dtype": "f8"
         },
         "yaxis": "y3"
        }
       ],
       "layout": {
        "annotations": [
         {
          "font": {},
          "showarrow": false,
          "text": "City=Mandalay",
          "x": 0.15999999999999998,
          "xanchor": "center",
          "xref": "paper",
          "y": 1,
          "yanchor": "bottom",
          "yref": "paper"
         },
         {
          "font": {},
          "showarrow": false,
          "text": "City=Naypyitaw",
          "x": 0.49999999999999994,
          "xanchor": "center",
          "xref": "paper",
          "y": 1,
          "yanchor": "bottom",
          "yref": "paper"
         },
         {
          "font": {},
          "showarrow": false,
          "text": "City=Yangon",
          "x": 0.8399999999999999,
          "xanchor": "center",
          "xref": "paper",
          "y": 1,
          "yanchor": "bottom",
          "yref": "paper"
         }
        ],
        "barmode": "group",
        "legend": {
         "title": {
          "text": "City"
         },
         "tracegroupgap": 0
        },
        "margin": {
         "t": 60
        },
        "template": {
         "data": {
          "bar": [
           {
            "error_x": {
             "color": "#2a3f5f"
            },
            "error_y": {
             "color": "#2a3f5f"
            },
            "marker": {
             "line": {
              "color": "#E5ECF6",
              "width": 0.5
             },
             "pattern": {
              "fillmode": "overlay",
              "size": 10,
              "solidity": 0.2
             }
            },
            "type": "bar"
           }
          ],
          "barpolar": [
           {
            "marker": {
             "line": {
              "color": "#E5ECF6",
              "width": 0.5
             },
             "pattern": {
              "fillmode": "overlay",
              "size": 10,
              "solidity": 0.2
             }
            },
            "type": "barpolar"
           }
          ],
          "carpet": [
           {
            "aaxis": {
             "endlinecolor": "#2a3f5f",
             "gridcolor": "white",
             "linecolor": "white",
             "minorgridcolor": "white",
             "startlinecolor": "#2a3f5f"
            },
            "baxis": {
             "endlinecolor": "#2a3f5f",
             "gridcolor": "white",
             "linecolor": "white",
             "minorgridcolor": "white",
             "startlinecolor": "#2a3f5f"
            },
            "type": "carpet"
           }
          ],
          "choropleth": [
           {
            "colorbar": {
             "outlinewidth": 0,
             "ticks": ""
            },
            "type": "choropleth"
           }
          ],
          "contour": [
           {
            "colorbar": {
             "outlinewidth": 0,
             "ticks": ""
            },
            "colorscale": [
             [
              0,
              "#0d0887"
             ],
             [
              0.1111111111111111,
              "#46039f"
             ],
             [
              0.2222222222222222,
              "#7201a8"
             ],
             [
              0.3333333333333333,
              "#9c179e"
             ],
             [
              0.4444444444444444,
              "#bd3786"
             ],
             [
              0.5555555555555556,
              "#d8576b"
             ],
             [
              0.6666666666666666,
              "#ed7953"
             ],
             [
              0.7777777777777778,
              "#fb9f3a"
             ],
             [
              0.8888888888888888,
              "#fdca26"
             ],
             [
              1,
              "#f0f921"
             ]
            ],
            "type": "contour"
           }
          ],
          "contourcarpet": [
           {
            "colorbar": {
             "outlinewidth": 0,
             "ticks": ""
            },
            "type": "contourcarpet"
           }
          ],
          "heatmap": [
           {
            "colorbar": {
             "outlinewidth": 0,
             "ticks": ""
            },
            "colorscale": [
             [
              0,
              "#0d0887"
             ],
             [
              0.1111111111111111,
              "#46039f"
             ],
             [
              0.2222222222222222,
              "#7201a8"
             ],
             [
              0.3333333333333333,
              "#9c179e"
             ],
             [
              0.4444444444444444,
              "#bd3786"
             ],
             [
              0.5555555555555556,
              "#d8576b"
             ],
             [
              0.6666666666666666,
              "#ed7953"
             ],
             [
              0.7777777777777778,
              "#fb9f3a"
             ],
             [
              0.8888888888888888,
              "#fdca26"
             ],
             [
              1,
              "#f0f921"
             ]
            ],
            "type": "heatmap"
           }
          ],
          "histogram": [
           {
            "marker": {
             "pattern": {
              "fillmode": "overlay",
              "size": 10,
              "solidity": 0.2
             }
            },
            "type": "histogram"
           }
          ],
          "histogram2d": [
           {
            "colorbar": {
             "outlinewidth": 0,
             "ticks": ""
            },
            "colorscale": [
             [
              0,
              "#0d0887"
             ],
             [
              0.1111111111111111,
              "#46039f"
             ],
             [
              0.2222222222222222,
              "#7201a8"
             ],
             [
              0.3333333333333333,
              "#9c179e"
             ],
             [
              0.4444444444444444,
              "#bd3786"
             ],
             [
              0.5555555555555556,
              "#d8576b"
             ],
             [
              0.6666666666666666,
              "#ed7953"
             ],
             [
              0.7777777777777778,
              "#fb9f3a"
             ],
             [
              0.8888888888888888,
              "#fdca26"
             ],
             [
              1,
              "#f0f921"
             ]
            ],
            "type": "histogram2d"
           }
          ],
          "histogram2dcontour": [
           {
            "colorbar": {
             "outlinewidth": 0,
             "ticks": ""
            },
            "colorscale": [
             [
              0,
              "#0d0887"
             ],
             [
              0.1111111111111111,
              "#46039f"
             ],
             [
              0.2222222222222222,
              "#7201a8"
             ],
             [
              0.3333333333333333,
              "#9c179e"
             ],
             [
              0.4444444444444444,
              "#bd3786"
             ],
             [
              0.5555555555555556,
              "#d8576b"
             ],
             [
              0.6666666666666666,
              "#ed7953"
             ],
             [
              0.7777777777777778,
              "#fb9f3a"
             ],
             [
              0.8888888888888888,
              "#fdca26"
             ],
             [
              1,
              "#f0f921"
             ]
            ],
            "type": "histogram2dcontour"
           }
          ],
          "mesh3d": [
           {
            "colorbar": {
             "outlinewidth": 0,
             "ticks": ""
            },
            "type": "mesh3d"
           }
          ],
          "parcoords": [
           {
            "line": {
             "colorbar": {
              "outlinewidth": 0,
              "ticks": ""
             }
            },
            "type": "parcoords"
           }
          ],
          "pie": [
           {
            "automargin": true,
            "type": "pie"
           }
          ],
          "scatter": [
           {
            "fillpattern": {
             "fillmode": "overlay",
             "size": 10,
             "solidity": 0.2
            },
            "type": "scatter"
           }
          ],
          "scatter3d": [
           {
            "line": {
             "colorbar": {
              "outlinewidth": 0,
              "ticks": ""
             }
            },
            "marker": {
             "colorbar": {
              "outlinewidth": 0,
              "ticks": ""
             }
            },
            "type": "scatter3d"
           }
          ],
          "scattercarpet": [
           {
            "marker": {
             "colorbar": {
              "outlinewidth": 0,
              "ticks": ""
             }
            },
            "type": "scattercarpet"
           }
          ],
          "scattergeo": [
           {
            "marker": {
             "colorbar": {
              "outlinewidth": 0,
              "ticks": ""
             }
            },
            "type": "scattergeo"
           }
          ],
          "scattergl": [
           {
            "marker": {
             "colorbar": {
              "outlinewidth": 0,
              "ticks": ""
             }
            },
            "type": "scattergl"
           }
          ],
          "scattermap": [
           {
            "marker": {
             "colorbar": {
              "outlinewidth": 0,
              "ticks": ""
             }
            },
            "type": "scattermap"
           }
          ],
          "scattermapbox": [
           {
            "marker": {
             "colorbar": {
              "outlinewidth": 0,
              "ticks": ""
             }
            },
            "type": "scattermapbox"
           }
          ],
          "scatterpolar": [
           {
            "marker": {
             "colorbar": {
              "outlinewidth": 0,
              "ticks": ""
             }
            },
            "type": "scatterpolar"
           }
          ],
          "scatterpolargl": [
           {
            "marker": {
             "colorbar": {
              "outlinewidth": 0,
              "ticks": ""
             }
            },
            "type": "scatterpolargl"
           }
          ],
          "scatterternary": [
           {
            "marker": {
             "colorbar": {
              "outlinewidth": 0,
              "ticks": ""
             }
            },
            "type": "scatterternary"
           }
          ],
          "surface": [
           {
            "colorbar": {
             "outlinewidth": 0,
             "ticks": ""
            },
            "colorscale": [
             [
              0,
              "#0d0887"
             ],
             [
              0.1111111111111111,
              "#46039f"
             ],
             [
              0.2222222222222222,
              "#7201a8"
             ],
             [
              0.3333333333333333,
              "#9c179e"
             ],
             [
              0.4444444444444444,
              "#bd3786"
             ],
             [
              0.5555555555555556,
              "#d8576b"
             ],
             [
              0.6666666666666666,
              "#ed7953"
             ],
             [
              0.7777777777777778,
              "#fb9f3a"
             ],
             [
              0.8888888888888888,
              "#fdca26"
             ],
             [
              1,
              "#f0f921"
             ]
            ],
            "type": "surface"
           }
          ],
          "table": [
           {
            "cells": {
             "fill": {
              "color": "#EBF0F8"
             },
             "line": {
              "color": "white"
             }
            },
            "header": {
             "fill": {
              "color": "#C8D4E3"
             },
             "line": {
              "color": "white"
             }
            },
            "type": "table"
           }
          ]
         },
         "layout": {
          "annotationdefaults": {
           "arrowcolor": "#2a3f5f",
           "arrowhead": 0,
           "arrowwidth": 1
          },
          "autotypenumbers": "strict",
          "coloraxis": {
           "colorbar": {
            "outlinewidth": 0,
            "ticks": ""
           }
          },
          "colorscale": {
           "diverging": [
            [
             0,
             "#8e0152"
            ],
            [
             0.1,
             "#c51b7d"
            ],
            [
             0.2,
             "#de77ae"
            ],
            [
             0.3,
             "#f1b6da"
            ],
            [
             0.4,
             "#fde0ef"
            ],
            [
             0.5,
             "#f7f7f7"
            ],
            [
             0.6,
             "#e6f5d0"
            ],
            [
             0.7,
             "#b8e186"
            ],
            [
             0.8,
             "#7fbc41"
            ],
            [
             0.9,
             "#4d9221"
            ],
            [
             1,
             "#276419"
            ]
           ],
           "sequential": [
            [
             0,
             "#0d0887"
            ],
            [
             0.1111111111111111,
             "#46039f"
            ],
            [
             0.2222222222222222,
             "#7201a8"
            ],
            [
             0.3333333333333333,
             "#9c179e"
            ],
            [
             0.4444444444444444,
             "#bd3786"
            ],
            [
             0.5555555555555556,
             "#d8576b"
            ],
            [
             0.6666666666666666,
             "#ed7953"
            ],
            [
             0.7777777777777778,
             "#fb9f3a"
            ],
            [
             0.8888888888888888,
             "#fdca26"
            ],
            [
             1,
             "#f0f921"
            ]
           ],
           "sequentialminus": [
            [
             0,
             "#0d0887"
            ],
            [
             0.1111111111111111,
             "#46039f"
            ],
            [
             0.2222222222222222,
             "#7201a8"
            ],
            [
             0.3333333333333333,
             "#9c179e"
            ],
            [
             0.4444444444444444,
             "#bd3786"
            ],
            [
             0.5555555555555556,
             "#d8576b"
            ],
            [
             0.6666666666666666,
             "#ed7953"
            ],
            [
             0.7777777777777778,
             "#fb9f3a"
            ],
            [
             0.8888888888888888,
             "#fdca26"
            ],
            [
             1,
             "#f0f921"
            ]
           ]
          },
          "colorway": [
           "#636efa",
           "#EF553B",
           "#00cc96",
           "#ab63fa",
           "#FFA15A",
           "#19d3f3",
           "#FF6692",
           "#B6E880",
           "#FF97FF",
           "#FECB52"
          ],
          "font": {
           "color": "#2a3f5f"
          },
          "geo": {
           "bgcolor": "white",
           "lakecolor": "white",
           "landcolor": "#E5ECF6",
           "showlakes": true,
           "showland": true,
           "subunitcolor": "white"
          },
          "hoverlabel": {
           "align": "left"
          },
          "hovermode": "closest",
          "mapbox": {
           "style": "light"
          },
          "paper_bgcolor": "white",
          "plot_bgcolor": "#E5ECF6",
          "polar": {
           "angularaxis": {
            "gridcolor": "white",
            "linecolor": "white",
            "ticks": ""
           },
           "bgcolor": "#E5ECF6",
           "radialaxis": {
            "gridcolor": "white",
            "linecolor": "white",
            "ticks": ""
           }
          },
          "scene": {
           "xaxis": {
            "backgroundcolor": "#E5ECF6",
            "gridcolor": "white",
            "gridwidth": 2,
            "linecolor": "white",
            "showbackground": true,
            "ticks": "",
            "zerolinecolor": "white"
           },
           "yaxis": {
            "backgroundcolor": "#E5ECF6",
            "gridcolor": "white",
            "gridwidth": 2,
            "linecolor": "white",
            "showbackground": true,
            "ticks": "",
            "zerolinecolor": "white"
           },
           "zaxis": {
            "backgroundcolor": "#E5ECF6",
            "gridcolor": "white",
            "gridwidth": 2,
            "linecolor": "white",
            "showbackground": true,
            "ticks": "",
            "zerolinecolor": "white"
           }
          },
          "shapedefaults": {
           "line": {
            "color": "#2a3f5f"
           }
          },
          "ternary": {
           "aaxis": {
            "gridcolor": "white",
            "linecolor": "white",
            "ticks": ""
           },
           "baxis": {
            "gridcolor": "white",
            "linecolor": "white",
            "ticks": ""
           },
           "bgcolor": "#E5ECF6",
           "caxis": {
            "gridcolor": "white",
            "linecolor": "white",
            "ticks": ""
           }
          },
          "title": {
           "x": 0.05
          },
          "xaxis": {
           "automargin": true,
           "gridcolor": "white",
           "linecolor": "white",
           "ticks": "",
           "title": {
            "standoff": 15
           },
           "zerolinecolor": "white",
           "zerolinewidth": 2
          },
          "yaxis": {
           "automargin": true,
           "gridcolor": "white",
           "linecolor": "white",
           "ticks": "",
           "title": {
            "standoff": 15
           },
           "zerolinecolor": "white",
           "zerolinewidth": 2
          }
         }
        },
        "xaxis": {
         "anchor": "y",
         "domain": [
          0,
          0.31999999999999995
         ],
         "title": {
          "text": "Month_Name"
         }
        },
        "xaxis2": {
         "anchor": "y2",
         "domain": [
          0.33999999999999997,
          0.6599999999999999
         ],
         "matches": "x",
         "title": {
          "text": "Month_Name"
         }
        },
        "xaxis3": {
         "anchor": "y3",
         "domain": [
          0.6799999999999999,
          0.9999999999999999
         ],
         "matches": "x",
         "title": {
          "text": "Month_Name"
         }
        },
        "yaxis": {
         "anchor": "x",
         "domain": [
          0,
          1
         ],
         "title": {
          "text": "gross income"
         }
        },
        "yaxis2": {
         "anchor": "x2",
         "domain": [
          0,
          1
         ],
         "matches": "y",
         "showticklabels": false
        },
        "yaxis3": {
         "anchor": "x3",
         "domain": [
          0,
          1
         ],
         "matches": "y",
         "showticklabels": false
        }
       }
      }
     },
     "metadata": {},
     "output_type": "display_data"
    }
   ],
   "source": [
    "gross_city_month=df.groupby(['City','Month_Name','Month'])['gross income'].sum().reset_index().round(2).sort_values(by='Month')\n",
    "px.bar(data_frame=gross_city_month,x='Month_Name',y='gross income',color='City',barmode='group',facet_col='City')\n"
   ]
  },
  {
   "cell_type": "code",
   "execution_count": 58,
   "id": "252a990f",
   "metadata": {},
   "outputs": [],
   "source": [
    "import streamlit as st"
   ]
  },
  {
   "cell_type": "code",
   "execution_count": 59,
   "id": "759a782a",
   "metadata": {},
   "outputs": [
    {
     "data": {
      "application/vnd.microsoft.datawrangler.viewer.v0+json": {
       "columns": [
        {
         "name": "index",
         "rawType": "object",
         "type": "string"
        },
        {
         "name": "Unit price",
         "rawType": "float64",
         "type": "float"
        },
        {
         "name": "Quantity",
         "rawType": "float64",
         "type": "float"
        },
        {
         "name": "Tax 5%",
         "rawType": "float64",
         "type": "float"
        },
        {
         "name": "Total",
         "rawType": "float64",
         "type": "float"
        },
        {
         "name": "cogs",
         "rawType": "float64",
         "type": "float"
        },
        {
         "name": "gross income",
         "rawType": "float64",
         "type": "float"
        },
        {
         "name": "Rating",
         "rawType": "float64",
         "type": "float"
        },
        {
         "name": "day",
         "rawType": "float64",
         "type": "float"
        },
        {
         "name": "Revenue",
         "rawType": "float64",
         "type": "float"
        }
       ],
       "conversionMethod": "pd.DataFrame",
       "ref": "0546a50b-594e-424f-b46c-da083957f40b",
       "rows": [
        [
         "Unit price",
         "1.0",
         "0.010777564342497253",
         "0.6341695721876897",
         "0.634169572187689",
         "0.6341695721876893",
         "0.6341695721876897",
         "-0.008777507200778936",
         "0.05702089601259136",
         "0.633962088589068"
        ],
        [
         "Quantity",
         "0.010777564342497253",
         "1.0",
         "0.7060240069514988",
         "0.7060240069514989",
         "0.7060240069514991",
         "0.7060240069514988",
         "-0.015814904627167052",
         "-0.04334685867903851",
         "0.7055101859433045"
        ],
        [
         "Tax 5%",
         "0.6341695721876897",
         "0.7060240069514988",
         "1.0",
         "1.0000000000000002",
         "1.0000000000000007",
         "1.0",
         "-0.0362130961686183",
         "-0.002281448190832508",
         "0.9999173607115108"
        ],
        [
         "Total",
         "0.634169572187689",
         "0.7060240069514989",
         "1.0000000000000002",
         "1.0",
         "0.9999999999999992",
         "1.0000000000000002",
         "-0.03621309616861824",
         "-0.0022814481908326025",
         "0.9999173607115096"
        ],
        [
         "cogs",
         "0.6341695721876893",
         "0.7060240069514991",
         "1.0000000000000007",
         "0.9999999999999992",
         "1.0",
         "1.0000000000000009",
         "-0.0362130961686182",
         "-0.0022814481908326498",
         "0.9999173607115093"
        ],
        [
         "gross income",
         "0.6341695721876897",
         "0.7060240069514988",
         "1.0",
         "1.0000000000000002",
         "1.0000000000000009",
         "1.0",
         "-0.0362130961686183",
         "-0.002281448190832508",
         "0.9999173607115108"
        ],
        [
         "Rating",
         "-0.008777507200778936",
         "-0.015814904627167052",
         "-0.0362130961686183",
         "-0.03621309616861824",
         "-0.0362130961686182",
         "-0.0362130961686183",
         "1.0",
         "-0.007075821083050052",
         "-0.036441704997018425"
        ],
        [
         "day",
         "0.05702089601259136",
         "-0.04334685867903851",
         "-0.002281448190832508",
         "-0.0022814481908326025",
         "-0.0022814481908326498",
         "-0.002281448190832508",
         "-0.007075821083050052",
         "1.0",
         "-0.0025147695028071874"
        ],
        [
         "Revenue",
         "0.633962088589068",
         "0.7055101859433045",
         "0.9999173607115108",
         "0.9999173607115096",
         "0.9999173607115093",
         "0.9999173607115108",
         "-0.036441704997018425",
         "-0.0025147695028071874",
         "1.0"
        ]
       ],
       "shape": {
        "columns": 9,
        "rows": 9
       }
      },
      "text/html": [
       "<div>\n",
       "<style scoped>\n",
       "    .dataframe tbody tr th:only-of-type {\n",
       "        vertical-align: middle;\n",
       "    }\n",
       "\n",
       "    .dataframe tbody tr th {\n",
       "        vertical-align: top;\n",
       "    }\n",
       "\n",
       "    .dataframe thead th {\n",
       "        text-align: right;\n",
       "    }\n",
       "</style>\n",
       "<table border=\"1\" class=\"dataframe\">\n",
       "  <thead>\n",
       "    <tr style=\"text-align: right;\">\n",
       "      <th></th>\n",
       "      <th>Unit price</th>\n",
       "      <th>Quantity</th>\n",
       "      <th>Tax 5%</th>\n",
       "      <th>Total</th>\n",
       "      <th>cogs</th>\n",
       "      <th>gross income</th>\n",
       "      <th>Rating</th>\n",
       "      <th>day</th>\n",
       "      <th>Revenue</th>\n",
       "    </tr>\n",
       "  </thead>\n",
       "  <tbody>\n",
       "    <tr>\n",
       "      <th>Unit price</th>\n",
       "      <td>1.000000</td>\n",
       "      <td>0.010778</td>\n",
       "      <td>0.634170</td>\n",
       "      <td>0.634170</td>\n",
       "      <td>0.634170</td>\n",
       "      <td>0.634170</td>\n",
       "      <td>-0.008778</td>\n",
       "      <td>0.057021</td>\n",
       "      <td>0.633962</td>\n",
       "    </tr>\n",
       "    <tr>\n",
       "      <th>Quantity</th>\n",
       "      <td>0.010778</td>\n",
       "      <td>1.000000</td>\n",
       "      <td>0.706024</td>\n",
       "      <td>0.706024</td>\n",
       "      <td>0.706024</td>\n",
       "      <td>0.706024</td>\n",
       "      <td>-0.015815</td>\n",
       "      <td>-0.043347</td>\n",
       "      <td>0.705510</td>\n",
       "    </tr>\n",
       "    <tr>\n",
       "      <th>Tax 5%</th>\n",
       "      <td>0.634170</td>\n",
       "      <td>0.706024</td>\n",
       "      <td>1.000000</td>\n",
       "      <td>1.000000</td>\n",
       "      <td>1.000000</td>\n",
       "      <td>1.000000</td>\n",
       "      <td>-0.036213</td>\n",
       "      <td>-0.002281</td>\n",
       "      <td>0.999917</td>\n",
       "    </tr>\n",
       "    <tr>\n",
       "      <th>Total</th>\n",
       "      <td>0.634170</td>\n",
       "      <td>0.706024</td>\n",
       "      <td>1.000000</td>\n",
       "      <td>1.000000</td>\n",
       "      <td>1.000000</td>\n",
       "      <td>1.000000</td>\n",
       "      <td>-0.036213</td>\n",
       "      <td>-0.002281</td>\n",
       "      <td>0.999917</td>\n",
       "    </tr>\n",
       "    <tr>\n",
       "      <th>cogs</th>\n",
       "      <td>0.634170</td>\n",
       "      <td>0.706024</td>\n",
       "      <td>1.000000</td>\n",
       "      <td>1.000000</td>\n",
       "      <td>1.000000</td>\n",
       "      <td>1.000000</td>\n",
       "      <td>-0.036213</td>\n",
       "      <td>-0.002281</td>\n",
       "      <td>0.999917</td>\n",
       "    </tr>\n",
       "    <tr>\n",
       "      <th>gross income</th>\n",
       "      <td>0.634170</td>\n",
       "      <td>0.706024</td>\n",
       "      <td>1.000000</td>\n",
       "      <td>1.000000</td>\n",
       "      <td>1.000000</td>\n",
       "      <td>1.000000</td>\n",
       "      <td>-0.036213</td>\n",
       "      <td>-0.002281</td>\n",
       "      <td>0.999917</td>\n",
       "    </tr>\n",
       "    <tr>\n",
       "      <th>Rating</th>\n",
       "      <td>-0.008778</td>\n",
       "      <td>-0.015815</td>\n",
       "      <td>-0.036213</td>\n",
       "      <td>-0.036213</td>\n",
       "      <td>-0.036213</td>\n",
       "      <td>-0.036213</td>\n",
       "      <td>1.000000</td>\n",
       "      <td>-0.007076</td>\n",
       "      <td>-0.036442</td>\n",
       "    </tr>\n",
       "    <tr>\n",
       "      <th>day</th>\n",
       "      <td>0.057021</td>\n",
       "      <td>-0.043347</td>\n",
       "      <td>-0.002281</td>\n",
       "      <td>-0.002281</td>\n",
       "      <td>-0.002281</td>\n",
       "      <td>-0.002281</td>\n",
       "      <td>-0.007076</td>\n",
       "      <td>1.000000</td>\n",
       "      <td>-0.002515</td>\n",
       "    </tr>\n",
       "    <tr>\n",
       "      <th>Revenue</th>\n",
       "      <td>0.633962</td>\n",
       "      <td>0.705510</td>\n",
       "      <td>0.999917</td>\n",
       "      <td>0.999917</td>\n",
       "      <td>0.999917</td>\n",
       "      <td>0.999917</td>\n",
       "      <td>-0.036442</td>\n",
       "      <td>-0.002515</td>\n",
       "      <td>1.000000</td>\n",
       "    </tr>\n",
       "  </tbody>\n",
       "</table>\n",
       "</div>"
      ],
      "text/plain": [
       "              Unit price  Quantity    Tax 5%     Total      cogs  \\\n",
       "Unit price      1.000000  0.010778  0.634170  0.634170  0.634170   \n",
       "Quantity        0.010778  1.000000  0.706024  0.706024  0.706024   \n",
       "Tax 5%          0.634170  0.706024  1.000000  1.000000  1.000000   \n",
       "Total           0.634170  0.706024  1.000000  1.000000  1.000000   \n",
       "cogs            0.634170  0.706024  1.000000  1.000000  1.000000   \n",
       "gross income    0.634170  0.706024  1.000000  1.000000  1.000000   \n",
       "Rating         -0.008778 -0.015815 -0.036213 -0.036213 -0.036213   \n",
       "day             0.057021 -0.043347 -0.002281 -0.002281 -0.002281   \n",
       "Revenue         0.633962  0.705510  0.999917  0.999917  0.999917   \n",
       "\n",
       "              gross income    Rating       day   Revenue  \n",
       "Unit price        0.634170 -0.008778  0.057021  0.633962  \n",
       "Quantity          0.706024 -0.015815 -0.043347  0.705510  \n",
       "Tax 5%            1.000000 -0.036213 -0.002281  0.999917  \n",
       "Total             1.000000 -0.036213 -0.002281  0.999917  \n",
       "cogs              1.000000 -0.036213 -0.002281  0.999917  \n",
       "gross income      1.000000 -0.036213 -0.002281  0.999917  \n",
       "Rating           -0.036213  1.000000 -0.007076 -0.036442  \n",
       "day              -0.002281 -0.007076  1.000000 -0.002515  \n",
       "Revenue           0.999917 -0.036442 -0.002515  1.000000  "
      ]
     },
     "execution_count": 59,
     "metadata": {},
     "output_type": "execute_result"
    }
   ],
   "source": [
    "dfcor"
   ]
  },
  {
   "cell_type": "code",
   "execution_count": null,
   "id": "fd153cfa",
   "metadata": {},
   "outputs": [],
   "source": []
  },
  {
   "cell_type": "code",
   "execution_count": 79,
   "id": "73d1d4f6",
   "metadata": {},
   "outputs": [
    {
     "name": "stdout",
     "output_type": "stream",
     "text": [
      "Overwriting app.py\n"
     ]
    }
   ],
   "source": [
    "%%writefile app.py\n",
    "import pandas as pd\n",
    "import streamlit as st\n",
    "import plotly.express as px\n",
    "df=pd.read_csv(\"supermarket_sales - Sheet1.csv\",index_col=0)   \n",
    "st.markdown(\"<h1 style='text-align: center;color: white;'>Super Market Analysis</h1>\",unsafe_allow_html=True)\n",
    "\n",
    "page=st.sidebar.radio('pages',['Dataset','univariant','bivariant','multivariant'])\n",
    "df['Date']=pd.to_datetime(df['Date'])\n",
    "df['Month_Name']=df['Date'].dt.month_name()\n",
    "df['Month']=df['Date'].dt.month.astype('object')\n",
    "City=df['City'].unique()\n",
    "Gender=df['Gender'].unique()\n",
    "Customertype=df['Customer type'].unique()\n",
    "start_date=st.sidebar.date_input(\"StartDate\", value=df.Date.min(),min_value=df.Date.min(),max_value=df.Date.max())\n",
    "end_Date=st.sidebar.date_input(\"EndDate\", value=df.Date.min(),min_value=df.Date.min(),max_value=df.Date.max())\n",
    "CustomerType=st.sidebar.multiselect('Customer type',df['Customer type'].unique(),default=Customertype)\n",
    "Cityside=st.sidebar.multiselect('City',df.City.unique(),default=City)\n",
    "Genderside=st.sidebar.multiselect('Gender',df.Gender.unique(),default=Gender)\n",
    "df_filtered=df[(df.Date>=str(start_date))&(df.Date<=str(end_Date))]\n",
    "df_filtered= df_filtered[df_filtered['City'].isin(Cityside)]\n",
    "df_filtered=df_filtered[df_filtered['Gender'].isin(Genderside)]\n",
    "df_filtered=df_filtered[df_filtered['Customer type'].isin(CustomerType)]\n",
    "if page=='Dataset':\n",
    "    st.dataframe(df_filtered)\n",
    "elif page=='univariant':\n",
    "    col=st.selectbox('select Column',df.columns)\n",
    "    chart=st.selectbox('select Chart',['Histogram','box','pie'])\n",
    "    if chart =='Histogram':\n",
    "        st.plotly_chart(px.histogram(data_frame=df_filtered,x=col,title=col,width=400))\n",
    "    elif chart=='box':\n",
    "         st.plotly_chart(px.box(data_frame=df_filtered,y=col,title=col))\n",
    "    elif chart=='pie':\n",
    "        st.plotly_chart(px.pie(data_frame=df_filtered,names=col,title=col))\n",
    "elif page == \"bivariant\":\n",
    "    col1 = st.selectbox('Select Column for X-axis', df.columns, key='col1')\n",
    "    col2 = st.selectbox('Select Column for Y-axis', df.columns, key='col2')\n",
    "    colorr = st.selectbox('Select Column for Color', df.columns, key='colorr')\n",
    "    chart=st.selectbox('select Chart',['bar','line','scatter'])\n",
    "    if chart=='bar':\n",
    "        st.plotly_chart(px.bar(data_frame=df_filtered,x=col1,y=col2,color=colorr,title=f'{col1} vs {col2}',facet_col=colorr).update_layout(barmode='group'))\n",
    "    elif chart=='line':\n",
    "        st.plotly_chart(px.line(data_frame=df_filtered,x=col1,y=col2,title=f'{col1} vs {col2}'))\n",
    "    st.markdown(\"<h1 style='text-align: center;color: white;'>BiVariant analysis</h1>\",unsafe_allow_html=True)\n",
    "    genderdf=df_filtered.groupby(['Payment','Gender'])['gross income'].mean().reset_index().sort_values(ascending=False,by='gross income')\n",
    "    st.plotly_chart(px.bar(data_frame=genderdf,x='Gender',y='gross income',barmode='group',color='Payment',text_auto=True,title=\"Payment\"))\n",
    "    gross_city_month=df_filtered.groupby(['City','Month_Name','Month'])['gross income'].sum().reset_index().round(2).sort_values(by='Month')\n",
    "    st.plotly_chart(px.bar(data_frame=gross_city_month,x='Month_Name',y='gross income',color='City',barmode='group',facet_col='City'))\n",
    "\n",
    "elif page==\"multivariant\":\n",
    "    dfcor=df.corr(numeric_only=True)\n",
    "    dfcor.drop(index='gross margin percentage',columns=\"gross margin percentage\",inplace=True,)\n",
    "    st.plotly_chart(px.imshow(dfcor,width=1200,height=600,text_auto=True,title=\"Correlation Matrix between columns\"))\n",
    "\n",
    "\n",
    "\n"
   ]
  },
  {
   "cell_type": "code",
   "execution_count": 61,
   "id": "84baf4e6",
   "metadata": {},
   "outputs": [
    {
     "name": "stdout",
     "output_type": "stream",
     "text": [
      "^C\n"
     ]
    }
   ],
   "source": [
    "! streamlit run app.py"
   ]
  },
  {
   "cell_type": "code",
   "execution_count": null,
   "id": "42149519",
   "metadata": {},
   "outputs": [],
   "source": []
  }
 ],
 "metadata": {
  "kernelspec": {
   "display_name": "machinelearning",
   "language": "python",
   "name": "python3"
  },
  "language_info": {
   "codemirror_mode": {
    "name": "ipython",
    "version": 3
   },
   "file_extension": ".py",
   "mimetype": "text/x-python",
   "name": "python",
   "nbconvert_exporter": "python",
   "pygments_lexer": "ipython3",
   "version": "3.12.7"
  }
 },
 "nbformat": 4,
 "nbformat_minor": 5
}
